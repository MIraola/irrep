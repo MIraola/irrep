{
 "cells": [
  {
   "cell_type": "code",
   "execution_count": 9,
   "id": "7f755f15-2e22-4779-85a9-bf2eda6cad39",
   "metadata": {},
   "outputs": [],
   "source": [
    "import numpy as np\n",
    "from functools import cached_property"
   ]
  },
  {
   "cell_type": "markdown",
   "id": "b9ea28e2-194f-43e2-a71d-0bacdb68db99",
   "metadata": {},
   "source": [
    "# SG 63: Cmcm or Ccmm"
   ]
  },
  {
   "cell_type": "code",
   "execution_count": 1,
   "id": "68f6e4ab-9a62-4f70-9d65-5cd447c70de4",
   "metadata": {},
   "outputs": [],
   "source": [
    "# Generators: C2x, C2z, I "
   ]
  },
  {
   "cell_type": "code",
   "execution_count": 9,
   "id": "0c10a2a9-8324-4522-9ff9-82c7704359ec",
   "metadata": {},
   "outputs": [],
   "source": [
    "N = np.array([\n",
    "       [-1, 1 ,0],\n",
    "       [1, -1, 0],\n",
    "       [0, 0, -2],\n",
    "       [-2, 0, 0],\n",
    "       [0, -2, 0],\n",
    "       [0, 0, 0],\n",
    "       [-2, 0, 0],\n",
    "       [0, -2, 0],\n",
    "       [0, 0, -2]\n",
    "       ],\n",
    "       dtype=float\n",
    "       )\n",
    "Dwd = np.array([0., 0., 0.5, 0.,0.,0.,0.,0.,0.])"
   ]
  },
  {
   "cell_type": "code",
   "execution_count": 11,
   "id": "bfcf0c4a-f2f4-4661-afbc-16256068bee3",
   "metadata": {},
   "outputs": [
    {
     "name": "stdout",
     "output_type": "stream",
     "text": [
      "U:\n",
      "(9, 9)\n",
      "[[-0.4082  0.     -0.     -0.6447 -0.0313  0.     -0.6447 -0.0313  0.    ]\n",
      " [ 0.4082  0.      0.     -0.0983 -0.638   0.     -0.0983 -0.638   0.    ]\n",
      " [ 0.     -0.7071  0.      0.      0.      0.      0.      0.     -0.7071]\n",
      " [-0.4082  0.     -0.5     0.6366 -0.1517  0.     -0.3634 -0.1517  0.    ]\n",
      " [ 0.4082  0.     -0.5    -0.1366  0.6517  0.     -0.1366 -0.3483  0.    ]\n",
      " [ 0.      0.      0.      0.      0.      1.      0.      0.      0.    ]\n",
      " [-0.4082  0.     -0.5    -0.3634 -0.1517  0.      0.6366 -0.1517  0.    ]\n",
      " [ 0.4082  0.     -0.5    -0.1366 -0.3483  0.     -0.1366  0.6517  0.    ]\n",
      " [ 0.     -0.7071  0.      0.      0.      0.      0.      0.      0.7071]]\n",
      "\n",
      "S:\n",
      "(3,)\n",
      "[3.46410162 2.82842712 2.82842712]\n",
      "\n",
      "V:\n",
      "(3, 3)\n",
      "[[ 0.70710678 -0.70710678  0.        ]\n",
      " [ 0.          0.          1.        ]\n",
      " [ 0.70710678  0.70710678  0.        ]]\n"
     ]
    }
   ],
   "source": [
    "U, S, V = np.linalg.svd(N)\n",
    "print('U:')\n",
    "print(U.shape)\n",
    "print(U.round(4))\n",
    "print()\n",
    "print('S:')\n",
    "print(S.shape)\n",
    "print(S)\n",
    "print()\n",
    "print('V:')\n",
    "print(V.shape)\n",
    "print(V)"
   ]
  },
  {
   "cell_type": "code",
   "execution_count": 12,
   "id": "9775a965-7305-49cf-bf68-4a906b623cdf",
   "metadata": {},
   "outputs": [
    {
     "name": "stdout",
     "output_type": "stream",
     "text": [
      "[[0.28867513 0.         0.         0.         0.         0.\n",
      "  0.         0.         0.        ]\n",
      " [0.         0.35355339 0.         0.         0.         0.\n",
      "  0.         0.         0.        ]\n",
      " [0.         0.         0.35355339 0.         0.         0.\n",
      "  0.         0.         0.        ]]\n",
      "(3, 9)\n"
     ]
    }
   ],
   "source": [
    "S_matrix = np.zeros(N.shape, dtype=float)\n",
    "S_matrix[:len(S)] = np.diag(1.0/S)\n",
    "T = S_matrix.T\n",
    "print(T)\n",
    "print(T.shape)\n"
   ]
  },
  {
   "cell_type": "code",
   "execution_count": 13,
   "id": "1b7d08c7-daf5-4ed0-a378-ff1adba1d264",
   "metadata": {},
   "outputs": [
    {
     "name": "stdout",
     "output_type": "stream",
     "text": [
      "p:  [-6.68270059e-17  0.00000000e+00  5.12975247e-19]\n"
     ]
    }
   ],
   "source": [
    "print('p: ', V @ T @ U @ Dwd)"
   ]
  },
  {
   "cell_type": "markdown",
   "id": "32e449d2-cd10-452b-8131-6f7d94e70e5e",
   "metadata": {},
   "source": [
    "# SVD of matrices of generators"
   ]
  },
  {
   "cell_type": "markdown",
   "id": "57969e2f-e3ee-44eb-8541-54924f8f1ab6",
   "metadata": {},
   "source": [
    "We want to implement a method to determine if our cell's vectors orientation is compatible with the conventional setting for the space group adopted in tables."
   ]
  },
  {
   "cell_type": "markdown",
   "id": "3604b16f-d5d1-4c5a-8af4-11c6388e5a33",
   "metadata": {},
   "source": [
    "Assumptions:\n",
    "\n",
    "1. The centering direction matches that of tables"
   ]
  },
  {
   "cell_type": "markdown",
   "id": "42c5aa04-e4c4-4f30-b67e-6e66efcdea51",
   "metadata": {},
   "source": [
    "## Matrices of symmetries"
   ]
  },
  {
   "cell_type": "code",
   "execution_count": 3,
   "id": "24bbe017-9d8c-49c0-9cc6-692cf1d096d9",
   "metadata": {},
   "outputs": [],
   "source": [
    "E = np.eye(3)\n",
    "I = - E\n",
    "C2z = np.array([[-1, 0, 0],\n",
    "                [0, -1, 0],\n",
    "                [0, 0, 1]])\n",
    "C3z = np.array([[0, -1, 0],\n",
    "                [1, -1, 0],\n",
    "                [0, 0, 1]])\n",
    "C4z = np.array([[0, -1, 0],\n",
    "                [1, 0, 0],\n",
    "                [0, 0, 1]])\n",
    "C6z = np.array([[1, -1, 0],\n",
    "                [1, 0, 0],\n",
    "                [0, 0, 1]])\n",
    "C2y = np.array([[-1, 0, 0],\n",
    "                [0, 1, 0],\n",
    "                [0, 0, -1]])\n",
    "C3111 = np.array([[0, 0, 1],\n",
    "                 [1, 0, 0],\n",
    "                 [0, 1, 0]])\n",
    "C110 = np.array([[0, 1, 0],  # in trigonal/hexagonal\n",
    "                 [1, 0, 0],\n",
    "                 [0, 0, -1]])\n",
    "C1m10 = np.array([[0, -1, 0],  # in trigonal/hexagonal\n",
    "                 [-1, 0, 0],\n",
    "                 [0, 0, -1]])\n",
    "\n",
    "My = I @ C2y\n",
    "M110 = I @ C110  # in trigonal/hexagonal\n",
    "M1m10 = I @ C1m10  # in trigonal/hexagonal\n",
    "mC4z = I @ C4z\n",
    "mC6z = I @ C6z"
   ]
  },
  {
   "cell_type": "markdown",
   "id": "a85fcd89-6077-4c37-9223-6eb1f7d1246d",
   "metadata": {},
   "source": [
    "## Generators of point groups"
   ]
  },
  {
   "cell_type": "code",
   "execution_count": 5,
   "id": "ab412d15-abbb-496d-a04a-e73595557474",
   "metadata": {},
   "outputs": [],
   "source": [
    "generators = {}\n",
    "generators['C1'] = np.array([E])  # identity gr.\n",
    "generators['Ci'] = np.array([I])  # inversion gr.\n",
    "\n",
    "# For monoclonic groups\n",
    "generators['Cs'] = np.array([My])  # reflection gr. (b-axis for monoclinic)\n",
    "generators['C2'] = np.array([C2y])  # 2-fold gr. (b-axis for monoclinic)\n",
    "generators['C2h'] = np.array([C2y, I])  # inversion gr.\n",
    "\n",
    "# For orthorhombic groups\n",
    "generators['D2'] = np.array([C2z, C2y])  # 222\n",
    "generators['C2v'] = np.array([C2z, My])  # mm2\n",
    "generators['D2h'] = np.array([C2z, C2y, I])  # mmm\n",
    "\n",
    "# For tetragonal groups\n",
    "generators['C4'] = np.array([C4z])  # 4-fold gr.\n",
    "generators['S4'] = np.array([mC4z])  # -4 gr.\n",
    "generators['C4h'] = np.array([C4z, I])  # 4/m\n",
    "generators['D4'] = np.array([C4z, C2y])  # 422\n",
    "generators['C4v'] = np.array([C4z, My])  # 4mm\n",
    "generators['D4h'] = np.array([C4z, C2y, I])  # 4/mmm\n",
    "generators['D2d(1)'] = np.array([mC4z, C2y])  # -42m (2-fold along cell vecs)\n",
    "generators['D2d(2)'] = np.array([mC4z, My])  # -4m2 (mirrors perpendicular to cell vecs)\n",
    "\n",
    "# For trigonal groups\n",
    "generators['C3'] = np.array([C3z])  # 3-fold gr.\n",
    "generators['S6'] = np.array([C3z, I])  # -3 gr.\n",
    "generators['D3(1)'] = np.array([C3z, C1m10])  # 312\n",
    "generators['D3(2)'] = np.array([C3z, C110])  # 321\n",
    "generators['C3v(1)'] = np.array([C3z, M110])  # 3m1\n",
    "generators['C3v(2)'] = np.array([C3z, M1m10])  # 31m\n",
    "generators['D3d(1)'] = np.array([C3z, C1m10, I])  # -31m\n",
    "generators['D3d(2)'] = np.array([C3z, C110, I])  # -3m1\n",
    "\n",
    "# For hexagonal groups\n",
    "generators['C6'] = np.array([C6z])  # 6-fold gr.\n",
    "generators['C3h'] = np.array([mC6z])  # -6 gr.\n",
    "generators['C6h'] = np.array([C6z, I])  # 6/m\n",
    "generators['D6'] = np.array([C6z, C110])  # 622\n",
    "generators['C6v'] = np.array([C6z, M110])  # 6mm\n",
    "generators['D6h'] = np.array([C6z, C110, I])  # 6/mmm\n",
    "generators['D3h(1)'] = np.array([mC6z, C110])  # -62m (2-fold along cell vecs)\n",
    "generators['D3h(2)'] = np.array([mC6z, M110])  #  -6m2 (mirrors perpendicular to cell vecs)\n",
    "\n",
    "# For cubic groups\n",
    "generators['T'] = np.array([C2z, C2y, C3111])  # 23\n",
    "generators['Th'] = np.array([C2z, C2y, C3111, I])  # m-3\n",
    "generators['O'] = np.array([C4z, C3111])  # 432\n",
    "generators['Td'] = np.array([mC4z, C3111, C110])  # -432\n",
    "generators['Oh'] = np.array([C4z, C3111, I])  # m-3m"
   ]
  },
  {
   "cell_type": "markdown",
   "id": "cc98dfe7-834f-4205-b1f6-9da41b6e06d3",
   "metadata": {},
   "source": [
    "## Single-valued decomposition and saving it into file"
   ]
  },
  {
   "cell_type": "code",
   "execution_count": 12,
   "id": "e956f551-f684-4b2c-961b-0344d380d52f",
   "metadata": {},
   "outputs": [],
   "source": [
    "class SpaceGroup:\n",
    "\n",
    "    def __init__(self, sg_number):\n",
    "\n",
    "        self.number = sg_number\n",
    "\n",
    "    @cached_property\n",
    "    def matrices_generators(self):\n",
    "        \n",
    "    @property\n",
    "    def centering(self):\n",
    "\n",
    "        if self.number in (5,8,9,12,15,20,21,35,36,37,63,64,65,66,67,68):\n",
    "            return 'C'\n",
    "        elif self.number in (38,39,40,41):\n",
    "            return 'A'\n",
    "        elif self.number in (22,42,43,69,70,196,216,226,202,227,203,228,209,219,210,225):\n",
    "            return 'F'\n",
    "        elif self.number in (46,71,121,72,82,87,97,107,122,23,73,88,98,24,44,74,79,109,\n",
    "                             119,139,45,80,110,120,140,141,206,211,142,197,217,199,214,229,220,230):\n",
    "            return 'I'\n",
    "        else:\n",
    "            return 'P'\n",
    "\n",
    "    @cached_property\n",
    "    def to_primitive(self):\n",
    "\n",
    "        if self.centering  == 'P':\n",
    "            return np.eye(3)\n",
    "        elif self.centering == 'C':\n",
    "            return np.array([[0.5, 0.5, 0.0],\n",
    "                             [-0.5, 0.5, 0.0],\n",
    "                             [0.0, 0.0, 1.0]])\n",
    "        elif self.centering == 'A':\n",
    "            return np.array([[1.0, 0.0, 0.0],\n",
    "                             [0.0, 0.5, -0.5],\n",
    "                             [0.0, 0.5, 0.5]])\n",
    "        elif self.centering == 'F':\n",
    "            return np.array([[0.0, 0.5, 0.5],\n",
    "                             [0.5, 0.0, 0.5],\n",
    "                             [0.5, 0.5, 0.0]])\n",
    "        elif self.centering == 'I':\n",
    "            return np.array([[-0.5, 0.5, 0.5],\n",
    "                             [0.5, -0.5, 0.5],\n",
    "                             [0.5, 0.5, -0.5]])\n",
    "        elif self.centering == 'R':\n",
    "            return np.array([[2./3., -1./3., -1./3.],\n",
    "                             [1./3., 1./3., -2./3.],\n",
    "                             [1./3., 1./3., 1./3.]])\n",
    "\n",
    "    @cached_property\n",
    "    def point_group(self):\n",
    "\n",
    "        if self.number == 1:\n",
    "            return 'C1'\n",
    "        elif self.number == 2:\n",
    "            return 'Ci'\n",
    "        elif self.number in (3, 4, 5):\n",
    "            return 'C2'\n",
    "        elif self.number in (6, 7, 8, 9):\n",
    "            return 'Cs'\n",
    "        elif self.number in np.arange(10, 16):\n",
    "            return 'C2h'\n",
    "        elif self.number in np.arange(16, 25):\n",
    "            return 'D2'\n",
    "        elif self.number in np.arange(25, 47):\n",
    "            return 'C2v'\n",
    "        elif self.number in np.arange(47, 75):\n",
    "            return 'D2h'\n",
    "        elif self.number in np.arange(75, 81):\n",
    "            return 'C4'\n",
    "        elif self.number in np.arange(83, 89):\n",
    "            return 'C4h'\n",
    "        elif self.number in np.arange(89, 99):\n",
    "            return 'D4'\n",
    "        elif self.number in np.arange(99, 111):\n",
    "            return 'C4v'\n",
    "        elif self.number in (111,112,113,114,121,122):\n",
    "            return 'D2d(1)'\n",
    "        elif self.number in (115,116,117,118,119,120):\n",
    "            return 'D2d(2)'\n",
    "        elif self.number in np.arange(123, 143):\n",
    "            return 'D4h'\n",
    "        elif self.number in np.arange(143, 147):\n",
    "            return 'C3'\n",
    "        elif self.number in np.arange(147, 149):\n",
    "            return 'S6'\n",
    "        elif self.number in (149, 151, 153):\n",
    "            return 'D3(1)'\n",
    "        elif self.number in (150, 152, 154):\n",
    "            return 'D3(2)'\n",
    "        elif self.number in (150, 152, 154):\n",
    "            return 'D3(2)'\n",
    "        elif self.number in (156, 158):\n",
    "            return 'D3d(2)'\n",
    "        elif self.number in (157, 159):\n",
    "            return 'D3d(1)'\n",
    "        elif self.number in (156, 158):\n",
    "            return 'D3d(2)'\n",
    "        \n",
    "\n",
    "\n",
    "\n",
    "\n",
    "\n",
    "        "
   ]
  },
  {
   "cell_type": "code",
   "execution_count": null,
   "id": "a058ea8b-72f2-439a-b558-f3fc5bdab898",
   "metadata": {},
   "outputs": [],
   "source": []
  }
 ],
 "metadata": {
  "kernelspec": {
   "display_name": "Python 3 (ipykernel)",
   "language": "python",
   "name": "python3"
  },
  "language_info": {
   "codemirror_mode": {
    "name": "ipython",
    "version": 3
   },
   "file_extension": ".py",
   "mimetype": "text/x-python",
   "name": "python",
   "nbconvert_exporter": "python",
   "pygments_lexer": "ipython3",
   "version": "3.10.12"
  }
 },
 "nbformat": 4,
 "nbformat_minor": 5
}
