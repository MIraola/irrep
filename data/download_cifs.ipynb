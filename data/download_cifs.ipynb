{
 "cells": [
  {
   "cell_type": "markdown",
   "id": "c436325a-cd7f-4509-83ba-f8ca9a08d51a",
   "metadata": {},
   "source": [
    "# Web scraping of .cif files"
   ]
  },
  {
   "cell_type": "markdown",
   "id": "042c9cc9-d57b-459a-a153-ec56115b8f14",
   "metadata": {},
   "source": [
    "Goal: to get .cif files of a material in each space group from the TQC.org database."
   ]
  },
  {
   "cell_type": "markdown",
   "id": "2aa154b9-4bea-4846-bb85-02620ccf6433",
   "metadata": {},
   "source": [
    "## Method 1: materials in TQC database"
   ]
  },
  {
   "cell_type": "markdown",
   "id": "4b49f623-fad6-471c-84dd-7ca096e9b5ec",
   "metadata": {},
   "source": [
    "Strategy:\n",
    "\n",
    "1. Search a space group in TQC.org, pick the first returned material and retrieve its ICSD identified (ICSD id.)\n",
    "2. Search for this ICSD id. in the ICSD database and retrieve the .cif\n",
    "3. Save the .cif "
   ]
  },
  {
   "cell_type": "code",
   "execution_count": 1,
   "id": "7c5322f3-2d19-468c-a6aa-64ccec13198b",
   "metadata": {},
   "outputs": [],
   "source": [
    "import requests\n",
    "from bs4 import BeautifulSoup\n",
    "from selenium import webdriver\n",
    "import time"
   ]
  },
  {
   "cell_type": "code",
   "execution_count": null,
   "id": "0032c335-4d56-4845-97ed-6ca263f1df7a",
   "metadata": {},
   "outputs": [],
   "source": [
    "url = \"https://topologicalquantumchemistry.org/#/?filter_sg_id=12\"\n",
    "\n",
    "driver = webdriver.Firefox()\n",
    "driver.get(url)\n",
    "time.sleep(5)\n",
    "page_source = driver.page_source\n",
    "driver.quit()\n",
    "\n",
    "print(\"Page source retrieved successfully!\")\n",
    "print(page_source[:100])"
   ]
  },
  {
   "cell_type": "markdown",
   "id": "ee78902d-f4b0-4711-8131-07e5fae2265d",
   "metadata": {},
   "source": [
    "#### Later in ICSD"
   ]
  },
  {
   "cell_type": "code",
   "execution_count": null,
   "id": "d1e7b7dc-b6c9-416d-a91b-de15a7e9f0b2",
   "metadata": {},
   "outputs": [],
   "source": [
    "# URL of the page\n",
    "url = \"https://foo/bar.xhtml\"\n",
    "\n",
    "# Headers to mimic a browser (optional but recommended)\n",
    "headers = {\n",
    "    \"User-Agent\": \"Mozilla/5.0 (Windows NT 10.0; Win64; x64) AppleWebKit/537.36 (KHTML, like Gecko) Chrome/91.0.4472.124 Safari/537.36\"\n",
    "}\n",
    "\n",
    "# Data to send in the POST request (replace `input_name` with the actual form field name)\n",
    "data = {\n",
    "    \"content_form:uiCodeCollection:input:input\": \"43456\",  # The value to send\n",
    "}\n",
    "\n",
    "# Send a POST request with the data\n",
    "response = requests.post(url, headers=headers, data=data)\n",
    "\n",
    "# Parse the response\n",
    "if response.status_code == 200:\n",
    "    soup = BeautifulSoup(response.text, \"html.parser\")\n",
    "    print(\"Response received!\")\n",
    "    print(soup.prettify())  # Print the prettified response (or extract what you need)\n",
    "else:\n",
    "    print(f\"Request failed with status code: {response.status_code}\")"
   ]
  },
  {
   "cell_type": "markdown",
   "id": "38e79adc-bf83-48a5-ba84-93770c426899",
   "metadata": {},
   "source": [
    "## Method 2: scrap Materials Project"
   ]
  },
  {
   "cell_type": "code",
   "execution_count": 14,
   "id": "4b736bbd-af3f-45a5-a964-da92c7f1e7c1",
   "metadata": {},
   "outputs": [],
   "source": [
    "from mp_api.client import MPRester\n",
    "import pyfplo.fedit as fedit\n",
    "import pyfplo.fploio as fploio\n",
    "import os\n",
    "import shutil"
   ]
  },
  {
   "cell_type": "code",
   "execution_count": 15,
   "id": "a512a96f-b147-4b97-a93b-60690a6357cb",
   "metadata": {},
   "outputs": [],
   "source": [
    "API_KEY = '7hwV32FqdTRd4JKCJn2qI30qDzYvLukG'  # log in to MP and look for it there\n",
    "mpr = MPRester(API_KEY)"
   ]
  },
  {
   "cell_type": "markdown",
   "id": "acc5b249-f10c-493d-962c-3c1dac658e84",
   "metadata": {},
   "source": [
    "Let's retrieve the smallest number of sites for materials in each space group (interrupted, takes quite long...)"
   ]
  },
  {
   "cell_type": "code",
   "execution_count": 52,
   "id": "73a70f4a-a774-4f56-9c48-93917a1553f5",
   "metadata": {},
   "outputs": [
    {
     "name": "stderr",
     "output_type": "stream",
     "text": [
      "Retrieving SummaryDoc documents:   0%|          | 0/15014 [00:00<?, ?it/s]/home/mi2/envs/venv_irrep/lib/python3.10/site-packages/mp_api/client/core/client.py:841: UserWarning: Use the 'fields' argument to select only fields of interest to speed up data retrieval for large queries. Choose from: ['builder_meta', 'nsites', 'elements', 'nelements', 'composition', 'composition_reduced', 'formula_pretty', 'formula_anonymous', 'chemsys', 'volume', 'density', 'density_atomic', 'symmetry', 'property_name', 'material_id', 'deprecated', 'deprecation_reasons', 'last_updated', 'origins', 'warnings', 'structure', 'task_ids', 'uncorrected_energy_per_atom', 'energy_per_atom', 'formation_energy_per_atom', 'energy_above_hull', 'is_stable', 'equilibrium_reaction_energy_per_atom', 'decomposes_to', 'xas', 'grain_boundaries', 'band_gap', 'cbm', 'vbm', 'efermi', 'is_gap_direct', 'is_metal', 'es_source_calc_id', 'bandstructure', 'dos', 'dos_energy_up', 'dos_energy_down', 'is_magnetic', 'ordering', 'total_magnetization', 'total_magnetization_normalized_vol', 'total_magnetization_normalized_formula_units', 'num_magnetic_sites', 'num_unique_magnetic_sites', 'types_of_magnetic_species', 'bulk_modulus', 'shear_modulus', 'universal_anisotropy', 'homogeneous_poisson', 'e_total', 'e_ionic', 'e_electronic', 'n', 'e_ij_max', 'weighted_surface_energy_EV_PER_ANG2', 'weighted_surface_energy', 'weighted_work_function', 'surface_anisotropy', 'shape_factor', 'has_reconstructed', 'possible_species', 'has_props', 'theoretical', 'database_IDs']\n",
      "  warnings.warn(\n",
      "Retrieving SummaryDoc documents: 100%|██████████| 15014/15014 [01:56<00:00, 129.06it/s]\n",
      "Retrieving SummaryDoc documents: 100%|██████████| 9118/9118 [00:48<00:00, 186.56it/s]\n",
      "Retrieving SummaryDoc documents: 100%|██████████| 337/337 [00:00<00:00, 2617556.39it/s]\n",
      "Retrieving SummaryDoc documents: 100%|██████████| 1720/1720 [00:08<00:00, 213.96it/s]\n",
      "Retrieving SummaryDoc documents: 100%|██████████| 1998/1998 [00:11<00:00, 171.56it/s]\n",
      "Retrieving SummaryDoc documents: 100%|██████████| 1764/1764 [00:10<00:00, 163.45it/s]\n",
      "Retrieving SummaryDoc documents: 100%|██████████| 1023/1023 [00:04<00:00, 216.52it/s]\n",
      "Retrieving SummaryDoc documents: 100%|██████████| 3531/3531 [00:14<00:00, 243.10it/s]\n",
      "Retrieving SummaryDoc documents: 100%|██████████| 2023/2023 [00:15<00:00, 133.66it/s]\n",
      "Retrieving SummaryDoc documents: 100%|██████████| 644/644 [00:00<00:00, 5580850.78it/s]\n",
      "Retrieving SummaryDoc documents: 100%|██████████| 2001/2001 [00:07<00:00, 257.00it/s]\n",
      "Retrieving SummaryDoc documents: 100%|██████████| 5586/5586 [00:22<00:00, 250.44it/s]\n",
      "Retrieving SummaryDoc documents: 100%|██████████| 736/736 [00:00<00:00, 6076786.90it/s]\n",
      "Retrieving SummaryDoc documents:  20%|██        | 2000/9966 [00:22<01:31, 87.15it/s]\n",
      "KeyboardInterrupt\n",
      "\n"
     ]
    }
   ],
   "source": [
    "list_nsites = []\n",
    "for num_sg in range(1, 231):\n",
    "    list_nsites_local = []\n",
    "    materials = mpr.materials.summary.search(spacegroup_number=num_sg, num_magnetic_sites=0)\n",
    "    for mat in materials:\n",
    "        list_nsites_local.append(mat.nsites)\n",
    "    list_nsites.append(min(list_nsites_local))\n",
    "print(f'The largest nsites found: {min(list_nsites)}')"
   ]
  },
  {
   "cell_type": "code",
   "execution_count": 16,
   "id": "bd72cb67-262b-49fe-8869-77ff5b613096",
   "metadata": {
    "scrolled": true
   },
   "outputs": [
    {
     "name": "stdout",
     "output_type": "stream",
     "text": [
      "SG   1\n"
     ]
    },
    {
     "data": {
      "application/vnd.jupyter.widget-view+json": {
       "model_id": "4d404af8e0d44205ab79cb794b892465",
       "version_major": 2,
       "version_minor": 0
      },
      "text/plain": [
       "Retrieving SummaryDoc documents:   0%|          | 0/14867 [00:00<?, ?it/s]"
      ]
     },
     "metadata": {},
     "output_type": "display_data"
    },
    {
     "name": "stderr",
     "output_type": "stream",
     "text": [
      "/home/mi2/envs/venv_irrep/lib/python3.10/site-packages/mp_api/client/core/client.py:841: UserWarning: Use the 'fields' argument to select only fields of interest to speed up data retrieval for large queries. Choose from: ['builder_meta', 'nsites', 'elements', 'nelements', 'composition', 'composition_reduced', 'formula_pretty', 'formula_anonymous', 'chemsys', 'volume', 'density', 'density_atomic', 'symmetry', 'property_name', 'material_id', 'deprecated', 'deprecation_reasons', 'last_updated', 'origins', 'warnings', 'structure', 'task_ids', 'uncorrected_energy_per_atom', 'energy_per_atom', 'formation_energy_per_atom', 'energy_above_hull', 'is_stable', 'equilibrium_reaction_energy_per_atom', 'decomposes_to', 'xas', 'grain_boundaries', 'band_gap', 'cbm', 'vbm', 'efermi', 'is_gap_direct', 'is_metal', 'es_source_calc_id', 'bandstructure', 'dos', 'dos_energy_up', 'dos_energy_down', 'is_magnetic', 'ordering', 'total_magnetization', 'total_magnetization_normalized_vol', 'total_magnetization_normalized_formula_units', 'num_magnetic_sites', 'num_unique_magnetic_sites', 'types_of_magnetic_species', 'bulk_modulus', 'shear_modulus', 'universal_anisotropy', 'homogeneous_poisson', 'e_total', 'e_ionic', 'e_electronic', 'n', 'e_ij_max', 'weighted_surface_energy_EV_PER_ANG2', 'weighted_surface_energy', 'weighted_work_function', 'surface_anisotropy', 'shape_factor', 'has_reconstructed', 'possible_species', 'has_props', 'theoretical', 'database_IDs']\n",
      "  warnings.warn(\n"
     ]
    },
    {
     "data": {
      "application/vnd.jupyter.widget-view+json": {
       "model_id": "0aeb9f9c37c547e2963004b7e8543e22",
       "version_major": 2,
       "version_minor": 0
      },
      "text/plain": [
       "Retrieving MaterialsDoc documents:   0%|          | 0/1 [00:00<?, ?it/s]"
      ]
     },
     "metadata": {},
     "output_type": "display_data"
    },
    {
     "name": "stdout",
     "output_type": "stream",
     "text": [
      "SG   2\n"
     ]
    },
    {
     "data": {
      "application/vnd.jupyter.widget-view+json": {
       "model_id": "7574cc9597554f5f851e0e1a670f232f",
       "version_major": 2,
       "version_minor": 0
      },
      "text/plain": [
       "Retrieving SummaryDoc documents:   0%|          | 0/6385 [00:00<?, ?it/s]"
      ]
     },
     "metadata": {},
     "output_type": "display_data"
    },
    {
     "data": {
      "application/vnd.jupyter.widget-view+json": {
       "model_id": "df44aab6393644f38bce6497c73e2d8a",
       "version_major": 2,
       "version_minor": 0
      },
      "text/plain": [
       "Retrieving MaterialsDoc documents:   0%|          | 0/1 [00:00<?, ?it/s]"
      ]
     },
     "metadata": {},
     "output_type": "display_data"
    },
    {
     "name": "stdout",
     "output_type": "stream",
     "text": [
      "SG   3\n"
     ]
    },
    {
     "data": {
      "application/vnd.jupyter.widget-view+json": {
       "model_id": "d277ad29e97543fc905fdaaa0a6b59e5",
       "version_major": 2,
       "version_minor": 0
      },
      "text/plain": [
       "Retrieving SummaryDoc documents:   0%|          | 0/322 [00:00<?, ?it/s]"
      ]
     },
     "metadata": {},
     "output_type": "display_data"
    },
    {
     "data": {
      "application/vnd.jupyter.widget-view+json": {
       "model_id": "b4019182b4404a12bae719c95db49886",
       "version_major": 2,
       "version_minor": 0
      },
      "text/plain": [
       "Retrieving MaterialsDoc documents:   0%|          | 0/1 [00:00<?, ?it/s]"
      ]
     },
     "metadata": {},
     "output_type": "display_data"
    },
    {
     "name": "stdout",
     "output_type": "stream",
     "text": [
      "SG   4\n"
     ]
    },
    {
     "data": {
      "application/vnd.jupyter.widget-view+json": {
       "model_id": "8065ce1530074cb89a8a464327e82e98",
       "version_major": 2,
       "version_minor": 0
      },
      "text/plain": [
       "Retrieving SummaryDoc documents:   0%|          | 0/1314 [00:00<?, ?it/s]"
      ]
     },
     "metadata": {},
     "output_type": "display_data"
    },
    {
     "data": {
      "application/vnd.jupyter.widget-view+json": {
       "model_id": "b20ba223016f4076afc390ed405a43cf",
       "version_major": 2,
       "version_minor": 0
      },
      "text/plain": [
       "Retrieving MaterialsDoc documents:   0%|          | 0/1 [00:00<?, ?it/s]"
      ]
     },
     "metadata": {},
     "output_type": "display_data"
    },
    {
     "name": "stdout",
     "output_type": "stream",
     "text": [
      "SG   5\n"
     ]
    },
    {
     "data": {
      "application/vnd.jupyter.widget-view+json": {
       "model_id": "ee846ae8f7ce43e0b6b1fcf109ed13fe",
       "version_major": 2,
       "version_minor": 0
      },
      "text/plain": [
       "Retrieving SummaryDoc documents:   0%|          | 0/1820 [00:00<?, ?it/s]"
      ]
     },
     "metadata": {},
     "output_type": "display_data"
    },
    {
     "data": {
      "application/vnd.jupyter.widget-view+json": {
       "model_id": "b2415e4a2f8d4684b926f774bb6331b5",
       "version_major": 2,
       "version_minor": 0
      },
      "text/plain": [
       "Retrieving MaterialsDoc documents:   0%|          | 0/1 [00:00<?, ?it/s]"
      ]
     },
     "metadata": {},
     "output_type": "display_data"
    },
    {
     "name": "stdout",
     "output_type": "stream",
     "text": [
      "SG   6\n"
     ]
    },
    {
     "data": {
      "application/vnd.jupyter.widget-view+json": {
       "model_id": "cf38154da1884531823290befdc5bec8",
       "version_major": 2,
       "version_minor": 0
      },
      "text/plain": [
       "Retrieving SummaryDoc documents:   0%|          | 0/1757 [00:00<?, ?it/s]"
      ]
     },
     "metadata": {},
     "output_type": "display_data"
    },
    {
     "data": {
      "application/vnd.jupyter.widget-view+json": {
       "model_id": "ae9396e75a264159ad0205bd245fc140",
       "version_major": 2,
       "version_minor": 0
      },
      "text/plain": [
       "Retrieving MaterialsDoc documents:   0%|          | 0/1 [00:00<?, ?it/s]"
      ]
     },
     "metadata": {},
     "output_type": "display_data"
    },
    {
     "name": "stdout",
     "output_type": "stream",
     "text": [
      "SG   7\n"
     ]
    },
    {
     "data": {
      "application/vnd.jupyter.widget-view+json": {
       "model_id": "b111614eb8fa452aba6b1aa8c95a341e",
       "version_major": 2,
       "version_minor": 0
      },
      "text/plain": [
       "Retrieving SummaryDoc documents:   0%|          | 0/879 [00:00<?, ?it/s]"
      ]
     },
     "metadata": {},
     "output_type": "display_data"
    },
    {
     "data": {
      "application/vnd.jupyter.widget-view+json": {
       "model_id": "f4ed81d5641e43fc901da56491dd2a16",
       "version_major": 2,
       "version_minor": 0
      },
      "text/plain": [
       "Retrieving MaterialsDoc documents:   0%|          | 0/1 [00:00<?, ?it/s]"
      ]
     },
     "metadata": {},
     "output_type": "display_data"
    },
    {
     "name": "stdout",
     "output_type": "stream",
     "text": [
      "SG   8\n"
     ]
    },
    {
     "data": {
      "application/vnd.jupyter.widget-view+json": {
       "model_id": "bf601dac7b8941ac837d778ece8f4314",
       "version_major": 2,
       "version_minor": 0
      },
      "text/plain": [
       "Retrieving SummaryDoc documents:   0%|          | 0/3435 [00:00<?, ?it/s]"
      ]
     },
     "metadata": {},
     "output_type": "display_data"
    },
    {
     "data": {
      "application/vnd.jupyter.widget-view+json": {
       "model_id": "bf5a6bb7a197466d8c040df1a83917ae",
       "version_major": 2,
       "version_minor": 0
      },
      "text/plain": [
       "Retrieving MaterialsDoc documents:   0%|          | 0/1 [00:00<?, ?it/s]"
      ]
     },
     "metadata": {},
     "output_type": "display_data"
    },
    {
     "name": "stdout",
     "output_type": "stream",
     "text": [
      "SG   9\n"
     ]
    },
    {
     "data": {
      "application/vnd.jupyter.widget-view+json": {
       "model_id": "e9c06519fab04d31848b8e9cbd60eba5",
       "version_major": 2,
       "version_minor": 0
      },
      "text/plain": [
       "Retrieving SummaryDoc documents:   0%|          | 0/1673 [00:00<?, ?it/s]"
      ]
     },
     "metadata": {},
     "output_type": "display_data"
    },
    {
     "data": {
      "application/vnd.jupyter.widget-view+json": {
       "model_id": "7b84aeb089ee470894e1520c16072f05",
       "version_major": 2,
       "version_minor": 0
      },
      "text/plain": [
       "Retrieving MaterialsDoc documents:   0%|          | 0/1 [00:00<?, ?it/s]"
      ]
     },
     "metadata": {},
     "output_type": "display_data"
    },
    {
     "name": "stdout",
     "output_type": "stream",
     "text": [
      "SG  10\n"
     ]
    },
    {
     "data": {
      "application/vnd.jupyter.widget-view+json": {
       "model_id": "291c990cf9874cdc836e67a18e9c0d10",
       "version_major": 2,
       "version_minor": 0
      },
      "text/plain": [
       "Retrieving SummaryDoc documents:   0%|          | 0/605 [00:00<?, ?it/s]"
      ]
     },
     "metadata": {},
     "output_type": "display_data"
    },
    {
     "data": {
      "application/vnd.jupyter.widget-view+json": {
       "model_id": "e9a828e23ae849beaba89d1fa61517a5",
       "version_major": 2,
       "version_minor": 0
      },
      "text/plain": [
       "Retrieving MaterialsDoc documents:   0%|          | 0/1 [00:00<?, ?it/s]"
      ]
     },
     "metadata": {},
     "output_type": "display_data"
    },
    {
     "name": "stdout",
     "output_type": "stream",
     "text": [
      "SG  11\n"
     ]
    },
    {
     "data": {
      "application/vnd.jupyter.widget-view+json": {
       "model_id": "143703850d8c4ff3852a3d8f657375b0",
       "version_major": 2,
       "version_minor": 0
      },
      "text/plain": [
       "Retrieving SummaryDoc documents:   0%|          | 0/1229 [00:00<?, ?it/s]"
      ]
     },
     "metadata": {},
     "output_type": "display_data"
    },
    {
     "data": {
      "application/vnd.jupyter.widget-view+json": {
       "model_id": "f8e7b3665cb04dabb2ab45e0da96322c",
       "version_major": 2,
       "version_minor": 0
      },
      "text/plain": [
       "Retrieving MaterialsDoc documents:   0%|          | 0/1 [00:00<?, ?it/s]"
      ]
     },
     "metadata": {},
     "output_type": "display_data"
    },
    {
     "name": "stdout",
     "output_type": "stream",
     "text": [
      "SG  12\n"
     ]
    },
    {
     "data": {
      "application/vnd.jupyter.widget-view+json": {
       "model_id": "3fa215b497f94e87b59f060384ea1545",
       "version_major": 2,
       "version_minor": 0
      },
      "text/plain": [
       "Retrieving SummaryDoc documents:   0%|          | 0/3894 [00:00<?, ?it/s]"
      ]
     },
     "metadata": {},
     "output_type": "display_data"
    },
    {
     "data": {
      "application/vnd.jupyter.widget-view+json": {
       "model_id": "1f39f5a9b10d4edeaa4a2cccf21d02d3",
       "version_major": 2,
       "version_minor": 0
      },
      "text/plain": [
       "Retrieving MaterialsDoc documents:   0%|          | 0/1 [00:00<?, ?it/s]"
      ]
     },
     "metadata": {},
     "output_type": "display_data"
    },
    {
     "name": "stdout",
     "output_type": "stream",
     "text": [
      "SG  13\n"
     ]
    },
    {
     "data": {
      "application/vnd.jupyter.widget-view+json": {
       "model_id": "5ec39946229c42308d17b1058ee39eb7",
       "version_major": 2,
       "version_minor": 0
      },
      "text/plain": [
       "Retrieving SummaryDoc documents:   0%|          | 0/450 [00:00<?, ?it/s]"
      ]
     },
     "metadata": {},
     "output_type": "display_data"
    },
    {
     "data": {
      "application/vnd.jupyter.widget-view+json": {
       "model_id": "50239b4957324f9aa9fff5412664e45f",
       "version_major": 2,
       "version_minor": 0
      },
      "text/plain": [
       "Retrieving MaterialsDoc documents:   0%|          | 0/1 [00:00<?, ?it/s]"
      ]
     },
     "metadata": {},
     "output_type": "display_data"
    },
    {
     "name": "stdout",
     "output_type": "stream",
     "text": [
      "SG  14\n"
     ]
    },
    {
     "data": {
      "application/vnd.jupyter.widget-view+json": {
       "model_id": "8807d471bf15418d9e2de46b6c83dc07",
       "version_major": 2,
       "version_minor": 0
      },
      "text/plain": [
       "Retrieving SummaryDoc documents:   0%|          | 0/4214 [00:00<?, ?it/s]"
      ]
     },
     "metadata": {},
     "output_type": "display_data"
    },
    {
     "data": {
      "application/vnd.jupyter.widget-view+json": {
       "model_id": "8be5af792e514862895a6cd71f87f5e7",
       "version_major": 2,
       "version_minor": 0
      },
      "text/plain": [
       "Retrieving MaterialsDoc documents:   0%|          | 0/1 [00:00<?, ?it/s]"
      ]
     },
     "metadata": {},
     "output_type": "display_data"
    },
    {
     "name": "stdout",
     "output_type": "stream",
     "text": [
      "SG  15\n"
     ]
    },
    {
     "data": {
      "application/vnd.jupyter.widget-view+json": {
       "model_id": "1e709e31d4dd4478b28949ae600c0df3",
       "version_major": 2,
       "version_minor": 0
      },
      "text/plain": [
       "Retrieving SummaryDoc documents:   0%|          | 0/2527 [00:00<?, ?it/s]"
      ]
     },
     "metadata": {},
     "output_type": "display_data"
    },
    {
     "data": {
      "application/vnd.jupyter.widget-view+json": {
       "model_id": "81d84c182f62406f9c5adfe72e49546d",
       "version_major": 2,
       "version_minor": 0
      },
      "text/plain": [
       "Retrieving MaterialsDoc documents:   0%|          | 0/1 [00:00<?, ?it/s]"
      ]
     },
     "metadata": {},
     "output_type": "display_data"
    },
    {
     "name": "stdout",
     "output_type": "stream",
     "text": [
      "SG  16\n"
     ]
    },
    {
     "data": {
      "application/vnd.jupyter.widget-view+json": {
       "model_id": "8691414313d848a2b6d272a9168ea71e",
       "version_major": 2,
       "version_minor": 0
      },
      "text/plain": [
       "Retrieving SummaryDoc documents:   0%|          | 0/122 [00:00<?, ?it/s]"
      ]
     },
     "metadata": {},
     "output_type": "display_data"
    },
    {
     "data": {
      "application/vnd.jupyter.widget-view+json": {
       "model_id": "61643a3d5c814fcbae7279d79c6525a6",
       "version_major": 2,
       "version_minor": 0
      },
      "text/plain": [
       "Retrieving MaterialsDoc documents:   0%|          | 0/1 [00:00<?, ?it/s]"
      ]
     },
     "metadata": {},
     "output_type": "display_data"
    },
    {
     "name": "stdout",
     "output_type": "stream",
     "text": [
      "SG  17\n"
     ]
    },
    {
     "data": {
      "application/vnd.jupyter.widget-view+json": {
       "model_id": "06813402539e4006b3f9568e63b8a09d",
       "version_major": 2,
       "version_minor": 0
      },
      "text/plain": [
       "Retrieving SummaryDoc documents:   0%|          | 0/24 [00:00<?, ?it/s]"
      ]
     },
     "metadata": {},
     "output_type": "display_data"
    },
    {
     "data": {
      "application/vnd.jupyter.widget-view+json": {
       "model_id": "04731d2983fb4694bfaa099dc0dc7ad7",
       "version_major": 2,
       "version_minor": 0
      },
      "text/plain": [
       "Retrieving MaterialsDoc documents:   0%|          | 0/1 [00:00<?, ?it/s]"
      ]
     },
     "metadata": {},
     "output_type": "display_data"
    },
    {
     "name": "stdout",
     "output_type": "stream",
     "text": [
      "SG  18\n"
     ]
    },
    {
     "data": {
      "application/vnd.jupyter.widget-view+json": {
       "model_id": "cd0d74e290594f6a849f0710f39c7ebd",
       "version_major": 2,
       "version_minor": 0
      },
      "text/plain": [
       "Retrieving SummaryDoc documents:   0%|          | 0/89 [00:00<?, ?it/s]"
      ]
     },
     "metadata": {},
     "output_type": "display_data"
    },
    {
     "data": {
      "application/vnd.jupyter.widget-view+json": {
       "model_id": "baf936f29283414e9b8dedc094cb3312",
       "version_major": 2,
       "version_minor": 0
      },
      "text/plain": [
       "Retrieving MaterialsDoc documents:   0%|          | 0/1 [00:00<?, ?it/s]"
      ]
     },
     "metadata": {},
     "output_type": "display_data"
    },
    {
     "name": "stdout",
     "output_type": "stream",
     "text": [
      "SG  19\n"
     ]
    },
    {
     "data": {
      "application/vnd.jupyter.widget-view+json": {
       "model_id": "562e72a32325480eb5a80ec2ce4ec73c",
       "version_major": 2,
       "version_minor": 0
      },
      "text/plain": [
       "Retrieving SummaryDoc documents:   0%|          | 0/452 [00:00<?, ?it/s]"
      ]
     },
     "metadata": {},
     "output_type": "display_data"
    },
    {
     "data": {
      "application/vnd.jupyter.widget-view+json": {
       "model_id": "3a2cc81e86da49b0a8af479143f156ce",
       "version_major": 2,
       "version_minor": 0
      },
      "text/plain": [
       "Retrieving MaterialsDoc documents:   0%|          | 0/1 [00:00<?, ?it/s]"
      ]
     },
     "metadata": {},
     "output_type": "display_data"
    },
    {
     "name": "stdout",
     "output_type": "stream",
     "text": [
      "SG  20\n"
     ]
    },
    {
     "data": {
      "application/vnd.jupyter.widget-view+json": {
       "model_id": "7cd340f07a754d6892fc5480860cd1eb",
       "version_major": 2,
       "version_minor": 0
      },
      "text/plain": [
       "Retrieving SummaryDoc documents:   0%|          | 0/150 [00:00<?, ?it/s]"
      ]
     },
     "metadata": {},
     "output_type": "display_data"
    },
    {
     "data": {
      "application/vnd.jupyter.widget-view+json": {
       "model_id": "0f662cb62b064c90afd9a33a5e193779",
       "version_major": 2,
       "version_minor": 0
      },
      "text/plain": [
       "Retrieving MaterialsDoc documents:   0%|          | 0/1 [00:00<?, ?it/s]"
      ]
     },
     "metadata": {},
     "output_type": "display_data"
    },
    {
     "name": "stdout",
     "output_type": "stream",
     "text": [
      "SG  21\n"
     ]
    },
    {
     "data": {
      "application/vnd.jupyter.widget-view+json": {
       "model_id": "c70d82b2119a42ebb7fc9a9cbc3cd7ae",
       "version_major": 2,
       "version_minor": 0
      },
      "text/plain": [
       "Retrieving SummaryDoc documents:   0%|          | 0/89 [00:00<?, ?it/s]"
      ]
     },
     "metadata": {},
     "output_type": "display_data"
    },
    {
     "data": {
      "application/vnd.jupyter.widget-view+json": {
       "model_id": "54ab7bbcef05474c8411956283bee014",
       "version_major": 2,
       "version_minor": 0
      },
      "text/plain": [
       "Retrieving MaterialsDoc documents:   0%|          | 0/1 [00:00<?, ?it/s]"
      ]
     },
     "metadata": {},
     "output_type": "display_data"
    },
    {
     "name": "stdout",
     "output_type": "stream",
     "text": [
      "SG  22\n"
     ]
    },
    {
     "data": {
      "application/vnd.jupyter.widget-view+json": {
       "model_id": "a85e25e37f99436cb887966084b33739",
       "version_major": 2,
       "version_minor": 0
      },
      "text/plain": [
       "Retrieving SummaryDoc documents:   0%|          | 0/36 [00:00<?, ?it/s]"
      ]
     },
     "metadata": {},
     "output_type": "display_data"
    },
    {
     "data": {
      "application/vnd.jupyter.widget-view+json": {
       "model_id": "bb2ba938787245bc8b091690f0d69442",
       "version_major": 2,
       "version_minor": 0
      },
      "text/plain": [
       "Retrieving MaterialsDoc documents:   0%|          | 0/1 [00:00<?, ?it/s]"
      ]
     },
     "metadata": {},
     "output_type": "display_data"
    },
    {
     "name": "stdout",
     "output_type": "stream",
     "text": [
      "SG  23\n"
     ]
    },
    {
     "data": {
      "application/vnd.jupyter.widget-view+json": {
       "model_id": "97427245395b4e2c9bc9564a9f9b50f0",
       "version_major": 2,
       "version_minor": 0
      },
      "text/plain": [
       "Retrieving SummaryDoc documents:   0%|          | 0/30 [00:00<?, ?it/s]"
      ]
     },
     "metadata": {},
     "output_type": "display_data"
    },
    {
     "data": {
      "application/vnd.jupyter.widget-view+json": {
       "model_id": "a9a4b6c456564302b38c439e63baabf5",
       "version_major": 2,
       "version_minor": 0
      },
      "text/plain": [
       "Retrieving MaterialsDoc documents:   0%|          | 0/1 [00:00<?, ?it/s]"
      ]
     },
     "metadata": {},
     "output_type": "display_data"
    },
    {
     "name": "stdout",
     "output_type": "stream",
     "text": [
      "SG  24\n"
     ]
    },
    {
     "data": {
      "application/vnd.jupyter.widget-view+json": {
       "model_id": "281f9a9e680f4510b7465886a06254e2",
       "version_major": 2,
       "version_minor": 0
      },
      "text/plain": [
       "Retrieving SummaryDoc documents:   0%|          | 0/44 [00:00<?, ?it/s]"
      ]
     },
     "metadata": {},
     "output_type": "display_data"
    },
    {
     "data": {
      "application/vnd.jupyter.widget-view+json": {
       "model_id": "8c867954203745d7aaaf1b56067f0ed1",
       "version_major": 2,
       "version_minor": 0
      },
      "text/plain": [
       "Retrieving MaterialsDoc documents:   0%|          | 0/1 [00:00<?, ?it/s]"
      ]
     },
     "metadata": {},
     "output_type": "display_data"
    },
    {
     "name": "stdout",
     "output_type": "stream",
     "text": [
      "SG  25\n"
     ]
    },
    {
     "data": {
      "application/vnd.jupyter.widget-view+json": {
       "model_id": "5cdfebed6d634d26b6a977ad772aab66",
       "version_major": 2,
       "version_minor": 0
      },
      "text/plain": [
       "Retrieving SummaryDoc documents:   0%|          | 0/675 [00:00<?, ?it/s]"
      ]
     },
     "metadata": {},
     "output_type": "display_data"
    },
    {
     "data": {
      "application/vnd.jupyter.widget-view+json": {
       "model_id": "7ee98d03c91248c0b1e64ea77a3fa06b",
       "version_major": 2,
       "version_minor": 0
      },
      "text/plain": [
       "Retrieving MaterialsDoc documents:   0%|          | 0/1 [00:00<?, ?it/s]"
      ]
     },
     "metadata": {},
     "output_type": "display_data"
    },
    {
     "name": "stdout",
     "output_type": "stream",
     "text": [
      "SG  26\n"
     ]
    },
    {
     "data": {
      "application/vnd.jupyter.widget-view+json": {
       "model_id": "2f962b60fbfe4db8a51add33217fe23d",
       "version_major": 2,
       "version_minor": 0
      },
      "text/plain": [
       "Retrieving SummaryDoc documents:   0%|          | 0/328 [00:00<?, ?it/s]"
      ]
     },
     "metadata": {},
     "output_type": "display_data"
    },
    {
     "data": {
      "application/vnd.jupyter.widget-view+json": {
       "model_id": "781c54f697a04739bc3409703ae1f9a1",
       "version_major": 2,
       "version_minor": 0
      },
      "text/plain": [
       "Retrieving MaterialsDoc documents:   0%|          | 0/1 [00:00<?, ?it/s]"
      ]
     },
     "metadata": {},
     "output_type": "display_data"
    },
    {
     "name": "stdout",
     "output_type": "stream",
     "text": [
      "SG  27\n"
     ]
    },
    {
     "data": {
      "application/vnd.jupyter.widget-view+json": {
       "model_id": "2841b83784c64ce5a1080c08314b2da4",
       "version_major": 2,
       "version_minor": 0
      },
      "text/plain": [
       "Retrieving SummaryDoc documents:   0%|          | 0/1 [00:00<?, ?it/s]"
      ]
     },
     "metadata": {},
     "output_type": "display_data"
    },
    {
     "data": {
      "application/vnd.jupyter.widget-view+json": {
       "model_id": "90d12515ad4a454ebade4bc77e14b8df",
       "version_major": 2,
       "version_minor": 0
      },
      "text/plain": [
       "Retrieving MaterialsDoc documents:   0%|          | 0/1 [00:00<?, ?it/s]"
      ]
     },
     "metadata": {},
     "output_type": "display_data"
    },
    {
     "name": "stdout",
     "output_type": "stream",
     "text": [
      "SG  28\n"
     ]
    },
    {
     "data": {
      "application/vnd.jupyter.widget-view+json": {
       "model_id": "d3ba9dd0e5b24b79b16facf918642b3d",
       "version_major": 2,
       "version_minor": 0
      },
      "text/plain": [
       "Retrieving SummaryDoc documents:   0%|          | 0/14 [00:00<?, ?it/s]"
      ]
     },
     "metadata": {},
     "output_type": "display_data"
    },
    {
     "data": {
      "application/vnd.jupyter.widget-view+json": {
       "model_id": "2f9d8493ad28478b894aca1986bc1c56",
       "version_major": 2,
       "version_minor": 0
      },
      "text/plain": [
       "Retrieving MaterialsDoc documents:   0%|          | 0/1 [00:00<?, ?it/s]"
      ]
     },
     "metadata": {},
     "output_type": "display_data"
    },
    {
     "name": "stdout",
     "output_type": "stream",
     "text": [
      "SG  29\n"
     ]
    },
    {
     "data": {
      "application/vnd.jupyter.widget-view+json": {
       "model_id": "428c2c632af842e081938cbe71ecda86",
       "version_major": 2,
       "version_minor": 0
      },
      "text/plain": [
       "Retrieving SummaryDoc documents:   0%|          | 0/190 [00:00<?, ?it/s]"
      ]
     },
     "metadata": {},
     "output_type": "display_data"
    },
    {
     "data": {
      "application/vnd.jupyter.widget-view+json": {
       "model_id": "24c9d7be0a8d4a42b58316fc1ab68a36",
       "version_major": 2,
       "version_minor": 0
      },
      "text/plain": [
       "Retrieving MaterialsDoc documents:   0%|          | 0/1 [00:00<?, ?it/s]"
      ]
     },
     "metadata": {},
     "output_type": "display_data"
    },
    {
     "name": "stdout",
     "output_type": "stream",
     "text": [
      "SG  30\n"
     ]
    },
    {
     "data": {
      "application/vnd.jupyter.widget-view+json": {
       "model_id": "b654066a6c644c97aa5763bc0b0e87cb",
       "version_major": 2,
       "version_minor": 0
      },
      "text/plain": [
       "Retrieving SummaryDoc documents:   0%|          | 0/15 [00:00<?, ?it/s]"
      ]
     },
     "metadata": {},
     "output_type": "display_data"
    },
    {
     "data": {
      "application/vnd.jupyter.widget-view+json": {
       "model_id": "697e7655636f498983510d03a4558606",
       "version_major": 2,
       "version_minor": 0
      },
      "text/plain": [
       "Retrieving MaterialsDoc documents:   0%|          | 0/1 [00:00<?, ?it/s]"
      ]
     },
     "metadata": {},
     "output_type": "display_data"
    },
    {
     "name": "stdout",
     "output_type": "stream",
     "text": [
      "SG  31\n"
     ]
    },
    {
     "data": {
      "application/vnd.jupyter.widget-view+json": {
       "model_id": "c7f0392ff84b4fcb8e2c01d80b368568",
       "version_major": 2,
       "version_minor": 0
      },
      "text/plain": [
       "Retrieving SummaryDoc documents:   0%|          | 0/437 [00:00<?, ?it/s]"
      ]
     },
     "metadata": {},
     "output_type": "display_data"
    },
    {
     "data": {
      "application/vnd.jupyter.widget-view+json": {
       "model_id": "1439a10f741a459b911c751bb4fbe035",
       "version_major": 2,
       "version_minor": 0
      },
      "text/plain": [
       "Retrieving MaterialsDoc documents:   0%|          | 0/1 [00:00<?, ?it/s]"
      ]
     },
     "metadata": {},
     "output_type": "display_data"
    },
    {
     "name": "stdout",
     "output_type": "stream",
     "text": [
      "SG  32\n"
     ]
    },
    {
     "data": {
      "application/vnd.jupyter.widget-view+json": {
       "model_id": "8f63f4f73eee44ff9d9c65fdce800c74",
       "version_major": 2,
       "version_minor": 0
      },
      "text/plain": [
       "Retrieving SummaryDoc documents:   0%|          | 0/12 [00:00<?, ?it/s]"
      ]
     },
     "metadata": {},
     "output_type": "display_data"
    },
    {
     "data": {
      "application/vnd.jupyter.widget-view+json": {
       "model_id": "64480274ace643c8aa728ee3a55a034b",
       "version_major": 2,
       "version_minor": 0
      },
      "text/plain": [
       "Retrieving MaterialsDoc documents:   0%|          | 0/1 [00:00<?, ?it/s]"
      ]
     },
     "metadata": {},
     "output_type": "display_data"
    },
    {
     "name": "stdout",
     "output_type": "stream",
     "text": [
      "SG  33\n"
     ]
    },
    {
     "data": {
      "application/vnd.jupyter.widget-view+json": {
       "model_id": "4474b2f92c2341468caaeabd3738d719",
       "version_major": 2,
       "version_minor": 0
      },
      "text/plain": [
       "Retrieving SummaryDoc documents:   0%|          | 0/570 [00:00<?, ?it/s]"
      ]
     },
     "metadata": {},
     "output_type": "display_data"
    },
    {
     "data": {
      "application/vnd.jupyter.widget-view+json": {
       "model_id": "6f93b18d43dc434db90385aac6f28b6f",
       "version_major": 2,
       "version_minor": 0
      },
      "text/plain": [
       "Retrieving MaterialsDoc documents:   0%|          | 0/1 [00:00<?, ?it/s]"
      ]
     },
     "metadata": {},
     "output_type": "display_data"
    },
    {
     "name": "stdout",
     "output_type": "stream",
     "text": [
      "SG  34\n"
     ]
    },
    {
     "data": {
      "application/vnd.jupyter.widget-view+json": {
       "model_id": "90c22c9299784632ac0210c350a9b834",
       "version_major": 2,
       "version_minor": 0
      },
      "text/plain": [
       "Retrieving SummaryDoc documents:   0%|          | 0/23 [00:00<?, ?it/s]"
      ]
     },
     "metadata": {},
     "output_type": "display_data"
    },
    {
     "data": {
      "application/vnd.jupyter.widget-view+json": {
       "model_id": "d6759c177eed44f38d0f982888ac42b7",
       "version_major": 2,
       "version_minor": 0
      },
      "text/plain": [
       "Retrieving MaterialsDoc documents:   0%|          | 0/1 [00:00<?, ?it/s]"
      ]
     },
     "metadata": {},
     "output_type": "display_data"
    },
    {
     "name": "stdout",
     "output_type": "stream",
     "text": [
      "SG  35\n"
     ]
    },
    {
     "data": {
      "application/vnd.jupyter.widget-view+json": {
       "model_id": "9931398d56854864bf9cd9c1ddd5ad01",
       "version_major": 2,
       "version_minor": 0
      },
      "text/plain": [
       "Retrieving SummaryDoc documents:   0%|          | 0/120 [00:00<?, ?it/s]"
      ]
     },
     "metadata": {},
     "output_type": "display_data"
    },
    {
     "data": {
      "application/vnd.jupyter.widget-view+json": {
       "model_id": "2a9bfae492004a8d83c5ad1cfef05c74",
       "version_major": 2,
       "version_minor": 0
      },
      "text/plain": [
       "Retrieving MaterialsDoc documents:   0%|          | 0/1 [00:00<?, ?it/s]"
      ]
     },
     "metadata": {},
     "output_type": "display_data"
    },
    {
     "name": "stdout",
     "output_type": "stream",
     "text": [
      "SG  36\n"
     ]
    },
    {
     "data": {
      "application/vnd.jupyter.widget-view+json": {
       "model_id": "e40e909bd69a48f29ee21d0f6cc5b0a4",
       "version_major": 2,
       "version_minor": 0
      },
      "text/plain": [
       "Retrieving SummaryDoc documents:   0%|          | 0/445 [00:00<?, ?it/s]"
      ]
     },
     "metadata": {},
     "output_type": "display_data"
    },
    {
     "data": {
      "application/vnd.jupyter.widget-view+json": {
       "model_id": "94d782b831bc4ecd91ef4eef190c845a",
       "version_major": 2,
       "version_minor": 0
      },
      "text/plain": [
       "Retrieving MaterialsDoc documents:   0%|          | 0/1 [00:00<?, ?it/s]"
      ]
     },
     "metadata": {},
     "output_type": "display_data"
    },
    {
     "name": "stdout",
     "output_type": "stream",
     "text": [
      "SG  37\n"
     ]
    },
    {
     "data": {
      "application/vnd.jupyter.widget-view+json": {
       "model_id": "e00f04a97cdb4be79c48d78d5ae3cdb0",
       "version_major": 2,
       "version_minor": 0
      },
      "text/plain": [
       "Retrieving SummaryDoc documents:   0%|          | 0/19 [00:00<?, ?it/s]"
      ]
     },
     "metadata": {},
     "output_type": "display_data"
    },
    {
     "data": {
      "application/vnd.jupyter.widget-view+json": {
       "model_id": "6183a18fe0134d65b722b9d8f39854e4",
       "version_major": 2,
       "version_minor": 0
      },
      "text/plain": [
       "Retrieving MaterialsDoc documents:   0%|          | 0/1 [00:00<?, ?it/s]"
      ]
     },
     "metadata": {},
     "output_type": "display_data"
    },
    {
     "name": "stdout",
     "output_type": "stream",
     "text": [
      "SG  38\n"
     ]
    },
    {
     "data": {
      "application/vnd.jupyter.widget-view+json": {
       "model_id": "31120054eab24d49bb2e452bf120ba05",
       "version_major": 2,
       "version_minor": 0
      },
      "text/plain": [
       "Retrieving SummaryDoc documents:   0%|          | 0/2947 [00:00<?, ?it/s]"
      ]
     },
     "metadata": {},
     "output_type": "display_data"
    },
    {
     "data": {
      "application/vnd.jupyter.widget-view+json": {
       "model_id": "055a591cf8ca47a9adeffd4be56fcdc7",
       "version_major": 2,
       "version_minor": 0
      },
      "text/plain": [
       "Retrieving MaterialsDoc documents:   0%|          | 0/1 [00:00<?, ?it/s]"
      ]
     },
     "metadata": {},
     "output_type": "display_data"
    },
    {
     "name": "stdout",
     "output_type": "stream",
     "text": [
      "SG  39\n"
     ]
    },
    {
     "data": {
      "application/vnd.jupyter.widget-view+json": {
       "model_id": "992c2d1f90924f99a224b7548e45360f",
       "version_major": 2,
       "version_minor": 0
      },
      "text/plain": [
       "Retrieving SummaryDoc documents:   0%|          | 0/20 [00:00<?, ?it/s]"
      ]
     },
     "metadata": {},
     "output_type": "display_data"
    },
    {
     "data": {
      "application/vnd.jupyter.widget-view+json": {
       "model_id": "79b120c4f3e54bb980949b0665381897",
       "version_major": 2,
       "version_minor": 0
      },
      "text/plain": [
       "Retrieving MaterialsDoc documents:   0%|          | 0/1 [00:00<?, ?it/s]"
      ]
     },
     "metadata": {},
     "output_type": "display_data"
    },
    {
     "name": "stdout",
     "output_type": "stream",
     "text": [
      "SG  40\n"
     ]
    },
    {
     "data": {
      "application/vnd.jupyter.widget-view+json": {
       "model_id": "f9bd72432b324568b237425baa53f87a",
       "version_major": 2,
       "version_minor": 0
      },
      "text/plain": [
       "Retrieving SummaryDoc documents:   0%|          | 0/104 [00:00<?, ?it/s]"
      ]
     },
     "metadata": {},
     "output_type": "display_data"
    },
    {
     "data": {
      "application/vnd.jupyter.widget-view+json": {
       "model_id": "e892d5d996d947d0a2f7ca17f6ce57c8",
       "version_major": 2,
       "version_minor": 0
      },
      "text/plain": [
       "Retrieving MaterialsDoc documents:   0%|          | 0/1 [00:00<?, ?it/s]"
      ]
     },
     "metadata": {},
     "output_type": "display_data"
    },
    {
     "name": "stdout",
     "output_type": "stream",
     "text": [
      "SG  41\n"
     ]
    },
    {
     "data": {
      "application/vnd.jupyter.widget-view+json": {
       "model_id": "b3a433e0c8c2446fb2e257901025d366",
       "version_major": 2,
       "version_minor": 0
      },
      "text/plain": [
       "Retrieving SummaryDoc documents:   0%|          | 0/44 [00:00<?, ?it/s]"
      ]
     },
     "metadata": {},
     "output_type": "display_data"
    },
    {
     "data": {
      "application/vnd.jupyter.widget-view+json": {
       "model_id": "a6854fb1b82d4e5c9349e4477d5a2da5",
       "version_major": 2,
       "version_minor": 0
      },
      "text/plain": [
       "Retrieving MaterialsDoc documents:   0%|          | 0/1 [00:00<?, ?it/s]"
      ]
     },
     "metadata": {},
     "output_type": "display_data"
    },
    {
     "name": "stdout",
     "output_type": "stream",
     "text": [
      "SG  42\n"
     ]
    },
    {
     "data": {
      "application/vnd.jupyter.widget-view+json": {
       "model_id": "28fc314e2c2346c28e57565e678f1014",
       "version_major": 2,
       "version_minor": 0
      },
      "text/plain": [
       "Retrieving SummaryDoc documents:   0%|          | 0/150 [00:00<?, ?it/s]"
      ]
     },
     "metadata": {},
     "output_type": "display_data"
    },
    {
     "data": {
      "application/vnd.jupyter.widget-view+json": {
       "model_id": "01a9018643a4417595613e987c34470a",
       "version_major": 2,
       "version_minor": 0
      },
      "text/plain": [
       "Retrieving MaterialsDoc documents:   0%|          | 0/1 [00:00<?, ?it/s]"
      ]
     },
     "metadata": {},
     "output_type": "display_data"
    },
    {
     "name": "stdout",
     "output_type": "stream",
     "text": [
      "SG  43\n"
     ]
    },
    {
     "data": {
      "application/vnd.jupyter.widget-view+json": {
       "model_id": "2bee5a5cb506404e9ed81682ff6a0438",
       "version_major": 2,
       "version_minor": 0
      },
      "text/plain": [
       "Retrieving SummaryDoc documents:   0%|          | 0/164 [00:00<?, ?it/s]"
      ]
     },
     "metadata": {},
     "output_type": "display_data"
    },
    {
     "data": {
      "application/vnd.jupyter.widget-view+json": {
       "model_id": "579d5434f31f479f82f4660e6d90a148",
       "version_major": 2,
       "version_minor": 0
      },
      "text/plain": [
       "Retrieving MaterialsDoc documents:   0%|          | 0/1 [00:00<?, ?it/s]"
      ]
     },
     "metadata": {},
     "output_type": "display_data"
    },
    {
     "name": "stdout",
     "output_type": "stream",
     "text": [
      "SG  44\n"
     ]
    },
    {
     "data": {
      "application/vnd.jupyter.widget-view+json": {
       "model_id": "206cc54d4d80437d909010d960d5036a",
       "version_major": 2,
       "version_minor": 0
      },
      "text/plain": [
       "Retrieving SummaryDoc documents:   0%|          | 0/587 [00:00<?, ?it/s]"
      ]
     },
     "metadata": {},
     "output_type": "display_data"
    },
    {
     "data": {
      "application/vnd.jupyter.widget-view+json": {
       "model_id": "5b07c2f9e3894d5b959cfa6cd76b8358",
       "version_major": 2,
       "version_minor": 0
      },
      "text/plain": [
       "Retrieving MaterialsDoc documents:   0%|          | 0/1 [00:00<?, ?it/s]"
      ]
     },
     "metadata": {},
     "output_type": "display_data"
    },
    {
     "name": "stdout",
     "output_type": "stream",
     "text": [
      "SG  45\n"
     ]
    },
    {
     "data": {
      "application/vnd.jupyter.widget-view+json": {
       "model_id": "ef06f7f147eb4676a84636713073ee14",
       "version_major": 2,
       "version_minor": 0
      },
      "text/plain": [
       "Retrieving SummaryDoc documents:   0%|          | 0/24 [00:00<?, ?it/s]"
      ]
     },
     "metadata": {},
     "output_type": "display_data"
    },
    {
     "data": {
      "application/vnd.jupyter.widget-view+json": {
       "model_id": "216043431ef84e1d905e80c4f7475e58",
       "version_major": 2,
       "version_minor": 0
      },
      "text/plain": [
       "Retrieving MaterialsDoc documents:   0%|          | 0/1 [00:00<?, ?it/s]"
      ]
     },
     "metadata": {},
     "output_type": "display_data"
    },
    {
     "name": "stdout",
     "output_type": "stream",
     "text": [
      "SG  46\n"
     ]
    },
    {
     "data": {
      "application/vnd.jupyter.widget-view+json": {
       "model_id": "b8c48bf4812f4ce39d330acc45ae9868",
       "version_major": 2,
       "version_minor": 0
      },
      "text/plain": [
       "Retrieving SummaryDoc documents:   0%|          | 0/227 [00:00<?, ?it/s]"
      ]
     },
     "metadata": {},
     "output_type": "display_data"
    },
    {
     "data": {
      "application/vnd.jupyter.widget-view+json": {
       "model_id": "5ae0dd1beb944baa8d0e083011ad3f11",
       "version_major": 2,
       "version_minor": 0
      },
      "text/plain": [
       "Retrieving MaterialsDoc documents:   0%|          | 0/1 [00:00<?, ?it/s]"
      ]
     },
     "metadata": {},
     "output_type": "display_data"
    },
    {
     "name": "stdout",
     "output_type": "stream",
     "text": [
      "SG  47\n"
     ]
    },
    {
     "data": {
      "application/vnd.jupyter.widget-view+json": {
       "model_id": "09eed4793fd442908a1788d51ddee6bf",
       "version_major": 2,
       "version_minor": 0
      },
      "text/plain": [
       "Retrieving SummaryDoc documents:   0%|          | 0/611 [00:00<?, ?it/s]"
      ]
     },
     "metadata": {},
     "output_type": "display_data"
    },
    {
     "data": {
      "application/vnd.jupyter.widget-view+json": {
       "model_id": "bfbc9fd6d4a64cb7979ed977e2127cce",
       "version_major": 2,
       "version_minor": 0
      },
      "text/plain": [
       "Retrieving MaterialsDoc documents:   0%|          | 0/1 [00:00<?, ?it/s]"
      ]
     },
     "metadata": {},
     "output_type": "display_data"
    },
    {
     "name": "stdout",
     "output_type": "stream",
     "text": [
      "SG  48\n"
     ]
    },
    {
     "data": {
      "application/vnd.jupyter.widget-view+json": {
       "model_id": "148755d0f0d94b2aba51aca09735a8bd",
       "version_major": 2,
       "version_minor": 0
      },
      "text/plain": [
       "Retrieving SummaryDoc documents:   0%|          | 0/158 [00:00<?, ?it/s]"
      ]
     },
     "metadata": {},
     "output_type": "display_data"
    },
    {
     "data": {
      "application/vnd.jupyter.widget-view+json": {
       "model_id": "05c7ded1239247bebdc134cab1435bb2",
       "version_major": 2,
       "version_minor": 0
      },
      "text/plain": [
       "Retrieving MaterialsDoc documents:   0%|          | 0/1 [00:00<?, ?it/s]"
      ]
     },
     "metadata": {},
     "output_type": "display_data"
    },
    {
     "name": "stdout",
     "output_type": "stream",
     "text": [
      "SG  49\n"
     ]
    },
    {
     "data": {
      "application/vnd.jupyter.widget-view+json": {
       "model_id": "9d514f783c674641898fcf14bc17dadf",
       "version_major": 2,
       "version_minor": 0
      },
      "text/plain": [
       "Retrieving SummaryDoc documents:   0%|          | 0/15 [00:00<?, ?it/s]"
      ]
     },
     "metadata": {},
     "output_type": "display_data"
    },
    {
     "data": {
      "application/vnd.jupyter.widget-view+json": {
       "model_id": "70d6bf29bcfa43e39434bad77377f698",
       "version_major": 2,
       "version_minor": 0
      },
      "text/plain": [
       "Retrieving MaterialsDoc documents:   0%|          | 0/1 [00:00<?, ?it/s]"
      ]
     },
     "metadata": {},
     "output_type": "display_data"
    },
    {
     "name": "stdout",
     "output_type": "stream",
     "text": [
      "SG  50\n"
     ]
    },
    {
     "data": {
      "application/vnd.jupyter.widget-view+json": {
       "model_id": "404bd84a4ae54d2f941957de0ff0a713",
       "version_major": 2,
       "version_minor": 0
      },
      "text/plain": [
       "Retrieving SummaryDoc documents:   0%|          | 0/5 [00:00<?, ?it/s]"
      ]
     },
     "metadata": {},
     "output_type": "display_data"
    },
    {
     "data": {
      "application/vnd.jupyter.widget-view+json": {
       "model_id": "a09d335b8cd74666ad4dc29ec9209e4d",
       "version_major": 2,
       "version_minor": 0
      },
      "text/plain": [
       "Retrieving MaterialsDoc documents:   0%|          | 0/1 [00:00<?, ?it/s]"
      ]
     },
     "metadata": {},
     "output_type": "display_data"
    },
    {
     "name": "stdout",
     "output_type": "stream",
     "text": [
      "SG  51\n"
     ]
    },
    {
     "data": {
      "application/vnd.jupyter.widget-view+json": {
       "model_id": "d0f38b20f2f546bd8329b54dbf187997",
       "version_major": 2,
       "version_minor": 0
      },
      "text/plain": [
       "Retrieving SummaryDoc documents:   0%|          | 0/155 [00:00<?, ?it/s]"
      ]
     },
     "metadata": {},
     "output_type": "display_data"
    },
    {
     "data": {
      "application/vnd.jupyter.widget-view+json": {
       "model_id": "007a070241fb46c19fa145287a52a085",
       "version_major": 2,
       "version_minor": 0
      },
      "text/plain": [
       "Retrieving MaterialsDoc documents:   0%|          | 0/1 [00:00<?, ?it/s]"
      ]
     },
     "metadata": {},
     "output_type": "display_data"
    },
    {
     "name": "stdout",
     "output_type": "stream",
     "text": [
      "SG  52\n"
     ]
    },
    {
     "data": {
      "application/vnd.jupyter.widget-view+json": {
       "model_id": "c4ccfb15e3e24b06ba4cf5f09199ca1f",
       "version_major": 2,
       "version_minor": 0
      },
      "text/plain": [
       "Retrieving SummaryDoc documents:   0%|          | 0/121 [00:00<?, ?it/s]"
      ]
     },
     "metadata": {},
     "output_type": "display_data"
    },
    {
     "data": {
      "application/vnd.jupyter.widget-view+json": {
       "model_id": "6a468a5069e44e328a5d0cd34f84fec4",
       "version_major": 2,
       "version_minor": 0
      },
      "text/plain": [
       "Retrieving MaterialsDoc documents:   0%|          | 0/1 [00:00<?, ?it/s]"
      ]
     },
     "metadata": {},
     "output_type": "display_data"
    },
    {
     "name": "stdout",
     "output_type": "stream",
     "text": [
      "SG  53\n"
     ]
    },
    {
     "data": {
      "application/vnd.jupyter.widget-view+json": {
       "model_id": "886c7f48f2ea4ccd8f8bc51cb6f63897",
       "version_major": 2,
       "version_minor": 0
      },
      "text/plain": [
       "Retrieving SummaryDoc documents:   0%|          | 0/46 [00:00<?, ?it/s]"
      ]
     },
     "metadata": {},
     "output_type": "display_data"
    },
    {
     "data": {
      "application/vnd.jupyter.widget-view+json": {
       "model_id": "d2a4ae4d3b404cd3a62b74c6ba1b9229",
       "version_major": 2,
       "version_minor": 0
      },
      "text/plain": [
       "Retrieving MaterialsDoc documents:   0%|          | 0/1 [00:00<?, ?it/s]"
      ]
     },
     "metadata": {},
     "output_type": "display_data"
    },
    {
     "name": "stdout",
     "output_type": "stream",
     "text": [
      "SG  54\n"
     ]
    },
    {
     "data": {
      "application/vnd.jupyter.widget-view+json": {
       "model_id": "71b19679a9e848879492b31165645095",
       "version_major": 2,
       "version_minor": 0
      },
      "text/plain": [
       "Retrieving SummaryDoc documents:   0%|          | 0/12 [00:00<?, ?it/s]"
      ]
     },
     "metadata": {},
     "output_type": "display_data"
    },
    {
     "data": {
      "application/vnd.jupyter.widget-view+json": {
       "model_id": "b64ff0bb85014390b4eb7f98e18db649",
       "version_major": 2,
       "version_minor": 0
      },
      "text/plain": [
       "Retrieving MaterialsDoc documents:   0%|          | 0/1 [00:00<?, ?it/s]"
      ]
     },
     "metadata": {},
     "output_type": "display_data"
    },
    {
     "name": "stdout",
     "output_type": "stream",
     "text": [
      "SG  55\n"
     ]
    },
    {
     "data": {
      "application/vnd.jupyter.widget-view+json": {
       "model_id": "426548d115a74a4189677e4577803967",
       "version_major": 2,
       "version_minor": 0
      },
      "text/plain": [
       "Retrieving SummaryDoc documents:   0%|          | 0/264 [00:00<?, ?it/s]"
      ]
     },
     "metadata": {},
     "output_type": "display_data"
    },
    {
     "data": {
      "application/vnd.jupyter.widget-view+json": {
       "model_id": "225c05b2e5a4456ea678ddef90d2a796",
       "version_major": 2,
       "version_minor": 0
      },
      "text/plain": [
       "Retrieving MaterialsDoc documents:   0%|          | 0/1 [00:00<?, ?it/s]"
      ]
     },
     "metadata": {},
     "output_type": "display_data"
    },
    {
     "name": "stdout",
     "output_type": "stream",
     "text": [
      "SG  56\n"
     ]
    },
    {
     "data": {
      "application/vnd.jupyter.widget-view+json": {
       "model_id": "072bce02e7b94d0ab3c5baf62e693fed",
       "version_major": 2,
       "version_minor": 0
      },
      "text/plain": [
       "Retrieving SummaryDoc documents:   0%|          | 0/25 [00:00<?, ?it/s]"
      ]
     },
     "metadata": {},
     "output_type": "display_data"
    },
    {
     "data": {
      "application/vnd.jupyter.widget-view+json": {
       "model_id": "2828b4a93d69494f97ed653ae9cae7d8",
       "version_major": 2,
       "version_minor": 0
      },
      "text/plain": [
       "Retrieving MaterialsDoc documents:   0%|          | 0/1 [00:00<?, ?it/s]"
      ]
     },
     "metadata": {},
     "output_type": "display_data"
    },
    {
     "name": "stdout",
     "output_type": "stream",
     "text": [
      "SG  57\n"
     ]
    },
    {
     "data": {
      "application/vnd.jupyter.widget-view+json": {
       "model_id": "9d0be49dcb9a48828d2cdb30ac69cc9e",
       "version_major": 2,
       "version_minor": 0
      },
      "text/plain": [
       "Retrieving SummaryDoc documents:   0%|          | 0/160 [00:00<?, ?it/s]"
      ]
     },
     "metadata": {},
     "output_type": "display_data"
    },
    {
     "data": {
      "application/vnd.jupyter.widget-view+json": {
       "model_id": "54ca259d03784ccba1b60ac8b692defb",
       "version_major": 2,
       "version_minor": 0
      },
      "text/plain": [
       "Retrieving MaterialsDoc documents:   0%|          | 0/1 [00:00<?, ?it/s]"
      ]
     },
     "metadata": {},
     "output_type": "display_data"
    },
    {
     "name": "stdout",
     "output_type": "stream",
     "text": [
      "SG  58\n"
     ]
    },
    {
     "data": {
      "application/vnd.jupyter.widget-view+json": {
       "model_id": "17bb5d875dd14bb6912650b535541f3b",
       "version_major": 2,
       "version_minor": 0
      },
      "text/plain": [
       "Retrieving SummaryDoc documents:   0%|          | 0/199 [00:00<?, ?it/s]"
      ]
     },
     "metadata": {},
     "output_type": "display_data"
    },
    {
     "data": {
      "application/vnd.jupyter.widget-view+json": {
       "model_id": "8dfb7e6e3f634a01a462eeefd54aeaf3",
       "version_major": 2,
       "version_minor": 0
      },
      "text/plain": [
       "Retrieving MaterialsDoc documents:   0%|          | 0/1 [00:00<?, ?it/s]"
      ]
     },
     "metadata": {},
     "output_type": "display_data"
    },
    {
     "name": "stdout",
     "output_type": "stream",
     "text": [
      "SG  59\n"
     ]
    },
    {
     "data": {
      "application/vnd.jupyter.widget-view+json": {
       "model_id": "9edfebd7109e461da09a10ee91fb2226",
       "version_major": 2,
       "version_minor": 0
      },
      "text/plain": [
       "Retrieving SummaryDoc documents:   0%|          | 0/340 [00:00<?, ?it/s]"
      ]
     },
     "metadata": {},
     "output_type": "display_data"
    },
    {
     "data": {
      "application/vnd.jupyter.widget-view+json": {
       "model_id": "3325e81a4f174c3b9cadf52a2d6910b1",
       "version_major": 2,
       "version_minor": 0
      },
      "text/plain": [
       "Retrieving MaterialsDoc documents:   0%|          | 0/1 [00:00<?, ?it/s]"
      ]
     },
     "metadata": {},
     "output_type": "display_data"
    },
    {
     "name": "stdout",
     "output_type": "stream",
     "text": [
      "SG  60\n"
     ]
    },
    {
     "data": {
      "application/vnd.jupyter.widget-view+json": {
       "model_id": "4e57f21c5c844b049d2c76c4926b56c1",
       "version_major": 2,
       "version_minor": 0
      },
      "text/plain": [
       "Retrieving SummaryDoc documents:   0%|          | 0/334 [00:00<?, ?it/s]"
      ]
     },
     "metadata": {},
     "output_type": "display_data"
    },
    {
     "data": {
      "application/vnd.jupyter.widget-view+json": {
       "model_id": "c47df4c73f8d47fe8d7f5e71c4fae17a",
       "version_major": 2,
       "version_minor": 0
      },
      "text/plain": [
       "Retrieving MaterialsDoc documents:   0%|          | 0/1 [00:00<?, ?it/s]"
      ]
     },
     "metadata": {},
     "output_type": "display_data"
    },
    {
     "name": "stdout",
     "output_type": "stream",
     "text": [
      "SG  61\n"
     ]
    },
    {
     "data": {
      "application/vnd.jupyter.widget-view+json": {
       "model_id": "5cf10d728e8f4504abe584c92d6d016f",
       "version_major": 2,
       "version_minor": 0
      },
      "text/plain": [
       "Retrieving SummaryDoc documents:   0%|          | 0/472 [00:00<?, ?it/s]"
      ]
     },
     "metadata": {},
     "output_type": "display_data"
    },
    {
     "data": {
      "application/vnd.jupyter.widget-view+json": {
       "model_id": "863dbcb919644912bd7d3eca1e23092f",
       "version_major": 2,
       "version_minor": 0
      },
      "text/plain": [
       "Retrieving MaterialsDoc documents:   0%|          | 0/1 [00:00<?, ?it/s]"
      ]
     },
     "metadata": {},
     "output_type": "display_data"
    },
    {
     "name": "stdout",
     "output_type": "stream",
     "text": [
      "SG  62\n"
     ]
    },
    {
     "data": {
      "application/vnd.jupyter.widget-view+json": {
       "model_id": "fa82a88a58e2457a8f5f8c9bd70d0da8",
       "version_major": 2,
       "version_minor": 0
      },
      "text/plain": [
       "Retrieving SummaryDoc documents:   0%|          | 0/2345 [00:00<?, ?it/s]"
      ]
     },
     "metadata": {},
     "output_type": "display_data"
    },
    {
     "data": {
      "application/vnd.jupyter.widget-view+json": {
       "model_id": "96b9c01f84574dd6bf165c4a158861dc",
       "version_major": 2,
       "version_minor": 0
      },
      "text/plain": [
       "Retrieving MaterialsDoc documents:   0%|          | 0/1 [00:00<?, ?it/s]"
      ]
     },
     "metadata": {},
     "output_type": "display_data"
    },
    {
     "name": "stdout",
     "output_type": "stream",
     "text": [
      "SG  63\n"
     ]
    },
    {
     "data": {
      "application/vnd.jupyter.widget-view+json": {
       "model_id": "351359d60c704fef8a78c7a0c695b53f",
       "version_major": 2,
       "version_minor": 0
      },
      "text/plain": [
       "Retrieving SummaryDoc documents:   0%|          | 0/1203 [00:00<?, ?it/s]"
      ]
     },
     "metadata": {},
     "output_type": "display_data"
    },
    {
     "data": {
      "application/vnd.jupyter.widget-view+json": {
       "model_id": "91144efa752d4f3a9f65f331c25137b6",
       "version_major": 2,
       "version_minor": 0
      },
      "text/plain": [
       "Retrieving MaterialsDoc documents:   0%|          | 0/1 [00:00<?, ?it/s]"
      ]
     },
     "metadata": {},
     "output_type": "display_data"
    },
    {
     "name": "stdout",
     "output_type": "stream",
     "text": [
      "SG  64\n"
     ]
    },
    {
     "data": {
      "application/vnd.jupyter.widget-view+json": {
       "model_id": "ae6863cb3d6941cd939675719d1e0953",
       "version_major": 2,
       "version_minor": 0
      },
      "text/plain": [
       "Retrieving SummaryDoc documents:   0%|          | 0/324 [00:00<?, ?it/s]"
      ]
     },
     "metadata": {},
     "output_type": "display_data"
    },
    {
     "data": {
      "application/vnd.jupyter.widget-view+json": {
       "model_id": "9d51683455024169bd960a4b6fb9f396",
       "version_major": 2,
       "version_minor": 0
      },
      "text/plain": [
       "Retrieving MaterialsDoc documents:   0%|          | 0/1 [00:00<?, ?it/s]"
      ]
     },
     "metadata": {},
     "output_type": "display_data"
    },
    {
     "name": "stdout",
     "output_type": "stream",
     "text": [
      "SG  65\n"
     ]
    },
    {
     "data": {
      "application/vnd.jupyter.widget-view+json": {
       "model_id": "67f98d57e1ab4fcf835998dad4d56099",
       "version_major": 2,
       "version_minor": 0
      },
      "text/plain": [
       "Retrieving SummaryDoc documents:   0%|          | 0/670 [00:00<?, ?it/s]"
      ]
     },
     "metadata": {},
     "output_type": "display_data"
    },
    {
     "data": {
      "application/vnd.jupyter.widget-view+json": {
       "model_id": "38392b19f59a4afebfb8072be6d8118b",
       "version_major": 2,
       "version_minor": 0
      },
      "text/plain": [
       "Retrieving MaterialsDoc documents:   0%|          | 0/1 [00:00<?, ?it/s]"
      ]
     },
     "metadata": {},
     "output_type": "display_data"
    },
    {
     "name": "stdout",
     "output_type": "stream",
     "text": [
      "SG  66\n"
     ]
    },
    {
     "data": {
      "application/vnd.jupyter.widget-view+json": {
       "model_id": "cd64fa391e7340308a3ad80b0f893b71",
       "version_major": 2,
       "version_minor": 0
      },
      "text/plain": [
       "Retrieving SummaryDoc documents:   0%|          | 0/36 [00:00<?, ?it/s]"
      ]
     },
     "metadata": {},
     "output_type": "display_data"
    },
    {
     "data": {
      "application/vnd.jupyter.widget-view+json": {
       "model_id": "5dfed06b2ed947c6bb128619938b2977",
       "version_major": 2,
       "version_minor": 0
      },
      "text/plain": [
       "Retrieving MaterialsDoc documents:   0%|          | 0/1 [00:00<?, ?it/s]"
      ]
     },
     "metadata": {},
     "output_type": "display_data"
    },
    {
     "name": "stdout",
     "output_type": "stream",
     "text": [
      "SG  67\n"
     ]
    },
    {
     "data": {
      "application/vnd.jupyter.widget-view+json": {
       "model_id": "4c74669edff3420a8e080134bec655d3",
       "version_major": 2,
       "version_minor": 0
      },
      "text/plain": [
       "Retrieving SummaryDoc documents:   0%|          | 0/59 [00:00<?, ?it/s]"
      ]
     },
     "metadata": {},
     "output_type": "display_data"
    },
    {
     "data": {
      "application/vnd.jupyter.widget-view+json": {
       "model_id": "3fed1d45f6c34c51be282c9fd4a181ae",
       "version_major": 2,
       "version_minor": 0
      },
      "text/plain": [
       "Retrieving MaterialsDoc documents:   0%|          | 0/1 [00:00<?, ?it/s]"
      ]
     },
     "metadata": {},
     "output_type": "display_data"
    },
    {
     "name": "stdout",
     "output_type": "stream",
     "text": [
      "SG  68\n"
     ]
    },
    {
     "data": {
      "application/vnd.jupyter.widget-view+json": {
       "model_id": "e28ac3e647c74a3fbd0549f6ba334e07",
       "version_major": 2,
       "version_minor": 0
      },
      "text/plain": [
       "Retrieving SummaryDoc documents:   0%|          | 0/23 [00:00<?, ?it/s]"
      ]
     },
     "metadata": {},
     "output_type": "display_data"
    },
    {
     "data": {
      "application/vnd.jupyter.widget-view+json": {
       "model_id": "4a641894069849eeaa8fe3c97c77d108",
       "version_major": 2,
       "version_minor": 0
      },
      "text/plain": [
       "Retrieving MaterialsDoc documents:   0%|          | 0/1 [00:00<?, ?it/s]"
      ]
     },
     "metadata": {},
     "output_type": "display_data"
    },
    {
     "name": "stdout",
     "output_type": "stream",
     "text": [
      "SG  69\n"
     ]
    },
    {
     "data": {
      "application/vnd.jupyter.widget-view+json": {
       "model_id": "382c1ef6ca944db1859c80a45760fc74",
       "version_major": 2,
       "version_minor": 0
      },
      "text/plain": [
       "Retrieving SummaryDoc documents:   0%|          | 0/145 [00:00<?, ?it/s]"
      ]
     },
     "metadata": {},
     "output_type": "display_data"
    },
    {
     "data": {
      "application/vnd.jupyter.widget-view+json": {
       "model_id": "5e9a22fe23c54b69a20774cf476ad9bf",
       "version_major": 2,
       "version_minor": 0
      },
      "text/plain": [
       "Retrieving MaterialsDoc documents:   0%|          | 0/1 [00:00<?, ?it/s]"
      ]
     },
     "metadata": {},
     "output_type": "display_data"
    },
    {
     "name": "stdout",
     "output_type": "stream",
     "text": [
      "SG  70\n"
     ]
    },
    {
     "data": {
      "application/vnd.jupyter.widget-view+json": {
       "model_id": "6c4c1f6827804b5797a1a41c0524a6cb",
       "version_major": 2,
       "version_minor": 0
      },
      "text/plain": [
       "Retrieving SummaryDoc documents:   0%|          | 0/148 [00:00<?, ?it/s]"
      ]
     },
     "metadata": {},
     "output_type": "display_data"
    },
    {
     "data": {
      "application/vnd.jupyter.widget-view+json": {
       "model_id": "fbc68cc0f8134e3ba44119b2c2bd25c7",
       "version_major": 2,
       "version_minor": 0
      },
      "text/plain": [
       "Retrieving MaterialsDoc documents:   0%|          | 0/1 [00:00<?, ?it/s]"
      ]
     },
     "metadata": {},
     "output_type": "display_data"
    },
    {
     "name": "stdout",
     "output_type": "stream",
     "text": [
      "SG  71\n"
     ]
    },
    {
     "data": {
      "application/vnd.jupyter.widget-view+json": {
       "model_id": "63b8d4973c9745b7b7de4bf15fda3c72",
       "version_major": 2,
       "version_minor": 0
      },
      "text/plain": [
       "Retrieving SummaryDoc documents:   0%|          | 0/2737 [00:00<?, ?it/s]"
      ]
     },
     "metadata": {},
     "output_type": "display_data"
    },
    {
     "data": {
      "application/vnd.jupyter.widget-view+json": {
       "model_id": "c92f98f217984bca89f9a2aa88329d45",
       "version_major": 2,
       "version_minor": 0
      },
      "text/plain": [
       "Retrieving MaterialsDoc documents:   0%|          | 0/1 [00:00<?, ?it/s]"
      ]
     },
     "metadata": {},
     "output_type": "display_data"
    },
    {
     "name": "stdout",
     "output_type": "stream",
     "text": [
      "SG  72\n"
     ]
    },
    {
     "data": {
      "application/vnd.jupyter.widget-view+json": {
       "model_id": "588b649d7a8b42b7912143f4a7c68c9d",
       "version_major": 2,
       "version_minor": 0
      },
      "text/plain": [
       "Retrieving SummaryDoc documents:   0%|          | 0/114 [00:00<?, ?it/s]"
      ]
     },
     "metadata": {},
     "output_type": "display_data"
    },
    {
     "data": {
      "application/vnd.jupyter.widget-view+json": {
       "model_id": "9a6b14e2602f4f41b9b9d8acaab135ed",
       "version_major": 2,
       "version_minor": 0
      },
      "text/plain": [
       "Retrieving MaterialsDoc documents:   0%|          | 0/1 [00:00<?, ?it/s]"
      ]
     },
     "metadata": {},
     "output_type": "display_data"
    },
    {
     "name": "stdout",
     "output_type": "stream",
     "text": [
      "SG  73\n"
     ]
    },
    {
     "data": {
      "application/vnd.jupyter.widget-view+json": {
       "model_id": "85b8d1aed54147b298e829c6b5cc4cb5",
       "version_major": 2,
       "version_minor": 0
      },
      "text/plain": [
       "Retrieving SummaryDoc documents:   0%|          | 0/19 [00:00<?, ?it/s]"
      ]
     },
     "metadata": {},
     "output_type": "display_data"
    },
    {
     "data": {
      "application/vnd.jupyter.widget-view+json": {
       "model_id": "9bc005c056d9465eb7cd57468f2efb23",
       "version_major": 2,
       "version_minor": 0
      },
      "text/plain": [
       "Retrieving MaterialsDoc documents:   0%|          | 0/1 [00:00<?, ?it/s]"
      ]
     },
     "metadata": {},
     "output_type": "display_data"
    },
    {
     "name": "stdout",
     "output_type": "stream",
     "text": [
      "SG  74\n"
     ]
    },
    {
     "data": {
      "application/vnd.jupyter.widget-view+json": {
       "model_id": "f1fad8696b9f4f80bf5df2eb9b219f6b",
       "version_major": 2,
       "version_minor": 0
      },
      "text/plain": [
       "Retrieving SummaryDoc documents:   0%|          | 0/886 [00:00<?, ?it/s]"
      ]
     },
     "metadata": {},
     "output_type": "display_data"
    },
    {
     "data": {
      "application/vnd.jupyter.widget-view+json": {
       "model_id": "95f21401970e467db8cf63d78f7fbc0c",
       "version_major": 2,
       "version_minor": 0
      },
      "text/plain": [
       "Retrieving MaterialsDoc documents:   0%|          | 0/1 [00:00<?, ?it/s]"
      ]
     },
     "metadata": {},
     "output_type": "display_data"
    },
    {
     "name": "stdout",
     "output_type": "stream",
     "text": [
      "SG  75\n"
     ]
    },
    {
     "data": {
      "application/vnd.jupyter.widget-view+json": {
       "model_id": "bfdd1a61072a4f338096bfb78cbfdc89",
       "version_major": 2,
       "version_minor": 0
      },
      "text/plain": [
       "Retrieving SummaryDoc documents:   0%|          | 0/17 [00:00<?, ?it/s]"
      ]
     },
     "metadata": {},
     "output_type": "display_data"
    },
    {
     "data": {
      "application/vnd.jupyter.widget-view+json": {
       "model_id": "c5509a3106d74db2acb0e0484b386a2a",
       "version_major": 2,
       "version_minor": 0
      },
      "text/plain": [
       "Retrieving MaterialsDoc documents:   0%|          | 0/1 [00:00<?, ?it/s]"
      ]
     },
     "metadata": {},
     "output_type": "display_data"
    },
    {
     "name": "stdout",
     "output_type": "stream",
     "text": [
      "SG  76\n"
     ]
    },
    {
     "data": {
      "application/vnd.jupyter.widget-view+json": {
       "model_id": "53c9564886c84c89982ada3584cae6fa",
       "version_major": 2,
       "version_minor": 0
      },
      "text/plain": [
       "Retrieving SummaryDoc documents:   0%|          | 0/27 [00:00<?, ?it/s]"
      ]
     },
     "metadata": {},
     "output_type": "display_data"
    },
    {
     "data": {
      "application/vnd.jupyter.widget-view+json": {
       "model_id": "0d023da246fb4816a76f79b8d6f89649",
       "version_major": 2,
       "version_minor": 0
      },
      "text/plain": [
       "Retrieving MaterialsDoc documents:   0%|          | 0/1 [00:00<?, ?it/s]"
      ]
     },
     "metadata": {},
     "output_type": "display_data"
    },
    {
     "name": "stdout",
     "output_type": "stream",
     "text": [
      "SG  77\n"
     ]
    },
    {
     "data": {
      "application/vnd.jupyter.widget-view+json": {
       "model_id": "67ec4f0af6bc4065874469977c959ee2",
       "version_major": 2,
       "version_minor": 0
      },
      "text/plain": [
       "Retrieving SummaryDoc documents:   0%|          | 0/4 [00:00<?, ?it/s]"
      ]
     },
     "metadata": {},
     "output_type": "display_data"
    },
    {
     "data": {
      "application/vnd.jupyter.widget-view+json": {
       "model_id": "936b9c45e73c4429ab20db9d152ad448",
       "version_major": 2,
       "version_minor": 0
      },
      "text/plain": [
       "Retrieving MaterialsDoc documents:   0%|          | 0/1 [00:00<?, ?it/s]"
      ]
     },
     "metadata": {},
     "output_type": "display_data"
    },
    {
     "name": "stdout",
     "output_type": "stream",
     "text": [
      "SG  78\n"
     ]
    },
    {
     "data": {
      "application/vnd.jupyter.widget-view+json": {
       "model_id": "9a5653aaf71a4e84a694dee00c00ba2a",
       "version_major": 2,
       "version_minor": 0
      },
      "text/plain": [
       "Retrieving SummaryDoc documents:   0%|          | 0/12 [00:00<?, ?it/s]"
      ]
     },
     "metadata": {},
     "output_type": "display_data"
    },
    {
     "data": {
      "application/vnd.jupyter.widget-view+json": {
       "model_id": "4d29bc111f894ef09958f0a0530e76cc",
       "version_major": 2,
       "version_minor": 0
      },
      "text/plain": [
       "Retrieving MaterialsDoc documents:   0%|          | 0/1 [00:00<?, ?it/s]"
      ]
     },
     "metadata": {},
     "output_type": "display_data"
    },
    {
     "name": "stdout",
     "output_type": "stream",
     "text": [
      "SG  79\n"
     ]
    },
    {
     "data": {
      "application/vnd.jupyter.widget-view+json": {
       "model_id": "5ae3061cecce43d28aea1490e9c550d6",
       "version_major": 2,
       "version_minor": 0
      },
      "text/plain": [
       "Retrieving SummaryDoc documents:   0%|          | 0/19 [00:00<?, ?it/s]"
      ]
     },
     "metadata": {},
     "output_type": "display_data"
    },
    {
     "data": {
      "application/vnd.jupyter.widget-view+json": {
       "model_id": "ea7984870b4c4915904fdcbc3939d53c",
       "version_major": 2,
       "version_minor": 0
      },
      "text/plain": [
       "Retrieving MaterialsDoc documents:   0%|          | 0/1 [00:00<?, ?it/s]"
      ]
     },
     "metadata": {},
     "output_type": "display_data"
    },
    {
     "name": "stdout",
     "output_type": "stream",
     "text": [
      "SG  80\n"
     ]
    },
    {
     "data": {
      "application/vnd.jupyter.widget-view+json": {
       "model_id": "9b40eebd3c3645b39852035bc2197d8d",
       "version_major": 2,
       "version_minor": 0
      },
      "text/plain": [
       "Retrieving SummaryDoc documents:   0%|          | 0/16 [00:00<?, ?it/s]"
      ]
     },
     "metadata": {},
     "output_type": "display_data"
    },
    {
     "data": {
      "application/vnd.jupyter.widget-view+json": {
       "model_id": "82e571c88acb4f258dffc51ea3c7b667",
       "version_major": 2,
       "version_minor": 0
      },
      "text/plain": [
       "Retrieving MaterialsDoc documents:   0%|          | 0/1 [00:00<?, ?it/s]"
      ]
     },
     "metadata": {},
     "output_type": "display_data"
    },
    {
     "name": "stdout",
     "output_type": "stream",
     "text": [
      "SG  81\n"
     ]
    },
    {
     "data": {
      "application/vnd.jupyter.widget-view+json": {
       "model_id": "c62a82e098364089844b5fbee1ea82ef",
       "version_major": 2,
       "version_minor": 0
      },
      "text/plain": [
       "Retrieving SummaryDoc documents:   0%|          | 0/72 [00:00<?, ?it/s]"
      ]
     },
     "metadata": {},
     "output_type": "display_data"
    },
    {
     "data": {
      "application/vnd.jupyter.widget-view+json": {
       "model_id": "03e210e7c130434a993aceb7903b3365",
       "version_major": 2,
       "version_minor": 0
      },
      "text/plain": [
       "Retrieving MaterialsDoc documents:   0%|          | 0/1 [00:00<?, ?it/s]"
      ]
     },
     "metadata": {},
     "output_type": "display_data"
    },
    {
     "name": "stdout",
     "output_type": "stream",
     "text": [
      "SG  82\n"
     ]
    },
    {
     "data": {
      "application/vnd.jupyter.widget-view+json": {
       "model_id": "0f7f64d62f244676953f44f58c79d35d",
       "version_major": 2,
       "version_minor": 0
      },
      "text/plain": [
       "Retrieving SummaryDoc documents:   0%|          | 0/256 [00:00<?, ?it/s]"
      ]
     },
     "metadata": {},
     "output_type": "display_data"
    },
    {
     "data": {
      "application/vnd.jupyter.widget-view+json": {
       "model_id": "26c2bd4639e14d45a1829ab4a6ba5a84",
       "version_major": 2,
       "version_minor": 0
      },
      "text/plain": [
       "Retrieving MaterialsDoc documents:   0%|          | 0/1 [00:00<?, ?it/s]"
      ]
     },
     "metadata": {},
     "output_type": "display_data"
    },
    {
     "name": "stdout",
     "output_type": "stream",
     "text": [
      "SG  83\n"
     ]
    },
    {
     "data": {
      "application/vnd.jupyter.widget-view+json": {
       "model_id": "30c13d667ae04535a65e2c7882f77960",
       "version_major": 2,
       "version_minor": 0
      },
      "text/plain": [
       "Retrieving SummaryDoc documents:   0%|          | 0/28 [00:00<?, ?it/s]"
      ]
     },
     "metadata": {},
     "output_type": "display_data"
    },
    {
     "data": {
      "application/vnd.jupyter.widget-view+json": {
       "model_id": "8baa7f05df48439aba9ddb5e4fe4f5eb",
       "version_major": 2,
       "version_minor": 0
      },
      "text/plain": [
       "Retrieving MaterialsDoc documents:   0%|          | 0/1 [00:00<?, ?it/s]"
      ]
     },
     "metadata": {},
     "output_type": "display_data"
    },
    {
     "name": "stdout",
     "output_type": "stream",
     "text": [
      "SG  84\n"
     ]
    },
    {
     "data": {
      "application/vnd.jupyter.widget-view+json": {
       "model_id": "db872c66a1304e59b7db8234573bc894",
       "version_major": 2,
       "version_minor": 0
      },
      "text/plain": [
       "Retrieving SummaryDoc documents:   0%|          | 0/11 [00:00<?, ?it/s]"
      ]
     },
     "metadata": {},
     "output_type": "display_data"
    },
    {
     "data": {
      "application/vnd.jupyter.widget-view+json": {
       "model_id": "90acd4eeacbc46029b0359ba3e284004",
       "version_major": 2,
       "version_minor": 0
      },
      "text/plain": [
       "Retrieving MaterialsDoc documents:   0%|          | 0/1 [00:00<?, ?it/s]"
      ]
     },
     "metadata": {},
     "output_type": "display_data"
    },
    {
     "name": "stdout",
     "output_type": "stream",
     "text": [
      "SG  85\n"
     ]
    },
    {
     "data": {
      "application/vnd.jupyter.widget-view+json": {
       "model_id": "6b70e3eeb5cc42dc860171d769319388",
       "version_major": 2,
       "version_minor": 0
      },
      "text/plain": [
       "Retrieving SummaryDoc documents:   0%|          | 0/52 [00:00<?, ?it/s]"
      ]
     },
     "metadata": {},
     "output_type": "display_data"
    },
    {
     "data": {
      "application/vnd.jupyter.widget-view+json": {
       "model_id": "d0d53569fddc4edd8c0a5636deab251c",
       "version_major": 2,
       "version_minor": 0
      },
      "text/plain": [
       "Retrieving MaterialsDoc documents:   0%|          | 0/1 [00:00<?, ?it/s]"
      ]
     },
     "metadata": {},
     "output_type": "display_data"
    },
    {
     "name": "stdout",
     "output_type": "stream",
     "text": [
      "SG  86\n"
     ]
    },
    {
     "data": {
      "application/vnd.jupyter.widget-view+json": {
       "model_id": "ff8a6b1c94784dc8a4555a03710a8f56",
       "version_major": 2,
       "version_minor": 0
      },
      "text/plain": [
       "Retrieving SummaryDoc documents:   0%|          | 0/19 [00:00<?, ?it/s]"
      ]
     },
     "metadata": {},
     "output_type": "display_data"
    },
    {
     "data": {
      "application/vnd.jupyter.widget-view+json": {
       "model_id": "018af0c5662e4b698c3026dc3a89e5dc",
       "version_major": 2,
       "version_minor": 0
      },
      "text/plain": [
       "Retrieving MaterialsDoc documents:   0%|          | 0/1 [00:00<?, ?it/s]"
      ]
     },
     "metadata": {},
     "output_type": "display_data"
    },
    {
     "name": "stdout",
     "output_type": "stream",
     "text": [
      "SG  87\n"
     ]
    },
    {
     "data": {
      "application/vnd.jupyter.widget-view+json": {
       "model_id": "21dd37ed35f6439085e1a0bf09d7b5a6",
       "version_major": 2,
       "version_minor": 0
      },
      "text/plain": [
       "Retrieving SummaryDoc documents:   0%|          | 0/164 [00:00<?, ?it/s]"
      ]
     },
     "metadata": {},
     "output_type": "display_data"
    },
    {
     "data": {
      "application/vnd.jupyter.widget-view+json": {
       "model_id": "4280614cb31047f59eb494a30553084d",
       "version_major": 2,
       "version_minor": 0
      },
      "text/plain": [
       "Retrieving MaterialsDoc documents:   0%|          | 0/1 [00:00<?, ?it/s]"
      ]
     },
     "metadata": {},
     "output_type": "display_data"
    },
    {
     "name": "stdout",
     "output_type": "stream",
     "text": [
      "SG  88\n"
     ]
    },
    {
     "data": {
      "application/vnd.jupyter.widget-view+json": {
       "model_id": "29d55d807ffe4cfbbcd3c56b065774b0",
       "version_major": 2,
       "version_minor": 0
      },
      "text/plain": [
       "Retrieving SummaryDoc documents:   0%|          | 0/143 [00:00<?, ?it/s]"
      ]
     },
     "metadata": {},
     "output_type": "display_data"
    },
    {
     "data": {
      "application/vnd.jupyter.widget-view+json": {
       "model_id": "74219c356b6c4ff29d7296b6427c480c",
       "version_major": 2,
       "version_minor": 0
      },
      "text/plain": [
       "Retrieving MaterialsDoc documents:   0%|          | 0/1 [00:00<?, ?it/s]"
      ]
     },
     "metadata": {},
     "output_type": "display_data"
    },
    {
     "name": "stdout",
     "output_type": "stream",
     "text": [
      "SG  89\n"
     ]
    },
    {
     "data": {
      "application/vnd.jupyter.widget-view+json": {
       "model_id": "8873c35d0ca3408493a8ab51ccc51de9",
       "version_major": 2,
       "version_minor": 0
      },
      "text/plain": [
       "Retrieving SummaryDoc documents:   0%|          | 0/5 [00:00<?, ?it/s]"
      ]
     },
     "metadata": {},
     "output_type": "display_data"
    },
    {
     "data": {
      "application/vnd.jupyter.widget-view+json": {
       "model_id": "0802427b2c2e40aab490e010e9434c6c",
       "version_major": 2,
       "version_minor": 0
      },
      "text/plain": [
       "Retrieving MaterialsDoc documents:   0%|          | 0/1 [00:00<?, ?it/s]"
      ]
     },
     "metadata": {},
     "output_type": "display_data"
    },
    {
     "name": "stdout",
     "output_type": "stream",
     "text": [
      "SG  90\n"
     ]
    },
    {
     "data": {
      "application/vnd.jupyter.widget-view+json": {
       "model_id": "a4108279cb464d7aa3362d021ec8950d",
       "version_major": 2,
       "version_minor": 0
      },
      "text/plain": [
       "Retrieving SummaryDoc documents:   0%|          | 0/6 [00:00<?, ?it/s]"
      ]
     },
     "metadata": {},
     "output_type": "display_data"
    },
    {
     "data": {
      "application/vnd.jupyter.widget-view+json": {
       "model_id": "166f15973afc462b99d899a58499713d",
       "version_major": 2,
       "version_minor": 0
      },
      "text/plain": [
       "Retrieving MaterialsDoc documents:   0%|          | 0/1 [00:00<?, ?it/s]"
      ]
     },
     "metadata": {},
     "output_type": "display_data"
    },
    {
     "name": "stdout",
     "output_type": "stream",
     "text": [
      "SG  91\n"
     ]
    },
    {
     "data": {
      "application/vnd.jupyter.widget-view+json": {
       "model_id": "fe0cb68e297547a08a545be6a0774577",
       "version_major": 2,
       "version_minor": 0
      },
      "text/plain": [
       "Retrieving SummaryDoc documents:   0%|          | 0/27 [00:00<?, ?it/s]"
      ]
     },
     "metadata": {},
     "output_type": "display_data"
    },
    {
     "data": {
      "application/vnd.jupyter.widget-view+json": {
       "model_id": "1c325b9547f740169e3656e84bfb9383",
       "version_major": 2,
       "version_minor": 0
      },
      "text/plain": [
       "Retrieving MaterialsDoc documents:   0%|          | 0/1 [00:00<?, ?it/s]"
      ]
     },
     "metadata": {},
     "output_type": "display_data"
    },
    {
     "name": "stdout",
     "output_type": "stream",
     "text": [
      "SG  92\n"
     ]
    },
    {
     "data": {
      "application/vnd.jupyter.widget-view+json": {
       "model_id": "3b3c4ed44a2e4c53b1d0a6d825c8153c",
       "version_major": 2,
       "version_minor": 0
      },
      "text/plain": [
       "Retrieving SummaryDoc documents:   0%|          | 0/47 [00:00<?, ?it/s]"
      ]
     },
     "metadata": {},
     "output_type": "display_data"
    },
    {
     "data": {
      "application/vnd.jupyter.widget-view+json": {
       "model_id": "495ef8e26065467989fdbd4eb18a5aa9",
       "version_major": 2,
       "version_minor": 0
      },
      "text/plain": [
       "Retrieving MaterialsDoc documents:   0%|          | 0/1 [00:00<?, ?it/s]"
      ]
     },
     "metadata": {},
     "output_type": "display_data"
    },
    {
     "name": "stdout",
     "output_type": "stream",
     "text": [
      "SG  93\n"
     ]
    },
    {
     "data": {
      "application/vnd.jupyter.widget-view+json": {
       "model_id": "4361bf3e7d884721994f6c49176c1087",
       "version_major": 2,
       "version_minor": 0
      },
      "text/plain": [
       "Retrieving SummaryDoc documents:   0%|          | 0/1 [00:00<?, ?it/s]"
      ]
     },
     "metadata": {},
     "output_type": "display_data"
    },
    {
     "data": {
      "application/vnd.jupyter.widget-view+json": {
       "model_id": "c497687a538b4dfabea3c4a91aba3fab",
       "version_major": 2,
       "version_minor": 0
      },
      "text/plain": [
       "Retrieving MaterialsDoc documents:   0%|          | 0/1 [00:00<?, ?it/s]"
      ]
     },
     "metadata": {},
     "output_type": "display_data"
    },
    {
     "name": "stdout",
     "output_type": "stream",
     "text": [
      "SG  94\n"
     ]
    },
    {
     "data": {
      "application/vnd.jupyter.widget-view+json": {
       "model_id": "26711c92b9d547a1a7135a07bc79da80",
       "version_major": 2,
       "version_minor": 0
      },
      "text/plain": [
       "Retrieving SummaryDoc documents:   0%|          | 0/4 [00:00<?, ?it/s]"
      ]
     },
     "metadata": {},
     "output_type": "display_data"
    },
    {
     "data": {
      "application/vnd.jupyter.widget-view+json": {
       "model_id": "8678ef9026514db48fcef18d6a458592",
       "version_major": 2,
       "version_minor": 0
      },
      "text/plain": [
       "Retrieving MaterialsDoc documents:   0%|          | 0/1 [00:00<?, ?it/s]"
      ]
     },
     "metadata": {},
     "output_type": "display_data"
    },
    {
     "name": "stdout",
     "output_type": "stream",
     "text": [
      "SG  95\n"
     ]
    },
    {
     "data": {
      "application/vnd.jupyter.widget-view+json": {
       "model_id": "fdb8c05891874bdbaf1783ac0b5f124d",
       "version_major": 2,
       "version_minor": 0
      },
      "text/plain": [
       "Retrieving SummaryDoc documents:   0%|          | 0/58 [00:00<?, ?it/s]"
      ]
     },
     "metadata": {},
     "output_type": "display_data"
    },
    {
     "data": {
      "application/vnd.jupyter.widget-view+json": {
       "model_id": "fbb0e4c573d842a284664733e9ad23fe",
       "version_major": 2,
       "version_minor": 0
      },
      "text/plain": [
       "Retrieving MaterialsDoc documents:   0%|          | 0/1 [00:00<?, ?it/s]"
      ]
     },
     "metadata": {},
     "output_type": "display_data"
    },
    {
     "name": "stdout",
     "output_type": "stream",
     "text": [
      "SG  96\n"
     ]
    },
    {
     "data": {
      "application/vnd.jupyter.widget-view+json": {
       "model_id": "0434a6e080b344f0a1895c9aee8c22ab",
       "version_major": 2,
       "version_minor": 0
      },
      "text/plain": [
       "Retrieving SummaryDoc documents:   0%|          | 0/32 [00:00<?, ?it/s]"
      ]
     },
     "metadata": {},
     "output_type": "display_data"
    },
    {
     "data": {
      "application/vnd.jupyter.widget-view+json": {
       "model_id": "b8c1b4f63e47499e84ab887421727d39",
       "version_major": 2,
       "version_minor": 0
      },
      "text/plain": [
       "Retrieving MaterialsDoc documents:   0%|          | 0/1 [00:00<?, ?it/s]"
      ]
     },
     "metadata": {},
     "output_type": "display_data"
    },
    {
     "name": "stdout",
     "output_type": "stream",
     "text": [
      "SG  97\n"
     ]
    },
    {
     "data": {
      "application/vnd.jupyter.widget-view+json": {
       "model_id": "c65452b6cdec4ace860a312240139efb",
       "version_major": 2,
       "version_minor": 0
      },
      "text/plain": [
       "Retrieving SummaryDoc documents:   0%|          | 0/49 [00:00<?, ?it/s]"
      ]
     },
     "metadata": {},
     "output_type": "display_data"
    },
    {
     "data": {
      "application/vnd.jupyter.widget-view+json": {
       "model_id": "d7bc28e0048647f5bfd882ddde81ecbb",
       "version_major": 2,
       "version_minor": 0
      },
      "text/plain": [
       "Retrieving MaterialsDoc documents:   0%|          | 0/1 [00:00<?, ?it/s]"
      ]
     },
     "metadata": {},
     "output_type": "display_data"
    },
    {
     "name": "stdout",
     "output_type": "stream",
     "text": [
      "SG  98\n"
     ]
    },
    {
     "data": {
      "application/vnd.jupyter.widget-view+json": {
       "model_id": "694abbbf95ad4b3c9d5dbf955c5bc614",
       "version_major": 2,
       "version_minor": 0
      },
      "text/plain": [
       "Retrieving SummaryDoc documents:   0%|          | 0/14 [00:00<?, ?it/s]"
      ]
     },
     "metadata": {},
     "output_type": "display_data"
    },
    {
     "data": {
      "application/vnd.jupyter.widget-view+json": {
       "model_id": "a0ac00a81bfa47f988dacb25658e1507",
       "version_major": 2,
       "version_minor": 0
      },
      "text/plain": [
       "Retrieving MaterialsDoc documents:   0%|          | 0/1 [00:00<?, ?it/s]"
      ]
     },
     "metadata": {},
     "output_type": "display_data"
    },
    {
     "name": "stdout",
     "output_type": "stream",
     "text": [
      "SG  99\n"
     ]
    },
    {
     "data": {
      "application/vnd.jupyter.widget-view+json": {
       "model_id": "9efa7317870c4511b6c2cc970aefefab",
       "version_major": 2,
       "version_minor": 0
      },
      "text/plain": [
       "Retrieving SummaryDoc documents:   0%|          | 0/403 [00:00<?, ?it/s]"
      ]
     },
     "metadata": {},
     "output_type": "display_data"
    },
    {
     "data": {
      "application/vnd.jupyter.widget-view+json": {
       "model_id": "392debd3164f4ddcb66b1a43ec02efd4",
       "version_major": 2,
       "version_minor": 0
      },
      "text/plain": [
       "Retrieving MaterialsDoc documents:   0%|          | 0/1 [00:00<?, ?it/s]"
      ]
     },
     "metadata": {},
     "output_type": "display_data"
    },
    {
     "name": "stdout",
     "output_type": "stream",
     "text": [
      "SG 100\n"
     ]
    },
    {
     "data": {
      "application/vnd.jupyter.widget-view+json": {
       "model_id": "2490331aa9c24287890fb89ac7225b38",
       "version_major": 2,
       "version_minor": 0
      },
      "text/plain": [
       "Retrieving SummaryDoc documents:   0%|          | 0/42 [00:00<?, ?it/s]"
      ]
     },
     "metadata": {},
     "output_type": "display_data"
    },
    {
     "data": {
      "application/vnd.jupyter.widget-view+json": {
       "model_id": "10bbbb07cb6846939de532ff04ca83ac",
       "version_major": 2,
       "version_minor": 0
      },
      "text/plain": [
       "Retrieving MaterialsDoc documents:   0%|          | 0/1 [00:00<?, ?it/s]"
      ]
     },
     "metadata": {},
     "output_type": "display_data"
    },
    {
     "name": "stdout",
     "output_type": "stream",
     "text": [
      "SG 101\n"
     ]
    },
    {
     "data": {
      "application/vnd.jupyter.widget-view+json": {
       "model_id": "3bd1982ceede47b18fe2cf1e76ed4715",
       "version_major": 2,
       "version_minor": 0
      },
      "text/plain": [
       "Retrieving SummaryDoc documents:   0%|          | 0/1 [00:00<?, ?it/s]"
      ]
     },
     "metadata": {},
     "output_type": "display_data"
    },
    {
     "data": {
      "application/vnd.jupyter.widget-view+json": {
       "model_id": "2da3bb1a89e04248843b8969b9964639",
       "version_major": 2,
       "version_minor": 0
      },
      "text/plain": [
       "Retrieving MaterialsDoc documents:   0%|          | 0/1 [00:00<?, ?it/s]"
      ]
     },
     "metadata": {},
     "output_type": "display_data"
    },
    {
     "name": "stdout",
     "output_type": "stream",
     "text": [
      "SG 102\n"
     ]
    },
    {
     "data": {
      "application/vnd.jupyter.widget-view+json": {
       "model_id": "b83c2f952def4844a62e3c2accd809c5",
       "version_major": 2,
       "version_minor": 0
      },
      "text/plain": [
       "Retrieving SummaryDoc documents:   0%|          | 0/37 [00:00<?, ?it/s]"
      ]
     },
     "metadata": {},
     "output_type": "display_data"
    },
    {
     "data": {
      "application/vnd.jupyter.widget-view+json": {
       "model_id": "1ccb5306d59f4fe8932f5539e00b8809",
       "version_major": 2,
       "version_minor": 0
      },
      "text/plain": [
       "Retrieving MaterialsDoc documents:   0%|          | 0/1 [00:00<?, ?it/s]"
      ]
     },
     "metadata": {},
     "output_type": "display_data"
    },
    {
     "name": "stdout",
     "output_type": "stream",
     "text": [
      "SG 103\n"
     ]
    },
    {
     "data": {
      "application/vnd.jupyter.widget-view+json": {
       "model_id": "d45fccfc88354ea196e3eed44cefb303",
       "version_major": 2,
       "version_minor": 0
      },
      "text/plain": [
       "Retrieving SummaryDoc documents:   0%|          | 0/3 [00:00<?, ?it/s]"
      ]
     },
     "metadata": {},
     "output_type": "display_data"
    },
    {
     "data": {
      "application/vnd.jupyter.widget-view+json": {
       "model_id": "ddf10a2028b64917b4c962a3456cfc10",
       "version_major": 2,
       "version_minor": 0
      },
      "text/plain": [
       "Retrieving MaterialsDoc documents:   0%|          | 0/1 [00:00<?, ?it/s]"
      ]
     },
     "metadata": {},
     "output_type": "display_data"
    },
    {
     "name": "stdout",
     "output_type": "stream",
     "text": [
      "SG 104\n"
     ]
    },
    {
     "data": {
      "application/vnd.jupyter.widget-view+json": {
       "model_id": "38985cabeb1b494a9a8b68c009021cdb",
       "version_major": 2,
       "version_minor": 0
      },
      "text/plain": [
       "Retrieving SummaryDoc documents:   0%|          | 0/3 [00:00<?, ?it/s]"
      ]
     },
     "metadata": {},
     "output_type": "display_data"
    },
    {
     "data": {
      "application/vnd.jupyter.widget-view+json": {
       "model_id": "63e2b71be4a4411db34d92bdd21d065f",
       "version_major": 2,
       "version_minor": 0
      },
      "text/plain": [
       "Retrieving MaterialsDoc documents:   0%|          | 0/1 [00:00<?, ?it/s]"
      ]
     },
     "metadata": {},
     "output_type": "display_data"
    },
    {
     "name": "stdout",
     "output_type": "stream",
     "text": [
      "SG 105\n"
     ]
    },
    {
     "data": {
      "application/vnd.jupyter.widget-view+json": {
       "model_id": "1dc9f410763e44e8af00c355e5b0e917",
       "version_major": 2,
       "version_minor": 0
      },
      "text/plain": [
       "Retrieving SummaryDoc documents:   0%|          | 0/15 [00:00<?, ?it/s]"
      ]
     },
     "metadata": {},
     "output_type": "display_data"
    },
    {
     "data": {
      "application/vnd.jupyter.widget-view+json": {
       "model_id": "e084d8127cc34d65ab09f73691df69e5",
       "version_major": 2,
       "version_minor": 0
      },
      "text/plain": [
       "Retrieving MaterialsDoc documents:   0%|          | 0/1 [00:00<?, ?it/s]"
      ]
     },
     "metadata": {},
     "output_type": "display_data"
    },
    {
     "name": "stdout",
     "output_type": "stream",
     "text": [
      "SG 106\n"
     ]
    },
    {
     "data": {
      "application/vnd.jupyter.widget-view+json": {
       "model_id": "223a74cf9f44492cac1c896312b46f5c",
       "version_major": 2,
       "version_minor": 0
      },
      "text/plain": [
       "Retrieving SummaryDoc documents:   0%|          | 0/1 [00:00<?, ?it/s]"
      ]
     },
     "metadata": {},
     "output_type": "display_data"
    },
    {
     "data": {
      "application/vnd.jupyter.widget-view+json": {
       "model_id": "ab69dcb28e17466e9a6e12fe1ef3a09a",
       "version_major": 2,
       "version_minor": 0
      },
      "text/plain": [
       "Retrieving MaterialsDoc documents:   0%|          | 0/1 [00:00<?, ?it/s]"
      ]
     },
     "metadata": {},
     "output_type": "display_data"
    },
    {
     "name": "stdout",
     "output_type": "stream",
     "text": [
      "SG 107\n"
     ]
    },
    {
     "data": {
      "application/vnd.jupyter.widget-view+json": {
       "model_id": "cf4868df3cfb45a783171ef217f8bb0e",
       "version_major": 2,
       "version_minor": 0
      },
      "text/plain": [
       "Retrieving SummaryDoc documents:   0%|          | 0/267 [00:00<?, ?it/s]"
      ]
     },
     "metadata": {},
     "output_type": "display_data"
    },
    {
     "data": {
      "application/vnd.jupyter.widget-view+json": {
       "model_id": "7e3ce5b759924547be0ea5655310b803",
       "version_major": 2,
       "version_minor": 0
      },
      "text/plain": [
       "Retrieving MaterialsDoc documents:   0%|          | 0/1 [00:00<?, ?it/s]"
      ]
     },
     "metadata": {},
     "output_type": "display_data"
    },
    {
     "name": "stdout",
     "output_type": "stream",
     "text": [
      "SG 108\n"
     ]
    },
    {
     "data": {
      "application/vnd.jupyter.widget-view+json": {
       "model_id": "089bb98c960b482dbc88c3c4e0b0920b",
       "version_major": 2,
       "version_minor": 0
      },
      "text/plain": [
       "Retrieving SummaryDoc documents:   0%|          | 0/31 [00:00<?, ?it/s]"
      ]
     },
     "metadata": {},
     "output_type": "display_data"
    },
    {
     "data": {
      "application/vnd.jupyter.widget-view+json": {
       "model_id": "92ce94830c8f4fb1a929ac8e0d2d2e65",
       "version_major": 2,
       "version_minor": 0
      },
      "text/plain": [
       "Retrieving MaterialsDoc documents:   0%|          | 0/1 [00:00<?, ?it/s]"
      ]
     },
     "metadata": {},
     "output_type": "display_data"
    },
    {
     "name": "stdout",
     "output_type": "stream",
     "text": [
      "SG 109\n"
     ]
    },
    {
     "data": {
      "application/vnd.jupyter.widget-view+json": {
       "model_id": "d8ba15341bc64b93a422aab44ce95e33",
       "version_major": 2,
       "version_minor": 0
      },
      "text/plain": [
       "Retrieving SummaryDoc documents:   0%|          | 0/56 [00:00<?, ?it/s]"
      ]
     },
     "metadata": {},
     "output_type": "display_data"
    },
    {
     "data": {
      "application/vnd.jupyter.widget-view+json": {
       "model_id": "8c6d6d2aa1434a23964fa7e2eed27028",
       "version_major": 2,
       "version_minor": 0
      },
      "text/plain": [
       "Retrieving MaterialsDoc documents:   0%|          | 0/1 [00:00<?, ?it/s]"
      ]
     },
     "metadata": {},
     "output_type": "display_data"
    },
    {
     "name": "stdout",
     "output_type": "stream",
     "text": [
      "SG 110\n"
     ]
    },
    {
     "data": {
      "application/vnd.jupyter.widget-view+json": {
       "model_id": "c0b3ee032fcb4d538e69e8d69a64b2a7",
       "version_major": 2,
       "version_minor": 0
      },
      "text/plain": [
       "Retrieving SummaryDoc documents:   0%|          | 0/9 [00:00<?, ?it/s]"
      ]
     },
     "metadata": {},
     "output_type": "display_data"
    },
    {
     "data": {
      "application/vnd.jupyter.widget-view+json": {
       "model_id": "e60112cca60e4ac4810fca5c9ea35f65",
       "version_major": 2,
       "version_minor": 0
      },
      "text/plain": [
       "Retrieving MaterialsDoc documents:   0%|          | 0/1 [00:00<?, ?it/s]"
      ]
     },
     "metadata": {},
     "output_type": "display_data"
    },
    {
     "name": "stdout",
     "output_type": "stream",
     "text": [
      "SG 111\n"
     ]
    },
    {
     "data": {
      "application/vnd.jupyter.widget-view+json": {
       "model_id": "be099923a38f4aada92f768d8274a9bf",
       "version_major": 2,
       "version_minor": 0
      },
      "text/plain": [
       "Retrieving SummaryDoc documents:   0%|          | 0/42 [00:00<?, ?it/s]"
      ]
     },
     "metadata": {},
     "output_type": "display_data"
    },
    {
     "data": {
      "application/vnd.jupyter.widget-view+json": {
       "model_id": "f8da328fcd85470d8f6829a6517a2b48",
       "version_major": 2,
       "version_minor": 0
      },
      "text/plain": [
       "Retrieving MaterialsDoc documents:   0%|          | 0/1 [00:00<?, ?it/s]"
      ]
     },
     "metadata": {},
     "output_type": "display_data"
    },
    {
     "name": "stdout",
     "output_type": "stream",
     "text": [
      "SG 112\n"
     ]
    },
    {
     "data": {
      "application/vnd.jupyter.widget-view+json": {
       "model_id": "99c218025c7f401aa4a2fa2f8583e1ff",
       "version_major": 2,
       "version_minor": 0
      },
      "text/plain": [
       "Retrieving SummaryDoc documents:   0%|          | 0/7 [00:00<?, ?it/s]"
      ]
     },
     "metadata": {},
     "output_type": "display_data"
    },
    {
     "data": {
      "application/vnd.jupyter.widget-view+json": {
       "model_id": "584f6a69d5424ce1a063fbe74092f20f",
       "version_major": 2,
       "version_minor": 0
      },
      "text/plain": [
       "Retrieving MaterialsDoc documents:   0%|          | 0/1 [00:00<?, ?it/s]"
      ]
     },
     "metadata": {},
     "output_type": "display_data"
    },
    {
     "name": "stdout",
     "output_type": "stream",
     "text": [
      "SG 113\n"
     ]
    },
    {
     "data": {
      "application/vnd.jupyter.widget-view+json": {
       "model_id": "222563a7a56649cf9fb694b22942cf53",
       "version_major": 2,
       "version_minor": 0
      },
      "text/plain": [
       "Retrieving SummaryDoc documents:   0%|          | 0/55 [00:00<?, ?it/s]"
      ]
     },
     "metadata": {},
     "output_type": "display_data"
    },
    {
     "data": {
      "application/vnd.jupyter.widget-view+json": {
       "model_id": "1bb8af6da1c84195b737d68a82351353",
       "version_major": 2,
       "version_minor": 0
      },
      "text/plain": [
       "Retrieving MaterialsDoc documents:   0%|          | 0/1 [00:00<?, ?it/s]"
      ]
     },
     "metadata": {},
     "output_type": "display_data"
    },
    {
     "name": "stdout",
     "output_type": "stream",
     "text": [
      "SG 114\n"
     ]
    },
    {
     "data": {
      "application/vnd.jupyter.widget-view+json": {
       "model_id": "2cb44cb75f164cb79c81c47d745dc9e5",
       "version_major": 2,
       "version_minor": 0
      },
      "text/plain": [
       "Retrieving SummaryDoc documents:   0%|          | 0/25 [00:00<?, ?it/s]"
      ]
     },
     "metadata": {},
     "output_type": "display_data"
    },
    {
     "data": {
      "application/vnd.jupyter.widget-view+json": {
       "model_id": "b56db53662004defaa577d0ded43cee7",
       "version_major": 2,
       "version_minor": 0
      },
      "text/plain": [
       "Retrieving MaterialsDoc documents:   0%|          | 0/1 [00:00<?, ?it/s]"
      ]
     },
     "metadata": {},
     "output_type": "display_data"
    },
    {
     "name": "stdout",
     "output_type": "stream",
     "text": [
      "SG 115\n"
     ]
    },
    {
     "data": {
      "application/vnd.jupyter.widget-view+json": {
       "model_id": "86b3176138134f399d374d1993460505",
       "version_major": 2,
       "version_minor": 0
      },
      "text/plain": [
       "Retrieving SummaryDoc documents:   0%|          | 0/391 [00:00<?, ?it/s]"
      ]
     },
     "metadata": {},
     "output_type": "display_data"
    },
    {
     "data": {
      "application/vnd.jupyter.widget-view+json": {
       "model_id": "18753ca7ec3b46d5be87a0fbff927971",
       "version_major": 2,
       "version_minor": 0
      },
      "text/plain": [
       "Retrieving MaterialsDoc documents:   0%|          | 0/1 [00:00<?, ?it/s]"
      ]
     },
     "metadata": {},
     "output_type": "display_data"
    },
    {
     "name": "stdout",
     "output_type": "stream",
     "text": [
      "SG 116\n"
     ]
    },
    {
     "data": {
      "application/vnd.jupyter.widget-view+json": {
       "model_id": "d4b2350975c54e87b03c33d958a801d9",
       "version_major": 2,
       "version_minor": 0
      },
      "text/plain": [
       "Retrieving SummaryDoc documents:   0%|          | 0/8 [00:00<?, ?it/s]"
      ]
     },
     "metadata": {},
     "output_type": "display_data"
    },
    {
     "data": {
      "application/vnd.jupyter.widget-view+json": {
       "model_id": "9635fa1733e4449181b4100b7c1618db",
       "version_major": 2,
       "version_minor": 0
      },
      "text/plain": [
       "Retrieving MaterialsDoc documents:   0%|          | 0/1 [00:00<?, ?it/s]"
      ]
     },
     "metadata": {},
     "output_type": "display_data"
    },
    {
     "name": "stdout",
     "output_type": "stream",
     "text": [
      "SG 117\n"
     ]
    },
    {
     "data": {
      "application/vnd.jupyter.widget-view+json": {
       "model_id": "01e9d0d63acd49e38c3d3258fcd55e21",
       "version_major": 2,
       "version_minor": 0
      },
      "text/plain": [
       "Retrieving SummaryDoc documents:   0%|          | 0/10 [00:00<?, ?it/s]"
      ]
     },
     "metadata": {},
     "output_type": "display_data"
    },
    {
     "data": {
      "application/vnd.jupyter.widget-view+json": {
       "model_id": "fb5ddbac68b246fb8cdf9537a88afeeb",
       "version_major": 2,
       "version_minor": 0
      },
      "text/plain": [
       "Retrieving MaterialsDoc documents:   0%|          | 0/1 [00:00<?, ?it/s]"
      ]
     },
     "metadata": {},
     "output_type": "display_data"
    },
    {
     "name": "stdout",
     "output_type": "stream",
     "text": [
      "SG 118\n"
     ]
    },
    {
     "data": {
      "application/vnd.jupyter.widget-view+json": {
       "model_id": "8da11f8e42b046ec8c722704fbd75b82",
       "version_major": 2,
       "version_minor": 0
      },
      "text/plain": [
       "Retrieving SummaryDoc documents:   0%|          | 0/56 [00:00<?, ?it/s]"
      ]
     },
     "metadata": {},
     "output_type": "display_data"
    },
    {
     "data": {
      "application/vnd.jupyter.widget-view+json": {
       "model_id": "acc8c33d5ea24c669efaf237604168d8",
       "version_major": 2,
       "version_minor": 0
      },
      "text/plain": [
       "Retrieving MaterialsDoc documents:   0%|          | 0/1 [00:00<?, ?it/s]"
      ]
     },
     "metadata": {},
     "output_type": "display_data"
    },
    {
     "name": "stdout",
     "output_type": "stream",
     "text": [
      "SG 119\n"
     ]
    },
    {
     "data": {
      "application/vnd.jupyter.widget-view+json": {
       "model_id": "2a5eea674e9c4a44ac76ebae3a141e37",
       "version_major": 2,
       "version_minor": 0
      },
      "text/plain": [
       "Retrieving SummaryDoc documents:   0%|          | 0/359 [00:00<?, ?it/s]"
      ]
     },
     "metadata": {},
     "output_type": "display_data"
    },
    {
     "data": {
      "application/vnd.jupyter.widget-view+json": {
       "model_id": "1bc012888aef4cd786cc4555aadafbed",
       "version_major": 2,
       "version_minor": 0
      },
      "text/plain": [
       "Retrieving MaterialsDoc documents:   0%|          | 0/1 [00:00<?, ?it/s]"
      ]
     },
     "metadata": {},
     "output_type": "display_data"
    },
    {
     "name": "stdout",
     "output_type": "stream",
     "text": [
      "SG 120\n"
     ]
    },
    {
     "data": {
      "application/vnd.jupyter.widget-view+json": {
       "model_id": "4bfec648fcf24d8d9d21d4dc824898ad",
       "version_major": 2,
       "version_minor": 0
      },
      "text/plain": [
       "Retrieving SummaryDoc documents:   0%|          | 0/9 [00:00<?, ?it/s]"
      ]
     },
     "metadata": {},
     "output_type": "display_data"
    },
    {
     "data": {
      "application/vnd.jupyter.widget-view+json": {
       "model_id": "7ac356e540564283814fe45300dea9ad",
       "version_major": 2,
       "version_minor": 0
      },
      "text/plain": [
       "Retrieving MaterialsDoc documents:   0%|          | 0/1 [00:00<?, ?it/s]"
      ]
     },
     "metadata": {},
     "output_type": "display_data"
    },
    {
     "name": "stdout",
     "output_type": "stream",
     "text": [
      "SG 121\n"
     ]
    },
    {
     "data": {
      "application/vnd.jupyter.widget-view+json": {
       "model_id": "35e6e26290f54f598e928cf2fc853e49",
       "version_major": 2,
       "version_minor": 0
      },
      "text/plain": [
       "Retrieving SummaryDoc documents:   0%|          | 0/170 [00:00<?, ?it/s]"
      ]
     },
     "metadata": {},
     "output_type": "display_data"
    },
    {
     "data": {
      "application/vnd.jupyter.widget-view+json": {
       "model_id": "20781a3fd466432aa2cecaf8b994292b",
       "version_major": 2,
       "version_minor": 0
      },
      "text/plain": [
       "Retrieving MaterialsDoc documents:   0%|          | 0/1 [00:00<?, ?it/s]"
      ]
     },
     "metadata": {},
     "output_type": "display_data"
    },
    {
     "name": "stdout",
     "output_type": "stream",
     "text": [
      "SG 122\n"
     ]
    },
    {
     "data": {
      "application/vnd.jupyter.widget-view+json": {
       "model_id": "46dd3167ffca43539cda5a52bb4e65e3",
       "version_major": 2,
       "version_minor": 0
      },
      "text/plain": [
       "Retrieving SummaryDoc documents:   0%|          | 0/331 [00:00<?, ?it/s]"
      ]
     },
     "metadata": {},
     "output_type": "display_data"
    },
    {
     "data": {
      "application/vnd.jupyter.widget-view+json": {
       "model_id": "7e044062329445b5ae2c8126d6a05052",
       "version_major": 2,
       "version_minor": 0
      },
      "text/plain": [
       "Retrieving MaterialsDoc documents:   0%|          | 0/1 [00:00<?, ?it/s]"
      ]
     },
     "metadata": {},
     "output_type": "display_data"
    },
    {
     "name": "stdout",
     "output_type": "stream",
     "text": [
      "SG 123\n"
     ]
    },
    {
     "data": {
      "application/vnd.jupyter.widget-view+json": {
       "model_id": "a068ab2239834238a0dabe189728bd54",
       "version_major": 2,
       "version_minor": 0
      },
      "text/plain": [
       "Retrieving SummaryDoc documents:   0%|          | 0/3489 [00:00<?, ?it/s]"
      ]
     },
     "metadata": {},
     "output_type": "display_data"
    },
    {
     "data": {
      "application/vnd.jupyter.widget-view+json": {
       "model_id": "ffc3ad844b2a448a92fae916e8fec7ec",
       "version_major": 2,
       "version_minor": 0
      },
      "text/plain": [
       "Retrieving MaterialsDoc documents:   0%|          | 0/1 [00:00<?, ?it/s]"
      ]
     },
     "metadata": {},
     "output_type": "display_data"
    },
    {
     "name": "stdout",
     "output_type": "stream",
     "text": [
      "SG 124\n"
     ]
    },
    {
     "data": {
      "application/vnd.jupyter.widget-view+json": {
       "model_id": "1898c5ce2a864543beaf364b316c6a28",
       "version_major": 2,
       "version_minor": 0
      },
      "text/plain": [
       "Retrieving SummaryDoc documents:   0%|          | 0/5 [00:00<?, ?it/s]"
      ]
     },
     "metadata": {},
     "output_type": "display_data"
    },
    {
     "data": {
      "application/vnd.jupyter.widget-view+json": {
       "model_id": "c991249cc0774304a1f26a85e35eb177",
       "version_major": 2,
       "version_minor": 0
      },
      "text/plain": [
       "Retrieving MaterialsDoc documents:   0%|          | 0/1 [00:00<?, ?it/s]"
      ]
     },
     "metadata": {},
     "output_type": "display_data"
    },
    {
     "name": "stdout",
     "output_type": "stream",
     "text": [
      "SG 125\n"
     ]
    },
    {
     "data": {
      "application/vnd.jupyter.widget-view+json": {
       "model_id": "62c64bc435234c58853584b81efb6658",
       "version_major": 2,
       "version_minor": 0
      },
      "text/plain": [
       "Retrieving SummaryDoc documents:   0%|          | 0/18 [00:00<?, ?it/s]"
      ]
     },
     "metadata": {},
     "output_type": "display_data"
    },
    {
     "data": {
      "application/vnd.jupyter.widget-view+json": {
       "model_id": "927cc55bb7bb4fc28657190cec09f47b",
       "version_major": 2,
       "version_minor": 0
      },
      "text/plain": [
       "Retrieving MaterialsDoc documents:   0%|          | 0/1 [00:00<?, ?it/s]"
      ]
     },
     "metadata": {},
     "output_type": "display_data"
    },
    {
     "name": "stdout",
     "output_type": "stream",
     "text": [
      "SG 126\n"
     ]
    },
    {
     "data": {
      "application/vnd.jupyter.widget-view+json": {
       "model_id": "3e79ce976b824ef19b352b4f12434029",
       "version_major": 2,
       "version_minor": 0
      },
      "text/plain": [
       "Retrieving SummaryDoc documents:   0%|          | 0/6 [00:00<?, ?it/s]"
      ]
     },
     "metadata": {},
     "output_type": "display_data"
    },
    {
     "data": {
      "application/vnd.jupyter.widget-view+json": {
       "model_id": "dd54bddce0f349178a15bf9664f8c8d1",
       "version_major": 2,
       "version_minor": 0
      },
      "text/plain": [
       "Retrieving MaterialsDoc documents:   0%|          | 0/1 [00:00<?, ?it/s]"
      ]
     },
     "metadata": {},
     "output_type": "display_data"
    },
    {
     "name": "stdout",
     "output_type": "stream",
     "text": [
      "SG 127\n"
     ]
    },
    {
     "data": {
      "application/vnd.jupyter.widget-view+json": {
       "model_id": "22587e8c6e6441edaed00f174802d39c",
       "version_major": 2,
       "version_minor": 0
      },
      "text/plain": [
       "Retrieving SummaryDoc documents:   0%|          | 0/212 [00:00<?, ?it/s]"
      ]
     },
     "metadata": {},
     "output_type": "display_data"
    },
    {
     "data": {
      "application/vnd.jupyter.widget-view+json": {
       "model_id": "37aa7224d899467cbae500a65c24f4e0",
       "version_major": 2,
       "version_minor": 0
      },
      "text/plain": [
       "Retrieving MaterialsDoc documents:   0%|          | 0/1 [00:00<?, ?it/s]"
      ]
     },
     "metadata": {},
     "output_type": "display_data"
    },
    {
     "name": "stdout",
     "output_type": "stream",
     "text": [
      "SG 128\n"
     ]
    },
    {
     "data": {
      "application/vnd.jupyter.widget-view+json": {
       "model_id": "7f2e5307557147cb9b1316760d1b8c88",
       "version_major": 2,
       "version_minor": 0
      },
      "text/plain": [
       "Retrieving SummaryDoc documents:   0%|          | 0/40 [00:00<?, ?it/s]"
      ]
     },
     "metadata": {},
     "output_type": "display_data"
    },
    {
     "data": {
      "application/vnd.jupyter.widget-view+json": {
       "model_id": "e0602c053cae490a848e24a445568653",
       "version_major": 2,
       "version_minor": 0
      },
      "text/plain": [
       "Retrieving MaterialsDoc documents:   0%|          | 0/1 [00:00<?, ?it/s]"
      ]
     },
     "metadata": {},
     "output_type": "display_data"
    },
    {
     "name": "stdout",
     "output_type": "stream",
     "text": [
      "SG 129\n"
     ]
    },
    {
     "data": {
      "application/vnd.jupyter.widget-view+json": {
       "model_id": "516becbb30484fd5af16413ea25cfe37",
       "version_major": 2,
       "version_minor": 0
      },
      "text/plain": [
       "Retrieving SummaryDoc documents:   0%|          | 0/237 [00:00<?, ?it/s]"
      ]
     },
     "metadata": {},
     "output_type": "display_data"
    },
    {
     "data": {
      "application/vnd.jupyter.widget-view+json": {
       "model_id": "db2413717ff244e68a77ac9d0e28ccad",
       "version_major": 2,
       "version_minor": 0
      },
      "text/plain": [
       "Retrieving MaterialsDoc documents:   0%|          | 0/1 [00:00<?, ?it/s]"
      ]
     },
     "metadata": {},
     "output_type": "display_data"
    },
    {
     "name": "stdout",
     "output_type": "stream",
     "text": [
      "SG 130\n"
     ]
    },
    {
     "data": {
      "application/vnd.jupyter.widget-view+json": {
       "model_id": "6f3b989aa28a423aa2fb54b28780786a",
       "version_major": 2,
       "version_minor": 0
      },
      "text/plain": [
       "Retrieving SummaryDoc documents:   0%|          | 0/72 [00:00<?, ?it/s]"
      ]
     },
     "metadata": {},
     "output_type": "display_data"
    },
    {
     "data": {
      "application/vnd.jupyter.widget-view+json": {
       "model_id": "e412f56204fb448498d3033f45526b8c",
       "version_major": 2,
       "version_minor": 0
      },
      "text/plain": [
       "Retrieving MaterialsDoc documents:   0%|          | 0/1 [00:00<?, ?it/s]"
      ]
     },
     "metadata": {},
     "output_type": "display_data"
    },
    {
     "name": "stdout",
     "output_type": "stream",
     "text": [
      "SG 131\n"
     ]
    },
    {
     "data": {
      "application/vnd.jupyter.widget-view+json": {
       "model_id": "52b0fdf29b8349fc906e82a5e545dacc",
       "version_major": 2,
       "version_minor": 0
      },
      "text/plain": [
       "Retrieving SummaryDoc documents:   0%|          | 0/49 [00:00<?, ?it/s]"
      ]
     },
     "metadata": {},
     "output_type": "display_data"
    },
    {
     "data": {
      "application/vnd.jupyter.widget-view+json": {
       "model_id": "4cb46911149e40f2ac43df5c137ecccf",
       "version_major": 2,
       "version_minor": 0
      },
      "text/plain": [
       "Retrieving MaterialsDoc documents:   0%|          | 0/1 [00:00<?, ?it/s]"
      ]
     },
     "metadata": {},
     "output_type": "display_data"
    },
    {
     "name": "stdout",
     "output_type": "stream",
     "text": [
      "SG 132\n"
     ]
    },
    {
     "data": {
      "application/vnd.jupyter.widget-view+json": {
       "model_id": "65c34a4dbe364c1083d56d03f8441cff",
       "version_major": 2,
       "version_minor": 0
      },
      "text/plain": [
       "Retrieving SummaryDoc documents:   0%|          | 0/16 [00:00<?, ?it/s]"
      ]
     },
     "metadata": {},
     "output_type": "display_data"
    },
    {
     "data": {
      "application/vnd.jupyter.widget-view+json": {
       "model_id": "ae59af1763d04c5da75f3b89e09c1fa3",
       "version_major": 2,
       "version_minor": 0
      },
      "text/plain": [
       "Retrieving MaterialsDoc documents:   0%|          | 0/1 [00:00<?, ?it/s]"
      ]
     },
     "metadata": {},
     "output_type": "display_data"
    },
    {
     "name": "stdout",
     "output_type": "stream",
     "text": [
      "SG 133\n"
     ]
    },
    {
     "data": {
      "application/vnd.jupyter.widget-view+json": {
       "model_id": "8d875aa75b9b404aab7f414ac384b2da",
       "version_major": 2,
       "version_minor": 0
      },
      "text/plain": [
       "Retrieving SummaryDoc documents:   0%|          | 0/5 [00:00<?, ?it/s]"
      ]
     },
     "metadata": {},
     "output_type": "display_data"
    },
    {
     "data": {
      "application/vnd.jupyter.widget-view+json": {
       "model_id": "b1950985eb8543b1b2cf863b82b16d95",
       "version_major": 2,
       "version_minor": 0
      },
      "text/plain": [
       "Retrieving MaterialsDoc documents:   0%|          | 0/1 [00:00<?, ?it/s]"
      ]
     },
     "metadata": {},
     "output_type": "display_data"
    },
    {
     "name": "stdout",
     "output_type": "stream",
     "text": [
      "SG 134\n"
     ]
    },
    {
     "data": {
      "application/vnd.jupyter.widget-view+json": {
       "model_id": "ba44d7b800294532b207c154caa5fa67",
       "version_major": 2,
       "version_minor": 0
      },
      "text/plain": [
       "Retrieving SummaryDoc documents:   0%|          | 0/7 [00:00<?, ?it/s]"
      ]
     },
     "metadata": {},
     "output_type": "display_data"
    },
    {
     "data": {
      "application/vnd.jupyter.widget-view+json": {
       "model_id": "2a506f3b99414f4cb1a0a9601b7466cb",
       "version_major": 2,
       "version_minor": 0
      },
      "text/plain": [
       "Retrieving MaterialsDoc documents:   0%|          | 0/1 [00:00<?, ?it/s]"
      ]
     },
     "metadata": {},
     "output_type": "display_data"
    },
    {
     "name": "stdout",
     "output_type": "stream",
     "text": [
      "SG 135\n"
     ]
    },
    {
     "data": {
      "application/vnd.jupyter.widget-view+json": {
       "model_id": "2c01c75c74d84eedaf42397b395e1e49",
       "version_major": 2,
       "version_minor": 0
      },
      "text/plain": [
       "Retrieving SummaryDoc documents:   0%|          | 0/21 [00:00<?, ?it/s]"
      ]
     },
     "metadata": {},
     "output_type": "display_data"
    },
    {
     "data": {
      "application/vnd.jupyter.widget-view+json": {
       "model_id": "738453961dca40118f633e714de166d4",
       "version_major": 2,
       "version_minor": 0
      },
      "text/plain": [
       "Retrieving MaterialsDoc documents:   0%|          | 0/1 [00:00<?, ?it/s]"
      ]
     },
     "metadata": {},
     "output_type": "display_data"
    },
    {
     "name": "stdout",
     "output_type": "stream",
     "text": [
      "SG 136\n"
     ]
    },
    {
     "data": {
      "application/vnd.jupyter.widget-view+json": {
       "model_id": "879d66ddfcf04c5ba8ef89fd7ae38520",
       "version_major": 2,
       "version_minor": 0
      },
      "text/plain": [
       "Retrieving SummaryDoc documents:   0%|          | 0/228 [00:00<?, ?it/s]"
      ]
     },
     "metadata": {},
     "output_type": "display_data"
    },
    {
     "data": {
      "application/vnd.jupyter.widget-view+json": {
       "model_id": "86ca4bc862c147399acf50ce51cdeead",
       "version_major": 2,
       "version_minor": 0
      },
      "text/plain": [
       "Retrieving MaterialsDoc documents:   0%|          | 0/1 [00:00<?, ?it/s]"
      ]
     },
     "metadata": {},
     "output_type": "display_data"
    },
    {
     "name": "stdout",
     "output_type": "stream",
     "text": [
      "SG 137\n"
     ]
    },
    {
     "data": {
      "application/vnd.jupyter.widget-view+json": {
       "model_id": "074eb1a062c147fabf2447bc85fae3f8",
       "version_major": 2,
       "version_minor": 0
      },
      "text/plain": [
       "Retrieving SummaryDoc documents:   0%|          | 0/86 [00:00<?, ?it/s]"
      ]
     },
     "metadata": {},
     "output_type": "display_data"
    },
    {
     "data": {
      "application/vnd.jupyter.widget-view+json": {
       "model_id": "af12d99ffb5b45a4b6aea7fbf5c50638",
       "version_major": 2,
       "version_minor": 0
      },
      "text/plain": [
       "Retrieving MaterialsDoc documents:   0%|          | 0/1 [00:00<?, ?it/s]"
      ]
     },
     "metadata": {},
     "output_type": "display_data"
    },
    {
     "name": "stdout",
     "output_type": "stream",
     "text": [
      "SG 138\n"
     ]
    },
    {
     "data": {
      "application/vnd.jupyter.widget-view+json": {
       "model_id": "7cce83296d34432f821f609397170310",
       "version_major": 2,
       "version_minor": 0
      },
      "text/plain": [
       "Retrieving SummaryDoc documents:   0%|          | 0/6 [00:00<?, ?it/s]"
      ]
     },
     "metadata": {},
     "output_type": "display_data"
    },
    {
     "data": {
      "application/vnd.jupyter.widget-view+json": {
       "model_id": "3475556bd73e4869873734a4f3c2f098",
       "version_major": 2,
       "version_minor": 0
      },
      "text/plain": [
       "Retrieving MaterialsDoc documents:   0%|          | 0/1 [00:00<?, ?it/s]"
      ]
     },
     "metadata": {},
     "output_type": "display_data"
    },
    {
     "name": "stdout",
     "output_type": "stream",
     "text": [
      "SG 139\n"
     ]
    },
    {
     "data": {
      "application/vnd.jupyter.widget-view+json": {
       "model_id": "541c44fe82204bce8e05590664bc71df",
       "version_major": 2,
       "version_minor": 0
      },
      "text/plain": [
       "Retrieving SummaryDoc documents:   0%|          | 0/1823 [00:00<?, ?it/s]"
      ]
     },
     "metadata": {},
     "output_type": "display_data"
    },
    {
     "data": {
      "application/vnd.jupyter.widget-view+json": {
       "model_id": "1276c27ad14a4df08aa50b5c58c7b393",
       "version_major": 2,
       "version_minor": 0
      },
      "text/plain": [
       "Retrieving MaterialsDoc documents:   0%|          | 0/1 [00:00<?, ?it/s]"
      ]
     },
     "metadata": {},
     "output_type": "display_data"
    },
    {
     "name": "stdout",
     "output_type": "stream",
     "text": [
      "SG 140\n"
     ]
    },
    {
     "data": {
      "application/vnd.jupyter.widget-view+json": {
       "model_id": "f48716f76bdd4530ab799902b490555d",
       "version_major": 2,
       "version_minor": 0
      },
      "text/plain": [
       "Retrieving SummaryDoc documents:   0%|          | 0/224 [00:00<?, ?it/s]"
      ]
     },
     "metadata": {},
     "output_type": "display_data"
    },
    {
     "data": {
      "application/vnd.jupyter.widget-view+json": {
       "model_id": "4265e3eab44844b89b455978e3072f77",
       "version_major": 2,
       "version_minor": 0
      },
      "text/plain": [
       "Retrieving MaterialsDoc documents:   0%|          | 0/1 [00:00<?, ?it/s]"
      ]
     },
     "metadata": {},
     "output_type": "display_data"
    },
    {
     "name": "stdout",
     "output_type": "stream",
     "text": [
      "SG 141\n"
     ]
    },
    {
     "data": {
      "application/vnd.jupyter.widget-view+json": {
       "model_id": "20b93d9dcb834c2284852a45cbce49ce",
       "version_major": 2,
       "version_minor": 0
      },
      "text/plain": [
       "Retrieving SummaryDoc documents:   0%|          | 0/456 [00:00<?, ?it/s]"
      ]
     },
     "metadata": {},
     "output_type": "display_data"
    },
    {
     "data": {
      "application/vnd.jupyter.widget-view+json": {
       "model_id": "5c28979f20b1409c8b95bf916eadc4b3",
       "version_major": 2,
       "version_minor": 0
      },
      "text/plain": [
       "Retrieving MaterialsDoc documents:   0%|          | 0/1 [00:00<?, ?it/s]"
      ]
     },
     "metadata": {},
     "output_type": "display_data"
    },
    {
     "name": "stdout",
     "output_type": "stream",
     "text": [
      "SG 142\n"
     ]
    },
    {
     "data": {
      "application/vnd.jupyter.widget-view+json": {
       "model_id": "05caf10a3b0e466189e6c10334c5004a",
       "version_major": 2,
       "version_minor": 0
      },
      "text/plain": [
       "Retrieving SummaryDoc documents:   0%|          | 0/63 [00:00<?, ?it/s]"
      ]
     },
     "metadata": {},
     "output_type": "display_data"
    },
    {
     "data": {
      "application/vnd.jupyter.widget-view+json": {
       "model_id": "c7f342fd600845d490e7f557098d6a8d",
       "version_major": 2,
       "version_minor": 0
      },
      "text/plain": [
       "Retrieving MaterialsDoc documents:   0%|          | 0/1 [00:00<?, ?it/s]"
      ]
     },
     "metadata": {},
     "output_type": "display_data"
    },
    {
     "name": "stdout",
     "output_type": "stream",
     "text": [
      "SG 143\n"
     ]
    },
    {
     "data": {
      "application/vnd.jupyter.widget-view+json": {
       "model_id": "9c7ecb871f95401fafce2a580ff17def",
       "version_major": 2,
       "version_minor": 0
      },
      "text/plain": [
       "Retrieving SummaryDoc documents:   0%|          | 0/310 [00:00<?, ?it/s]"
      ]
     },
     "metadata": {},
     "output_type": "display_data"
    },
    {
     "data": {
      "application/vnd.jupyter.widget-view+json": {
       "model_id": "00d4638408de4f78ad1cb987a1d47abc",
       "version_major": 2,
       "version_minor": 0
      },
      "text/plain": [
       "Retrieving MaterialsDoc documents:   0%|          | 0/1 [00:00<?, ?it/s]"
      ]
     },
     "metadata": {},
     "output_type": "display_data"
    },
    {
     "name": "stdout",
     "output_type": "stream",
     "text": [
      "SG 144\n"
     ]
    },
    {
     "data": {
      "application/vnd.jupyter.widget-view+json": {
       "model_id": "830ad31f2dc5497ca2a661d939a482f7",
       "version_major": 2,
       "version_minor": 0
      },
      "text/plain": [
       "Retrieving SummaryDoc documents:   0%|          | 0/31 [00:00<?, ?it/s]"
      ]
     },
     "metadata": {},
     "output_type": "display_data"
    },
    {
     "data": {
      "application/vnd.jupyter.widget-view+json": {
       "model_id": "29d72cf99a254d79bd03522aef50cc92",
       "version_major": 2,
       "version_minor": 0
      },
      "text/plain": [
       "Retrieving MaterialsDoc documents:   0%|          | 0/1 [00:00<?, ?it/s]"
      ]
     },
     "metadata": {},
     "output_type": "display_data"
    },
    {
     "name": "stdout",
     "output_type": "stream",
     "text": [
      "SG 145\n"
     ]
    },
    {
     "data": {
      "application/vnd.jupyter.widget-view+json": {
       "model_id": "20e72da311934a1fb2da048f53cb1ca5",
       "version_major": 2,
       "version_minor": 0
      },
      "text/plain": [
       "Retrieving SummaryDoc documents:   0%|          | 0/48 [00:00<?, ?it/s]"
      ]
     },
     "metadata": {},
     "output_type": "display_data"
    },
    {
     "data": {
      "application/vnd.jupyter.widget-view+json": {
       "model_id": "f7e31e2bb89e41bbb5763af0e74170c7",
       "version_major": 2,
       "version_minor": 0
      },
      "text/plain": [
       "Retrieving MaterialsDoc documents:   0%|          | 0/1 [00:00<?, ?it/s]"
      ]
     },
     "metadata": {},
     "output_type": "display_data"
    },
    {
     "name": "stdout",
     "output_type": "stream",
     "text": [
      "SG 146\n"
     ]
    },
    {
     "data": {
      "application/vnd.jupyter.widget-view+json": {
       "model_id": "3edefe5fe49f4706a10f75eb5033a500",
       "version_major": 2,
       "version_minor": 0
      },
      "text/plain": [
       "Retrieving SummaryDoc documents:   0%|          | 0/911 [00:00<?, ?it/s]"
      ]
     },
     "metadata": {},
     "output_type": "display_data"
    },
    {
     "data": {
      "application/vnd.jupyter.widget-view+json": {
       "model_id": "10340d6c654344769055262ed9e219cd",
       "version_major": 2,
       "version_minor": 0
      },
      "text/plain": [
       "Retrieving MaterialsDoc documents:   0%|          | 0/1 [00:00<?, ?it/s]"
      ]
     },
     "metadata": {},
     "output_type": "display_data"
    },
    {
     "name": "stdout",
     "output_type": "stream",
     "text": [
      "SG 147\n"
     ]
    },
    {
     "data": {
      "application/vnd.jupyter.widget-view+json": {
       "model_id": "78ae06e34d5e41b2bb271e9666085453",
       "version_major": 2,
       "version_minor": 0
      },
      "text/plain": [
       "Retrieving SummaryDoc documents:   0%|          | 0/145 [00:00<?, ?it/s]"
      ]
     },
     "metadata": {},
     "output_type": "display_data"
    },
    {
     "data": {
      "application/vnd.jupyter.widget-view+json": {
       "model_id": "7b9904c8339243b4b1c8541535362686",
       "version_major": 2,
       "version_minor": 0
      },
      "text/plain": [
       "Retrieving MaterialsDoc documents:   0%|          | 0/1 [00:00<?, ?it/s]"
      ]
     },
     "metadata": {},
     "output_type": "display_data"
    },
    {
     "name": "stdout",
     "output_type": "stream",
     "text": [
      "SG 148\n"
     ]
    },
    {
     "data": {
      "application/vnd.jupyter.widget-view+json": {
       "model_id": "619a6aa36196492b847424a6db9e6c12",
       "version_major": 2,
       "version_minor": 0
      },
      "text/plain": [
       "Retrieving SummaryDoc documents:   0%|          | 0/663 [00:00<?, ?it/s]"
      ]
     },
     "metadata": {},
     "output_type": "display_data"
    },
    {
     "data": {
      "application/vnd.jupyter.widget-view+json": {
       "model_id": "ef34925436394ba4927590a051aaed40",
       "version_major": 2,
       "version_minor": 0
      },
      "text/plain": [
       "Retrieving MaterialsDoc documents:   0%|          | 0/1 [00:00<?, ?it/s]"
      ]
     },
     "metadata": {},
     "output_type": "display_data"
    },
    {
     "name": "stdout",
     "output_type": "stream",
     "text": [
      "SG 149\n"
     ]
    },
    {
     "data": {
      "application/vnd.jupyter.widget-view+json": {
       "model_id": "58189398e4c94a0bac5514adaa972718",
       "version_major": 2,
       "version_minor": 0
      },
      "text/plain": [
       "Retrieving SummaryDoc documents:   0%|          | 0/42 [00:00<?, ?it/s]"
      ]
     },
     "metadata": {},
     "output_type": "display_data"
    },
    {
     "data": {
      "application/vnd.jupyter.widget-view+json": {
       "model_id": "ec27414c6e2d4cb5b3295389bcff93af",
       "version_major": 2,
       "version_minor": 0
      },
      "text/plain": [
       "Retrieving MaterialsDoc documents:   0%|          | 0/1 [00:00<?, ?it/s]"
      ]
     },
     "metadata": {},
     "output_type": "display_data"
    },
    {
     "name": "stdout",
     "output_type": "stream",
     "text": [
      "SG 150\n"
     ]
    },
    {
     "data": {
      "application/vnd.jupyter.widget-view+json": {
       "model_id": "176ebeb1b1804b438939b790d8fdcdc2",
       "version_major": 2,
       "version_minor": 0
      },
      "text/plain": [
       "Retrieving SummaryDoc documents:   0%|          | 0/120 [00:00<?, ?it/s]"
      ]
     },
     "metadata": {},
     "output_type": "display_data"
    },
    {
     "data": {
      "application/vnd.jupyter.widget-view+json": {
       "model_id": "3d87c4fdc8e3465eb6e8cb2160c1645d",
       "version_major": 2,
       "version_minor": 0
      },
      "text/plain": [
       "Retrieving MaterialsDoc documents:   0%|          | 0/1 [00:00<?, ?it/s]"
      ]
     },
     "metadata": {},
     "output_type": "display_data"
    },
    {
     "name": "stdout",
     "output_type": "stream",
     "text": [
      "SG 151\n"
     ]
    },
    {
     "data": {
      "application/vnd.jupyter.widget-view+json": {
       "model_id": "a2a1b557830545609254a8d16c92ae2f",
       "version_major": 2,
       "version_minor": 0
      },
      "text/plain": [
       "Retrieving SummaryDoc documents:   0%|          | 0/5 [00:00<?, ?it/s]"
      ]
     },
     "metadata": {},
     "output_type": "display_data"
    },
    {
     "data": {
      "application/vnd.jupyter.widget-view+json": {
       "model_id": "e86f1c67e02f46ca8866d94bc8e5eccd",
       "version_major": 2,
       "version_minor": 0
      },
      "text/plain": [
       "Retrieving MaterialsDoc documents:   0%|          | 0/1 [00:00<?, ?it/s]"
      ]
     },
     "metadata": {},
     "output_type": "display_data"
    },
    {
     "name": "stdout",
     "output_type": "stream",
     "text": [
      "SG 152\n"
     ]
    },
    {
     "data": {
      "application/vnd.jupyter.widget-view+json": {
       "model_id": "70913587758c4d6196de4006c911f0ce",
       "version_major": 2,
       "version_minor": 0
      },
      "text/plain": [
       "Retrieving SummaryDoc documents:   0%|          | 0/61 [00:00<?, ?it/s]"
      ]
     },
     "metadata": {},
     "output_type": "display_data"
    },
    {
     "data": {
      "application/vnd.jupyter.widget-view+json": {
       "model_id": "903d8ac544cc4d81af3222438783f789",
       "version_major": 2,
       "version_minor": 0
      },
      "text/plain": [
       "Retrieving MaterialsDoc documents:   0%|          | 0/1 [00:00<?, ?it/s]"
      ]
     },
     "metadata": {},
     "output_type": "display_data"
    },
    {
     "name": "stdout",
     "output_type": "stream",
     "text": [
      "SG 153\n"
     ]
    },
    {
     "data": {
      "application/vnd.jupyter.widget-view+json": {
       "model_id": "7d22c5e12e08438d9b511e8dd6075ae9",
       "version_major": 2,
       "version_minor": 0
      },
      "text/plain": [
       "Retrieving SummaryDoc documents:   0%|          | 0/7 [00:00<?, ?it/s]"
      ]
     },
     "metadata": {},
     "output_type": "display_data"
    },
    {
     "data": {
      "application/vnd.jupyter.widget-view+json": {
       "model_id": "38a4e696f021459eb4da0b7719ebb431",
       "version_major": 2,
       "version_minor": 0
      },
      "text/plain": [
       "Retrieving MaterialsDoc documents:   0%|          | 0/1 [00:00<?, ?it/s]"
      ]
     },
     "metadata": {},
     "output_type": "display_data"
    },
    {
     "name": "stdout",
     "output_type": "stream",
     "text": [
      "SG 154\n"
     ]
    },
    {
     "data": {
      "application/vnd.jupyter.widget-view+json": {
       "model_id": "666f6cb2761d490390e155b229e60107",
       "version_major": 2,
       "version_minor": 0
      },
      "text/plain": [
       "Retrieving SummaryDoc documents:   0%|          | 0/14 [00:00<?, ?it/s]"
      ]
     },
     "metadata": {},
     "output_type": "display_data"
    },
    {
     "data": {
      "application/vnd.jupyter.widget-view+json": {
       "model_id": "4536edec91a444baa98d2cbe768b291b",
       "version_major": 2,
       "version_minor": 0
      },
      "text/plain": [
       "Retrieving MaterialsDoc documents:   0%|          | 0/1 [00:00<?, ?it/s]"
      ]
     },
     "metadata": {},
     "output_type": "display_data"
    },
    {
     "name": "stdout",
     "output_type": "stream",
     "text": [
      "SG 155\n"
     ]
    },
    {
     "data": {
      "application/vnd.jupyter.widget-view+json": {
       "model_id": "84624a5f41d74dfca3884c67d335a496",
       "version_major": 2,
       "version_minor": 0
      },
      "text/plain": [
       "Retrieving SummaryDoc documents:   0%|          | 0/184 [00:00<?, ?it/s]"
      ]
     },
     "metadata": {},
     "output_type": "display_data"
    },
    {
     "data": {
      "application/vnd.jupyter.widget-view+json": {
       "model_id": "f4cecab6f4354bb18abea1607cb7c85c",
       "version_major": 2,
       "version_minor": 0
      },
      "text/plain": [
       "Retrieving MaterialsDoc documents:   0%|          | 0/1 [00:00<?, ?it/s]"
      ]
     },
     "metadata": {},
     "output_type": "display_data"
    },
    {
     "name": "stdout",
     "output_type": "stream",
     "text": [
      "SG 156\n"
     ]
    },
    {
     "data": {
      "application/vnd.jupyter.widget-view+json": {
       "model_id": "b3c99fa8c6084e269761d6e5a3a4784e",
       "version_major": 2,
       "version_minor": 0
      },
      "text/plain": [
       "Retrieving SummaryDoc documents:   0%|          | 0/1500 [00:00<?, ?it/s]"
      ]
     },
     "metadata": {},
     "output_type": "display_data"
    },
    {
     "data": {
      "application/vnd.jupyter.widget-view+json": {
       "model_id": "f1d8dc4ff52e45dab305b9801d57b7d9",
       "version_major": 2,
       "version_minor": 0
      },
      "text/plain": [
       "Retrieving MaterialsDoc documents:   0%|          | 0/1 [00:00<?, ?it/s]"
      ]
     },
     "metadata": {},
     "output_type": "display_data"
    },
    {
     "name": "stdout",
     "output_type": "stream",
     "text": [
      "SG 157\n"
     ]
    },
    {
     "data": {
      "application/vnd.jupyter.widget-view+json": {
       "model_id": "8046f49679554f76b6ec62f904dd9148",
       "version_major": 2,
       "version_minor": 0
      },
      "text/plain": [
       "Retrieving SummaryDoc documents:   0%|          | 0/23 [00:00<?, ?it/s]"
      ]
     },
     "metadata": {},
     "output_type": "display_data"
    },
    {
     "data": {
      "application/vnd.jupyter.widget-view+json": {
       "model_id": "96e4ed26fd7449ce9e5a1d2019a6eb80",
       "version_major": 2,
       "version_minor": 0
      },
      "text/plain": [
       "Retrieving MaterialsDoc documents:   0%|          | 0/1 [00:00<?, ?it/s]"
      ]
     },
     "metadata": {},
     "output_type": "display_data"
    },
    {
     "name": "stdout",
     "output_type": "stream",
     "text": [
      "SG 158\n"
     ]
    },
    {
     "data": {
      "application/vnd.jupyter.widget-view+json": {
       "model_id": "c1eeaf5de25d4e74aa323acec5a392e4",
       "version_major": 2,
       "version_minor": 0
      },
      "text/plain": [
       "Retrieving SummaryDoc documents:   0%|          | 0/89 [00:00<?, ?it/s]"
      ]
     },
     "metadata": {},
     "output_type": "display_data"
    },
    {
     "data": {
      "application/vnd.jupyter.widget-view+json": {
       "model_id": "93eea8843c264e55ba079dc18f3e1d91",
       "version_major": 2,
       "version_minor": 0
      },
      "text/plain": [
       "Retrieving MaterialsDoc documents:   0%|          | 0/1 [00:00<?, ?it/s]"
      ]
     },
     "metadata": {},
     "output_type": "display_data"
    },
    {
     "name": "stdout",
     "output_type": "stream",
     "text": [
      "SG 159\n"
     ]
    },
    {
     "data": {
      "application/vnd.jupyter.widget-view+json": {
       "model_id": "20ee8ec8b1ee4d53956c7d2d1f6141a1",
       "version_major": 2,
       "version_minor": 0
      },
      "text/plain": [
       "Retrieving SummaryDoc documents:   0%|          | 0/60 [00:00<?, ?it/s]"
      ]
     },
     "metadata": {},
     "output_type": "display_data"
    },
    {
     "data": {
      "application/vnd.jupyter.widget-view+json": {
       "model_id": "f1e51f71d1e544699663e375aa714f68",
       "version_major": 2,
       "version_minor": 0
      },
      "text/plain": [
       "Retrieving MaterialsDoc documents:   0%|          | 0/1 [00:00<?, ?it/s]"
      ]
     },
     "metadata": {},
     "output_type": "display_data"
    },
    {
     "name": "stdout",
     "output_type": "stream",
     "text": [
      "SG 160\n"
     ]
    },
    {
     "data": {
      "application/vnd.jupyter.widget-view+json": {
       "model_id": "4a78b38633dc4ebe8acfa307316b44dd",
       "version_major": 2,
       "version_minor": 0
      },
      "text/plain": [
       "Retrieving SummaryDoc documents:   0%|          | 0/1222 [00:00<?, ?it/s]"
      ]
     },
     "metadata": {},
     "output_type": "display_data"
    },
    {
     "data": {
      "application/vnd.jupyter.widget-view+json": {
       "model_id": "1cbb16e69b514642a7c0160cc2c0e58c",
       "version_major": 2,
       "version_minor": 0
      },
      "text/plain": [
       "Retrieving MaterialsDoc documents:   0%|          | 0/1 [00:00<?, ?it/s]"
      ]
     },
     "metadata": {},
     "output_type": "display_data"
    },
    {
     "name": "stdout",
     "output_type": "stream",
     "text": [
      "SG 161\n"
     ]
    },
    {
     "data": {
      "application/vnd.jupyter.widget-view+json": {
       "model_id": "37dd476164bc4e6e8540b0f54501f7da",
       "version_major": 2,
       "version_minor": 0
      },
      "text/plain": [
       "Retrieving SummaryDoc documents:   0%|          | 0/278 [00:00<?, ?it/s]"
      ]
     },
     "metadata": {},
     "output_type": "display_data"
    },
    {
     "data": {
      "application/vnd.jupyter.widget-view+json": {
       "model_id": "a8428926e6af40359a0b145c85415e87",
       "version_major": 2,
       "version_minor": 0
      },
      "text/plain": [
       "Retrieving MaterialsDoc documents:   0%|          | 0/1 [00:00<?, ?it/s]"
      ]
     },
     "metadata": {},
     "output_type": "display_data"
    },
    {
     "name": "stdout",
     "output_type": "stream",
     "text": [
      "SG 162\n"
     ]
    },
    {
     "data": {
      "application/vnd.jupyter.widget-view+json": {
       "model_id": "86b03fdf26b74358b63acbc97d66fe85",
       "version_major": 2,
       "version_minor": 0
      },
      "text/plain": [
       "Retrieving SummaryDoc documents:   0%|          | 0/124 [00:00<?, ?it/s]"
      ]
     },
     "metadata": {},
     "output_type": "display_data"
    },
    {
     "data": {
      "application/vnd.jupyter.widget-view+json": {
       "model_id": "97bed5c8bb4042558a98d49a62830315",
       "version_major": 2,
       "version_minor": 0
      },
      "text/plain": [
       "Retrieving MaterialsDoc documents:   0%|          | 0/1 [00:00<?, ?it/s]"
      ]
     },
     "metadata": {},
     "output_type": "display_data"
    },
    {
     "name": "stdout",
     "output_type": "stream",
     "text": [
      "SG 163\n"
     ]
    },
    {
     "data": {
      "application/vnd.jupyter.widget-view+json": {
       "model_id": "85d2128338c543d2a79a124b3241aac7",
       "version_major": 2,
       "version_minor": 0
      },
      "text/plain": [
       "Retrieving SummaryDoc documents:   0%|          | 0/91 [00:00<?, ?it/s]"
      ]
     },
     "metadata": {},
     "output_type": "display_data"
    },
    {
     "data": {
      "application/vnd.jupyter.widget-view+json": {
       "model_id": "01d5032a3bcd4c15ba428317716b7547",
       "version_major": 2,
       "version_minor": 0
      },
      "text/plain": [
       "Retrieving MaterialsDoc documents:   0%|          | 0/1 [00:00<?, ?it/s]"
      ]
     },
     "metadata": {},
     "output_type": "display_data"
    },
    {
     "name": "stdout",
     "output_type": "stream",
     "text": [
      "SG 164\n"
     ]
    },
    {
     "data": {
      "application/vnd.jupyter.widget-view+json": {
       "model_id": "5b56882b338b4422925cd9aed26f5634",
       "version_major": 2,
       "version_minor": 0
      },
      "text/plain": [
       "Retrieving SummaryDoc documents:   0%|          | 0/890 [00:00<?, ?it/s]"
      ]
     },
     "metadata": {},
     "output_type": "display_data"
    },
    {
     "data": {
      "application/vnd.jupyter.widget-view+json": {
       "model_id": "dc37e990c6cc4057a8909c2398c79f02",
       "version_major": 2,
       "version_minor": 0
      },
      "text/plain": [
       "Retrieving MaterialsDoc documents:   0%|          | 0/1 [00:00<?, ?it/s]"
      ]
     },
     "metadata": {},
     "output_type": "display_data"
    },
    {
     "name": "stdout",
     "output_type": "stream",
     "text": [
      "SG 165\n"
     ]
    },
    {
     "data": {
      "application/vnd.jupyter.widget-view+json": {
       "model_id": "b85f032cdf814073b50e2042f57c8b01",
       "version_major": 2,
       "version_minor": 0
      },
      "text/plain": [
       "Retrieving SummaryDoc documents:   0%|          | 0/65 [00:00<?, ?it/s]"
      ]
     },
     "metadata": {},
     "output_type": "display_data"
    },
    {
     "data": {
      "application/vnd.jupyter.widget-view+json": {
       "model_id": "494e714dbf204afebfbcc00357631aaf",
       "version_major": 2,
       "version_minor": 0
      },
      "text/plain": [
       "Retrieving MaterialsDoc documents:   0%|          | 0/1 [00:00<?, ?it/s]"
      ]
     },
     "metadata": {},
     "output_type": "display_data"
    },
    {
     "name": "stdout",
     "output_type": "stream",
     "text": [
      "SG 166\n"
     ]
    },
    {
     "data": {
      "application/vnd.jupyter.widget-view+json": {
       "model_id": "cae0947086e84c4989281688c01ff509",
       "version_major": 2,
       "version_minor": 0
      },
      "text/plain": [
       "Retrieving SummaryDoc documents:   0%|          | 0/1875 [00:00<?, ?it/s]"
      ]
     },
     "metadata": {},
     "output_type": "display_data"
    },
    {
     "data": {
      "application/vnd.jupyter.widget-view+json": {
       "model_id": "7c25b522681d473e80698c13205a759f",
       "version_major": 2,
       "version_minor": 0
      },
      "text/plain": [
       "Retrieving MaterialsDoc documents:   0%|          | 0/1 [00:00<?, ?it/s]"
      ]
     },
     "metadata": {},
     "output_type": "display_data"
    },
    {
     "name": "stdout",
     "output_type": "stream",
     "text": [
      "SG 167\n"
     ]
    },
    {
     "data": {
      "application/vnd.jupyter.widget-view+json": {
       "model_id": "e33143f531614023b753067e3a49833d",
       "version_major": 2,
       "version_minor": 0
      },
      "text/plain": [
       "Retrieving SummaryDoc documents:   0%|          | 0/245 [00:00<?, ?it/s]"
      ]
     },
     "metadata": {},
     "output_type": "display_data"
    },
    {
     "data": {
      "application/vnd.jupyter.widget-view+json": {
       "model_id": "0531d941bc6c4e72a383f2c3fd706c35",
       "version_major": 2,
       "version_minor": 0
      },
      "text/plain": [
       "Retrieving MaterialsDoc documents:   0%|          | 0/1 [00:00<?, ?it/s]"
      ]
     },
     "metadata": {},
     "output_type": "display_data"
    },
    {
     "name": "stdout",
     "output_type": "stream",
     "text": [
      "SG 168\n"
     ]
    },
    {
     "data": {
      "application/vnd.jupyter.widget-view+json": {
       "model_id": "05aee40358e24422be5c38c823ad4b49",
       "version_major": 2,
       "version_minor": 0
      },
      "text/plain": [
       "Retrieving SummaryDoc documents: 0it [00:00, ?it/s]"
      ]
     },
     "metadata": {},
     "output_type": "display_data"
    },
    {
     "name": "stdout",
     "output_type": "stream",
     "text": [
      "SG 168: no material found.\n",
      "No material found\n",
      "SG 169\n"
     ]
    },
    {
     "data": {
      "application/vnd.jupyter.widget-view+json": {
       "model_id": "70b4a3bde8004db0a14158197bbf5c7f",
       "version_major": 2,
       "version_minor": 0
      },
      "text/plain": [
       "Retrieving SummaryDoc documents:   0%|          | 0/24 [00:00<?, ?it/s]"
      ]
     },
     "metadata": {},
     "output_type": "display_data"
    },
    {
     "data": {
      "application/vnd.jupyter.widget-view+json": {
       "model_id": "554d5cfeb08645c38dcedb616c217e01",
       "version_major": 2,
       "version_minor": 0
      },
      "text/plain": [
       "Retrieving MaterialsDoc documents:   0%|          | 0/1 [00:00<?, ?it/s]"
      ]
     },
     "metadata": {},
     "output_type": "display_data"
    },
    {
     "name": "stdout",
     "output_type": "stream",
     "text": [
      "SG 170\n"
     ]
    },
    {
     "data": {
      "application/vnd.jupyter.widget-view+json": {
       "model_id": "68d0cc9c09a6432ab5ae4c9c85ab75ea",
       "version_major": 2,
       "version_minor": 0
      },
      "text/plain": [
       "Retrieving SummaryDoc documents:   0%|          | 0/10 [00:00<?, ?it/s]"
      ]
     },
     "metadata": {},
     "output_type": "display_data"
    },
    {
     "data": {
      "application/vnd.jupyter.widget-view+json": {
       "model_id": "819cb6b2e08d4c0b8162e7541c3fa6c8",
       "version_major": 2,
       "version_minor": 0
      },
      "text/plain": [
       "Retrieving MaterialsDoc documents:   0%|          | 0/1 [00:00<?, ?it/s]"
      ]
     },
     "metadata": {},
     "output_type": "display_data"
    },
    {
     "name": "stdout",
     "output_type": "stream",
     "text": [
      "SG 171\n"
     ]
    },
    {
     "data": {
      "application/vnd.jupyter.widget-view+json": {
       "model_id": "de46bf23d2544f64aee21679d00c2c39",
       "version_major": 2,
       "version_minor": 0
      },
      "text/plain": [
       "Retrieving SummaryDoc documents:   0%|          | 0/3 [00:00<?, ?it/s]"
      ]
     },
     "metadata": {},
     "output_type": "display_data"
    },
    {
     "data": {
      "application/vnd.jupyter.widget-view+json": {
       "model_id": "cbdca6df495a4bf4875afceca8170cf1",
       "version_major": 2,
       "version_minor": 0
      },
      "text/plain": [
       "Retrieving MaterialsDoc documents:   0%|          | 0/1 [00:00<?, ?it/s]"
      ]
     },
     "metadata": {},
     "output_type": "display_data"
    },
    {
     "name": "stdout",
     "output_type": "stream",
     "text": [
      "SG 172\n"
     ]
    },
    {
     "data": {
      "application/vnd.jupyter.widget-view+json": {
       "model_id": "0cbf48807c66463fb0498e4be3bd0c24",
       "version_major": 2,
       "version_minor": 0
      },
      "text/plain": [
       "Retrieving SummaryDoc documents:   0%|          | 0/1 [00:00<?, ?it/s]"
      ]
     },
     "metadata": {},
     "output_type": "display_data"
    },
    {
     "data": {
      "application/vnd.jupyter.widget-view+json": {
       "model_id": "8f75e13d04b44db8909da68437bb38ba",
       "version_major": 2,
       "version_minor": 0
      },
      "text/plain": [
       "Retrieving MaterialsDoc documents:   0%|          | 0/1 [00:00<?, ?it/s]"
      ]
     },
     "metadata": {},
     "output_type": "display_data"
    },
    {
     "name": "stdout",
     "output_type": "stream",
     "text": [
      "SG 173\n"
     ]
    },
    {
     "data": {
      "application/vnd.jupyter.widget-view+json": {
       "model_id": "6e4217ee57804d9db26a5fb54287b471",
       "version_major": 2,
       "version_minor": 0
      },
      "text/plain": [
       "Retrieving SummaryDoc documents:   0%|          | 0/129 [00:00<?, ?it/s]"
      ]
     },
     "metadata": {},
     "output_type": "display_data"
    },
    {
     "data": {
      "application/vnd.jupyter.widget-view+json": {
       "model_id": "ede5460fff9c4658815c2b4cb8bd7ab5",
       "version_major": 2,
       "version_minor": 0
      },
      "text/plain": [
       "Retrieving MaterialsDoc documents:   0%|          | 0/1 [00:00<?, ?it/s]"
      ]
     },
     "metadata": {},
     "output_type": "display_data"
    },
    {
     "name": "stdout",
     "output_type": "stream",
     "text": [
      "SG 174\n"
     ]
    },
    {
     "data": {
      "application/vnd.jupyter.widget-view+json": {
       "model_id": "4c0caee3f31b4054b7b2bbd90490703d",
       "version_major": 2,
       "version_minor": 0
      },
      "text/plain": [
       "Retrieving SummaryDoc documents:   0%|          | 0/145 [00:00<?, ?it/s]"
      ]
     },
     "metadata": {},
     "output_type": "display_data"
    },
    {
     "data": {
      "application/vnd.jupyter.widget-view+json": {
       "model_id": "e32a7713a0c64c4e9fefab8a6216d86d",
       "version_major": 2,
       "version_minor": 0
      },
      "text/plain": [
       "Retrieving MaterialsDoc documents:   0%|          | 0/1 [00:00<?, ?it/s]"
      ]
     },
     "metadata": {},
     "output_type": "display_data"
    },
    {
     "name": "stdout",
     "output_type": "stream",
     "text": [
      "SG 175\n"
     ]
    },
    {
     "data": {
      "application/vnd.jupyter.widget-view+json": {
       "model_id": "3219550abf4549bbbf6677983bca5f90",
       "version_major": 2,
       "version_minor": 0
      },
      "text/plain": [
       "Retrieving SummaryDoc documents:   0%|          | 0/4 [00:00<?, ?it/s]"
      ]
     },
     "metadata": {},
     "output_type": "display_data"
    },
    {
     "data": {
      "application/vnd.jupyter.widget-view+json": {
       "model_id": "36034fc6049f49a0bd8f360c5e16e22e",
       "version_major": 2,
       "version_minor": 0
      },
      "text/plain": [
       "Retrieving MaterialsDoc documents:   0%|          | 0/1 [00:00<?, ?it/s]"
      ]
     },
     "metadata": {},
     "output_type": "display_data"
    },
    {
     "name": "stdout",
     "output_type": "stream",
     "text": [
      "SG 176\n"
     ]
    },
    {
     "data": {
      "application/vnd.jupyter.widget-view+json": {
       "model_id": "047cf51915e3446d8493214add16e789",
       "version_major": 2,
       "version_minor": 0
      },
      "text/plain": [
       "Retrieving SummaryDoc documents:   0%|          | 0/274 [00:00<?, ?it/s]"
      ]
     },
     "metadata": {},
     "output_type": "display_data"
    },
    {
     "data": {
      "application/vnd.jupyter.widget-view+json": {
       "model_id": "17447b5dfd624ebb89ae98148f628b83",
       "version_major": 2,
       "version_minor": 0
      },
      "text/plain": [
       "Retrieving MaterialsDoc documents:   0%|          | 0/1 [00:00<?, ?it/s]"
      ]
     },
     "metadata": {},
     "output_type": "display_data"
    },
    {
     "name": "stdout",
     "output_type": "stream",
     "text": [
      "SG 177\n"
     ]
    },
    {
     "data": {
      "application/vnd.jupyter.widget-view+json": {
       "model_id": "6cc9cdae809a4e589d22d2d543e2e702",
       "version_major": 2,
       "version_minor": 0
      },
      "text/plain": [
       "Retrieving SummaryDoc documents:   0%|          | 0/5 [00:00<?, ?it/s]"
      ]
     },
     "metadata": {},
     "output_type": "display_data"
    },
    {
     "data": {
      "application/vnd.jupyter.widget-view+json": {
       "model_id": "763d8d3767be4b2686ebbe9f3b311e31",
       "version_major": 2,
       "version_minor": 0
      },
      "text/plain": [
       "Retrieving MaterialsDoc documents:   0%|          | 0/1 [00:00<?, ?it/s]"
      ]
     },
     "metadata": {},
     "output_type": "display_data"
    },
    {
     "name": "stdout",
     "output_type": "stream",
     "text": [
      "SG 178\n"
     ]
    },
    {
     "data": {
      "application/vnd.jupyter.widget-view+json": {
       "model_id": "2b65648657f447929ef10f77956f81ba",
       "version_major": 2,
       "version_minor": 0
      },
      "text/plain": [
       "Retrieving SummaryDoc documents:   0%|          | 0/22 [00:00<?, ?it/s]"
      ]
     },
     "metadata": {},
     "output_type": "display_data"
    },
    {
     "data": {
      "application/vnd.jupyter.widget-view+json": {
       "model_id": "0349a5b2e09249d28f608a8a8ec2ee87",
       "version_major": 2,
       "version_minor": 0
      },
      "text/plain": [
       "Retrieving MaterialsDoc documents:   0%|          | 0/1 [00:00<?, ?it/s]"
      ]
     },
     "metadata": {},
     "output_type": "display_data"
    },
    {
     "name": "stdout",
     "output_type": "stream",
     "text": [
      "SG 179\n"
     ]
    },
    {
     "data": {
      "application/vnd.jupyter.widget-view+json": {
       "model_id": "e46dfe1aa9a34ec28c20bf0fc89d1c7d",
       "version_major": 2,
       "version_minor": 0
      },
      "text/plain": [
       "Retrieving SummaryDoc documents:   0%|          | 0/2 [00:00<?, ?it/s]"
      ]
     },
     "metadata": {},
     "output_type": "display_data"
    },
    {
     "data": {
      "application/vnd.jupyter.widget-view+json": {
       "model_id": "cf836c2449a74058a2d881c3436d00eb",
       "version_major": 2,
       "version_minor": 0
      },
      "text/plain": [
       "Retrieving MaterialsDoc documents:   0%|          | 0/1 [00:00<?, ?it/s]"
      ]
     },
     "metadata": {},
     "output_type": "display_data"
    },
    {
     "name": "stdout",
     "output_type": "stream",
     "text": [
      "SG 180\n"
     ]
    },
    {
     "data": {
      "application/vnd.jupyter.widget-view+json": {
       "model_id": "d2f015d817c74e1aa02d390f7a2323b5",
       "version_major": 2,
       "version_minor": 0
      },
      "text/plain": [
       "Retrieving SummaryDoc documents:   0%|          | 0/18 [00:00<?, ?it/s]"
      ]
     },
     "metadata": {},
     "output_type": "display_data"
    },
    {
     "data": {
      "application/vnd.jupyter.widget-view+json": {
       "model_id": "fe786fb85d8047ce8dd6cac15c6fd867",
       "version_major": 2,
       "version_minor": 0
      },
      "text/plain": [
       "Retrieving MaterialsDoc documents:   0%|          | 0/1 [00:00<?, ?it/s]"
      ]
     },
     "metadata": {},
     "output_type": "display_data"
    },
    {
     "name": "stdout",
     "output_type": "stream",
     "text": [
      "SG 181\n"
     ]
    },
    {
     "data": {
      "application/vnd.jupyter.widget-view+json": {
       "model_id": "813a88eb1f07431db792eec72cb6c968",
       "version_major": 2,
       "version_minor": 0
      },
      "text/plain": [
       "Retrieving SummaryDoc documents:   0%|          | 0/23 [00:00<?, ?it/s]"
      ]
     },
     "metadata": {},
     "output_type": "display_data"
    },
    {
     "data": {
      "application/vnd.jupyter.widget-view+json": {
       "model_id": "e4f858435afc4a69a8a28fa6ec0e36c8",
       "version_major": 2,
       "version_minor": 0
      },
      "text/plain": [
       "Retrieving MaterialsDoc documents:   0%|          | 0/1 [00:00<?, ?it/s]"
      ]
     },
     "metadata": {},
     "output_type": "display_data"
    },
    {
     "name": "stdout",
     "output_type": "stream",
     "text": [
      "SG 182\n"
     ]
    },
    {
     "data": {
      "application/vnd.jupyter.widget-view+json": {
       "model_id": "66de44b9dd83404e9895445fdd39935b",
       "version_major": 2,
       "version_minor": 0
      },
      "text/plain": [
       "Retrieving SummaryDoc documents:   0%|          | 0/33 [00:00<?, ?it/s]"
      ]
     },
     "metadata": {},
     "output_type": "display_data"
    },
    {
     "data": {
      "application/vnd.jupyter.widget-view+json": {
       "model_id": "53e79870cb804f8da58658562b468fa9",
       "version_major": 2,
       "version_minor": 0
      },
      "text/plain": [
       "Retrieving MaterialsDoc documents:   0%|          | 0/1 [00:00<?, ?it/s]"
      ]
     },
     "metadata": {},
     "output_type": "display_data"
    },
    {
     "name": "stdout",
     "output_type": "stream",
     "text": [
      "SG 183\n"
     ]
    },
    {
     "data": {
      "application/vnd.jupyter.widget-view+json": {
       "model_id": "35515b2159c7439ca2fb96c8221bc9d6",
       "version_major": 2,
       "version_minor": 0
      },
      "text/plain": [
       "Retrieving SummaryDoc documents:   0%|          | 0/17 [00:00<?, ?it/s]"
      ]
     },
     "metadata": {},
     "output_type": "display_data"
    },
    {
     "data": {
      "application/vnd.jupyter.widget-view+json": {
       "model_id": "5c81182bd7cc4c8987e235c1d1500372",
       "version_major": 2,
       "version_minor": 0
      },
      "text/plain": [
       "Retrieving MaterialsDoc documents:   0%|          | 0/1 [00:00<?, ?it/s]"
      ]
     },
     "metadata": {},
     "output_type": "display_data"
    },
    {
     "name": "stdout",
     "output_type": "stream",
     "text": [
      "SG 184\n"
     ]
    },
    {
     "data": {
      "application/vnd.jupyter.widget-view+json": {
       "model_id": "065ff5cf21504f85b2f1c94f41aa671a",
       "version_major": 2,
       "version_minor": 0
      },
      "text/plain": [
       "Retrieving SummaryDoc documents: 0it [00:00, ?it/s]"
      ]
     },
     "metadata": {},
     "output_type": "display_data"
    },
    {
     "name": "stdout",
     "output_type": "stream",
     "text": [
      "SG 184: no material found.\n",
      "No material found\n",
      "SG 185\n"
     ]
    },
    {
     "data": {
      "application/vnd.jupyter.widget-view+json": {
       "model_id": "d54bd3eee9094d5697d3a03c73aec7a4",
       "version_major": 2,
       "version_minor": 0
      },
      "text/plain": [
       "Retrieving SummaryDoc documents:   0%|          | 0/87 [00:00<?, ?it/s]"
      ]
     },
     "metadata": {},
     "output_type": "display_data"
    },
    {
     "data": {
      "application/vnd.jupyter.widget-view+json": {
       "model_id": "d6dd3de61888438ca5435c7783cbfd01",
       "version_major": 2,
       "version_minor": 0
      },
      "text/plain": [
       "Retrieving MaterialsDoc documents:   0%|          | 0/1 [00:00<?, ?it/s]"
      ]
     },
     "metadata": {},
     "output_type": "display_data"
    },
    {
     "name": "stdout",
     "output_type": "stream",
     "text": [
      "SG 186\n"
     ]
    },
    {
     "data": {
      "application/vnd.jupyter.widget-view+json": {
       "model_id": "89e43e85d6664d92963ca08199b76bdd",
       "version_major": 2,
       "version_minor": 0
      },
      "text/plain": [
       "Retrieving SummaryDoc documents:   0%|          | 0/520 [00:00<?, ?it/s]"
      ]
     },
     "metadata": {},
     "output_type": "display_data"
    },
    {
     "data": {
      "application/vnd.jupyter.widget-view+json": {
       "model_id": "477258da288e472892649f3194d24209",
       "version_major": 2,
       "version_minor": 0
      },
      "text/plain": [
       "Retrieving MaterialsDoc documents:   0%|          | 0/1 [00:00<?, ?it/s]"
      ]
     },
     "metadata": {},
     "output_type": "display_data"
    },
    {
     "name": "stdout",
     "output_type": "stream",
     "text": [
      "SG 187\n"
     ]
    },
    {
     "data": {
      "application/vnd.jupyter.widget-view+json": {
       "model_id": "5a81fde8cff24f8d902806a6a9d49f30",
       "version_major": 2,
       "version_minor": 0
      },
      "text/plain": [
       "Retrieving SummaryDoc documents:   0%|          | 0/1651 [00:00<?, ?it/s]"
      ]
     },
     "metadata": {},
     "output_type": "display_data"
    },
    {
     "data": {
      "application/vnd.jupyter.widget-view+json": {
       "model_id": "648113a02c8644bd8469b6f8fc93b020",
       "version_major": 2,
       "version_minor": 0
      },
      "text/plain": [
       "Retrieving MaterialsDoc documents:   0%|          | 0/1 [00:00<?, ?it/s]"
      ]
     },
     "metadata": {},
     "output_type": "display_data"
    },
    {
     "name": "stdout",
     "output_type": "stream",
     "text": [
      "SG 188\n"
     ]
    },
    {
     "data": {
      "application/vnd.jupyter.widget-view+json": {
       "model_id": "41316865b55243448d797cbb61bb3d61",
       "version_major": 2,
       "version_minor": 0
      },
      "text/plain": [
       "Retrieving SummaryDoc documents:   0%|          | 0/25 [00:00<?, ?it/s]"
      ]
     },
     "metadata": {},
     "output_type": "display_data"
    },
    {
     "data": {
      "application/vnd.jupyter.widget-view+json": {
       "model_id": "a337607df99144e38239f51206377dcf",
       "version_major": 2,
       "version_minor": 0
      },
      "text/plain": [
       "Retrieving MaterialsDoc documents:   0%|          | 0/1 [00:00<?, ?it/s]"
      ]
     },
     "metadata": {},
     "output_type": "display_data"
    },
    {
     "name": "stdout",
     "output_type": "stream",
     "text": [
      "SG 189\n"
     ]
    },
    {
     "data": {
      "application/vnd.jupyter.widget-view+json": {
       "model_id": "4954350cdde74a989173a78b055de108",
       "version_major": 2,
       "version_minor": 0
      },
      "text/plain": [
       "Retrieving SummaryDoc documents:   0%|          | 0/329 [00:00<?, ?it/s]"
      ]
     },
     "metadata": {},
     "output_type": "display_data"
    },
    {
     "data": {
      "application/vnd.jupyter.widget-view+json": {
       "model_id": "ee76f1bc214c45a2b82c0b3653fb4d65",
       "version_major": 2,
       "version_minor": 0
      },
      "text/plain": [
       "Retrieving MaterialsDoc documents:   0%|          | 0/1 [00:00<?, ?it/s]"
      ]
     },
     "metadata": {},
     "output_type": "display_data"
    },
    {
     "name": "stdout",
     "output_type": "stream",
     "text": [
      "SG 190\n"
     ]
    },
    {
     "data": {
      "application/vnd.jupyter.widget-view+json": {
       "model_id": "eedddfb278e5415eb84ac1536ed7dd9f",
       "version_major": 2,
       "version_minor": 0
      },
      "text/plain": [
       "Retrieving SummaryDoc documents:   0%|          | 0/19 [00:00<?, ?it/s]"
      ]
     },
     "metadata": {},
     "output_type": "display_data"
    },
    {
     "data": {
      "application/vnd.jupyter.widget-view+json": {
       "model_id": "3c6b9fec24154ee2b0488a8cffee0f1b",
       "version_major": 2,
       "version_minor": 0
      },
      "text/plain": [
       "Retrieving MaterialsDoc documents:   0%|          | 0/1 [00:00<?, ?it/s]"
      ]
     },
     "metadata": {},
     "output_type": "display_data"
    },
    {
     "name": "stdout",
     "output_type": "stream",
     "text": [
      "SG 191\n"
     ]
    },
    {
     "data": {
      "application/vnd.jupyter.widget-view+json": {
       "model_id": "e6ba9030bda046dbbc4fe260ba35c049",
       "version_major": 2,
       "version_minor": 0
      },
      "text/plain": [
       "Retrieving SummaryDoc documents:   0%|          | 0/269 [00:00<?, ?it/s]"
      ]
     },
     "metadata": {},
     "output_type": "display_data"
    },
    {
     "data": {
      "application/vnd.jupyter.widget-view+json": {
       "model_id": "8e7afee607734d94b7ab92bf3c8052be",
       "version_major": 2,
       "version_minor": 0
      },
      "text/plain": [
       "Retrieving MaterialsDoc documents:   0%|          | 0/1 [00:00<?, ?it/s]"
      ]
     },
     "metadata": {},
     "output_type": "display_data"
    },
    {
     "name": "stdout",
     "output_type": "stream",
     "text": [
      "SG 192\n"
     ]
    },
    {
     "data": {
      "application/vnd.jupyter.widget-view+json": {
       "model_id": "a3b373daa65f4873aa889a2a07df3cac",
       "version_major": 2,
       "version_minor": 0
      },
      "text/plain": [
       "Retrieving SummaryDoc documents:   0%|          | 0/9 [00:00<?, ?it/s]"
      ]
     },
     "metadata": {},
     "output_type": "display_data"
    },
    {
     "data": {
      "application/vnd.jupyter.widget-view+json": {
       "model_id": "e8eaa7c6040244948283387512f4b816",
       "version_major": 2,
       "version_minor": 0
      },
      "text/plain": [
       "Retrieving MaterialsDoc documents:   0%|          | 0/1 [00:00<?, ?it/s]"
      ]
     },
     "metadata": {},
     "output_type": "display_data"
    },
    {
     "name": "stdout",
     "output_type": "stream",
     "text": [
      "SG 193\n"
     ]
    },
    {
     "data": {
      "application/vnd.jupyter.widget-view+json": {
       "model_id": "652ad44121f24e51b2563d6dfa9ca7be",
       "version_major": 2,
       "version_minor": 0
      },
      "text/plain": [
       "Retrieving SummaryDoc documents:   0%|          | 0/171 [00:00<?, ?it/s]"
      ]
     },
     "metadata": {},
     "output_type": "display_data"
    },
    {
     "data": {
      "application/vnd.jupyter.widget-view+json": {
       "model_id": "a3a5956ee43849df81633fd12f99b20a",
       "version_major": 2,
       "version_minor": 0
      },
      "text/plain": [
       "Retrieving MaterialsDoc documents:   0%|          | 0/1 [00:00<?, ?it/s]"
      ]
     },
     "metadata": {},
     "output_type": "display_data"
    },
    {
     "name": "stdout",
     "output_type": "stream",
     "text": [
      "SG 194\n"
     ]
    },
    {
     "data": {
      "application/vnd.jupyter.widget-view+json": {
       "model_id": "5baa8a449f9e4d1ab989c38922f7a4d0",
       "version_major": 2,
       "version_minor": 0
      },
      "text/plain": [
       "Retrieving SummaryDoc documents:   0%|          | 0/2104 [00:00<?, ?it/s]"
      ]
     },
     "metadata": {},
     "output_type": "display_data"
    },
    {
     "data": {
      "application/vnd.jupyter.widget-view+json": {
       "model_id": "91822d95f1f04b129f11411da97d1ec6",
       "version_major": 2,
       "version_minor": 0
      },
      "text/plain": [
       "Retrieving MaterialsDoc documents:   0%|          | 0/1 [00:00<?, ?it/s]"
      ]
     },
     "metadata": {},
     "output_type": "display_data"
    },
    {
     "name": "stdout",
     "output_type": "stream",
     "text": [
      "SG 195\n"
     ]
    },
    {
     "data": {
      "application/vnd.jupyter.widget-view+json": {
       "model_id": "5485a497b8684ae88a1d8c0865d8035b",
       "version_major": 2,
       "version_minor": 0
      },
      "text/plain": [
       "Retrieving SummaryDoc documents:   0%|          | 0/9 [00:00<?, ?it/s]"
      ]
     },
     "metadata": {},
     "output_type": "display_data"
    },
    {
     "data": {
      "application/vnd.jupyter.widget-view+json": {
       "model_id": "67fd82fd3abf481697310d1d83a8c7fb",
       "version_major": 2,
       "version_minor": 0
      },
      "text/plain": [
       "Retrieving MaterialsDoc documents:   0%|          | 0/1 [00:00<?, ?it/s]"
      ]
     },
     "metadata": {},
     "output_type": "display_data"
    },
    {
     "name": "stdout",
     "output_type": "stream",
     "text": [
      "SG 196\n"
     ]
    },
    {
     "data": {
      "application/vnd.jupyter.widget-view+json": {
       "model_id": "28686a3327f24cdaa14f800acf95bf62",
       "version_major": 2,
       "version_minor": 0
      },
      "text/plain": [
       "Retrieving SummaryDoc documents:   0%|          | 0/1 [00:00<?, ?it/s]"
      ]
     },
     "metadata": {},
     "output_type": "display_data"
    },
    {
     "data": {
      "application/vnd.jupyter.widget-view+json": {
       "model_id": "eb163d71874f4e23aeaa6f59879e81ff",
       "version_major": 2,
       "version_minor": 0
      },
      "text/plain": [
       "Retrieving MaterialsDoc documents:   0%|          | 0/1 [00:00<?, ?it/s]"
      ]
     },
     "metadata": {},
     "output_type": "display_data"
    },
    {
     "name": "stdout",
     "output_type": "stream",
     "text": [
      "SG 197\n"
     ]
    },
    {
     "data": {
      "application/vnd.jupyter.widget-view+json": {
       "model_id": "9789967434b94e7198f7b13f83770a97",
       "version_major": 2,
       "version_minor": 0
      },
      "text/plain": [
       "Retrieving SummaryDoc documents:   0%|          | 0/27 [00:00<?, ?it/s]"
      ]
     },
     "metadata": {},
     "output_type": "display_data"
    },
    {
     "data": {
      "application/vnd.jupyter.widget-view+json": {
       "model_id": "e5729693cad9468ca7697eb5c7b3933a",
       "version_major": 2,
       "version_minor": 0
      },
      "text/plain": [
       "Retrieving MaterialsDoc documents:   0%|          | 0/1 [00:00<?, ?it/s]"
      ]
     },
     "metadata": {},
     "output_type": "display_data"
    },
    {
     "name": "stdout",
     "output_type": "stream",
     "text": [
      "SG 198\n"
     ]
    },
    {
     "data": {
      "application/vnd.jupyter.widget-view+json": {
       "model_id": "3a8c3a5a2951482ab3b16e799440c53c",
       "version_major": 2,
       "version_minor": 0
      },
      "text/plain": [
       "Retrieving SummaryDoc documents:   0%|          | 0/193 [00:00<?, ?it/s]"
      ]
     },
     "metadata": {},
     "output_type": "display_data"
    },
    {
     "data": {
      "application/vnd.jupyter.widget-view+json": {
       "model_id": "8185dd6d9c7a497eaf1c506300bc38a9",
       "version_major": 2,
       "version_minor": 0
      },
      "text/plain": [
       "Retrieving MaterialsDoc documents:   0%|          | 0/1 [00:00<?, ?it/s]"
      ]
     },
     "metadata": {},
     "output_type": "display_data"
    },
    {
     "name": "stdout",
     "output_type": "stream",
     "text": [
      "SG 199\n"
     ]
    },
    {
     "data": {
      "application/vnd.jupyter.widget-view+json": {
       "model_id": "bcd9b030973a417bb0d7720c81c22009",
       "version_major": 2,
       "version_minor": 0
      },
      "text/plain": [
       "Retrieving SummaryDoc documents:   0%|          | 0/30 [00:00<?, ?it/s]"
      ]
     },
     "metadata": {},
     "output_type": "display_data"
    },
    {
     "data": {
      "application/vnd.jupyter.widget-view+json": {
       "model_id": "d60f8ee85fe5479da10500526015e381",
       "version_major": 2,
       "version_minor": 0
      },
      "text/plain": [
       "Retrieving MaterialsDoc documents:   0%|          | 0/1 [00:00<?, ?it/s]"
      ]
     },
     "metadata": {},
     "output_type": "display_data"
    },
    {
     "name": "stdout",
     "output_type": "stream",
     "text": [
      "SG 200\n"
     ]
    },
    {
     "data": {
      "application/vnd.jupyter.widget-view+json": {
       "model_id": "dedaa38c2be7408da3ddd8d6e0f242c7",
       "version_major": 2,
       "version_minor": 0
      },
      "text/plain": [
       "Retrieving SummaryDoc documents:   0%|          | 0/60 [00:00<?, ?it/s]"
      ]
     },
     "metadata": {},
     "output_type": "display_data"
    },
    {
     "data": {
      "application/vnd.jupyter.widget-view+json": {
       "model_id": "d631d395a91d4e4e86ccf7d5610735ae",
       "version_major": 2,
       "version_minor": 0
      },
      "text/plain": [
       "Retrieving MaterialsDoc documents:   0%|          | 0/1 [00:00<?, ?it/s]"
      ]
     },
     "metadata": {},
     "output_type": "display_data"
    },
    {
     "name": "stdout",
     "output_type": "stream",
     "text": [
      "SG 201\n"
     ]
    },
    {
     "data": {
      "application/vnd.jupyter.widget-view+json": {
       "model_id": "5a8b105e0571433aab900c82e9e82c68",
       "version_major": 2,
       "version_minor": 0
      },
      "text/plain": [
       "Retrieving SummaryDoc documents:   0%|          | 0/141 [00:00<?, ?it/s]"
      ]
     },
     "metadata": {},
     "output_type": "display_data"
    },
    {
     "data": {
      "application/vnd.jupyter.widget-view+json": {
       "model_id": "95519d2206aa47c9a5b82a57db622f25",
       "version_major": 2,
       "version_minor": 0
      },
      "text/plain": [
       "Retrieving MaterialsDoc documents:   0%|          | 0/1 [00:00<?, ?it/s]"
      ]
     },
     "metadata": {},
     "output_type": "display_data"
    },
    {
     "name": "stdout",
     "output_type": "stream",
     "text": [
      "SG 202\n"
     ]
    },
    {
     "data": {
      "application/vnd.jupyter.widget-view+json": {
       "model_id": "59f3220d4e0242a2a80444a01f6b6394",
       "version_major": 2,
       "version_minor": 0
      },
      "text/plain": [
       "Retrieving SummaryDoc documents:   0%|          | 0/11 [00:00<?, ?it/s]"
      ]
     },
     "metadata": {},
     "output_type": "display_data"
    },
    {
     "data": {
      "application/vnd.jupyter.widget-view+json": {
       "model_id": "8eff922d7dbf416d88781c8eefd8604d",
       "version_major": 2,
       "version_minor": 0
      },
      "text/plain": [
       "Retrieving MaterialsDoc documents:   0%|          | 0/1 [00:00<?, ?it/s]"
      ]
     },
     "metadata": {},
     "output_type": "display_data"
    },
    {
     "name": "stdout",
     "output_type": "stream",
     "text": [
      "SG 203\n"
     ]
    },
    {
     "data": {
      "application/vnd.jupyter.widget-view+json": {
       "model_id": "06023625df454b889d0f376dafb7657f",
       "version_major": 2,
       "version_minor": 0
      },
      "text/plain": [
       "Retrieving SummaryDoc documents:   0%|          | 0/57 [00:00<?, ?it/s]"
      ]
     },
     "metadata": {},
     "output_type": "display_data"
    },
    {
     "data": {
      "application/vnd.jupyter.widget-view+json": {
       "model_id": "be98cf2c7fa846b08d7d60fc3871619a",
       "version_major": 2,
       "version_minor": 0
      },
      "text/plain": [
       "Retrieving MaterialsDoc documents:   0%|          | 0/1 [00:00<?, ?it/s]"
      ]
     },
     "metadata": {},
     "output_type": "display_data"
    },
    {
     "name": "stdout",
     "output_type": "stream",
     "text": [
      "SG 204\n"
     ]
    },
    {
     "data": {
      "application/vnd.jupyter.widget-view+json": {
       "model_id": "f4961a11d65843269f8c490ac03ebc88",
       "version_major": 2,
       "version_minor": 0
      },
      "text/plain": [
       "Retrieving SummaryDoc documents:   0%|          | 0/127 [00:00<?, ?it/s]"
      ]
     },
     "metadata": {},
     "output_type": "display_data"
    },
    {
     "data": {
      "application/vnd.jupyter.widget-view+json": {
       "model_id": "117c5ca8ddd445f08315727118d9ac17",
       "version_major": 2,
       "version_minor": 0
      },
      "text/plain": [
       "Retrieving MaterialsDoc documents:   0%|          | 0/1 [00:00<?, ?it/s]"
      ]
     },
     "metadata": {},
     "output_type": "display_data"
    },
    {
     "name": "stdout",
     "output_type": "stream",
     "text": [
      "SG 205\n"
     ]
    },
    {
     "data": {
      "application/vnd.jupyter.widget-view+json": {
       "model_id": "e8c5db098e35462695051c49e3944d25",
       "version_major": 2,
       "version_minor": 0
      },
      "text/plain": [
       "Retrieving SummaryDoc documents:   0%|          | 0/99 [00:00<?, ?it/s]"
      ]
     },
     "metadata": {},
     "output_type": "display_data"
    },
    {
     "data": {
      "application/vnd.jupyter.widget-view+json": {
       "model_id": "c01320d843c94682ba59b6365d8b424b",
       "version_major": 2,
       "version_minor": 0
      },
      "text/plain": [
       "Retrieving MaterialsDoc documents:   0%|          | 0/1 [00:00<?, ?it/s]"
      ]
     },
     "metadata": {},
     "output_type": "display_data"
    },
    {
     "name": "stdout",
     "output_type": "stream",
     "text": [
      "SG 206\n"
     ]
    },
    {
     "data": {
      "application/vnd.jupyter.widget-view+json": {
       "model_id": "4461301617de4ced94221ee9980fbfce",
       "version_major": 2,
       "version_minor": 0
      },
      "text/plain": [
       "Retrieving SummaryDoc documents:   0%|          | 0/64 [00:00<?, ?it/s]"
      ]
     },
     "metadata": {},
     "output_type": "display_data"
    },
    {
     "data": {
      "application/vnd.jupyter.widget-view+json": {
       "model_id": "b275d5366a7b4447becebe627bacaf14",
       "version_major": 2,
       "version_minor": 0
      },
      "text/plain": [
       "Retrieving MaterialsDoc documents:   0%|          | 0/1 [00:00<?, ?it/s]"
      ]
     },
     "metadata": {},
     "output_type": "display_data"
    },
    {
     "name": "stdout",
     "output_type": "stream",
     "text": [
      "SG 207\n"
     ]
    },
    {
     "data": {
      "application/vnd.jupyter.widget-view+json": {
       "model_id": "112beb224b9e41aebd40a29d0d32dd92",
       "version_major": 2,
       "version_minor": 0
      },
      "text/plain": [
       "Retrieving SummaryDoc documents: 0it [00:00, ?it/s]"
      ]
     },
     "metadata": {},
     "output_type": "display_data"
    },
    {
     "name": "stdout",
     "output_type": "stream",
     "text": [
      "SG 207: no material found.\n",
      "No material found\n",
      "SG 208\n"
     ]
    },
    {
     "data": {
      "application/vnd.jupyter.widget-view+json": {
       "model_id": "165f6cdeb10f4ca4ad8c062065bcd6f4",
       "version_major": 2,
       "version_minor": 0
      },
      "text/plain": [
       "Retrieving SummaryDoc documents:   0%|          | 0/1 [00:00<?, ?it/s]"
      ]
     },
     "metadata": {},
     "output_type": "display_data"
    },
    {
     "data": {
      "application/vnd.jupyter.widget-view+json": {
       "model_id": "f692e936a9764c41ac58bc3a0617abaf",
       "version_major": 2,
       "version_minor": 0
      },
      "text/plain": [
       "Retrieving MaterialsDoc documents:   0%|          | 0/1 [00:00<?, ?it/s]"
      ]
     },
     "metadata": {},
     "output_type": "display_data"
    },
    {
     "name": "stdout",
     "output_type": "stream",
     "text": [
      "SG 209\n"
     ]
    },
    {
     "data": {
      "application/vnd.jupyter.widget-view+json": {
       "model_id": "e117a16a20f048e4a9ce22f9ba725d1c",
       "version_major": 2,
       "version_minor": 0
      },
      "text/plain": [
       "Retrieving SummaryDoc documents:   0%|          | 0/2 [00:00<?, ?it/s]"
      ]
     },
     "metadata": {},
     "output_type": "display_data"
    },
    {
     "data": {
      "application/vnd.jupyter.widget-view+json": {
       "model_id": "a38c6ea8ac914323be84ff3d1ff94fe0",
       "version_major": 2,
       "version_minor": 0
      },
      "text/plain": [
       "Retrieving MaterialsDoc documents:   0%|          | 0/1 [00:00<?, ?it/s]"
      ]
     },
     "metadata": {},
     "output_type": "display_data"
    },
    {
     "name": "stdout",
     "output_type": "stream",
     "text": [
      "SG 210\n"
     ]
    },
    {
     "data": {
      "application/vnd.jupyter.widget-view+json": {
       "model_id": "1d9a87b10abb4c54bb4b46d091750faf",
       "version_major": 2,
       "version_minor": 0
      },
      "text/plain": [
       "Retrieving SummaryDoc documents:   0%|          | 0/4 [00:00<?, ?it/s]"
      ]
     },
     "metadata": {},
     "output_type": "display_data"
    },
    {
     "data": {
      "application/vnd.jupyter.widget-view+json": {
       "model_id": "e39720f33d9c4398a21e260bafbabdf4",
       "version_major": 2,
       "version_minor": 0
      },
      "text/plain": [
       "Retrieving MaterialsDoc documents:   0%|          | 0/1 [00:00<?, ?it/s]"
      ]
     },
     "metadata": {},
     "output_type": "display_data"
    },
    {
     "name": "stdout",
     "output_type": "stream",
     "text": [
      "SG 211\n"
     ]
    },
    {
     "data": {
      "application/vnd.jupyter.widget-view+json": {
       "model_id": "af5b14b9c5e0464eabeb5a67fcf34065",
       "version_major": 2,
       "version_minor": 0
      },
      "text/plain": [
       "Retrieving SummaryDoc documents:   0%|          | 0/2 [00:00<?, ?it/s]"
      ]
     },
     "metadata": {},
     "output_type": "display_data"
    },
    {
     "data": {
      "application/vnd.jupyter.widget-view+json": {
       "model_id": "93cfc51b291d41d3abef83854e3f3ba2",
       "version_major": 2,
       "version_minor": 0
      },
      "text/plain": [
       "Retrieving MaterialsDoc documents:   0%|          | 0/1 [00:00<?, ?it/s]"
      ]
     },
     "metadata": {},
     "output_type": "display_data"
    },
    {
     "name": "stdout",
     "output_type": "stream",
     "text": [
      "SG 212\n"
     ]
    },
    {
     "data": {
      "application/vnd.jupyter.widget-view+json": {
       "model_id": "db9be4bef0fa42b2bdf216389998888b",
       "version_major": 2,
       "version_minor": 0
      },
      "text/plain": [
       "Retrieving SummaryDoc documents:   0%|          | 0/74 [00:00<?, ?it/s]"
      ]
     },
     "metadata": {},
     "output_type": "display_data"
    },
    {
     "data": {
      "application/vnd.jupyter.widget-view+json": {
       "model_id": "f868db6cc35c4dd5bcb97c4f5f6cdba7",
       "version_major": 2,
       "version_minor": 0
      },
      "text/plain": [
       "Retrieving MaterialsDoc documents:   0%|          | 0/1 [00:00<?, ?it/s]"
      ]
     },
     "metadata": {},
     "output_type": "display_data"
    },
    {
     "name": "stdout",
     "output_type": "stream",
     "text": [
      "SG 213\n"
     ]
    },
    {
     "data": {
      "application/vnd.jupyter.widget-view+json": {
       "model_id": "a861fdefce704e6e985239f2f250cb72",
       "version_major": 2,
       "version_minor": 0
      },
      "text/plain": [
       "Retrieving SummaryDoc documents:   0%|          | 0/24 [00:00<?, ?it/s]"
      ]
     },
     "metadata": {},
     "output_type": "display_data"
    },
    {
     "data": {
      "application/vnd.jupyter.widget-view+json": {
       "model_id": "24807a12bba64626b28a67f185ddd776",
       "version_major": 2,
       "version_minor": 0
      },
      "text/plain": [
       "Retrieving MaterialsDoc documents:   0%|          | 0/1 [00:00<?, ?it/s]"
      ]
     },
     "metadata": {},
     "output_type": "display_data"
    },
    {
     "name": "stdout",
     "output_type": "stream",
     "text": [
      "SG 214\n"
     ]
    },
    {
     "data": {
      "application/vnd.jupyter.widget-view+json": {
       "model_id": "3a155dda69c14bdb8c2414430f2474f2",
       "version_major": 2,
       "version_minor": 0
      },
      "text/plain": [
       "Retrieving SummaryDoc documents:   0%|          | 0/35 [00:00<?, ?it/s]"
      ]
     },
     "metadata": {},
     "output_type": "display_data"
    },
    {
     "data": {
      "application/vnd.jupyter.widget-view+json": {
       "model_id": "13343462df2c4b41b9bb914a25c9bff2",
       "version_major": 2,
       "version_minor": 0
      },
      "text/plain": [
       "Retrieving MaterialsDoc documents:   0%|          | 0/1 [00:00<?, ?it/s]"
      ]
     },
     "metadata": {},
     "output_type": "display_data"
    },
    {
     "name": "stdout",
     "output_type": "stream",
     "text": [
      "SG 215\n"
     ]
    },
    {
     "data": {
      "application/vnd.jupyter.widget-view+json": {
       "model_id": "34e2e2516ee340bf898bd3c40871df13",
       "version_major": 2,
       "version_minor": 0
      },
      "text/plain": [
       "Retrieving SummaryDoc documents:   0%|          | 0/178 [00:00<?, ?it/s]"
      ]
     },
     "metadata": {},
     "output_type": "display_data"
    },
    {
     "data": {
      "application/vnd.jupyter.widget-view+json": {
       "model_id": "60b04493e68349c09bb508c2c63f5414",
       "version_major": 2,
       "version_minor": 0
      },
      "text/plain": [
       "Retrieving MaterialsDoc documents:   0%|          | 0/1 [00:00<?, ?it/s]"
      ]
     },
     "metadata": {},
     "output_type": "display_data"
    },
    {
     "name": "stdout",
     "output_type": "stream",
     "text": [
      "SG 216\n"
     ]
    },
    {
     "data": {
      "application/vnd.jupyter.widget-view+json": {
       "model_id": "f4eb95ed1b074c6183d95e7c7458c249",
       "version_major": 2,
       "version_minor": 0
      },
      "text/plain": [
       "Retrieving SummaryDoc documents:   0%|          | 0/2360 [00:00<?, ?it/s]"
      ]
     },
     "metadata": {},
     "output_type": "display_data"
    },
    {
     "data": {
      "application/vnd.jupyter.widget-view+json": {
       "model_id": "e04079c0ab9b4db88a4e47fdc1f23ab6",
       "version_major": 2,
       "version_minor": 0
      },
      "text/plain": [
       "Retrieving MaterialsDoc documents:   0%|          | 0/1 [00:00<?, ?it/s]"
      ]
     },
     "metadata": {},
     "output_type": "display_data"
    },
    {
     "name": "stdout",
     "output_type": "stream",
     "text": [
      "SG 217\n"
     ]
    },
    {
     "data": {
      "application/vnd.jupyter.widget-view+json": {
       "model_id": "3920b1e09e474523895b912663739b83",
       "version_major": 2,
       "version_minor": 0
      },
      "text/plain": [
       "Retrieving SummaryDoc documents:   0%|          | 0/105 [00:00<?, ?it/s]"
      ]
     },
     "metadata": {},
     "output_type": "display_data"
    },
    {
     "data": {
      "application/vnd.jupyter.widget-view+json": {
       "model_id": "4494f00694e54839898a207c7bdc74ab",
       "version_major": 2,
       "version_minor": 0
      },
      "text/plain": [
       "Retrieving MaterialsDoc documents:   0%|          | 0/1 [00:00<?, ?it/s]"
      ]
     },
     "metadata": {},
     "output_type": "display_data"
    },
    {
     "name": "stdout",
     "output_type": "stream",
     "text": [
      "SG 218\n"
     ]
    },
    {
     "data": {
      "application/vnd.jupyter.widget-view+json": {
       "model_id": "8f69585e6c30491bb11bdfacc86c6ed3",
       "version_major": 2,
       "version_minor": 0
      },
      "text/plain": [
       "Retrieving SummaryDoc documents:   0%|          | 0/30 [00:00<?, ?it/s]"
      ]
     },
     "metadata": {},
     "output_type": "display_data"
    },
    {
     "data": {
      "application/vnd.jupyter.widget-view+json": {
       "model_id": "71d0d2aa89304f74b25e00d822944eb5",
       "version_major": 2,
       "version_minor": 0
      },
      "text/plain": [
       "Retrieving MaterialsDoc documents:   0%|          | 0/1 [00:00<?, ?it/s]"
      ]
     },
     "metadata": {},
     "output_type": "display_data"
    },
    {
     "name": "stdout",
     "output_type": "stream",
     "text": [
      "SG 219\n"
     ]
    },
    {
     "data": {
      "application/vnd.jupyter.widget-view+json": {
       "model_id": "7669ee58f99447d99a9435d311e9ced9",
       "version_major": 2,
       "version_minor": 0
      },
      "text/plain": [
       "Retrieving SummaryDoc documents:   0%|          | 0/4 [00:00<?, ?it/s]"
      ]
     },
     "metadata": {},
     "output_type": "display_data"
    },
    {
     "data": {
      "application/vnd.jupyter.widget-view+json": {
       "model_id": "90b4406aea064280a06bcad9fea7a2ac",
       "version_major": 2,
       "version_minor": 0
      },
      "text/plain": [
       "Retrieving MaterialsDoc documents:   0%|          | 0/1 [00:00<?, ?it/s]"
      ]
     },
     "metadata": {},
     "output_type": "display_data"
    },
    {
     "name": "stdout",
     "output_type": "stream",
     "text": [
      "SG 220\n"
     ]
    },
    {
     "data": {
      "application/vnd.jupyter.widget-view+json": {
       "model_id": "e42c0f3b66b84418b47c9352b25f5662",
       "version_major": 2,
       "version_minor": 0
      },
      "text/plain": [
       "Retrieving SummaryDoc documents:   0%|          | 0/37 [00:00<?, ?it/s]"
      ]
     },
     "metadata": {},
     "output_type": "display_data"
    },
    {
     "data": {
      "application/vnd.jupyter.widget-view+json": {
       "model_id": "9cbc9f978bf24606aa92f012907999de",
       "version_major": 2,
       "version_minor": 0
      },
      "text/plain": [
       "Retrieving MaterialsDoc documents:   0%|          | 0/1 [00:00<?, ?it/s]"
      ]
     },
     "metadata": {},
     "output_type": "display_data"
    },
    {
     "name": "stdout",
     "output_type": "stream",
     "text": [
      "SG 221\n"
     ]
    },
    {
     "data": {
      "application/vnd.jupyter.widget-view+json": {
       "model_id": "0bba4a710459457e8d634141a897d031",
       "version_major": 2,
       "version_minor": 0
      },
      "text/plain": [
       "Retrieving SummaryDoc documents:   0%|          | 0/2107 [00:00<?, ?it/s]"
      ]
     },
     "metadata": {},
     "output_type": "display_data"
    },
    {
     "data": {
      "application/vnd.jupyter.widget-view+json": {
       "model_id": "6f49a28b1f254c5798434fbc16c3a8f0",
       "version_major": 2,
       "version_minor": 0
      },
      "text/plain": [
       "Retrieving MaterialsDoc documents:   0%|          | 0/1 [00:00<?, ?it/s]"
      ]
     },
     "metadata": {},
     "output_type": "display_data"
    },
    {
     "name": "stdout",
     "output_type": "stream",
     "text": [
      "SG 222\n"
     ]
    },
    {
     "data": {
      "application/vnd.jupyter.widget-view+json": {
       "model_id": "9243ce1e7d584c71b302270902f7cbe8",
       "version_major": 2,
       "version_minor": 0
      },
      "text/plain": [
       "Retrieving SummaryDoc documents: 0it [00:00, ?it/s]"
      ]
     },
     "metadata": {},
     "output_type": "display_data"
    },
    {
     "name": "stdout",
     "output_type": "stream",
     "text": [
      "SG 222: no material found.\n",
      "No material found\n",
      "SG 223\n"
     ]
    },
    {
     "data": {
      "application/vnd.jupyter.widget-view+json": {
       "model_id": "07a510e4966a425db99b58d9df81409e",
       "version_major": 2,
       "version_minor": 0
      },
      "text/plain": [
       "Retrieving SummaryDoc documents:   0%|          | 0/75 [00:00<?, ?it/s]"
      ]
     },
     "metadata": {},
     "output_type": "display_data"
    },
    {
     "data": {
      "application/vnd.jupyter.widget-view+json": {
       "model_id": "a59d9fc93f6b4395961bf0cecde00623",
       "version_major": 2,
       "version_minor": 0
      },
      "text/plain": [
       "Retrieving MaterialsDoc documents:   0%|          | 0/1 [00:00<?, ?it/s]"
      ]
     },
     "metadata": {},
     "output_type": "display_data"
    },
    {
     "name": "stdout",
     "output_type": "stream",
     "text": [
      "SG 224\n"
     ]
    },
    {
     "data": {
      "application/vnd.jupyter.widget-view+json": {
       "model_id": "1cefc42a49464ef3bbefa49878163871",
       "version_major": 2,
       "version_minor": 0
      },
      "text/plain": [
       "Retrieving SummaryDoc documents:   0%|          | 0/26 [00:00<?, ?it/s]"
      ]
     },
     "metadata": {},
     "output_type": "display_data"
    },
    {
     "data": {
      "application/vnd.jupyter.widget-view+json": {
       "model_id": "58a068cb4abd40daae461fb89162a18e",
       "version_major": 2,
       "version_minor": 0
      },
      "text/plain": [
       "Retrieving MaterialsDoc documents:   0%|          | 0/1 [00:00<?, ?it/s]"
      ]
     },
     "metadata": {},
     "output_type": "display_data"
    },
    {
     "name": "stdout",
     "output_type": "stream",
     "text": [
      "SG 225\n"
     ]
    },
    {
     "data": {
      "application/vnd.jupyter.widget-view+json": {
       "model_id": "5ccccbd50e744550b62d1cdde41cdef7",
       "version_major": 2,
       "version_minor": 0
      },
      "text/plain": [
       "Retrieving SummaryDoc documents:   0%|          | 0/7557 [00:00<?, ?it/s]"
      ]
     },
     "metadata": {},
     "output_type": "display_data"
    },
    {
     "data": {
      "application/vnd.jupyter.widget-view+json": {
       "model_id": "b83baf87731e4860961a8250b2ae1053",
       "version_major": 2,
       "version_minor": 0
      },
      "text/plain": [
       "Retrieving MaterialsDoc documents:   0%|          | 0/1 [00:00<?, ?it/s]"
      ]
     },
     "metadata": {},
     "output_type": "display_data"
    },
    {
     "name": "stdout",
     "output_type": "stream",
     "text": [
      "SG 226\n"
     ]
    },
    {
     "data": {
      "application/vnd.jupyter.widget-view+json": {
       "model_id": "135b42618d0a4dbdb0671c5a504394ea",
       "version_major": 2,
       "version_minor": 0
      },
      "text/plain": [
       "Retrieving SummaryDoc documents:   0%|          | 0/10 [00:00<?, ?it/s]"
      ]
     },
     "metadata": {},
     "output_type": "display_data"
    },
    {
     "data": {
      "application/vnd.jupyter.widget-view+json": {
       "model_id": "8b8a07137d0c46efb957aeda77b90495",
       "version_major": 2,
       "version_minor": 0
      },
      "text/plain": [
       "Retrieving MaterialsDoc documents:   0%|          | 0/1 [00:00<?, ?it/s]"
      ]
     },
     "metadata": {},
     "output_type": "display_data"
    },
    {
     "name": "stdout",
     "output_type": "stream",
     "text": [
      "SG 227\n"
     ]
    },
    {
     "data": {
      "application/vnd.jupyter.widget-view+json": {
       "model_id": "ef9c7914859946d48c687cccc21c6bc0",
       "version_major": 2,
       "version_minor": 0
      },
      "text/plain": [
       "Retrieving SummaryDoc documents:   0%|          | 0/632 [00:00<?, ?it/s]"
      ]
     },
     "metadata": {},
     "output_type": "display_data"
    },
    {
     "data": {
      "application/vnd.jupyter.widget-view+json": {
       "model_id": "36567ea950b247188f00746e8f975c2e",
       "version_major": 2,
       "version_minor": 0
      },
      "text/plain": [
       "Retrieving MaterialsDoc documents:   0%|          | 0/1 [00:00<?, ?it/s]"
      ]
     },
     "metadata": {},
     "output_type": "display_data"
    },
    {
     "name": "stdout",
     "output_type": "stream",
     "text": [
      "SG 228\n"
     ]
    },
    {
     "data": {
      "application/vnd.jupyter.widget-view+json": {
       "model_id": "016b57e4dea745669fa6d8a603dc6e5c",
       "version_major": 2,
       "version_minor": 0
      },
      "text/plain": [
       "Retrieving SummaryDoc documents:   0%|          | 0/2 [00:00<?, ?it/s]"
      ]
     },
     "metadata": {},
     "output_type": "display_data"
    },
    {
     "data": {
      "application/vnd.jupyter.widget-view+json": {
       "model_id": "ca0f73a720ba497b9d7435a06b9cd3e3",
       "version_major": 2,
       "version_minor": 0
      },
      "text/plain": [
       "Retrieving MaterialsDoc documents:   0%|          | 0/1 [00:00<?, ?it/s]"
      ]
     },
     "metadata": {},
     "output_type": "display_data"
    },
    {
     "name": "stdout",
     "output_type": "stream",
     "text": [
      "SG 229\n"
     ]
    },
    {
     "data": {
      "application/vnd.jupyter.widget-view+json": {
       "model_id": "8b0f2431e02a4cb2bc34e48a92dc0f11",
       "version_major": 2,
       "version_minor": 0
      },
      "text/plain": [
       "Retrieving SummaryDoc documents:   0%|          | 0/92 [00:00<?, ?it/s]"
      ]
     },
     "metadata": {},
     "output_type": "display_data"
    },
    {
     "data": {
      "application/vnd.jupyter.widget-view+json": {
       "model_id": "e6149ac99ee04a92b7ceb2a127e46638",
       "version_major": 2,
       "version_minor": 0
      },
      "text/plain": [
       "Retrieving MaterialsDoc documents:   0%|          | 0/1 [00:00<?, ?it/s]"
      ]
     },
     "metadata": {},
     "output_type": "display_data"
    },
    {
     "name": "stdout",
     "output_type": "stream",
     "text": [
      "SG 230\n"
     ]
    },
    {
     "data": {
      "application/vnd.jupyter.widget-view+json": {
       "model_id": "928f9a3e81124db0a472d67678110c79",
       "version_major": 2,
       "version_minor": 0
      },
      "text/plain": [
       "Retrieving SummaryDoc documents:   0%|          | 0/233 [00:00<?, ?it/s]"
      ]
     },
     "metadata": {},
     "output_type": "display_data"
    },
    {
     "data": {
      "application/vnd.jupyter.widget-view+json": {
       "model_id": "770c35a93085480cb01c3ab77483ae04",
       "version_major": 2,
       "version_minor": 0
      },
      "text/plain": [
       "Retrieving MaterialsDoc documents:   0%|          | 0/1 [00:00<?, ?it/s]"
      ]
     },
     "metadata": {},
     "output_type": "display_data"
    }
   ],
   "source": [
    "for num_sg in range(1, 231):\n",
    "    print(f'SG {num_sg:3d}')\n",
    "    materials = mpr.materials.summary.search(spacegroup_number=num_sg,\n",
    "                                             num_magnetic_sites=0,\n",
    "                                             theoretical=True)\n",
    "    if len(materials) == 0:\n",
    "        print(f'SG {num_sg}: no material found.')\n",
    "    try:\n",
    "        id = materials[0].material_id\n",
    "    except IndexError:\n",
    "        print('No material found')\n",
    "        continue\n",
    "    cif = mpr.get_structure_by_material_id(id).to(fmt=\"cif\")\n",
    "    with open(f'{num_sg}.cif', 'w') as f:\n",
    "        f.write(cif)"
   ]
  },
  {
   "cell_type": "markdown",
   "id": "43ebed36-c0a3-42ad-a10a-56120afd59c3",
   "metadata": {},
   "source": [
    "Import CIF file and create a =.in with its crytal structure"
   ]
  },
  {
   "cell_type": "code",
   "execution_count": 2,
   "id": "dabb72bb-cf63-425c-ba75-b03382d5bf7d",
   "metadata": {},
   "outputs": [],
   "source": [
    "def printsettings():\n",
    "    fio=fploio.FPLOInput('=.in')\n",
    "    par=fio.parser()\n",
    "    d=par()\n",
    "    print( 'spacegroup number : ',d('spacegroup.number').S)\n",
    "    print( 'spacegroup setting: ',d('spacegroup.setting').S)\n",
    "    print( 'lattice constants : ',d('lattice_constants').listS)\n",
    "    print( 'axis angle        : ',d('axis_angles').listS)\n",
    "    dw=d('wyckoff_positions')\n",
    "    print( 'Wyckoff positions: ',dw.size())\n",
    "    for i in range(dw.size()):\n",
    "        taus=dw[i]('tau').listS\n",
    "        print( '{0:>2s} {1:>20s} {2:>20s} {3:>20s}'.format(dw[i]('element').S,taus[0],taus[1],taus[2]))"
   ]
  },
  {
   "cell_type": "code",
   "execution_count": 27,
   "id": "ba17db53-8726-47e9-8c43-5a5ad27b4b00",
   "metadata": {
    "scrolled": true
   },
   "outputs": [
    {
     "name": "stdout",
     "output_type": "stream",
     "text": [
      "1\n",
      "fedit pipe succesfull\n",
      "spacegroup number :  1\n",
      "spacegroup setting:  default\n",
      "lattice constants :  ['6.002268', '10.39779975', '19.46632734']\n",
      "axis angle        :  ['90.26591436', '90.04204249999999', '90.37922129']\n",
      "Wyckoff positions:  74\n",
      "Ag              0.00134             -0.00159              0.41118\n",
      "Ag            -0.005649             0.006076             -0.25562\n",
      "Ag             0.250703            -0.250682             0.000261\n",
      "Ag             0.486035             0.499791             0.254972\n",
      "Ag             0.493707            -0.494107            -0.255757\n",
      "Ag            -0.247904            -0.249791             0.000741\n",
      "Ag            -0.250872            -0.252652             0.334711\n",
      "Ag            -0.249166            -0.249507            -0.333619\n",
      "Ag                    0              0.49969            -0.000935\n",
      "Ag                    0                  1/2                 -1/3\n",
      "Ag             0.002472            -0.000141             0.255323\n",
      "Ag             0.007501            -0.006023            -0.412172\n",
      "Ag            -0.002405             0.001629            -0.080099\n",
      "Ag             0.249706            -0.253291             0.332614\n",
      "Ag             0.251235             0.250548            -0.000553\n",
      "Ag             0.248755              0.25017            -0.334056\n",
      "Ag             0.249604              0.25307             0.333532\n",
      "Ag             0.498189            -0.499859             0.077788\n",
      "Ag            -0.491579             0.493739             -0.41194\n",
      "Ag            -0.485909             0.498447             0.412695\n",
      "Ag             0.499373            -0.498467            -0.077958\n",
      "Ag             0.496689            -0.000374             0.000107\n",
      "Ag             0.499248             0.000334             0.334394\n",
      "Ag             0.499516             0.000171            -0.333481\n",
      "Ag                 -1/4             0.253039             0.333868\n",
      "Ag            -0.248363             0.249574             0.001512\n",
      "Pb             0.492598            -0.167675            -0.497784\n",
      "Pb            -0.495311            -0.165161              0.16499\n",
      "Pb             0.497923            -0.169606            -0.168613\n",
      "Pb            -0.001224            -0.335304             0.167881\n",
      "Pb             0.005223                 -1/3            -0.168961\n",
      "Pb             0.000226            -0.334102            -0.499694\n",
      "Pb                    0             0.335351             0.167967\n",
      "Pb            -0.007168               0.3378            -0.499582\n",
      "Pb            -0.002193             0.330028            -0.169078\n",
      "Pb            -0.497133             0.165044             0.164977\n",
      "Pb            -0.499352             0.171016             -0.49758\n",
      "Pb            -0.494751             0.166318             -0.16867\n",
      " O             0.311142            -0.312427             0.103095\n",
      " O              0.31272            -0.313145            -0.228926\n",
      " O             0.313318            -0.314898             0.434836\n",
      " O             -0.37417             0.001421            -0.435785\n",
      " O             -0.37444             0.000694             0.231127\n",
      " O            -0.380133            -0.002133            -0.103406\n",
      " O            -0.314974             -0.31265             0.231571\n",
      " O            -0.315789             -0.31197            -0.435854\n",
      " O            -0.305445            -0.310703            -0.103641\n",
      " O            -0.187283            -0.194979               0.1043\n",
      " O            -0.194716            -0.187722             0.437673\n",
      " O            -0.185076            -0.187403             -0.23083\n",
      " O            -0.187829             0.193958             0.104436\n",
      " O            -0.188457             0.187117             0.435595\n",
      " O             -0.18825             0.186623            -0.229141\n",
      " O            -0.126325             0.499301             0.101798\n",
      " O            -0.122177               -0.497             0.438661\n",
      " O            -0.127662             0.498265            -0.230922\n",
      " O             0.122865            -0.499219             0.227964\n",
      " O             0.130146            -0.498402            -0.434683\n",
      " O             0.122056             0.497776            -0.104585\n",
      " O             0.192375            -0.187454             0.230073\n",
      " O             0.182675             -0.18898            -0.439016\n",
      " O             0.187337             -0.18678            -0.102136\n",
      " O             0.192106             0.188449             0.230143\n",
      " O               0.1812             0.189143            -0.436937\n",
      " O              0.19314             0.188133            -0.104231\n",
      " O             0.311355             0.311406             0.103051\n",
      " O             0.307171             0.313909             0.437025\n",
      " O             0.315216             0.312054            -0.231034\n",
      " O              0.38295             -0.00081             0.103045\n",
      " O             0.377504             0.002547              0.43821\n",
      " O             0.373573            -0.001896            -0.230951\n",
      " O            -0.314974             0.313686             0.231513\n",
      " O            -0.311366             0.312069            -0.437173\n",
      " O            -0.311008             0.311952            -0.101592\n",
      "z-symbols'\n",
      "\n",
      "\n",
      "CPU TIME determineSiteOperations:  0.00 sec \n",
      "CPU TIME analyseGroup:  0.00 sec \n",
      "\n",
      "WARNING:\n",
      " Lattice type or lattice constants changed!\n",
      " Will take default values for bandplot special symmetry points!\n",
      "WARNING:\n",
      " number of Wyckoff positions changed!\n",
      " Will take default concentrations and initial_spin_split!\n",
      "\n",
      "\n",
      "------------------------------------------------------------------------\n",
      "Blocks contained in cif file '228.cif':\n",
      "------------------------------------------------------------------------\n",
      "symmetry block No.   name\n",
      "------------------------------------------------------------------------\n",
      "     0               cdcoh18n6cl5\n",
      "------------------------------------------------------------------------\n",
      "blockswithsymdata [0 ] \n",
      "\n",
      "Symmetry information for datablock: cdcoh18n6cl5\n",
      "Space group number: 1\n",
      "Name-Hall         : not found\n",
      "xyz-symbol        :  gives hallsymbol P 1\n",
      "\n",
      "The following symmetry options are available:\n",
      "  0 'xyz-symbols'\n",
      "\n",
      "Getting structure from symmetry option: 'xyz-symbols'\n",
      "\n",
      "\n",
      "C2\n",
      "PU TIME determineSiteOperations:  0.03 sec \n",
      "CPU TIME analyseGroup:  0.00 sec \n",
      "\n",
      "WARNING:\n",
      " Lattice type or lattice constants changed!\n",
      " Will take default values for bandplot special symmetry points!\n",
      "WARNING:\n",
      " number of Wyckoff positions changed!\n",
      " Will take default concentrations and initial_spin_split!\n",
      "\n",
      "\n",
      "------------------------------------------------------------------------\n",
      "Blocks contained in cif file '229.cif':\n",
      "------------------------------------------------------------------------\n",
      "symmetry block No.   name\n",
      "------------------------------------------------------------------------\n",
      "     0               ag\n",
      "------------------------------------------------------------------------\n",
      "blockswithsymdata [0 ] \n",
      "\n",
      "Symmetry information for datablock: ag\n",
      "Space group number: 1\n",
      "Name-Hall         : not found\n",
      "xyz-symbol        :  gives hallsymbol P 1\n",
      "\n",
      "The following symmetry options are available:\n",
      "  0 'xyz-symbols'\n",
      "\n",
      "Getting structure from symmetry option: 'xyz-symbols'\n",
      "\n",
      "\n",
      "CPU TIME determineSiteOperations:  0.02 sec \n",
      "CPU TIME analyseGroup:  0.00 sec \n",
      "\n",
      "WARNING:\n",
      " Lattice type or lattice constants changed!\n",
      " Will take default values for bandplot special symmetry points!\n",
      "WARNING:\n",
      " Element at some Wyckoff position changed!\n",
      " Will take default concentration and initial_spin_split!\n",
      "\n",
      "\n",
      "------------------------------------------------------------------------\n",
      "Blocks contained in cif file '230.cif':\n",
      "------------------------------------------------------------------------\n",
      "symmetry block No.   name\n",
      "------------------------------------------------------------------------\n",
      "     0               al2cd3(geo4)3\n",
      "------------------------------------------------------------------------\n",
      "blockswithsymdata [0 ] \n",
      "\n",
      "Symmetry information for datablock: al2cd3(geo4)3\n",
      "Space group number: 1\n",
      "Name-Hall         : not found\n",
      "xyz-symbol        :  gives hallsymbol P 1\n",
      "\n",
      "The following symmetry options are available:\n",
      "  0 'xyz-symbols'\n",
      "\n",
      "Getting structure from symmetry option: 'xyz-symbols'\n",
      "\n",
      "\n",
      "CPU TIME determineSiteOperations:  0.00 sec \n",
      "CPU TIME analyseGroup:  0.00 sec \n",
      "\n",
      "WARNING:\n",
      " Lattice type or lattice constants changed!\n",
      " Will take default values for bandplot special symmetry points!\n",
      "WARNING:\n",
      " number of Wyckoff positions changed!\n",
      " Will take default concentrations and initial_spin_split!\n",
      "\n",
      "\n",
      "------------------------------------------------------------------------\n",
      "Blocks contained in cif file '1.cif':\n",
      "------------------------------------------------------------------------\n",
      "symmetry block No.   name\n",
      "------------------------------------------------------------------------\n",
      "     0               ag13(pbo3)6\n",
      "------------------------------------------------------------------------\n",
      "blockswithsymdata [0 ] \n",
      "\n",
      "Symmetry information for datablock: ag13(pbo3)6\n",
      "Space group number: 1\n",
      "Name-Hall         : not found\n",
      "xyz-symbol        :  gives hallsymbol P 1\n",
      "\n",
      "The following symmetry options are available:\n",
      "  0 'xyz-symbols'\n",
      "\n",
      "Getting structure from symmetry option: 'xyz-symbols'\n",
      "\n",
      "\n",
      "CPU TIME determineSiteOperations:  0.00 sec \n",
      "CPU TIME analysefedit pipe succesfull\n",
      "spacegroup number :  2\n",
      "spacegroup setting:  default\n",
      "lattice constants :  ['8.79762', '9.02745759', '51.75631317']\n",
      "axis angle        :  ['93.75761381', '90.00464842', '118.92536087999999']\n",
      "Wyckoff positions:  43\n",
      "Ag                    0                    0                    0\n",
      "Ag             -0.21242            -0.427295            -0.141685\n",
      "Ag             0.283697            -0.428617            -0.142007\n",
      "Ag            -0.428799             0.143041            -0.285474\n",
      "Ag             0.071885             0.143191            -0.285448\n",
      "Ag            -0.357485             0.285337                  3/7\n",
      "Ag                  1/7             0.285489                  3/7\n",
      "Bi                    0                  1/2                    0\n",
      "Bi             0.146919            -0.209991            -0.069748\n",
      "Bi             0.283674             0.069113            -0.142383\n",
      "Bi            -0.429286            -0.358065            -0.285553\n",
      "Bi            -0.285862            -0.072047            -0.356989\n",
      "Bi             0.142968             -0.21407                  3/7\n",
      "Bi             0.428184             0.355577            -0.213892\n",
      "Bi                    0                  1/2                 -1/2\n",
      " I             0.295632             0.115967            -0.035704\n",
      " I            -0.187473            -0.375964            -0.037733\n",
      " I             0.460352             0.422746            -0.111535\n",
      " I             0.318644            -0.359163            -0.036323\n",
      " I             -0.03183            -0.062234            -0.107073\n",
      " I            -0.408502            -0.316612            -0.176955\n",
      " I             0.469803            -0.058736              -0.1059\n",
      " I             0.102714             0.204376            -0.179953\n",
      " I             -0.25299            -0.005798            -0.254436\n",
      " I            -0.157017             0.149518            -0.030894\n",
      " I            -0.021197             0.456374            -0.108867\n",
      " I            -0.397281             0.205043            -0.179859\n",
      " I             0.254851            -0.489697            -0.249383\n",
      " I            -0.121374             0.257301            -0.320398\n",
      " I            -0.244963            -0.490396            -0.249196\n",
      " I             0.111709            -0.278819            -0.174558\n",
      " I             0.388344            -0.223428            -0.322609\n",
      " I             0.032684            -0.434407            -0.397249\n",
      " I            -0.112083            -0.224095            -0.322483\n",
      " I             0.263521             0.026835            -0.251292\n",
      " I            -0.459149             0.081638            -0.392035\n",
      " I             0.164585             -0.17081            -0.463154\n",
      " I             0.040384             0.080904            -0.391909\n",
      " I             0.396091             0.291881            -0.317174\n",
      " I            -0.325887              0.34782            -0.465365\n",
      " I             0.318225             0.136685             0.459993\n",
      " I             0.173424             0.346997             -0.46524\n",
      " I            -0.450578            -0.401193            -0.394077\n",
      "Group:  0.00 sec \n",
      "\n",
      "WARNING:\n",
      " Lattice type or lattice constants changed!\n",
      " Will take default value3\n",
      "fedit pipe succesfull\n",
      "spacegroup number :  3\n",
      "spacegroup setting:  b\n",
      "lattice constants :  ['17.65428944', '4.381347', '12.53347981']\n",
      "axis angle        :  ['90', '90.41077817', '90']\n",
      "Wyckoff positions:  20\n",
      "Ag             0.421777             0.418669            -0.313052\n",
      "Ag            -0.081151            -0.425932            -0.187039\n",
      "Ag              0.31279              0.12978            -0.104864\n",
      "Ag            -0.186342            -0.124715            -0.392431\n",
      "Hg             0.407527            -0.003636             0.420017\n",
      "Hg            -0.091777             0.002865             0.077775\n",
      "Hg                    0             0.346055                  1/2\n",
      "Hg                  1/2            -0.348947                    0\n",
      "Hg             0.157872             0.376093             -0.32709\n",
      "Hg            -0.339466            -0.374257            -0.171898\n",
      " S             0.317189            -0.376969             0.359835\n",
      " S            -0.180198              0.37971              0.13774\n",
      " S             0.135536             0.363351             0.483148\n",
      " S            -0.363892             -0.36431             0.016132\n",
      " S                  1/2              0.33403                  1/2\n",
      " S                    0            -0.336536                    0\n",
      " I             0.315745            -0.120962            -0.328497\n",
      "Br            -0.180513             0.127503            -0.175099\n",
      "Cl            -0.481167             0.145022            -0.192408\n",
      "Cl             0.015215            -0.149512            -0.305085\n",
      "4\n",
      "fedit pipe succesfull\n",
      "spacegroup number :  1\n",
      "spacegroup setting:  default\n",
      "lattice constants :  ['7.45294786', '9.39069067', '18.54401']\n",
      "axis angle        :  ['90', '90', '91.09947223']\n",
      "Wyckoff positions:  82\n",
      "Ag             0.334699            -0.008629             0.231798\n",
      "Ag            -0.163366             0.488393             0.271788\n",
      "Ag            -0.336634             0.011607            -0.228212\n",
      "Ag             0.165301            -0.491371            -0.268202\n",
      "Ag             0.349859            -0.247593             0.014884\n",
      "Ag            -0.136912             0.269215             0.490619\n",
      "Ag            -0.363088             0.230785            -0.009381\n",
      "Ag             0.150141            -0.252407            -0.485116\n",
      "Ag             -0.31515            -0.008546             0.289899\n",
      "Ag             0.187176             0.491747             0.211468\n",
      "Ag             0.312824             0.008253            -0.288532\n",
      "Ag             -0.18485            -0.491454            -0.210101\n",
      "Ag              0.09262            -0.192397             0.340764\n",
      "Ag            -0.408833              0.30504             0.157499\n",
      "Ag            -0.091167              0.19496            -0.342501\n",
      "Ag              0.40738            -0.307603            -0.159236\n",
      "Ag             0.046432             0.192091             0.341984\n",
      "Ag            -0.449209             -0.31006             0.159668\n",
      "Ag            -0.050791             -0.18994            -0.340332\n",
      "Ag             0.453568             0.307909            -0.158016\n",
      "Ag             0.427364             0.291561             0.339089\n",
      "Ag            -0.071778            -0.206093             0.163595\n",
      "Ag            -0.428222            -0.293907            -0.336405\n",
      "Ag             0.072636             0.208439            -0.160911\n",
      "Ag             0.480977            -0.266965             0.332058\n",
      "Ag            -0.020621             0.234747             0.170745\n",
      "Ag            -0.479379             0.265253            -0.329255\n",
      "Ag             0.019023            -0.233035            -0.167942\n",
      " H             0.118046            -0.043424             0.054204\n",
      " H            -0.376079             0.463487             0.445586\n",
      " H            -0.123921             0.036513            -0.054414\n",
      " H             0.381954            -0.456576            -0.445796\n",
      " H             0.001203            -0.149438             0.004405\n",
      " H            -0.483858             0.354619             0.496611\n",
      " H            -0.016142             0.145381            -0.003389\n",
      " H             0.498797            -0.350562            -0.495595\n",
      " H            -0.297629              -0.2384            -0.039971\n",
      " H             0.220346             0.268394            -0.456184\n",
      " H             0.279654             0.231606             0.043816\n",
      " H            -0.202371              -0.2616             0.460029\n",
      " H            -0.364174            -0.405489            -0.054237\n",
      " H              0.14441             0.102159            -0.446873\n",
      " H              0.35559             0.397841             0.053127\n",
      " H            -0.135826            -0.094511             0.445763\n",
      " I             0.362315            -0.019029              0.39778\n",
      " I            -0.139643             0.488157             0.107527\n",
      " I            -0.360357             0.011843            -0.392473\n",
      " I             0.137685            -0.480971             -0.10222\n",
      " I             -0.37405             -0.02241             0.133544\n",
      " I             0.127433             0.473406             0.371413\n",
      " I             0.372567             0.026594            -0.128587\n",
      " I             -0.12595             -0.47759            -0.366456\n",
      " O            -0.383126            -0.315999            -0.024083\n",
      " O             0.124727             0.197264            -0.470838\n",
      " O             0.375273             0.302736             0.029162\n",
      " O            -0.116874            -0.184001             0.475917\n",
      " O             0.088627            -0.148443             0.047425\n",
      " O            -0.396928             0.357705             0.453945\n",
      " O            -0.103072             0.142295            -0.046055\n",
      " O             0.411373            -0.351557            -0.452575\n",
      " O             0.452131            -0.035192             0.001701\n",
      " O             0.047869            -0.464808            -0.498299\n",
      " F            -0.015784            -0.031124             -0.23811\n",
      " F             0.481927             0.470872            -0.260082\n",
      " F             0.018073             0.029128             0.239918\n",
      " F            -0.484216            -0.468876              0.26189\n",
      " F            -0.318122            -0.247089            -0.206848\n",
      " F             0.184075             0.249019            -0.291621\n",
      " F             0.315925             0.250981             0.208379\n",
      " F                -2/11            -0.252911             0.293152\n",
      " F            -0.123488            -0.130939            -0.059823\n",
      " F             0.392482              0.37001            -0.437989\n",
      " F             0.107518              0.12999             0.062011\n",
      " F            -0.376512            -0.369061             0.440177\n",
      " F             0.219901            -0.253103              0.21303\n",
      " F            -0.288085             0.249042                  2/7\n",
      " F            -0.211915             0.250958            -0.214202\n",
      " F             0.280099            -0.246897             -0.28697\n",
      " F             0.338971            -0.456245             0.092305\n",
      " F            -0.154794             0.037978             0.400928\n",
      " F            -0.345206             0.462022            -0.099072\n",
      " F             0.161029            -0.043755            -0.407695\n",
      "5\n",
      "s for bandplot special symmetry points!\n",
      "WARNING:\n",
      " number of Wyckoff positions changed!\n",
      " Will take default concentrations and initial_spin_split!\n",
      "\n",
      "\n",
      "------------------------------------------------------------------------\n",
      "Blocks contained in cif file '2.cif':\n",
      "------------------------------------------------------------------------\n",
      "symmetry block No.   name\n",
      "------------------------------------------------------------------------\n",
      "     0               ag13(bii4)14\n",
      "------------------------------------------------------------------------\n",
      "blockswithsymdata [0 ] \n",
      "\n",
      "Symmetry information for datablock: ag13(bii4)14\n",
      "Space group number: 1\n",
      "Name-Hall         : not found\n",
      "xyz-symbol        :  gives hallsymbol P 1\n",
      "\n",
      "The following symmetry options are available:\n",
      "  0 'xyz-symbols'\n",
      "\n",
      "Getting structure from symmetry option: 'xyz-symbols'\n",
      "\n",
      "\n",
      "CPU TIME determineSiteOperations:  0.00 sec \n",
      "CPU TIME analyseGroup:  0.00 sec \n",
      "\n",
      "WARNING:\n",
      " Lattice type or lattice constants changed!\n",
      " Will take default values for bandplot sfedit pipe succesfull\n",
      "spacegroup number :  5\n",
      "spacegroup setting:  b1\n",
      "lattice constants :  ['20.33265199851791', '7.20888200006883', '19.96826852308597']\n",
      "axis angle        :  ['90', '158.1812609582978', '90']\n",
      "Wyckoff positions:  20\n",
      "Ag           -0.1426495            0.0091155             -0.05609\n",
      "Ag           -0.3571405           -0.0053145            -0.441243\n",
      "Ag            -0.032588             0.310202            -0.188408\n",
      "Ag           -0.0341945            0.1951225             0.310065\n",
      " C             0.024442             -0.18478             0.228331\n",
      " C           -0.2882085           -0.0064975             0.163975\n",
      " C           -0.0295745           -0.3081495             0.269744\n",
      " C             0.212126             0.007327            -0.335444\n",
      " C             0.132863             -0.24962             0.387641\n",
      " C            0.2762715           -0.1388205            -0.229343\n",
      " C            -0.223075             0.139265             0.270971\n",
      " C            0.1318875           -0.2457765            -0.113889\n",
      " O            0.0602465           -0.1063835             0.207305\n",
      " O            0.1837865            0.1880705             0.199266\n",
      " O            -0.203819              0.25725             0.052394\n",
      " O             -0.20374             0.245268            -0.446377\n",
      " O            -0.326986            -0.007796             0.065748\n",
      " O           -0.1893535            0.3101785             0.295937\n",
      " O            -0.171731             0.006819             0.435871\n",
      " O             0.058678             -0.38783            -0.295091\n",
      "pecial symmetry points!\n",
      "WARNING:\n",
      " number of Wyckoff positions changed!\n",
      " Will take default concentrations and initial_spin_split!\n",
      "\n",
      "\n",
      "------------------------------------------------------------------------\n",
      "Blocks contained in cif file '3.cif':\n",
      "------------------------------------------------------------------------\n",
      "symmetry block No.   name\n",
      "------------------------------------------------------------------------\n",
      "     0               ag4hg5s5ibrcl2\n",
      "------------------------------------------------------------------------\n",
      "blockswithsymdata [0 ] \n",
      "\n",
      "Symmetry information for datablock: ag4hg5s5ibrcl2\n",
      "Space group number: 1\n",
      "Name-Hall         : not found\n",
      "xyz-symbol        :  gives hallsymbol P 1\n",
      "\n",
      "The following symmetry options are available:\n",
      "  0 'xyz-symbols'\n",
      "\n",
      "Getting structure from symmetry option: 'xyz-symbols'\n",
      "\n",
      "\n",
      "CPU TIME determineSiteOperations:  0.00 sec \n",
      "0 b \n",
      "CPU TIME analyseGroup:  0.00 sec \n",
      "\n",
      "WARNING:\n",
      " Lattice type or lattice constants changed!\n",
      " Will take default values for bandplot special 6symmetry points!\n",
      "WARNING:\n",
      " number of Wyckoff positions changed!\n",
      " Will take default concentrations and initial_spin_split!\n",
      "\n",
      "\n",
      "------------------------------------------------------------------------\n",
      "Blocks contained in cif file '4.cif':\n",
      "------------------------------------------------------------------------\n",
      "symmetry block No.   name\n",
      "------------------------------------------------------------------------\n",
      "     0               ag14h8i4(of2)5\n",
      "------------------------------------------------------------------------\n",
      "blockswithsymdata [0 ] \n",
      "\n",
      "Symmetry information for datablock: ag14h8i4(of2)5\n",
      "Space group number: 1\n",
      "Name-Hall         : not found\n",
      "xyz-symbol        :  gives hallsymbol P 1\n",
      "\n",
      "The following symmetry options are available:\n",
      "  0 'xyz-symbols'\n",
      "\n",
      "Getting structure from symmetry option: 'xyz-symbols'\n",
      "\n",
      "\n",
      "CPU TIME determineSiteOperations:  0.00 sec \n",
      "CPU TIME analyseGroup:  0.00 sec \n",
      "\n",
      "WARNING:\n",
      " Lattice type or lattice constants changed!\n",
      " Will take default values for bandplot special symmetry poi\n",
      "nts!\n",
      "WARNING:\n",
      " number of Wyckoff positions changed!\n",
      " Will take default concentrations and initial_spin_split!\n",
      "\n",
      "\n",
      "------------------------------------------------------------------------\n",
      "Blocks contained in cif file '5.cif':\n",
      "------------------------------------------------------------------------\n",
      "symmetry block No.   name\n",
      "------------------------------------------------------------------------\n",
      "     0               ag(co)2\n",
      "------------------------------------------------------------------------\n",
      "blockswithsymdata [0 ] \n",
      "\n",
      "Symmetry information for datablock: ag(co)2\n",
      "Space group number: 1\n",
      "Name-Hall         : not found\n",
      "xyz-symbol        :  gives hallsymbol P 1\n",
      "\n",
      "The following symmetry options are available:\n",
      "  0 'xyz-symbols'\n",
      "\n",
      "Getting structure from symmetry option: 'xyz-symbols'\n",
      "\n",
      "\n",
      "CPU TIME determineSiteOperations:  0.00 sec \n",
      "0 b1 \n",
      "1 b2 \n",
      "2 b3 \n",
      "CPU TIME analyseGroup:  0.00 sec \n",
      "\n",
      "WARNING:\n",
      " Lattice type or lattice constants changed!\n",
      " Will take default values for bandplot special symmetry points!\n",
      "WARNING:\n",
      " number of Wyckoff positions changed!\n",
      " Will take default concentrations and initial_spin_sfedit pipe succesfull\n",
      "spacegroup number :  6\n",
      "spacegroup setting:  b\n",
      "lattice constants :  ['14.1845937', '15.002858', '13.022649']\n",
      "axis angle        :  ['90', '107.88253897000001', '90']\n",
      "Wyckoff positions:  47\n",
      "Ag            -0.382276             0.158932              0.45908\n",
      "Ag             0.390307            -0.347631            -0.449922\n",
      "Ag             0.378023            -0.336894            -0.134027\n",
      "Bi            -0.069285                    0             0.100381\n",
      "Bi             -0.38713             0.185263             0.119319\n",
      "Bi            -0.029505             0.175195             0.245478\n",
      "Bi            -0.080256                    0             0.360347\n",
      "Bi             0.393155            -0.324146             0.220502\n",
      "Bi             0.140327             0.107092             0.156332\n",
      "Bi             0.024848                  1/2              0.25937\n",
      "Bi             0.282902                    0             0.348363\n",
      "Bi            -0.140508            -0.397954            -0.457659\n",
      "Bi              0.13662            -0.105256             0.444765\n",
      "Bi            -0.279569                  1/2            -0.345785\n",
      "Bi            -0.020852                    0             -0.26454\n",
      "Bi            -0.143388            -0.396834            -0.145212\n",
      "Bi            -0.400554            -0.174544            -0.226293\n",
      "Bi             0.086714                  1/2            -0.361811\n",
      "Bi             0.027417            -0.339287            -0.245091\n",
      "Bi             0.176112             0.128675            -0.189375\n",
      "Bi             0.071756                  1/2            -0.088344\n",
      "Br            -0.251504              0.22239             0.002025\n",
      "Br            -0.251641                  1/2            -0.015078\n",
      "Br            -0.464468            -0.360562             0.091587\n",
      "Br            -0.305567                    0             0.148524\n",
      "Br             -0.25063                  1/2             0.341649\n",
      "Br             0.302169                  1/2              0.18001\n",
      "Br             0.465054             0.141089             0.235752\n",
      "Br             0.019916            -0.361603             0.104366\n",
      "Br            -0.247663             0.222342             0.317313\n",
      "Br              0.26173            -0.277555             0.334574\n",
      "Br            -0.294255                    0             0.469135\n",
      "Br            -0.464118             -0.34663             0.425279\n",
      "Br             -0.03148             0.137314            -0.429694\n",
      "Br             0.025298            -0.357882              0.41175\n",
      "Br             0.461932             0.141707            -0.424222\n",
      "Br             0.288101                  1/2            -0.472129\n",
      "Br            -0.257884             0.218806            -0.327238\n",
      "Br             0.243385             0.251135            -0.326058\n",
      "Br            -0.009871             0.136587            -0.093619\n",
      "Br            -0.471842            -0.353463            -0.241548\n",
      "Br            -0.302221                    0               -0.178\n",
      "Br             0.266871                    0            -0.295351\n",
      "Br             0.286902                  1/2            -0.156791\n",
      "Br             0.464507             0.144633                -1/11\n",
      "Br             0.255202                    0            -0.014343\n",
      "Br             0.254964            -0.270065             0.009136\n",
      "7\n",
      "fedit pipe succesfull\n",
      "spacegroup number :  7\n",
      "spacegroup setting:  b1\n",
      "lattice constants :  ['7.28849548', '4.454032', '7.172518']\n",
      "axis angle        :  ['90', '90.93549195000001', '90']\n",
      "Wyckoff positions:  5\n",
      "Ag            -0.402142             0.236904            -0.353996\n",
      "Au             0.247013             0.104043                    0\n",
      "Au             0.008212            -0.499008            -0.255537\n",
      " S             -0.02746            -0.170423            -0.005612\n",
      " S            -0.450623            -0.264082              0.49022\n",
      "8\n",
      "fedit pipe succesfull\n",
      "spacegroup number :  8\n",
      "spacegroup setting:  b1\n",
      "lattice constants :  ['14.53735199180032', '4.55171599757568', '75.00625272642849']\n",
      "axis angle        :  ['90', '100.77292543372089', '90']\n",
      "Wyckoff positions:  62\n",
      "Ag            -0.002396                    0             0.002211\n",
      "Ag            -0.005536                    0            -0.097707\n",
      "Ag            -0.493168                    0            -0.352905\n",
      "Ag            -0.494537                    0            -0.452212\n",
      "Ag            -0.497572                    0             0.446206\n",
      "Ag            -0.002055                    0             0.400101\n",
      "Ag             0.499743                    0             0.349945\n",
      "Ag             0.499788                    0                  1/4\n",
      "Ag             0.000237                    0                 3/10\n",
      "Ag             0.001509                    0                  1/5\n",
      "Ag            -0.001472                    0             0.102603\n",
      "Ag            -0.495932                    0             0.150578\n",
      "Ag             0.497045                    0             0.050712\n",
      "Ag             0.248793                    0             0.077162\n",
      "Ag            -0.245941                    0             0.026608\n",
      "Bi            -0.498854                    0            -0.049256\n",
      "Bi               0.4997                    0             -0.14655\n",
      "Bi            -0.004162                    0            -0.199135\n",
      "Bi            -0.000403                    0            -0.303647\n",
      "Bi            -0.495374                    0            -0.250958\n",
      "Bi            -0.002202                    0            -0.401019\n",
      "Bi            -0.002802                    0             0.498937\n",
      " I            -0.377759                    0            -0.012469\n",
      " I             0.127145                    0            -0.062132\n",
      " I            -0.124047                    0            -0.037669\n",
      " I             -0.37553                    0             -0.11185\n",
      " I             0.378196                    0            -0.089124\n",
      " I             0.126791                    0            -0.161887\n",
      " I            -0.126666                    0            -0.137352\n",
      " I            -0.373942                    0            -0.213487\n",
      " I              0.36623                    0            -0.186963\n",
      " I             0.133938                    0            -0.262769\n",
      " I            -0.125276                    0            -0.236588\n",
      " I            -0.373697                    0            -0.312503\n",
      " I             0.372696                    0            -0.288124\n",
      " I             0.121774                    0            -0.360569\n",
      " I            -0.125062                    0            -0.337998\n",
      " I            -0.374505                    0            -0.411456\n",
      " I             0.371732                    0            -0.387855\n",
      " I             0.120481                    0             -0.46082\n",
      " I            -0.121802                    0            -0.437152\n",
      " I            -0.376249                    0             0.487724\n",
      " I             0.371931                    0            -0.487912\n",
      " I             0.112671                    0             0.435957\n",
      " I             -0.12212                    0             0.462579\n",
      " I            -0.388063                    0             0.385709\n",
      " I             0.380415                    0             0.410969\n",
      " I             0.112401                    0             0.336309\n",
      " I              -0.1115                    0             0.363383\n",
      " I            -0.387959                    0             0.286157\n",
      " I             0.388313                    0             0.313925\n",
      " I             0.111774                    0             0.236169\n",
      " I            -0.112872                    0             0.263659\n",
      " I            -0.383547                    0             0.188201\n",
      " I             0.387859                    0             0.213763\n",
      " I             0.113354                    0             0.138423\n",
      " I            -0.110331                    0             0.163886\n",
      " I            -0.377518                    0              0.08504\n",
      " I             0.381359                    0             0.111322\n",
      " I             0.131515                    0             0.036109\n",
      " I            -0.126044                    0             0.062493\n",
      " I             0.379654                    0             0.013378\n",
      "9\n",
      "fedit pipe succesfull\n",
      "spacegroup number :  9\n",
      "spacegroup setting:  b1\n",
      "lattice constants :  ['7.45888947318183', '12.78900669312147', '28.12003028']\n",
      "axis angle        :  ['90', '95.82464820338363', '90']\n",
      "Wyckoff positions:  24\n",
      "Ag          0.233105715          0.073647115          -0.01213065\n",
      "Ag          0.223862215         -0.248408765          -0.01641609\n",
      "Ag          -0.12600878          -0.24486642          -0.13912988\n",
      "Ag    -0.13943323611111     0.08278898611111          -0.13974654\n",
      "Ag           0.00090797          -0.09748123          -0.26202619\n",
      "Ag         -0.021216745         -0.421112065          -0.26683434\n",
      "Ag          0.117796145         -0.244527605          -0.39275909\n",
      "Ag         -0.382270335         -0.085809405          -0.38755231\n",
      "Sn         -0.244506705         -0.083700255          -0.02013496\n",
      "Sn           0.37234693          -0.07654556          -0.14487283\n",
      "Sn          -0.01939775           0.25745975           -0.2697597\n",
      "Sn              0.11906           0.09087124          -0.39405826\n",
      "Se          -0.22830956            0.0836538          -0.42521613\n",
      "Se           0.40703934          -0.08649676          -0.05000599\n",
      "Se           0.12987165           0.08395594          -0.29939194\n",
      "Se           0.15069443           -0.2574222          -0.29882587\n",
      "Se         -0.345596455         -0.085467485          -0.29378331\n",
      "Se           0.02340531           0.25083409          -0.17455672\n",
      "Se           0.03751955          -0.07948903          -0.16938158\n",
      "Se         -0.118791785         -0.255099795          -0.04601693\n",
      "Se         -0.227975775         -0.248496585          -0.42253346\n",
      "Se          0.019490535         -0.413574035          -0.17278168\n",
      "Se         -0.107197145          0.084462215          -0.04584362\n",
      "Se          0.273404075         -0.072998935          -0.41887192\n",
      "10\n",
      "plit!\n",
      "\n",
      "\n",
      "------------------------------------------------------------------------\n",
      "Blocks contained in cif file '6.cif':\n",
      "------------------------------------------------------------------------\n",
      "symmetry block No.   name\n",
      "------------------------------------------------------------------------\n",
      "     0               ag3(bi2br3)7\n",
      "------------------------------------------------------------------------\n",
      "blockswithsymdata [0 ] \n",
      "\n",
      "Symmetry information for datablock: ag3(bi2br3)7\n",
      "Space group number: 1\n",
      "Name-Hall         : not found\n",
      "xyz-symbol        :  gives hallsymbol P 1\n",
      "\n",
      "The following symmetry options are available:\n",
      "  0 'xyz-symbols'\n",
      "\n",
      "Getting structure from symmetry option: 'xyz-symbols'\n",
      "\n",
      "\n",
      "CPU TIME determineSiteOperations:  0.00 sec \n",
      "0 b \n",
      "CPU TIME analyseGroup:  0.00 sec \n",
      "\n",
      "WARNING:\n",
      " Lattice type or lattice constants changed!\n",
      " Will take default values for bandplot special symmetry points!\n",
      "WARNING:\n",
      " number of Wyckoff positions changed!\n",
      " Will take default concentrations and initial_spin_split!\n",
      "\n",
      "\n",
      "---fedit pipe succesfull\n",
      "spacegroup number :  10\n",
      "spacegroup setting:  b\n",
      "lattice constants :  ['6.89667975', '3.975012', '5.1708']\n",
      "axis angle        :  ['90', '93.75627385', '90']\n",
      "Wyckoff positions:  5\n",
      "Ag              -0.1331                    0            -0.292109\n",
      "Ag             -0.27027                 -1/2             0.303214\n",
      "Au                 -1/2                    0                    0\n",
      " S                 -1/2                    0                  1/2\n",
      " S                    0                 -1/2                    0\n",
      "---------------------------------------------------------------------\n",
      "Blocks contained in cif file '7.cif':\n",
      "------------------------------------------------------------------------\n",
      "symmetry block No.   name\n",
      "------------------------------------------------------------------------\n",
      "     0               ag(aus)2\n",
      "------------------------------------------------------------------------\n",
      "blockswithsymdata [0 ] \n",
      "\n",
      "Symmetry information for datablock: ag(aus)2\n",
      "Space group number: 1\n",
      "Name-Hall         : not found\n",
      "xyz-symbol        :  gives hallsymbol P 1\n",
      "\n",
      "The following symmetry options are available:\n",
      "  0 'xyz-symbols'\n",
      "\n",
      "Getting structure from symmetry option: 'xyz-symbols'\n",
      "\n",
      "\n",
      "CPU TIME determineSiteOperations:  0.00 sec \n",
      "0 b1 \n",
      "CPU TIME analyseGroup:  0.00 sec \n",
      "\n",
      "WARNING:\n",
      " Lattice type or lattice constants changed!\n",
      " Will take default values for bandplot special symmetry points!\n",
      "WARNING:\n",
      " number of Wyckoff positions changed!\n",
      " Will take default concentrations and initial_spin_split!\n",
      "\n",
      "\n",
      "------------------------------------------------------------------------\n",
      "Blocks contained in cif file '8.cif':\n",
      "------------------------------------------------------------------------\n",
      "symmetry block No.   name\n",
      "------------------------------------------------------------------------\n",
      "     0               ag15bi7i40\n",
      "------------------------------------------------------------------------\n",
      "blockswithsymdata [0 ] \n",
      "\n",
      "Symmetry information for datablock: ag15bi7i40\n",
      "Space group number: 1\n",
      "Name-Hall         : not found\n",
      "xyz-symbol        :  gives hallsymbol P 1\n",
      "\n",
      "The following symmetry options are available:\n",
      "  0 'xyz-symbols'\n",
      "\n",
      "Getting structure from symmetry option: 'xyz-symbols'\n",
      "\n",
      "\n",
      "CPU TIME determineSiteOperations:  0.00 sec \n",
      "0 b1 \n",
      "1 b2 \n",
      "CPU TIME analyseGroup:  0.00 sec \n",
      "\n",
      "WARNING:\n",
      " Lattice type or lattice constants changed!\n",
      " Will take default values for bandplot special symmetry points!\n",
      "WARNING:\n",
      " number of Wyckoff positions changed!\n",
      " Will take default concentrations and initial_spin_split!\n",
      "\n",
      "\n",
      "-----------------------------11\n",
      "-------------------------------------------\n",
      "Blocks contained in cif file '9.cif':\n",
      "------------------------------------------------------------------------\n",
      "symmetry block No.   name\n",
      "------------------------------------------------------------------------\n",
      "     0               ag2snse3\n",
      "------------------------------------------------------------------------\n",
      "blockswithsymdata [0 ] \n",
      "\n",
      "Symmetry information for datablock: ag2snse3\n",
      "Space group number: 1\n",
      "Name-Hall         : not found\n",
      "xyz-symbol        :  gives hallsymbol P 1\n",
      "\n",
      "The following symmetry options are available:\n",
      "  0 'xyz-symbols'\n",
      "\n",
      "Getting structure from symmetry option: 'xyz-symbols'\n",
      "\n",
      "\n",
      "CPU TIME determineSiteOperations:  0.00 sec \n",
      "0 b1 \n",
      "1 b2 \n",
      "2 b3 \n",
      "3 -b1 \n",
      "CPU TIME analyseGroup:  0.00 sec \n",
      "\n",
      "WARNING:\n",
      " Lattice type or lattice constants changed!\n",
      " Will take default values for bandplot special symmetry points!\n",
      "WARNING:\n",
      " number of Wyckoff positions changed!\n",
      " Will take default concentrations and initial_spin_split!\n",
      "\n",
      "\n",
      "----------------------------fedit pipe succesfull\n",
      "spacegroup number :  2\n",
      "spacegroup setting:  default\n",
      "lattice constants :  ['7.140405', '9.445173', '18.11065211']\n",
      "axis angle        :  ['89.54897895000001', '90', '90']\n",
      "Wyckoff positions:  32\n",
      "Ag                  1/4            -0.294564             0.333942\n",
      "Ag                 -1/4             0.048029             0.380516\n",
      "Ag            -0.461097            -0.024125             0.244303\n",
      "Ag             0.038903             0.024125            -0.244303\n",
      "Ag              0.45937             0.393587             0.333677\n",
      "Ag             -0.04063            -0.393587            -0.333677\n",
      "Ag             0.485527            -0.231346              0.47648\n",
      "Ag            -0.014473             0.231346             -0.47648\n",
      "Ag              0.48758            -0.371398             0.153601\n",
      "Ag             -0.01242             0.371398            -0.153601\n",
      "Ag                 -1/4            -0.087342             0.089984\n",
      "Ag            -0.496213             0.273326              0.06854\n",
      "Ag             0.003787            -0.273326             -0.06854\n",
      "As                 -1/4            -0.313129             0.321711\n",
      "As                  1/4            -0.069425             0.072796\n",
      "As                  1/4             0.062042             0.394396\n",
      " I                 -1/4             0.213621             0.218751\n",
      " I                  1/4            -0.472843             0.457436\n",
      " I                  1/4             0.400925             0.193575\n",
      " I                 -1/4            -0.461844             0.046828\n",
      " O            -0.450042            -0.270685             0.271071\n",
      " O             0.049958             0.270685            -0.271071\n",
      " O                 -1/4             -0.20811             0.400371\n",
      " O                 -1/4            -0.491058             0.342938\n",
      " O                  4/9            -0.127029             0.122303\n",
      " O            -0.055589             0.127029            -0.122303\n",
      " O                  1/4            -0.140958            -0.015138\n",
      " O             0.450382             0.168019             0.396639\n",
      " O            -0.049618            -0.168019            -0.396639\n",
      " O                  1/4            -0.047483             0.471304\n",
      " O                  1/4             -0.03526             0.313089\n",
      " O                  1/4             0.113213              0.06237\n",
      "--------------------------------------------\n",
      "Blocks contained in cif file '10.cif':\n",
      "------------12\n",
      "fedit pipe succesfull\n",
      "spacegroup number :  12\n",
      "spacegroup setting:  b1\n",
      "lattice constants :  ['14.3362080958254', '4.12675042164611', '14.33570765765046']\n",
      "axis angle        :  ['90', '146.4700507121658', '90']\n",
      "Wyckoff positions:  3\n",
      "Ac           -0.4231397                    0           0.42876558\n",
      "Ac           0.07331298                    0          -0.07894438\n",
      "Mg          -0.25367061                    0           0.24316616\n",
      "13\n",
      "fedit pipe succesfull\n",
      "spacegroup number :  3\n",
      "spacegroup setting:  b\n",
      "lattice constants :  ['21.60384562625645', '8.407144', '4.442491']\n",
      "axis angle        :  ['90', '90.5638054219276', '90']\n",
      "Wyckoff positions:  30\n",
      "Ag             0.071741             0.442795             0.095932\n",
      "Ag             0.428259            -0.442795             0.404068\n",
      " H              0.22848            -0.384919            -0.448552\n",
      " H              0.27152             0.384919            -0.051448\n",
      " H             0.170686             0.489448            -0.308852\n",
      " H             0.329314            -0.489448            -0.191148\n",
      " H             0.219991            -0.118323            -0.423217\n",
      " H             0.280009             0.118323            -0.076783\n",
      " H             0.158021            -0.025975            -0.242421\n",
      " H             0.341979             0.025975            -0.257579\n",
      " H            -0.045412            -0.067388            -0.360123\n",
      " H            -0.454588             0.067388            -0.139877\n",
      " H            -0.083013                  1/9            -0.277469\n",
      " H            -0.416987                 -1/9            -0.222531\n",
      " C             0.154278            -0.270837            -0.259832\n",
      " C             0.345722             0.270837            -0.240168\n",
      " C                    0             0.133245                  1/2\n",
      " C                 -1/2            -0.133245                    0\n",
      " S                 1/12            -0.283274    -0.08965166666667\n",
      " S                 5/12             0.283274    -0.41034833333333\n",
      " S                    0             0.339896                  1/2\n",
      " S                 -1/2            -0.339897                    0\n",
      "Br             0.171788             0.243573             0.104531\n",
      "Br             0.328212            -0.243573             0.395469\n",
      " N             0.186871            -0.398649             -0.34339\n",
      " N             0.313129             0.398649             -0.15661\n",
      " N             0.178134            -0.127198            -0.320548\n",
      " N             0.321866             0.127198            -0.179452\n",
      " N            -0.045444             0.053662            -0.366918\n",
      " N            -0.454556            -0.053662            -0.133082\n",
      "14\n",
      "------------------------------------------------------------\n",
      "symmetry block No.   name\n",
      "------------------------------------------------------------------------\n",
      "     0               ag4aus2\n",
      "------------------------------------------------------------------------\n",
      "blockswithsymdata [0 ] \n",
      "\n",
      "Symmetry information for datablock: ag4aus2\n",
      "Space group number: 1\n",
      "Name-Hall         : not found\n",
      "xyz-symbol        :  gives hallsymbol P 1\n",
      "\n",
      "The following symmetry options are available:\n",
      "  0 'xyz-symbols'\n",
      "\n",
      "Getting structure from symmetry option: 'xyz-symbols'\n",
      "\n",
      "\n",
      "CPU TIME determineSiteOperations:  0.00 sec \n",
      "0 b \n",
      "CPU TIME analyseGroup:  0.00 sec \n",
      "\n",
      "WARNING:\n",
      " Lattice type or lattice constants changed!\n",
      " Will take default values for bandplot special symmetry points!\n",
      "WARNING:\n",
      " number of Wyckoff positions changed!\n",
      " Will take default concentrations and initial_spin_split!\n",
      "\n",
      "\n",
      "------------------------------------------------------------------------\n",
      "Blocks contained in cif file '11.cif':\n",
      "--------------------------------fedit pipe succesfull\n",
      "spacegroup number :  14\n",
      "spacegroup setting:  b1\n",
      "lattice constants :  ['5.17543244', '10.97563797', '7.2070079']\n",
      "axis angle        :  ['90', '130.17656477000003', '90']\n",
      "Wyckoff positions:  6\n",
      "Ag                    0                    0                    0\n",
      "Au           0.24884057           0.18016213          -0.47165759\n",
      " F           0.05302397          -0.27735285          -0.24060208\n",
      " F          -0.40616846          -0.33065207           0.28957559\n",
      " F           0.46192843          -0.41245004            -0.333659\n",
      " F           -0.0980012          -0.47245364            0.1556904\n",
      "----------------------------------------\n",
      "symmetry block No.   name\n",
      "------------------------------------------------------------------------\n",
      "     0               ag13as3(io3)4\n",
      "------------------------------------------------------------------------\n",
      "blockswithsymdata [0 ] \n",
      "\n",
      "Symmetry information for datablock: ag13as3(io3)4\n",
      "Space group number: 1\n",
      "Name-Hall         : not found\n",
      "xyz-symbol        :  gives hallsymbol P 1\n",
      "\n",
      "The following symmetry options are available:\n",
      "  0 'xyz-symbols'\n",
      "\n",
      "Getting structure from symmetry option: 'xyz-symbols'\n",
      "\n",
      "\n",
      "CPU TIME determineSiteOperations:  0.00 sec \n",
      "CPU TIME analyseGroup:  0.00 sec \n",
      "\n",
      "WARNING:\n",
      " Lattice type or lattice constants changed!\n",
      " Will take default values for bandplot special symmetry points!\n",
      "WARNING:\n",
      " number of Wyckoff positions changed!\n",
      " Will take default concentrations and initial_spin_split!\n",
      "\n",
      "\n",
      "------------------------------------------------------------------------\n",
      "Blocks contained in cif file '12.cif':\n",
      "------------------------------------------------------------------------\n",
      "symmetry block No.   name\n",
      "------------------------------------------------------------------------\n",
      "     0               ac2mg\n",
      "------------------------------------------------------------------------\n",
      "blockswithsymdata [0 ] \n",
      "\n",
      "Symmetry information for datablock: ac2mg\n",
      "Space group number: 1\n",
      "Name-Hall         : not found\n",
      "xyz-symbol        :  gives hallsymbol P 1\n",
      "\n",
      "The following symmetry options are available:\n",
      "  0 'xyz-symbols'\n",
      "\n",
      "Getting structure from symmetry option: 'xyz-symbols'\n",
      "\n",
      "\n",
      "CPU TIME determineSiteOperations:  0.00 sec \n",
      "0 b1 \n",
      "1 b2 \n",
      "2 b3 \n",
      "CPU TIME analyseGroup:  0.00 sec \n",
      "\n",
      "WARNING:\n",
      " Lattice type or lattice constants changed!\n",
      " Will take default values for bandplot special symmetry points!\n",
      "WARNING:\n",
      " number of Wyckoff positions changed!\n",
      " Will take default concentrations and initial_spin_split!\n",
      "\n",
      "\n",
      "------------------------------------------------------------------------\n",
      "Blocks contained in cif file '13.cif':\n",
      "------------------------------------------------------------------------\n",
      "symmetry block No.   name\n",
      "------------------------------------------------------------------------\n",
      "     0               ag2h12c3s3(brn3)2\n",
      "------------------------------------------------------------------------\n",
      "blockswithsymdata [0 ] \n",
      "\n",
      "Symmetry information for datablock: ag2h12c3s3(brn3)2\n",
      "Space group number: 1\n",
      "Name-Hall         : not found\n",
      "xyz-symbol        :  gives hallsymbol P 1\n",
      "\n",
      "The following symmetry options are available:\n",
      "  0 'xyz-symbols'\n",
      "\n",
      "Getting structure from symmetry option: 'xyz-symbols'\n",
      "\n",
      "\n",
      "CPU TIME determineSiteOperations:  0.00 sec \n",
      "0 b \n",
      "CPU TIME analyseGroup:  0.00 sec \n",
      "\n",
      "WARNING:\n",
      " Lattice type or lattice constants changed!\n",
      " Will take default values for bandplot special symmetry points!\n",
      "WARNING:\n",
      " number of Wyckoff positions changed!\n",
      " Will take default concentrations and initial_spin_split!\n",
      "\n",
      "\n",
      "------------------------------------------------------------------------\n",
      "Blocks contained in cif file '14.cif':\n",
      "------------------------------------------------------------------------\n",
      "symmetry block No.   name\n",
      "-----------------------------------------------------15\n",
      "fedit pipe succesfull\n",
      "spacegroup number :  15\n",
      "spacegroup setting:  b1\n",
      "lattice constants :  ['20.95939200734812', '7.42793600266644', '7.54242312']\n",
      "axis angle        :  ['90', '107.68720237443509', '90']\n",
      "Wyckoff positions:  10\n",
      "Ag            0.0860055           -0.0174745             0.183169\n",
      "Ag            -0.157594            -0.299751             0.076664\n",
      " C             0.203143             0.190418             0.475113\n",
      " C            0.4513325            0.0018815             0.408659\n",
      " C            -0.244744            -0.244991            -0.358241\n",
      " C           -0.0030365           -0.3612485             0.013549\n",
      " O             0.146645             0.116673             0.448334\n",
      " O            0.0062315           -0.1925305             0.469606\n",
      " O           -0.2399615            0.2390685             0.312234\n",
      " O             0.392403             0.002204             0.299373\n",
      "16\n",
      "fedit pipe succesfull\n",
      "spacegroup number :  16\n",
      "spacegroup setting:  default\n",
      "lattice constants :  ['5.65406846', '5.65501113', '10.20667017']\n",
      "axis angle        :  ['90', '90', '90']\n",
      "Wyckoff positions:  6\n",
      "Al                    0                    0                    0\n",
      "Al                 -1/2                    0                 -1/2\n",
      " P                    0                 -1/2                    0\n",
      " P                    0                    0                 -1/2\n",
      " S           0.20375568           0.27667968           0.11124951\n",
      " S          -0.22395464          -0.20178963          -0.38759774\n",
      "17\n",
      "fedit pipe succesfull\n",
      "spacegroup number :  17\n",
      "spacegroup setting:  default\n",
      "lattice constants :  ['7.348443', '7.937636', '4.582241']\n",
      "axis angle        :  ['90', '90', '90']\n",
      "Wyckoff positions:  4\n",
      "Ag             0.102896             0.244146             0.005544\n",
      "Ag            -0.390948                    0                 -1/2\n",
      "Ag             0.385067                 -1/2                    0\n",
      "Se             0.294451             0.250649            -0.480019\n",
      "18\n",
      "-------------------\n",
      "     0               ag(auf4)2\n",
      "------------------------------------------------------------------------\n",
      "blockswithsymdata [0 ] \n",
      "\n",
      "Symmetry information for datablock: ag(auf4)2\n",
      "Space group number: 1\n",
      "Name-Hall         : not found\n",
      "xyz-symbol        :  gives hallsymbol P 1\n",
      "\n",
      "The following symmetry options are available:\n",
      "  0 'xyz-symbols'\n",
      "\n",
      "Getting structure from symmetry option: 'xyz-symbols'\n",
      "\n",
      "\n",
      "CPU TIME determineSiteOperations:  0.00 sec \n",
      "0 b1 \n",
      "1 b2 \n",
      "CPU TIME analyseGroup:  0.00 sec \n",
      "\n",
      "WARNING:\n",
      " Lattice type or lattice constants changed!\n",
      " Will take default values for bandplot special symmetry points!\n",
      "WARNING:\n",
      " number of Wyckoff positions changed!\n",
      " Will take default concentrations and initial_spin_split!\n",
      "\n",
      "\n",
      "------------------------------------------------------------------------\n",
      "Blocks contained in cif file '15.cif':\n",
      "------------------------------------------------------------------------\n",
      "symmetry block No.   name\n",
      "--------------------------------------------------------------fedit pipe succesfull\n",
      "spacegroup number :  4\n",
      "spacegroup setting:  b\n",
      "lattice constants :  ['5.81325448', '5.81950671', '4.00499085']\n",
      "axis angle        :  ['90', '90.51055438000002', '90']\n",
      "Wyckoff positions:  3\n",
      "Ag          -0.00286118          -0.49057973           0.01570694\n",
      "Ag           0.49662379           0.49344727           0.00023678\n",
      " S          -0.24853245           0.24713246           0.32547177\n",
      "19\n",
      "----------\n",
      "     0               ag(co)2\n",
      "------------------------------------------------------------------------\n",
      "blockswithsymdata [0 ] \n",
      "\n",
      "Symmetry information for datablock: ag(co)2\n",
      "Space group number: 1\n",
      "Name-Hall         : not found\n",
      "xyz-symbol        :  gives hallsymbol P 1\n",
      "\n",
      "The following symmetry options are available:\n",
      "  0 'xyz-symbols'\n",
      "\n",
      "Getting structure from symmetry option: 'xyz-symbols'\n",
      "\n",
      "\n",
      "CPU TIME determineSiteOperations:  0.00 sec \n",
      "0 b1 \n",
      "1 b2 \n",
      "2 b3 \n",
      "3 -b1 \n",
      "4 -b2 \n",
      "5 -b3 \n",
      "CPU TIME analyseGroup:  0.00 sec \n",
      "\n",
      "WARNING:\n",
      " Lattice type or lattice constants changed!\n",
      " Will take default values for bandplot special symmetry points!\n",
      "WARNING:\n",
      " number of Wyckoff positions changed!\n",
      " Will take default concentrations and initial_spin_split!\n",
      "\n",
      "\n",
      "------------------------------------------------------------------------\n",
      "Blocks contained in cif file '16.cif':\n",
      "------------------------------------------------------------------------\n",
      "symmetry block No.   name\n",
      "------------------------------------------------------------------------\n",
      "     0               alps4\n",
      "------------------------------------------------------------------------\n",
      "blockswithsymdata [0 ] \n",
      "\n",
      "Symmetry information for datablock: alps4\n",
      "Space group number: 1\n",
      "Name-Hall         : not found\n",
      "xyz-symbol        :  gives hallsymbol P 1\n",
      "\n",
      "The following symmetry options are available:\n",
      "  0 'xyz-symbols'\n",
      "\n",
      "Getting structure from symmetry option: 'xyz-symbols'\n",
      "\n",
      "\n",
      "CPU TIME determineSiteOperations:  0.00 sec \n",
      "CPU TIME analyseGroup:  0.00 sec \n",
      "\n",
      "WARNING:\n",
      " Lattice type or lattice constants changed!\n",
      " Will take default values for bandplot special symmetry points!\n",
      "WARNING:\n",
      " number of Wyckoff positions changed!\n",
      " Will take default concentrations and initial_spin_split!\n",
      "\n",
      "\n",
      "------------------------------------------------------------------------\n",
      "Blocks contained in cif file '17.cif':\n",
      "------------------------------------------------------------------------\n",
      "symmetry block No.   name\n",
      "------------------------------------------------------------------------\n",
      "     0               ag2se\n",
      "------------------------------------------------------------------------\n",
      "blockswithsymdata [0 ] \n",
      "\n",
      "Symmetry information for datablock: ag2se\n",
      "Space group number: 1\n",
      "Name-Hall         : not found\n",
      "xyz-symbol        :  gives hallsymbol P 1\n",
      "\n",
      "The following symmetry options are available:\n",
      "  0 'xyz-symbols'\n",
      "\n",
      "Getting structure from symmetry option: 'xyz-symbols'\n",
      "\n",
      "\n",
      "CPU TIME determineSiteOperations:  0.00 sec \n",
      "CPU TIME analyseGroup:  0.00 sec \n",
      "\n",
      "WARNING:\n",
      " Lattice type or lattice constants changed!\n",
      " Will take default values for bandplot special symmetry points!\n",
      "WARNING:\n",
      " number of Wyckoff positions changed!\n",
      " Will take default concentrations and initial_spin_split!\n",
      "\n",
      "\n",
      "------------------------------------------------------------------------\n",
      "Blocks contained in cif file '18.cif':\n",
      "------------------------------------------------------------------------\n",
      "symmetry block No.   name\n",
      "------------------------------------------------------------------------\n",
      "     0               ag2s\n",
      "------------------------------------------------------------------------\n",
      "blockswithsymdata [0 ] \n",
      "\n",
      "Symmefedit pipe succesfull\n",
      "spacegroup number :  19\n",
      "spacegroup setting:  default\n",
      "lattice constants :  ['4.67039895', '6.97833905', '10.53823366']\n",
      "axis angle        :  ['90', '90', '90']\n",
      "Wyckoff positions:  6\n",
      "Ag          -0.40977752           0.12751887          -0.37452329\n",
      "Ag          -0.01936807          -0.10655292          -0.22576579\n",
      "Ge          -0.47673627          -0.36952685          -0.43611634\n",
      " O          -0.30155616          -0.35930249          -0.28906681\n",
      " O           0.27708591          -0.17234063          -0.43993094\n",
      " O          -0.35258669           -0.0864017           -0.0391353\n",
      "20\n",
      "fedit pipe succesfull\n",
      "spacegroup number :  20\n",
      "spacegroup setting:  default\n",
      "lattice constants :  ['15.31790599322049', '15.06039799419833', '10.722358']\n",
      "axis angle        :  ['90', '90', '90']\n",
      "Wyckoff positions:  16\n",
      "Ag                    0             0.388142                  1/4\n",
      "Ag                    0             0.371173                 -1/4\n",
      "Ag            -0.243195             0.121082            -0.257251\n",
      "Ag            -0.122918                    0                 -1/2\n",
      "Sn           -0.1260805            0.2516725             0.494131\n",
      "Sn            -0.244375             0.129392             0.242885\n",
      "Sn            -0.365126                    0                    0\n",
      "Sn                    0             0.127425                  1/4\n",
      " S            -0.015306             0.379385             0.491189\n",
      " S           -0.1341515            0.2522455            -0.266062\n",
      " S           -0.2406725            0.1278115             0.486193\n",
      " S            -0.124783             0.253128             0.246881\n",
      " S            -0.248681             0.126516            -0.003311\n",
      " S            -0.361143             0.003909             0.240056\n",
      " S           -0.0088005            0.1308215              0.48889\n",
      " S            -0.123828             0.011965             0.248433\n",
      "21\n",
      "fedit pipe succesfull\n",
      "spacegroup number :  3\n",
      "spacegroup setting:  b\n",
      "lattice constants :  ['5.27133717', '5.828554', '5.11334914']\n",
      "axis angle        :  ['90', '119.01340114', '90']\n",
      "Wyckoff positions:  6\n",
      "Al                    0                 -1/3                    0\n",
      "Si                  1/2             0.002319                    0\n",
      "Si                  1/2             0.331014                 -1/2\n",
      " O             0.428733                  1/6            -0.285634\n",
      " O            -0.220474             0.488895            -0.300314\n",
      " O            -0.220474            -0.155562             0.079839\n",
      "22\n",
      "try information for datablock: ag2s\n",
      "Space group number: 1\n",
      "Name-Hall         : not found\n",
      "xyz-symbol        :  gives hallsymbol P 1\n",
      "\n",
      "The following symmetry options are available:\n",
      "  0 'xyz-symbols'\n",
      "\n",
      "Getting structure from symmetry option: 'xyz-symbols'\n",
      "\n",
      "\n",
      "CPU TIME determineSiteOperations:  0.00 sec \n",
      "0 b \n",
      "CPU TIME analyseGroup:  0.00 sec \n",
      "\n",
      "WARNING:\n",
      " Lattice type or lattice constants changed!\n",
      " Will take default values for bandplot special symmetry points!\n",
      "WARNING:\n",
      " number of Wyckoff positions changed!\n",
      " Will take default concentrations and initial_spin_split!\n",
      "\n",
      "\n",
      "------------------------------------------------------------------------\n",
      "Blocks contained in cif file '19.cif':\n",
      "------------------------------------------------------------------------\n",
      "symmetry block No.   name\n",
      "------------------------------------------------------------------------\n",
      "     0               ag2geo3\n",
      "------------------------------------------------------------------------\n",
      "blockswithsymdata [0 ] \n",
      "\n",
      "Symmetry information for datfedit pipe succesfull\n",
      "spacegroup number :  22\n",
      "spacegroup setting:  default\n",
      "lattice constants :  ['8.61302400535511', '8.21324800282835', '4.76474000148376']\n",
      "axis angle        :  ['90', '90', '90']\n",
      "Wyckoff positions:  4\n",
      "Al                    0            -0.172139                    0\n",
      "Cr                    0                    0                 -1/2\n",
      "Cr                  1/4                  1/4                  1/4\n",
      "Ge                 -1/4            -0.080657                 -1/4\n",
      "ablock: ag2geo3\n",
      "Space group number: 1\n",
      "Name-Hall         : not found\n",
      "xyz-symbol        :  gives hallsymbol P 1\n",
      "\n",
      "The following symmetry options are available:\n",
      "  0 'xyz-symbols'\n",
      "\n",
      "Getting structure from symmetry option: 'xyz-symbols'\n",
      "\n",
      "\n",
      "CPU TIME determineSiteOperations:  0.00 sec \n",
      "CPU TIME analyseGroup:  0.00 sec \n",
      "\n",
      "WARNING:\n",
      " Lattice type or lattice constants changed!\n",
      " Will take default values for bandplot special symmetry points!\n",
      "WARNING:\n",
      " number of Wyckoff positions changed!\n",
      " Will take default concentrations and initial_spin_split!\n",
      "\n",
      "\n",
      "------------------------------------------------------------------------\n",
      "Blocks contained in cif file '20.cif':\n",
      "------------------------------------------------------------------------\n",
      "symmetry block No.   name\n",
      "------------------------------------------------------------------------\n",
      "     0               ag5(sn3s8)2\n",
      "------------------------------------------------------------------------\n",
      "blockswithsymdata [0 ] \n",
      "\n",
      "Symmetry information for datablock: ag5(sn3s8)2\n",
      "Space group number: 1\n",
      "Name-Hall         : not found\n",
      "xyz-symbol        :  gives hallsymbol P 1\n",
      "\n",
      "The following symmetry options are available:\n",
      "  0 'xyz-symbols'\n",
      "\n",
      "Getting structure from symmetry option: 'xyz-symbols'\n",
      "\n",
      "\n",
      "CPU TIME determineSiteOperations:  0.00 sec \n",
      "CPU TIME analyseGroup:  0.00 sec \n",
      "\n",
      "WARNING:\n",
      " Lattice type or lattice constants changed!\n",
      " Will take default values for bandplot special symmetry points!\n",
      "WARNING:\n",
      " number of Wyckoff positions changed!\n",
      " Will take default concentrations and initial_spin_split!\n",
      "\n",
      "\n",
      "------------------------------------------------------------------------\n",
      "Blocks contained in cif file '21.cif':\n",
      "------------------------------------------------------------------------\n",
      "symmetry block No.   name\n",
      "------------------------------------------------------------------------\n",
      "     0               al(sio3)2\n",
      "------------------------------------------------------------------------\n",
      "blockswithsymdata [0 ] \n",
      "\n",
      "Symmetry information for datablock: al(sio3)2\n",
      "Space group number: 1\n",
      "23\n",
      "Name-Hall         : not found\n",
      "xyz-symbol        :  gives hallsymbol P 1\n",
      "\n",
      "The following symmetry options are available:\n",
      "  0 'xyz-symbols'\n",
      "\n",
      "Getting structure from symmetry option: 'xyz-symbols'\n",
      "\n",
      "\n",
      "CPU TIME determineSiteOperations:  0.00 sec \n",
      "0 b \n",
      "CPU TIME analyseGroup:  0.00 sec \n",
      "\n",
      "WARNING:\n",
      " Lattice type or lattice constants changed!\n",
      " Will take default values for bandplot special symmetry points!\n",
      "WARNING:\n",
      " number of Wyckoff positions changed!\n",
      " Will take default concentrations and initial_spin_split!\n",
      "\n",
      "\n",
      "------------------------------------------------------------------------\n",
      "Blocks contained in cif file '22.cif':\n",
      "------------------------------------------------------------------------\n",
      "symmetry block No.   name\n",
      "------------------------------------------------------------------------\n",
      "     0               alcrge\n",
      "------------------------------------------------------------------------\n",
      "blockswithsymdata [0 ] \n",
      "\n",
      "Symmetry information for datablock: alcrge\n",
      "Space group number: 1\n",
      "Name-Hall         : not found\n",
      "xyz-symbol        :  gives hallsymbol P 1\n",
      "\n",
      "The following symmetry options are available:fedit pipe succesfull\n",
      "spacegroup number :  23\n",
      "spacegroup setting:  default\n",
      "lattice constants :  ['9.30591540399261', '5.66370119', '5.91293351']\n",
      "axis angle        :  ['90', '90', '90']\n",
      "Wyckoff positions:  3\n",
      "Al                    0                    0                    0\n",
      " P                    0                 -1/2                    0\n",
      " S         -0.121457115         -0.276971455         -0.195717505\n",
      "24\n",
      "fedit pipe succesfull\n",
      "spacegroup number :  1\n",
      "spacegroup setting:  default\n",
      "lattice constants :  ['5.488286', '5.473836', '6.67511559']\n",
      "axis angle        :  ['65.79403015', '65.72601808', '90']\n",
      "Wyckoff positions:  8\n",
      "Al             0.244079            -0.255921            -0.488159\n",
      "Al            -0.494079            -0.494079            -0.011841\n",
      "Cu            -0.262198             0.237802            -0.475603\n",
      "Cu             0.012198             0.012198            -0.024397\n",
      "Se             0.124024                  1/8                  1/4\n",
      "Se            -0.374024                 -3/8                  1/4\n",
      " S                  3/8            -0.135193                 -1/4\n",
      " S                 -1/8             0.385193                 -1/4\n",
      "25\n",
      "fedit pipe succesfull\n",
      "spacegroup number :  25\n",
      "spacegroup setting:  default\n",
      "lattice constants :  ['3.259365', '4.813736', '5.167705']\n",
      "axis angle        :  ['90', '90', '90']\n",
      "Wyckoff positions:  4\n",
      "Ag                    0                    0            -0.169113\n",
      "Ag                  1/2                    0             0.349095\n",
      "Ag                    0                  1/2             0.497296\n",
      "Sb                  1/2                  1/2             0.002722\n",
      "26\n",
      "\n",
      "  0 'xyz-symbols'\n",
      "\n",
      "Getting structure from symmetry option: 'xyz-symbols'\n",
      "\n",
      "\n",
      "CPU TIME determineSiteOperations:  0.00 sec \n",
      "CPU TIME analyseGroup:  0.00 sec \n",
      "XXX type 1 orientation 3 \n",
      "\n",
      "WARNING:\n",
      " Lattice type or lattice constants changed!\n",
      " Will take default values for bandplot special symmetry points!\n",
      "WARNING:\n",
      " number of Wyckoff positions changed!\n",
      " Will take default concentrations and initial_spin_split!\n",
      "\n",
      "\n",
      "------------------------------------------------------------------------\n",
      "Blocks contained in cif file '23.cif':\n",
      "------------------------------------------------------------------------\n",
      "symmetry block No.   name\n",
      "------------------------------------------------------------------------\n",
      "     0               alps4\n",
      "------------------------------------------------------------------------\n",
      "blockswithsymdata [0 ] \n",
      "\n",
      "Symmetry information for datablock: alps4\n",
      "Space group number: 1\n",
      "Name-Hall         : not found\n",
      "xyz-symbol        :  gives hallsymbol P 1\n",
      "\n",
      "The following symmetry options are available:\n",
      "  fedit pipe succesfull\n",
      "spacegroup number :  26\n",
      "spacegroup setting:  default\n",
      "lattice constants :  ['3.446823', '15.895071', '9.231454']\n",
      "axis angle        :  ['90', '90', '90']\n",
      "Wyckoff positions:  18\n",
      "Ag                    0             -0.07766             0.173071\n",
      "Ag                  1/2             0.071063             0.324645\n",
      "Ag                  1/2            -0.252167             0.348654\n",
      "Ag                    0             0.419623             -0.33096\n",
      "Ag                    0            -0.251021            -0.342904\n",
      "Ag                  1/2            -0.421249            -0.180234\n",
      " C                    0             0.083686             0.000837\n",
      " C                  1/2            -0.249225             0.000549\n",
      " C                    0            -0.417594             0.498487\n",
      " O                  1/2             0.198373            -0.388743\n",
      " O                    0             0.133151             -0.11088\n",
      " O                    0             0.002055            -0.018487\n",
      " O                    0             0.114264             0.130487\n",
      " O                  1/2             0.216638             0.368857\n",
      " O                    0            -0.366041             0.389132\n",
      " O                    0            -0.497879             0.476662\n",
      " O                  1/2             0.329836            -0.482797\n",
      " O                    0            -0.388003            -0.369346\n",
      "0 'xyz-symbols'\n",
      "\n",
      "Getting structure from symmetry option: 'xyz-symbols'\n",
      "\n",
      "\n",
      "CPU TIME determineSiteOperations:  0.00 sec \n",
      "CPU TIME analyseGroup:  0.00 sec \n",
      "\n",
      "WARNING:\n",
      " Lattice type or lattice constants changed!\n",
      " Will take default values for bandplot special symmetry points!\n",
      "WARNING:\n",
      " number of Wyckoff positions changed!\n",
      " Will take default concentrations and initial_spin_split!\n",
      "\n",
      "\n",
      "------------------------------------------------------------------------\n",
      "Blocks contained in cif file '24.cif':\n",
      "------------------------------------------------------------------------\n",
      "symmetry block No.   name\n",
      "------------------------------------------------------------------------\n",
      "     0               alcuses\n",
      "------------------------------------------------------------------------\n",
      "blockswithsymdata [0 ] \n",
      "\n",
      "Symmetry information for datablock: alcuses\n",
      "Space group number: 1\n",
      "Name-Hall         : not found\n",
      "xyz-symbol        :  gives hallsymbol P 1\n",
      "\n",
      "The following symmetry options are available:\n",
      "  0 'xyz-symbols'\n",
      "\n",
      "Getting 27\n",
      "structure from symmetry option: 'xyz-symbols'\n",
      "\n",
      "\n",
      "CPU TIME determineSiteOperations:  0.00 sec \n",
      "CPU TIME analyseGroup:  0.00 sec \n",
      "\n",
      "WARNING:\n",
      " Lattice type or lattice constants changed!\n",
      " Will take default values for bandplot special symmetry points!\n",
      "WARNING:\n",
      " number of Wyckoff positions changed!\n",
      " Will take default concentrations and initial_spin_split!\n",
      "\n",
      "\n",
      "------------------------------------------------------------------------\n",
      "Blocks contained in cif file '25.cif':\n",
      "------------------------------------------------------------------------\n",
      "symmetry block No.   name\n",
      "------------------------------------------------------------------------\n",
      "     0               ag3sb\n",
      "------------------------------------------------------------------------\n",
      "blockswithsymdata [0 ] \n",
      "\n",
      "Symmetry information for datablock: ag3sb\n",
      "Space group number: 1\n",
      "Name-Hall         : not found\n",
      "xyz-symbol        :  gives hallsymbol P 1\n",
      "\n",
      "The following symmetry options are available:\n",
      "  0 'xyz-symbols'\n",
      "\n",
      "Getting structure from symmetry option: 'xyz-symbols'\n",
      "\n",
      "\n",
      "CPU TIME determineSiteOperations:  0.00 sec \n",
      "CPU TIME analyseGroup:  0.00 sec \n",
      "\n",
      "WARNING:\n",
      " Lattice type or lattice constants changed!\n",
      " Will take default values for bandplot special symmetry points!\n",
      "WARNING:\n",
      " number of Wyckoff positions changed!\n",
      " Will take default concentrations and initial_spin_split!\n",
      "\n",
      "\n",
      "------------------------------------------------------------------------\n",
      "Blocks contained in cif file '26.cif':\n",
      "------------------------------------------------------------------------\n",
      "symmetry block No.   name\n",
      "------------------------------------------------------------------------\n",
      "     0               ag2co3\n",
      "------------------------------------------------------------------------\n",
      "blockswithsymdata [0 ] \n",
      "\n",
      "Symmetry information for datablock: ag2co3\n",
      "Space group number: 1\n",
      "Name-Hall         : not found\n",
      "xyz-symbol        :  gives hallsymbol P 1\n",
      "\n",
      "The following symmetry options are available:\n",
      "  0 'xyz-symbols'\n",
      "\n",
      "Getting structure from symmetry option: 'xyz-symbols'\n",
      "\n",
      "\n",
      "CPU TIMEfedit pipe succesfull\n",
      "spacegroup number :  27\n",
      "spacegroup setting:  default\n",
      "lattice constants :  ['14.020491', '24.369453', '8.635856']\n",
      "axis angle        :  ['90', '90', '90']\n",
      "Wyckoff positions:  36\n",
      "Al             0.207335            -0.333088            -0.001597\n",
      "Al             0.393746             0.061523             0.012631\n",
      "Al            -0.110554             -0.22607            -0.000854\n",
      "Al             0.291213            -0.168938              0.00377\n",
      "Al             -0.10408             0.439249             0.488474\n",
      "Al             0.393314             0.274442             0.009708\n",
      " P             0.209102             0.335781             0.125135\n",
      " P             0.390171            -0.061982              0.13333\n",
      " P             0.103742            -0.224704             0.121315\n",
      " P            -0.107213            -0.439578            -0.384942\n",
      " P            -0.293931            -0.168272             0.131656\n",
      " P                0.392             0.275271            -0.363278\n",
      " O            -0.185391            -0.397653            -0.422996\n",
      " O             0.011462             0.420581            -0.453339\n",
      " O            -0.366007            -0.214849            -0.395645\n",
      " O            -0.314981             0.107932            -0.403287\n",
      " O             0.317878             0.101829            -0.438846\n",
      " O             0.491038             -0.07705             0.078099\n",
      " O             0.323676            -0.313448             0.047972\n",
      " O              0.30848            -0.179556            -0.194579\n",
      " O            -0.314318             0.319876            -0.398927\n",
      " O              0.13817            -0.495589             0.051435\n",
      " O             0.096267             0.444037            -0.209937\n",
      " O               0.1273            -0.283783             0.070554\n",
      " O                 -1/7            -0.292836             0.050466\n",
      " O            -0.363421            -0.205045             0.039877\n",
      " O            -0.113692             -0.22023            -0.201938\n",
      " O            -0.171153             0.183054             0.044407\n",
      " O            -0.189597            -0.391645             0.050257\n",
      " O             0.190097            -0.179933            -0.414137\n",
      " O            -0.362816             0.003632             0.081165\n",
      " O             0.387025            -0.065874             0.310717\n",
      " O             0.384859             0.286462            -0.189012\n",
      " O             0.001819            -0.210176             0.072207\n",
      " O            -0.493983             0.288096             0.083815\n",
      " O            -0.188487            -0.338774             0.299325\n",
      "28\n",
      " determineSiteOperations:  0.00 sec \n",
      "CPU TIME analyseGroup:  0.00 sec \n",
      "\n",
      "WARNING:\n",
      " Lattice type ofedit pipe succesfull\n",
      "spacegroup number :  28\n",
      "spacegroup setting:  default\n",
      "lattice constants :  ['8.640492', '4.142569', '4.089896']\n",
      "axis angle        :  ['90', '90', '90']\n",
      "Wyckoff positions:  7\n",
      " B                  1/4                 5/11             0.475757\n",
      " H            -0.434166            -0.150145             0.100173\n",
      " H            -0.426848             0.137309            -0.191332\n",
      " H             0.134731            -0.427131             0.350273\n",
      " H                  1/4             0.160706             0.428971\n",
      " H                  1/4            -0.495111            -0.228426\n",
      " N                  1/2                    0             -0.04653\n",
      "29\n",
      "fedit pipe succesfull\n",
      "spacegroup number :  1\n",
      "spacegroup setting:  default\n",
      "lattice constants :  ['6.755519', '12.790828', '20.006086']\n",
      "axis angle        :  ['90', '90', '90']\n",
      "Wyckoff positions:  120\n",
      "Ag            -0.453872            -0.367067            -0.388064\n",
      "Ag              0.00493             -0.45071             0.053221\n",
      "Ag             0.103357            -0.370818            -0.134052\n",
      "Ag            -0.498566            -0.124837            -0.060676\n",
      "Ag            -0.402734             0.210464            -0.301785\n",
      "Ag            -0.498566             0.375163            -0.439324\n",
      "Ag            -0.453872             0.132933            -0.111936\n",
      "Ag             0.402734            -0.289536             0.301785\n",
      "Ag            -0.064022             0.392527             0.189879\n",
      "Ag             -0.00493              0.04929            -0.053221\n",
      "Ag            -0.103357            -0.370818             0.365948\n",
      "Ag             0.453872            -0.367067             0.111936\n",
      "Ag            -0.402734            -0.289536            -0.198215\n",
      "Ag             0.402734             0.210464             0.198215\n",
      "Ag            -0.103357             0.129182             0.134052\n",
      "Ag            -0.064022            -0.107473             0.310121\n",
      "Ag              0.00493              0.04929             0.446779\n",
      "Ag             0.064022            -0.107473            -0.189879\n",
      "Ag             0.064022             0.392527            -0.310121\n",
      "Ag             0.498566            -0.124837             0.439324\n",
      "Ag             0.103357             0.129182            -0.365948\n",
      "Ag             0.498566             0.375163             0.060676\n",
      "Ag             -0.00493             -0.45071            -0.446779\n",
      "Ag             0.453872             0.132933             0.388064\n",
      "As             0.207192             0.382404             0.375345\n",
      "As             0.207192            -0.117596             0.124655\n",
      "As             0.456636             0.459454             0.245026\n",
      "As            -0.292759            -0.119093             0.123961\n",
      "As             0.034297             -0.19828             0.494198\n",
      "As             0.456636            -0.040546             0.254974\n",
      "As            -0.207192            -0.117596            -0.375345\n",
      "As            -0.034297              0.30172            -0.494198\n",
      "As            -0.207192             0.382404            -0.124655\n",
      "As             0.292759            -0.119093            -0.376039\n",
      "As            -0.034297             -0.19828            -0.005802\n",
      "As             0.048536            -0.305408            -0.304127\n",
      "As            -0.459489            -0.431048            -0.053792\n",
      "As             0.048536             0.194592            -0.195873\n",
      "As             0.292759             0.380907            -0.123961\n",
      "As            -0.292759             0.380907             0.376039\n",
      "As             0.459489            -0.431048             0.446208\n",
      "As             0.034297              0.30172             0.005802\n",
      "As             0.459489             0.068952             0.053792\n",
      "As            -0.048536            -0.305408             0.195873\n",
      "As            -0.459489             0.068952            -0.446208\n",
      "As            -0.048536             0.194592             0.304127\n",
      "As            -0.456636            -0.040546            -0.245026\n",
      "As            -0.456636             0.459454            -0.254974\n",
      " O             0.130953             0.241566              0.36195\n",
      " O            -0.455676            -0.170578            -0.390826\n",
      " O             0.020828            -0.281985             0.276885\n",
      " O            -0.166794             0.367726            -0.031547\n",
      " O             0.042261             0.433363            -0.139846\n",
      " O             0.250457            -0.103812             0.218046\n",
      " O            -0.130953            -0.258434             -0.36195\n",
      " O            -0.457265            -0.120121             0.316972\n",
      " O             0.105383             0.376218             0.072609\n",
      " O            -0.223856            -0.209568              0.05432\n",
      " O              0.09822                 -3/7            -0.329639\n",
      " O             0.364346             0.475925            -0.191658\n",
      " O            -0.042261             0.433363             0.360154\n",
      " O            -0.166794            -0.132274            -0.468453\n",
      " O            -0.281082            -0.478089                 -1/9\n",
      " O            -0.491611            -0.308692              0.41845\n",
      " O             0.042261            -0.066637            -0.360154\n",
      " O            -0.024193             0.176541             0.025329\n",
      " O             0.166794            -0.132274             0.031547\n",
      " O            -0.322872             0.491331             0.437833\n",
      " O            -0.105383            -0.123782            -0.072609\n",
      " O            -0.322872            -0.008669             0.062167\n",
      " O             0.024193            -0.323459            -0.025329\n",
      " O             -0.09822             0.071442             0.329639\n",
      " O             0.322872            -0.008669            -0.437833\n",
      " O             0.223856            -0.209568             -0.44568\n",
      " O            -0.393159             0.082066            -0.220813\n",
      " O            -0.393159            -0.417934            -0.279187\n",
      " O            -0.491611             0.191308              0.08155\n",
      " O             -0.09822                 -3/7             0.170361\n",
      " O             0.455676             0.329422             0.390826\n",
      " O            -0.264957            -0.228341             0.185443\n",
      " O             0.455676            -0.170578             0.109174\n",
      " O             0.491611             0.191308             -0.41845\n",
      " O             0.264957            -0.228341            -0.314557\n",
      " O            -0.020828             0.218015            -0.276885\n",
      " O             0.390092             -0.45118            -0.472581\n",
      " O            -0.281082             0.021911            -0.388797\n",
      " O             0.390092              0.04882            -0.027419\n",
      " O            -0.390092             -0.45118             0.027419\n",
      " O             0.130953            -0.258434              0.13805\n",
      " O             0.393159            -0.417934             0.220813\n",
      " O            -0.250457            -0.103812            -0.281954\n",
      " O            -0.042261            -0.066637             0.139846\n",
      " O              0.09822             0.071442            -0.170361\n",
      " O             0.024193             0.176541            -0.474671\n",
      " O             0.364346            -0.024075            -0.308342\n",
      " O            -0.457265             0.379879             0.183028\n",
      " O            -0.024193            -0.323459             0.474671\n",
      " O            -0.455676             0.329422            -0.109174\n",
      " O             0.281082             0.021911                  1/9\n",
      " O            -0.364346             0.475925             0.308342\n",
      " O             0.457265            -0.120121            -0.183028\n",
      " O            -0.390092              0.04882             0.472581\n",
      " O            -0.020828            -0.281985            -0.223115\n",
      " O             0.020828             0.218015             0.223115\n",
      " O             0.250457             0.396188             0.281954\n",
      " O             0.457265             0.379879            -0.316972\n",
      " O             0.281082            -0.478089             0.388797\n",
      " O            -0.250457             0.396188            -0.218046\n",
      " O            -0.364346            -0.024075             0.191658\n",
      " O             0.491611            -0.308692             -0.08155\n",
      " O            -0.130953             0.241566             -0.13805\n",
      " O             0.166794             0.367726             0.468453\n",
      " O             0.223856             0.290432             -0.05432\n",
      " O            -0.223856             0.290432              0.44568\n",
      " O             0.322872             0.491331            -0.062167\n",
      " O             0.393159             0.082066             0.279187\n",
      " O             0.264957             0.271659            -0.185443\n",
      " O            -0.105383             0.376218            -0.427391\n",
      " O            -0.264957             0.271659             0.314557\n",
      " O             0.105383            -0.123782             0.427391\n",
      "30\n",
      "fedit pipe succesfull\n",
      "spacegroup number :  30\n",
      "spacegroup setting:  default\n",
      "lattice constants :  ['7.65854', '15.103698', '14.798515']\n",
      "axis angle        :  ['90', '90', '90']\n",
      "Wyckoff positions:  29\n",
      "Ba             0.258079              0.10847             0.401789\n",
      "Ba                    0                    0             -0.14382\n",
      "Ba            -0.241599             -0.31137             0.198179\n",
      "Ba             0.250399             -0.22695             0.281337\n",
      "Ba            -0.492458             0.145413             0.004254\n",
      "Ba             0.227769            -0.404918             0.069485\n",
      "Ba                    0                    0              0.17737\n",
      "Al                  1/2                    0            -0.189397\n",
      "Al                  1/2                    0             0.204883\n",
      "Al             0.016775             0.300974             0.484082\n",
      " F             0.330129            -0.028262             0.286767\n",
      " F                  1/2                    0             0.492947\n",
      " F             0.065069             0.159028             0.251308\n",
      " F            -0.434812            -0.117141             0.207444\n",
      " F            -0.218058            -0.255768            -0.466284\n",
      " F             0.341127             0.008259            -0.096728\n",
      " F            -0.150733            -0.184285            -0.120039\n",
      " F             0.327236             0.488394             0.227732\n",
      " F            -0.340139             0.023657             0.114833\n",
      " F            -0.138882            -0.074099            -0.432453\n",
      " F             0.075121            -0.370463             0.228175\n",
      " F            -0.447008             0.300249            -0.076373\n",
      " F            -0.076507            -0.411083            -0.479539\n",
      " F                    0                    0             0.377749\n",
      " F            -0.108321             0.219538             0.085778\n",
      " F             0.481661            -0.376732             0.312602\n",
      " F            -0.047811             0.191189             0.442109\n",
      " F            -0.171376             0.154081            -0.075757\n",
      " F             -0.44189             0.282217             0.135883\n",
      "31\n",
      "r lattice constants changed!\n",
      " Will take default values for bandplot special symmetry points!\n",
      "WARNING:\n",
      " number of Wyckoff positions changed!\n",
      " Will take default concentrations and initial_spin_split!\n",
      "\n",
      "\n",
      "------------------------------------------------------------------------\n",
      "Blocks contained in cif file '27.cif':\n",
      "------------------------------------------------------------------------\n",
      "symmetry block No.   name\n",
      "------------------------------------------------------------------------\n",
      "     0               alpo4\n",
      "------------------------------------------------------------------------\n",
      "blockswithsymdata [0 ] \n",
      "\n",
      "Symmetry information for datablock: alpo4\n",
      "Space group number: 1\n",
      "Name-Hall         : not found\n",
      "xyz-symbol        :  gives hallsymbol P 1\n",
      "\n",
      "The following symmetry options are available:\n",
      "  0 'xyz-symbols'\n",
      "\n",
      "Getting structure from symmetry option: 'xyz-symbols'\n",
      "\n",
      "\n",
      "CPU TIME determineSiteOperations:  0.00 sec \n",
      "CPU TIME analyseGroup:  0.00 sec \n",
      "\n",
      "WARNING:\n",
      " Lattice type or lattice constants changed!\n",
      "fedit pipe succesfull\n",
      "spacegroup number :  31\n",
      "spacegroup setting:  default\n",
      "lattice constants :  ['8.227038', '7.25487', '6.883656']\n",
      "axis angle        :  ['90', '90', '90']\n",
      "Wyckoff positions:  6\n",
      "Ag            -0.246891            -0.172995             0.484873\n",
      "Sn                    0            -0.331336             0.001645\n",
      "Hg                    0             0.350309             0.487948\n",
      " S                    0             0.348844             0.113573\n",
      " S            -0.241823            -0.165009             0.114579\n",
      " S                    0            -0.325461             -0.35457\n",
      " Will take default values for bandplot special symmetry points!\n",
      "WARNING:\n",
      " number of Wyckoff positions changed!\n",
      " Will take default concentrations and initial_spin_split!\n",
      "\n",
      "\n",
      "------------------------------------------------------------------------\n",
      "Blocks contained in cif file '28.cif':\n",
      "------------------------------------------------------------------------\n",
      "symmetry block No.   name\n",
      "------------------------------------------------------------------------\n",
      "     0               bh8n\n",
      "------------------------------------------------------------------------\n",
      "blockswithsymdata [0 ] \n",
      "\n",
      "Symmetry information for datablock: bh8n\n",
      "Space group number: 1\n",
      "Name-Hall         : not found\n",
      "xyz-symbol        :  gives hallsymbol P 1\n",
      "\n",
      "The following symmetry options are available:\n",
      "  0 'xyz-symbols'\n",
      "\n",
      "Getting structure from symmetry option: 'xyz-symbols'\n",
      "\n",
      "\n",
      "CPU TIME determineSiteOperations:  0.00 sec \n",
      "CPU TIME analyseGroup:  0.00 sec \n",
      "\n",
      "WARNING:\n",
      " Lattice type or lattice constants changed!\n",
      " Will take default values for b32\n",
      "andplot special symmetry points!\n",
      "WARNING:\n",
      " number of Wyckoff positions changed!\n",
      " Will take default concentrations and initial_spin_split!\n",
      "\n",
      "\n",
      "------------------------------------------------------------------------\n",
      "Blocks contained in cif file '29.cif':\n",
      "------------------------------------------------------------------------\n",
      "symmetry block No.   name\n",
      "------------------------------------------------------------------------\n",
      "     0               agaso3\n",
      "------------------------------------------------------------------------\n",
      "blockswithsymdata [0 ] \n",
      "\n",
      "Symmetry information for datablock: agaso3\n",
      "Space group number: 1\n",
      "Name-Hall         : not found\n",
      "xyz-symbol        :  gives hallsymbol P 1\n",
      "\n",
      "The following symmetry options are available:\n",
      "  0 'xyz-symbols'\n",
      "\n",
      "Getting structure from symmetry option: 'xyz-symbols'\n",
      "\n",
      "\n",
      "CPU TIME determineSiteOperations:  0.00 sec \n",
      "CPU TIME analyseGroup:  0.00 sec \n",
      "\n",
      "WARNING:\n",
      " Lattice type or lattice constants changed!\n",
      " Will take default values for bandplot special symmetry pofedit pipe succesfull\n",
      "spacegroup number :  32\n",
      "spacegroup setting:  default\n",
      "lattice constants :  ['7.25736', '11.587503', '4.297599']\n",
      "axis angle        :  ['90', '90', '90']\n",
      "Wyckoff positions:  6\n",
      "Au             -0.30633             0.436601             0.492385\n",
      "Se            -0.398024              0.17166             0.248343\n",
      " O                 -1/2                 -1/2            -0.226673\n",
      " O            -0.120637             0.374573             0.165357\n",
      " O            -0.462591              0.29076               0.4767\n",
      " O             0.336549            -0.084908            -0.434248\n",
      "ints!\n",
      "WARNING:\n",
      " number of Wyckoff positions changed!\n",
      " Will take default concentrations and initial_spin_split!\n",
      "\n",
      "\n",
      "------------------------------------------------------------------------\n",
      "Blocks contained in cif file '30.cif':\n",
      "------------------------------------------------------------------------\n",
      "symmetry block No.   name\n",
      "------------------------------------------------------------------------\n",
      "     0               ba3alf9\n",
      "------------------------------------------------------------------------\n",
      "blockswithsymdata [0 ] \n",
      "\n",
      "Symmetry information for datablock: ba3alf9\n",
      "Space group number: 1\n",
      "Name-Hall         : not found\n",
      "xyz-symbol        :  gives hallsymbol P 1\n",
      "\n",
      "The following symmetry options are available:\n",
      "  0 'xyz-symbols'\n",
      "\n",
      "Getting structure from symmetry option: 'xyz-symbols'\n",
      "\n",
      "\n",
      "CPU TIME determineSiteOperations:  0.00 sec \n",
      "CPU TIME analyseGroup:  0.00 sec \n",
      "\n",
      "WARNING:\n",
      " Lattice type or lattice constants changed!\n",
      " Will take default values for bandplot special symmetry points!\n",
      "WARNING:\n",
      " number of Wyckoff positions changed!\n",
      " Will take default concentrations and initial_spin_split!\n",
      "\n",
      "\n",
      "--------33\n",
      "fedit pipe succesfull\n",
      "spacegroup number :  7\n",
      "spacegroup setting:  b1\n",
      "lattice constants :  ['13.672225', '9.043541', '9.051577']\n",
      "axis angle        :  ['90', '90', '90']\n",
      "Wyckoff positions:  48\n",
      "Ag             -0.36048             0.196622             0.138794\n",
      "Ag             0.244888             -0.17812            -0.411288\n",
      "Ag            -0.255112              0.32188            -0.088712\n",
      "Ag              0.13952             0.303378            -0.138794\n",
      " H             0.390598             0.262188            -0.239636\n",
      " H            -0.392535             0.320904            -0.468756\n",
      " H            -0.109402             0.237812             0.239636\n",
      " H             -0.04135            -0.386841             0.102859\n",
      " H            -0.459805            -0.346761            -0.138097\n",
      " H            -0.463788             0.485884            -0.495035\n",
      " H            -0.473952             0.085115            -0.434016\n",
      " H             0.449842            -0.437442             0.230206\n",
      " H             0.040195             0.153239            -0.361903\n",
      " H            -0.200486             0.200897             0.467233\n",
      " H                 4/11            -0.333152            -0.137367\n",
      " H               0.3598             0.473218            -0.495002\n",
      " H            -0.478623             0.272576            -0.241299\n",
      " H             0.036212             0.014116             0.495035\n",
      " H             0.107465            -0.179096            -0.031244\n",
      " H            -0.104786            -0.424192             -0.06737\n",
      " H             0.299514             0.299103            -0.467233\n",
      " H             0.395214            -0.075808              0.06737\n",
      " H            -0.136303             0.166848            -0.362633\n",
      " H              -0.1402             0.026782             0.495002\n",
      " H             0.021377             0.227424             0.241299\n",
      " H             0.026048            -0.414885            -0.065984\n",
      " H              0.45865            -0.113159            -0.102859\n",
      " H            -0.050158            -0.062558            -0.230206\n",
      " C            -0.046064             0.182074             0.288179\n",
      " C             0.041259            -0.132801             0.018696\n",
      " C            -0.137734            -0.145646              0.01821\n",
      " C             0.458881             0.129139            -0.482861\n",
      " C             0.232785            -0.092231             0.360284\n",
      " C             0.362266            -0.354354             -0.01821\n",
      " C            -0.458741            -0.367199            -0.018696\n",
      " C             0.195143             0.379565             0.187701\n",
      " C             0.453936             0.317926            -0.288179\n",
      " C            -0.267215             0.407769             0.139716\n",
      " C            -0.041119             0.370861             0.482861\n",
      " C            -0.304857            -0.120435             0.312299\n",
      " N             0.246265             0.011834            -0.240346\n",
      " N            -0.328815            -0.008039             0.258169\n",
      " N            -0.253735             0.488166             0.240346\n",
      " N             -0.04595            -0.207992            -0.048129\n",
      " N             0.171185             0.491961             0.241831\n",
      " N              0.45405            -0.292008             0.048129\n",
      "Cl             0.456438            -0.253849            -0.398531\n",
      "Cl            -0.043562             0.246151            -0.101469\n",
      "34\n",
      "fedit pipe succesfull\n",
      "spacegroup number :  34\n",
      "spacegroup setting:  default\n",
      "lattice constants :  ['6.06333258', '6.2857069', '9.61819304']\n",
      "axis angle        :  ['90', '90', '90']\n",
      "Wyckoff positions:  7\n",
      "Ag           -0.0297644          -0.24774629            0.2522271\n",
      "Ag          -0.25387379           0.00076219           0.49541697\n",
      "Bi                    0                    0          -0.10242795\n",
      "Bi                    0                 -1/2           -0.3944454\n",
      " O          -0.10823698           0.21875339          -0.25458404\n",
      " O          -0.30411819          -0.17988792           -0.0670363\n",
      " O           0.32575865            0.3151948          -0.44265755\n",
      "35\n",
      "----------------------------------------------------------------\n",
      "Blocks contained in cif file '31.cif':\n",
      "------------------------------------------------------------------------\n",
      "symmetry block No.   name\n",
      "------------------------------------------------------------------------\n",
      "     0               ag2snhgs4\n",
      "------------------------------------------------------------------------\n",
      "blockswithsymdata [0 ] \n",
      "\n",
      "Symmetry information for datablock: ag2snhgs4\n",
      "Space group number: 1\n",
      "Name-Hall         : not found\n",
      "xyz-symbol        :  gives hallsymbol P 1\n",
      "\n",
      "The following symmetry options are available:\n",
      "  0 'xyz-symbols'\n",
      "\n",
      "Getting structure from symmetry option: 'xyz-symbols'\n",
      "\n",
      "\n",
      "CPU TIME determineSiteOperations:  0.00 sec \n",
      "CPU TIME analyseGroup:  0.00 sec \n",
      "\n",
      "WARNING:\n",
      " Lattice type or lattice constants changed!\n",
      " Will take default values for bandplot special symmetry points!\n",
      "WARNING:\n",
      " number of Wyckoff positions changed!\n",
      " Will take default concentrations and initial_spin_split!\n",
      "\n",
      "\n",
      "-----------------------------fedit pipe succesfull\n",
      "spacegroup number :  35\n",
      "spacegroup setting:  default\n",
      "lattice constants :  ['25.8672780054516', '8.62745200300099', '6.10159']\n",
      "axis angle        :  ['90', '90', '90']\n",
      "Wyckoff positions:  22\n",
      "Al             0.334802                    0             0.004394\n",
      "Al                    0                    0            -0.011916\n",
      " H            -0.201453            -0.140873            -0.254845\n",
      " H            0.1318705           -0.1413125            -0.254779\n",
      " H             0.034714             0.358903            -0.254342\n",
      " H           -0.1666125           -0.2455625            -0.463264\n",
      " H                    0             0.254689             -0.46335\n",
      " H            -0.248445                    0             0.463481\n",
      " H             0.084807                    0             0.463013\n",
      " H              -0.4182                    0             0.463111\n",
      " H            -0.213661             0.104317             0.254259\n",
      " H             0.119627            -0.104473             0.254584\n",
      " H            0.0469685           -0.3955205             0.254931\n",
      " C           -0.1666975           -0.1422105            -0.357458\n",
      " C                    0            -0.357561            -0.358171\n",
      " C             -0.21419                    0             0.357901\n",
      " C             0.119202                    0             0.357981\n",
      " C            -0.452598                    0             0.357278\n",
      " N                  1/6                    0             0.499521\n",
      " N                    0                  1/2                 -1/2\n",
      " F              -0.2793                    0            -0.161537\n",
      " F                    0            -0.161219             0.164189\n",
      "36\n",
      "-------------------------------------------\n",
      "Blocks contained in cif file '32.cif':\n",
      "------------------------------------------------------------------------\n",
      "symmetry block No.   name\n",
      "------------------------------------------------------------------------\n",
      "     0               au2se2o7\n",
      "------------------------------------------------------------------------\n",
      "blockswithsymdata [0 ] \n",
      "\n",
      "Symmetry information for datablock: au2se2o7\n",
      "Space group number: 1\n",
      "Name-Hall         : not found\n",
      "xyz-symbol        :  gives hallsymbol P 1\n",
      "\n",
      "The following symmetry options are available:\n",
      "  0 'xyz-symbols'\n",
      "\n",
      "Getting structure from symmetry option: 'xyz-symbols'\n",
      "\n",
      "\n",
      "CPU TIME determineSiteOperations:  0.00 sec \n",
      "CPU TIME analyseGroup:  0.00 sec \n",
      "\n",
      "WARNING:\n",
      " Lattice type or lattice constants changed!\n",
      " Will take default values for bandplot special symmetry points!\n",
      "WARNING:\n",
      " number of Wyckoff positions changed!\n",
      " Will take default concentrations and initial_spin_split!\n",
      "\n",
      "\n",
      "------------------------------------------------------------------------\n",
      "Blocks contained in cif file '33.cif':\n",
      "------------------------------------------------------------------------\n",
      "symmetry block No.   name\n",
      "------------------------------------------------------------------------\n",
      "     0               ag2h12c6n3cl\n",
      "------------------------------------------------------------------------\n",
      "blockswithsymdata [0 ] \n",
      "\n",
      "Symmetry information for datablock: ag2h12c6n3cl\n",
      "Space group number: 1\n",
      "Name-Hall         : not found\n",
      "xyz-symbol        :  gives hallsymbol P 1\n",
      "\n",
      "The following symmetry options are available:\n",
      "  0 'xyz-symbols'\n",
      "\n",
      "Getting structure from symmetry option: 'xyz-symbols'\n",
      "\n",
      "\n",
      "CPU TIME determineSiteOperations:  0.00 sec \n",
      "0 b1 \n",
      "CPU TIME analyseGroup:  0.00 sec \n",
      "\n",
      "WARNING:\n",
      " Lattice type or lattice constants changed!\n",
      " Will take default values for bandplot special symmetry points!\n",
      "WARNING:\n",
      " number of Wyckoff positions changed!\n",
      " Will take default concentrations and initial_spin_split!\n",
      "\n",
      "\n",
      "------------------------------------------------------------------------\n",
      "Blocks contained in cif file '34.cif':\n",
      "------------------------------------------------------------------------\n",
      "symmetry block No.   name\n",
      "------------------------------------------------------------------------\n",
      "     0               ag2bio3\n",
      "------------------------------------------------------------------------\n",
      "blockswithsymdata [0 ] \n",
      "\n",
      "Symmetry information for datablock: ag2bio3\n",
      "Space group number: 1\n",
      "Name-Hall         : not found\n",
      "xyz-symbol        :  gives hallsymbol P 1\n",
      "\n",
      "The following symmetry options are available:\n",
      "  0 'xyz-symbols'\n",
      "\n",
      "Getting structure from symmetry option: 'xyz-symbols'\n",
      "\n",
      "\n",
      "CPU TIME determineSiteOperations:  0.00 sec \n",
      "CPU TIME analyseGroup:  0.00 sec \n",
      "\n",
      "WARNING:\n",
      " Lattice type or lattice constants changed!\n",
      " Will take default values for bandplot special symmetry points!\n",
      "WARNING:\n",
      " number of Wyckoff positions changed!\n",
      " Will take default concentrations and initial_spin_split!\n",
      "\n",
      "\n",
      "------------------------------------------------------------------------\n",
      "Blocks contaifedit pipe succesfull\n",
      "spacegroup number :  36\n",
      "spacegroup setting:  default\n",
      "lattice constants :  ['15.65385999283255', '15.98079999358058', '13.915231']\n",
      "axis angle        :  ['90', '90', '90']\n",
      "Wyckoff positions:  20\n",
      "Ag             0.091998            -0.026109             0.216439\n",
      "Ag            0.1002425            0.2524125             0.358573\n",
      "Ag             -0.09504            -0.270018              0.09813\n",
      "Ag            -0.357687            -0.044187             0.340273\n",
      "Ag           -0.1219825           -0.2358825             0.359748\n",
      "Ag            0.1238515           -0.2715925            -0.368117\n",
      "Ag           -0.3791205           -0.0214955                  1/8\n",
      "Ag                    0            -0.374161            -0.262026\n",
      "Ag             0.106752            -0.095144            -0.447127\n",
      "Ag           -0.0946835           -0.0689035            -0.091906\n",
      "Ag                    0             0.146042             0.219881\n",
      "Te                    0            -0.369374            -0.461975\n",
      "Te                    0            -0.108934             0.392197\n",
      "Te            0.0918235            0.3836725            -0.248268\n",
      "Te            -0.178998            -0.129594            -0.260161\n",
      "Te                    0              0.11905            -0.427296\n",
      "Te                    0            -0.380888            -0.061225\n",
      "Br             0.244639             -0.24978            -0.008799\n",
      "Br            -0.232846            -0.130053             0.238343\n",
      "Br            -0.252007            -0.000529            -0.009388\n",
      "ned in cif file '35.cif':\n",
      "----------------------------------------------------------------------37\n",
      "fedit pipe succesfull\n",
      "spacegroup number :  1\n",
      "spacegroup setting:  default\n",
      "lattice constants :  ['9.16595104', '9.16595104', '9.119976']\n",
      "axis angle        :  ['90', '90', '90.93149785999999']\n",
      "Wyckoff positions:  48\n",
      "Al                    0                    0             0.258798\n",
      "Al            -0.485582             0.250514             0.000408\n",
      "Al             0.250514            -0.485582            -0.499592\n",
      "Al             0.485582            -0.250514             0.000408\n",
      "Al            -0.250514             0.485582            -0.499592\n",
      "Al                    0                    0            -0.241202\n",
      "Si                 -1/2                 -1/2             0.251749\n",
      "Si            -0.002595             0.250315            -0.492516\n",
      "Si             0.250315            -0.002595             0.007484\n",
      "Si             0.002595            -0.250315            -0.492516\n",
      "Si            -0.250315             0.002595             0.007484\n",
      "Si                 -1/2                 -1/2            -0.248251\n",
      "Pb             0.329611             0.174355             0.320383\n",
      "Pb            -0.329611            -0.174355             0.320383\n",
      "Pb             0.174355             0.329611            -0.179617\n",
      "Pb            -0.174355            -0.329611            -0.179617\n",
      " O             0.104172             0.398321             0.051061\n",
      " O            -0.104172            -0.398321             0.051061\n",
      " O             0.083141            -0.415696             -0.08965\n",
      " O            -0.083141             0.415696             -0.08965\n",
      " O            -0.415696             0.083141              0.41035\n",
      " O             0.398321             0.104172            -0.448939\n",
      " O            -0.398321            -0.104172            -0.448939\n",
      " O             0.415696            -0.083141              0.41035\n",
      " O              0.05892             0.147305             0.373106\n",
      " O             0.359909              0.13877             0.054275\n",
      " O             0.360809             0.447848             0.356552\n",
      " O             -0.05892            -0.147305             0.373106\n",
      " O            -0.359909             -0.13877             0.054275\n",
      " O            -0.360809            -0.447848             0.356552\n",
      " O             0.031258             -0.15686             -0.34349\n",
      " O             0.343272            -0.139304            -0.045413\n",
      " O             0.355337            -0.461138            -0.341489\n",
      " O            -0.031258              0.15686             -0.34349\n",
      " O            -0.343272             0.139304            -0.045412\n",
      " O            -0.355337             0.461138            -0.341489\n",
      " O            -0.461138             0.355337             0.158511\n",
      " O             -0.15686             0.031258              0.15651\n",
      " O            -0.139304             0.343272                 5/11\n",
      " O             0.447848             0.360809            -0.143448\n",
      " O             0.147305              0.05892            -0.126894\n",
      " O              0.13877             0.359909            -0.445725\n",
      " O            -0.447848            -0.360809            -0.143448\n",
      " O            -0.147305             -0.05892            -0.126894\n",
      " O             -0.13877            -0.359909            -0.445725\n",
      " O             0.461138            -0.355337             0.158511\n",
      " O              0.15686            -0.031258              0.15651\n",
      " O             0.139304            -0.343272                 5/11\n",
      "38\n",
      "fedit pipe succesfull\n",
      "spacegroup number :  1\n",
      "spacegroup setting:  default\n",
      "lattice constants :  ['6.333508', '6.45252596', '7.487536']\n",
      "axis angle        :  ['90', '90', '119.39169153']\n",
      "Wyckoff positions:  12\n",
      "Ag            -0.061834            -0.381946            -0.218725\n",
      "Ag             -0.40468                    0                 -1/2\n",
      "Ag            -0.061834            -0.381946             0.218726\n",
      "Ag             0.320112             0.381946             0.218726\n",
      "Ag             0.320112             0.381946            -0.218726\n",
      " P            -0.461117                    0                    0\n",
      " S             0.349978                    0            -0.227811\n",
      " S             0.349978                    0             0.227811\n",
      " S            -0.410695            -0.295961                    0\n",
      " S            -0.114734             0.295961                    0\n",
      "Cl             0.056519             0.344513                 -1/2\n",
      "Cl            -0.287994            -0.344513                 -1/2\n",
      "39\n",
      "--\n",
      "symmetry block No.   name\n",
      "------------------------------------------------------------------------\n",
      "     0               al3h36c12n3f4\n",
      "------------------------------------------------------------------------\n",
      "blockswithsymdata [0 ] \n",
      "\n",
      "Symmetry information for datablock: al3h36c12n3f4\n",
      "Space group number: 1\n",
      "Name-Hall         : not found\n",
      "xyz-symbol        :  gives hallsymbol P 1\n",
      "\n",
      "The following symmetry options are available:\n",
      "  0 'xyz-symbols'\n",
      "\n",
      "Getting structure from symmetry option: 'xyz-symbols'\n",
      "\n",
      "\n",
      "CPU TIME determineSiteOperations:  0.00 sec \n",
      "CPU TIME analyseGroup:  0.00 sec \n",
      "\n",
      "WARNING:\n",
      " Lattice type or lattice constants changed!\n",
      " Will take default values for bandplot special symmetry points!\n",
      "WARNING:\n",
      " number of Wyckoff positions changed!\n",
      " Will take default concentrations and initial_spin_split!\n",
      "\n",
      "\n",
      "------------------------------------------------------------------------\n",
      "Blocks contained in cif file '36.cif':\n",
      "------------------------------------------------------------------------\n",
      "symmetry bfedit pipe succesfull\n",
      "spacegroup number :  39\n",
      "spacegroup setting:  default\n",
      "lattice constants :  ['9.71959845', '15.42719505838614', '8.62845069986897']\n",
      "axis angle        :  ['90', '90', '90']\n",
      "Wyckoff positions:  11\n",
      "Al          -0.35230929           0.09689641           0.31327972\n",
      "Al           0.15370365                 -1/4          -0.18844051\n",
      " P            0.3455535          0.096590135          0.188265045\n",
      " P           0.15965406                 -1/4           0.18642205\n",
      " O          -0.01409157                  1/4            0.2479561\n",
      " O           0.23375263          0.157776435          0.242056835\n",
      " O           -0.2329961          0.169368375          0.243923475\n",
      " O           0.48391709           0.12658173           0.25198062\n",
      " O          -0.35101527    -0.09613226666667     0.01279893333333\n",
      " O           0.15789579                 -1/4           0.01106624\n",
      " O          -0.31252761          -0.00577729           0.24568113\n",
      "lock No.   name\n",
      "------------------------------------------------------------------------\n",
      "     0               ag10te4br3\n",
      "------------------------------------------------------------------------\n",
      "blockswithsymdata [0 ] \n",
      "\n",
      "Symmetry information for datablock: ag10te4br3\n",
      "Space group number: 1\n",
      "Name-Hall         : not found\n",
      "xyz-symbol        :  gives hallsymbol P 1\n",
      "\n",
      "The following symmetry options are available:\n",
      "  0 'xyz-symbols'\n",
      "\n",
      "Getting structure from symmetry option: 'xyz-symbols'\n",
      "\n",
      "\n",
      "CPU TIME determineSiteOperations:  0.00 sec \n",
      "CPU TIME analyseGroup:  0.00 sec \n",
      "\n",
      "WARNING:\n",
      " Lattice type or lattice constants changed!\n",
      " Will take default values for bandplot special symmetry points!\n",
      "WARNING:\n",
      " number of Wyckoff positions changed!\n",
      " Will take default concentrations and initial_spin_split!\n",
      "\n",
      "\n",
      "------------------------------------------------------------------------\n",
      "Blocks contained in cif file '37.cif':\n",
      "------------------------------------------------------------------------\n",
      "symmetry block No.   name\n",
      "------------------------------------------------------------------------\n",
      "     0               al3si3(pbo8)2\n",
      "------------------------------------------------------------------------\n",
      "blockswithsymdata [0 ] \n",
      "\n",
      "Symmetry information for datablock: al3si3(pbo8)2\n",
      "Space group number: 1\n",
      "Name-Hall         : not found\n",
      "xyz-symbol        :  gives hallsymbol P 1\n",
      "\n",
      "The following symmetry options are available:\n",
      "  0 'xyz-symbols'\n",
      "\n",
      "Getting structure from symmetry option: 'xyz-symbols'\n",
      "\n",
      "\n",
      "CPU TIME determineSiteOperations:  0.00 sec \n",
      "CPU TIME analyseGroup:  0.00 sec \n",
      "\n",
      "WARNING:\n",
      " Lattice type or lattice constants changed!\n",
      " Will take default values for bandplot special symmetry points!\n",
      "WARNING:\n",
      " number of Wyckoff positions changed!\n",
      " Will take default concentrations and initial_spin_split!\n",
      "\n",
      "\n",
      "------------------------------------------------------------------------\n",
      "Blocks contained in cif file '38.cif':\n",
      "------------------------------------------------------------------------\n",
      "symmetry block No.   name\n",
      "----------------40\n",
      "--------------------------------------------------------\n",
      "     0               ag5p(s2cl)2\n",
      "------------------------------------------------------------------------\n",
      "blockswithsymdata [0 ] \n",
      "\n",
      "Symmetry information for datablock: ag5p(s2cl)2\n",
      "Space group number: 1\n",
      "Name-Hall         : not found\n",
      "xyz-symbol        :  gives hallsymbol P 1\n",
      "\n",
      "The following symmetry options are available:\n",
      "  0 'xyz-symbols'\n",
      "\n",
      "Getting structure from symmetry option: 'xyz-symbols'\n",
      "\n",
      "\n",
      "CPU TIME determineSiteOperations:  0.00 sec \n",
      "CPU TIME analyseGroup:  0.00 sec \n",
      "\n",
      "WARNING:\n",
      " Lattice type or lattice constants changed!\n",
      " Will take default values for bandplot special symmetry points!\n",
      "WARNING:\n",
      " number of Wyckoff positions changed!\n",
      " Will take default concentrations and initial_spin_split!\n",
      "\n",
      "\n",
      "------------------------------------------------------------------------\n",
      "Blocks contained in cif file '39.cif':\n",
      "------------------------------------------------------------------------\n",
      "symmetry block No.   name\n",
      "---------------------------------fedit pipe succesfull\n",
      "spacegroup number :  1\n",
      "spacegroup setting:  default\n",
      "lattice constants :  ['6.2339602', '6.2339602', '10.1796701']\n",
      "axis angle        :  ['90', '90', '112.78809798']\n",
      "Wyckoff positions:  16\n",
      "Ag          -0.41087167           0.35576076          -0.09912059\n",
      "Ag          -0.41087167           0.35576076          -0.40087941\n",
      "Ag           0.35576076          -0.41087167           0.40087941\n",
      "Ag           0.35576076          -0.41087167           0.09912159\n",
      "Ge           0.32368129                -3/11                 -1/4\n",
      "Ge                -3/11           0.32368129                  1/4\n",
      "Pb          -0.01293009          -0.01293009                    0\n",
      "Pb          -0.01293009          -0.01293009                 -1/2\n",
      " S          -0.49000048          -0.09367848          -0.06909331\n",
      " S          -0.02669786          -0.26089189                 -1/4\n",
      " S           0.27544727           0.35489896                 -1/4\n",
      " S          -0.49000048          -0.09367848          -0.43090669\n",
      " S          -0.09367848          -0.49000048           0.43090669\n",
      " S          -0.26089189          -0.02669786                  1/4\n",
      " S           0.35489896           0.27544727                  1/4\n",
      " S          -0.09367848          -0.49000048           0.06909331\n",
      "---------------------------------------\n",
      "     0               alpo4\n",
      "-----------------------------41\n",
      "fedit pipe succesfull\n",
      "spacegroup number :  41\n",
      "spacegroup setting:  default\n",
      "lattice constants :  ['9.063476', '9.0619640003107', '8.89312599979854']\n",
      "axis angle        :  ['90', '90', '90']\n",
      "Wyckoff positions:  13\n",
      "Al                    0                    0            -0.499368\n",
      " H             0.190595            0.3196225           -0.1785295\n",
      " H             0.181579           -0.3109695            0.1824395\n",
      " H             0.320615             0.189233            -0.182598\n",
      " H             0.311599           -0.1808125            0.1792515\n",
      " H            -0.436532            -0.063487             0.430793\n",
      " H            -0.434283            -0.434226             0.065452\n",
      " N              0.25075            -0.248559             0.250254\n",
      " N                  1/2                    0             0.499894\n",
      " F                    0                    0             0.295527\n",
      " F                    0                    0            -0.293922\n",
      " F             0.192729             0.437295             0.000763\n",
      " F             0.062636           -0.3073045            0.0011095\n",
      "42\n",
      "fedit pipe succesfull\n",
      "spacegroup number :  42\n",
      "spacegroup setting:  default\n",
      "lattice constants :  ['9.81120000019382', '9.60245600023003', '9.9277359963082']\n",
      "axis angle        :  ['90', '90', '90']\n",
      "Wyckoff positions:  6\n",
      "Ag                  1/4                  1/4             0.064147\n",
      "Ag            -0.187729                    0            -0.251601\n",
      "Ag                    0                    0              0.05467\n",
      "Ag                    0                    0             0.436209\n",
      " S           -0.2498365                    0           -0.0043175\n",
      "Br                    0             -0.25002            -0.246169\n",
      "43\n",
      "-------------------------------------------\n",
      "blockswithsymdata [0 ] \n",
      "\n",
      "Symmetry information for datablock: alpo4\n",
      "Space group number: 1\n",
      "Name-Hall         : not found\n",
      "xyz-symbol        :  gives hallsymbol P 1\n",
      "\n",
      "The following symmetry options are available:\n",
      "  0 'xyz-symbols'\n",
      "\n",
      "Getting structure from symmetry option: 'xyz-symbols'\n",
      "\n",
      "\n",
      "CPU TIME determineSiteOperations:  0.00 sec \n",
      "CPU TIME analyseGroup:  0.00 sec \n",
      "\n",
      "WARNING:\n",
      " Lattice type or lattice constants changed!\n",
      " Will take default values for bandplot special symmetry points!\n",
      "WARNING:\n",
      " number of Wyckoff positions changed!\n",
      " Will take default concentrations and initial_spin_split!\n",
      "\n",
      "\n",
      "------------------------------------------------------------------------\n",
      "Blocks contained in cif file '40.cif':\n",
      "------------------------------------------------------------------------\n",
      "symmetry block No.   name\n",
      "------------------------------------------------------------------------\n",
      "     0               ag2gepbs4\n",
      "------------------------------------------------------fedit pipe succesfull\n",
      "spacegroup number :  1\n",
      "spacegroup setting:  default\n",
      "lattice constants :  ['3.69181854', '5.55965444547544', '6.703103']\n",
      "axis angle        :  ['95.24210741667031', '74.02223011', '109.36498122421214']\n",
      "Wyckoff positions:  10\n",
      "Ag           0.32174184          -0.26489493           0.09315739\n",
      "Ag           0.33691181          -0.23516813          -0.40689661\n",
      "Ag           0.16484903           0.23502281           0.40685133\n",
      "Ag          -0.32001909           0.26489996          -0.09313235\n",
      " O          -0.18320007           0.03363736          -0.33525257\n",
      " O          -0.46712133           0.46623776            0.1647854\n",
      " O           0.23146616           -0.4663064          -0.16472462\n",
      " O          -0.08697833          -0.49985975           0.49989327\n",
      " O           0.44776374          -0.03377746           0.33525449\n",
      " O           0.16298826           0.00021078                    0\n",
      "------------------\n",
      "blockswithsymdata [0 ] \n",
      "\n",
      "Symmetry information for datablock: ag2gepbs4\n",
      "Space group number: 1\n",
      "Name-Hall         : not found\n",
      "xyz-symbol        :  gives hallsymbol P 1\n",
      "\n",
      "The following symmetry options are available:\n",
      "  0 'xyz-symbols'\n",
      "\n",
      "Getting structure from symmetry option: 'xyz-symbols'\n",
      "\n",
      "\n",
      "CPU TIME determineSiteOperations:  0.00 sec \n",
      "CPU TIME analyseGroup:  0.00 sec \n",
      "\n",
      "WARNING:\n",
      " Lattice type or lattice constants changed!\n",
      " Will take default values for bandplot special symmetry points!\n",
      "WARNING:\n",
      " number of Wyckoff positions changed!\n",
      " Will take default concentrations and initial_spin_split!\n",
      "\n",
      "\n",
      "------------------------------------------------------------------------\n",
      "Blocks contained in cif file '41.cif':\n",
      "------------------------------------------------------------------------\n",
      "symmetry block No.   name\n",
      "------------------------------------------------------------------------\n",
      "     0               alh12(nf2)3\n",
      "------------------------------------------------------------------------\n",
      "44\n",
      "blockswithsymdata [0 ] \n",
      "\n",
      "Symmetry information for datablock: alh12(nf2)3\n",
      "Space group number: 1\n",
      "Name-Hall         : not found\n",
      "xyz-symbol        :  gives hallsymbol P 1\n",
      "\n",
      "The following symmetry options are available:\n",
      "  0 'xyz-symbols'\n",
      "\n",
      "Getting structure from symmetry option: 'xyz-symbols'\n",
      "\n",
      "\n",
      "CPU TIME determineSiteOperations:  0.00 sec \n",
      "CPU TIME analyseGroup:  0.00 sec \n",
      "\n",
      "WARNING:\n",
      " Lattice type or lattice constants changed!\n",
      " Will take default values for bandplot special symmetry points!\n",
      "WARNING:\n",
      " number of Wyckoff positions changed!\n",
      " Will take default concentrations and initial_spin_split!\n",
      "\n",
      "\n",
      "------------------------------------------------------------------------\n",
      "Blocks contained in cif file '42.cif':\n",
      "------------------------------------------------------------------------\n",
      "symmetry block No.   name\n",
      "------------------------------------------------------------------------\n",
      "     0               ag3sbr\n",
      "------------------------------------------------------------------------\n",
      "blockswithsymdata [0 ]fedit pipe succesfull\n",
      "spacegroup number :  44\n",
      "spacegroup setting:  default\n",
      "lattice constants :  ['5.78137199666792', '5.64944999710426', '11.57078599397283']\n",
      "axis angle        :  ['90', '90', '90']\n",
      "Wyckoff positions:  8\n",
      "Ag                    0                    0             0.004332\n",
      "Ag                 -1/2                    0             0.249801\n",
      "Bi                    0                    0             0.494108\n",
      "Bi                    0                  1/2             0.248159\n",
      "Se                    0                    0            -0.248087\n",
      " S                    0                 -1/2             0.494557\n",
      " S                    0                    0             0.252679\n",
      " S                    0                  1/2             0.004451\n",
      " \n",
      "\n",
      "Symmetry information for datablock: ag3sbr\n",
      "Space group number: 1\n",
      "Name-Hall         : not found\n",
      "xyz-symbol        :  gives hallsymbol P 1\n",
      "\n",
      "The following symmetry options are available:\n",
      "  0 'xyz-symbols'\n",
      "\n",
      "Getting structure from symmetry option: 'xyz-symbols'\n",
      "\n",
      "\n",
      "CPU TIME determineSiteOperations:  0.00 sec \n",
      "CPU TIME analyseGroup:  0.00 sec \n",
      "XXX type 2 orientation 2 \n",
      "\n",
      "WARNING:\n",
      " Lattice type or lattice constants changed!\n",
      " Will take default values for bandplot special symmetry points!\n",
      "WARNING:\n",
      " number of Wyckoff positions changed!\n",
      " Will take default concentrations and initial_spin_split!\n",
      "\n",
      "\n",
      "------------------------------------------------------------------------\n",
      "Blocks contained in cif file '43.cif':\n",
      "------------------------------------------------------------------------\n",
      "symmetry block No.   name\n",
      "------------------------------------------------------------------------\n",
      "     0               ag2o3\n",
      "------------------------------------------------------------------------\n",
      "blockswithsymdata [0 ] \n",
      "45\n",
      "\n",
      "Symmetry information for datablock: ag2o3\n",
      "Space group number: 1\n",
      "Name-Hall         : not found\n",
      "xfedit pipe succesfull\n",
      "spacegroup number :  1\n",
      "spacegroup setting:  default\n",
      "lattice constants :  ['10.59107003', '9.18557000041779', '10.59107003']\n",
      "axis angle        :  ['64.30077288', '117.75493099000001', '115.6992271204213']\n",
      "Wyckoff positions:  40\n",
      "Al             0.089141             0.104961             0.180889\n",
      "Al            -0.089141             0.196709            -0.180889\n",
      "Al             0.180889            -0.303291             0.089141\n",
      "Al            -0.180889            -0.395039            -0.089141\n",
      " C              0.15725            -0.100103             0.310395\n",
      " C             -0.15725             0.053042            -0.310395\n",
      " C             0.310396            -0.446958              0.15725\n",
      " C            -0.310396             0.399897             -0.15725\n",
      " C             0.184909             0.231177             0.029076\n",
      " C            -0.184909             0.075344            -0.029076\n",
      " C             0.029077            -0.424656             0.184909\n",
      " C            -0.029077            -0.268823            -0.184909\n",
      " C             0.189267             0.010131             0.394162\n",
      " C            -0.189267             0.215026            -0.394162\n",
      " C             0.394162            -0.284974             0.189267\n",
      " C            -0.394162            -0.489869            -0.189267\n",
      " C            -0.213158             0.071715             0.301615\n",
      " C             0.213158            -0.413512            -0.301615\n",
      " C             0.301615             0.086488            -0.213158\n",
      " C            -0.301615            -0.428285             0.213158\n",
      " C              -0.2047             0.108697            -0.467241\n",
      " C               0.2047            -0.153844             0.467241\n",
      " C            -0.467241             0.346156              -0.2047\n",
      " C             0.467241            -0.391303               0.2047\n",
      " C            -0.235514             0.077529             0.407648\n",
      " C             0.235514             -0.27931            -0.407647\n",
      " C             0.407647              0.22069            -0.235513\n",
      " C            -0.407647            -0.422471             0.235514\n",
      " C            -0.125916             0.090421             0.113713\n",
      " C             0.125916              0.33005            -0.113713\n",
      " C             0.113713             -0.16995            -0.125916\n",
      " C            -0.113713            -0.409579             0.125916\n",
      " I             0.409448             0.231368             0.120683\n",
      " I            -0.409448            -0.057397            -0.120684\n",
      " I             0.120684             0.442603             0.409448\n",
      " I            -0.120684            -0.268632            -0.409449\n",
      " N            -0.206452             0.060155             0.193633\n",
      " N             0.206452              0.46024            -0.193633\n",
      " N             0.193633             -0.03976            -0.206452\n",
      " N            -0.193633            -0.439845             0.206452\n",
      "46\n",
      "fedit pipe succesfull\n",
      "spacegroup number :  1\n",
      "spacegroup setting:  default\n",
      "lattice constants :  ['7.22508073', '7.22508073', '7.22508073']\n",
      "axis angle        :  ['119.86249539999999', '119.65237989000001', '90.42074189999998']\n",
      "Wyckoff positions:  18\n",
      "Ag             0.471372            -0.069013            -0.040385\n",
      "Ag            -0.471372             0.488243             0.459615\n",
      "Os            -0.002323            -0.491241             0.011081\n",
      "Os             0.002323             0.013404            -0.488919\n",
      "Os                 -1/2              0.00427             -0.49573\n",
      "Os                    0              0.00427              0.00427\n",
      " O              0.32421              0.07238             0.248169\n",
      " O            -0.057384             -0.30056             0.256824\n",
      " O            -0.057388              0.06288             0.253591\n",
      " O             0.323315             -0.31931             0.254806\n",
      " O            -0.074116             -0.31931            -0.142625\n",
      " O              0.30929              0.06288            -0.379732\n",
      " O             -0.32421            -0.076041            -0.251831\n",
      " O             0.057384             0.314209            -0.243176\n",
      " O             0.074116            -0.068509            -0.245194\n",
      " O             -0.30929             0.310979            -0.246409\n",
      " O             0.057388             0.310979             0.120268\n",
      " O            -0.323315            -0.068509             0.357375\n",
      "47\n",
      "yz-symbol        :  gives hallsymbol P 1\n",
      "\n",
      "The following symmetry options are available:\n",
      "  0 'xyz-symbols'\n",
      "\n",
      "Getting structure from symmetry option: 'xyz-symbols'\n",
      "\n",
      "\n",
      "CPU TIME determineSiteOperations:  0.00 sec \n",
      "CPU TIME analyseGroup:  0.00 sec \n",
      "\n",
      "WARNING:\n",
      " Lattice type or lattice constants changed!\n",
      " Will take default values for bandplot special symmetry points!\n",
      "WARNING:\n",
      " number of Wyckoff positions changed!\n",
      " Will take default concentrations and initial_spin_split!\n",
      "\n",
      "\n",
      "------------------------------------------------------------------------\n",
      "Blocks contained in cif file '44.cif':\n",
      "------------------------------------------------------------------------\n",
      "symmetry block No.   name\n",
      "------------------------------------------------------------------------\n",
      "     0               ag2bi2ses3\n",
      "------------------------------------------------------------------------\n",
      "blockswithsymdata [0 ] \n",
      "\n",
      "Symmetry information for datablock: ag2bi2ses3\n",
      "Space group number: 1\n",
      "Name-Hall         : not found\n",
      "xyz-symbol        : fedit pipe succesfull\n",
      "spacegroup number :  47\n",
      "spacegroup setting:  default\n",
      "lattice constants :  ['3.00450974', '3.34717092', '5.42314049']\n",
      "axis angle        :  ['90', '90', '90']\n",
      "Wyckoff positions:  3\n",
      "Ag                    0                    0                    0\n",
      "Pd                  1/2                  1/2                  1/2\n",
      " O                    0                  1/2          -0.25395747\n",
      " gives hallsymbol P 1\n",
      "\n",
      "The following symmetry options are available:\n",
      "  0 'xyz-symbols'\n",
      "\n",
      "Getting structure from symmetry option: 'xyz-symbols'\n",
      "\n",
      "\n",
      "CPU TIME determineSiteOperations:  0.00 sec \n",
      "CPU TIME analyseGroup:  0.00 sec \n",
      "\n",
      "WARNING:\n",
      " Lattice type or lattice constants changed!\n",
      " Will take default values for bandplot special symmetry points!\n",
      "WARNING:\n",
      " number of Wyckoff positions changed!\n",
      " Will take default concentrations and initial_spin_split!\n",
      "\n",
      "\n",
      "------------------------------------------------------------------------\n",
      "Blocks contained in cif file '45.cif':\n",
      "------------------------------------------------------------------------\n",
      "symmetry block No.   name\n",
      "------------------------------------------------------------------------\n",
      "     0               alc7in\n",
      "------------------------------------------------------------------------\n",
      "blockswithsymdata [0 ] \n",
      "\n",
      "Symmetry information for datablock: alc7in\n",
      "Space group number: 1\n",
      "Name-Hall         : not found\n",
      "xyz-symbol        :  gives hallsymbol P 1\n",
      "\n",
      "The 48\n",
      "following symmetry options are available:\n",
      "  0 'xyz-symbols'\n",
      "\n",
      "Getting structure from symmetry option: 'xyz-symbols'\n",
      "\n",
      "\n",
      "CPU TIME determineSiteOperations:  0.00 sec \n",
      "CPU TIME analyseGroup:  0.00 sec \n",
      "\n",
      "WARNING:\n",
      " Lattice type or lattice constants changed!\n",
      " Will take default values for bandplot special symmetry points!\n",
      "WARNING:\n",
      " number of Wyckoff positions changed!\n",
      " Will take default concentrations and initial_spin_split!\n",
      "\n",
      "\n",
      "------------------------------------------------------------------------\n",
      "Blocks contained in cif file '46.cif':\n",
      "------------------------------------------------------------------------\n",
      "symmetry block No.   name\n",
      "------------------------------------------------------------------------\n",
      "     0               ag(oso3)2\n",
      "------------------------------------------------------------------------\n",
      "blockswithsymdata [0 ] \n",
      "\n",
      "Symmetry information for datablock: ag(oso3)2\n",
      "Space group number: 1\n",
      "Name-Hall         : not found\n",
      "xyz-symbol        :  gives hallsymbol P 1\n",
      "\n",
      "The following symmetry options are available:\n",
      "  0 'xyz-symbols'\n",
      "\n",
      "Getting structure from symmetry option: 'xyz-symbols'\n",
      "\n",
      "\n",
      "CPU TIME determineSiteOperations:  0.00 sec \n",
      "CPU TIME analyseGroup:  0.00 sec \n",
      "\n",
      "WARNING:\n",
      " Lattice type or lattice constants changed!\n",
      " Will take default values for bandplot special symmetry points!\n",
      "WARNING:\n",
      " number of Wyckoff positions changed!\n",
      " Will take default concentrations and initial_spin_split!\n",
      "\n",
      "\n",
      "------------------------------------------------------------------------\n",
      "Blocks contained in cif file '47.cif':\n",
      "------------------------------------------------------------------------\n",
      "symmetry block No.   name\n",
      "------------------------------------------------------------------------\n",
      "     0               agpdo2\n",
      "------------------------------------------------------------------------\n",
      "blockswithsymdata [0 ] \n",
      "\n",
      "Symmetry information for datablock: agpdo2\n",
      "Space group number: 1\n",
      "Name-Hall         : not found\n",
      "xyz-symbol        :  gives hallsymbol P 1\n",
      "\n",
      "The following symmetry options are available:\n",
      "  0 'xfedit pipe succesfull\n",
      "spacegroup number :  48\n",
      "spacegroup setting:  2\n",
      "lattice constants :  ['8.54966391', '8.54954788', '8.53450314']\n",
      "axis angle        :  ['90', '90', '90']\n",
      "Wyckoff positions:  9\n",
      "Ba                  1/4                  1/4                  1/4\n",
      "Ba                 -1/4                  1/4                 -1/4\n",
      "Ca                  1/4                 -1/4                 -1/4\n",
      "Ca                 -1/4                 -1/4                  1/4\n",
      "Dy                 -1/2                 -1/2                 -1/2\n",
      "Bi                    0                    0                    0\n",
      " O            0.2428079           0.44005289           -0.4633581\n",
      " O           -0.4442855           0.24278469           0.45754902\n",
      " O           0.46623777          -0.47200948           0.24475979\n",
      "yz-symbols'\n",
      "\n",
      "Getting structure from symmetry option: 'xyz-symbols'\n",
      "\n",
      "\n",
      "CPU TIME determineSiteOpera49\n",
      "fedit pipe succesfull\n",
      "spacegroup number :  49\n",
      "spacegroup setting:  default\n",
      "lattice constants :  ['4.79953271', '5.56437903586348', '7.72985459']\n",
      "axis angle        :  ['90', '90', '90']\n",
      "Wyckoff positions:  3\n",
      "Ag                    0                    0                  1/4\n",
      "Au                  1/2                  1/2                    0\n",
      " S          -0.32797689          -0.11857704                    0\n",
      "50\n",
      "fedit pipe succesfull\n",
      "spacegroup number :  50\n",
      "spacegroup setting:  2\n",
      "lattice constants :  ['7.881467', '12.777068', '5.614456']\n",
      "axis angle        :  ['90', '90', '90']\n",
      "Wyckoff positions:  6\n",
      "Ca                  1/4            -0.029399                    0\n",
      " B             0.458314             0.142392            -0.284066\n",
      " O             0.440209             0.128598            -0.030657\n",
      " O             0.394388              0.25092            -0.379764\n",
      " O             0.369904             0.053924            -0.370137\n",
      " O            -0.362151             0.139881            -0.294288\n",
      "51\n",
      "tions:  0.00 sec \n",
      "CPU TIME analyseGroup:  0.00 sec \n",
      "\n",
      "WARNING:\n",
      " Lattice type or lattice constants changed!\n",
      " Will take default values for bandplot special symmetry points!\n",
      "WARNING:\n",
      " number of Wyckoff positions changed!\n",
      " Will take default concentrations and initial_spin_split!\n",
      "\n",
      "\n",
      "------------------------------------------------------------------------\n",
      "Blocks contained in cif file '48.cif':\n",
      "------------------------------------------------------------------------\n",
      "symmetry block No.   name\n",
      "------------------------------------------------------------------------\n",
      "     0               bacadybio6\n",
      "------------------------------------------------------------------------\n",
      "blockswithsymdata [0 ] \n",
      "\n",
      "Symmetry information for datablock: bacadybio6\n",
      "Space group number: 1\n",
      "Name-Hall         : not found\n",
      "xyz-symbol        :  gives hallsymbol P 1\n",
      "\n",
      "The following symmetry options are available:\n",
      "  0 'xyz-symbols'\n",
      "\n",
      "Getting structure from symmetry option: 'xyz-symbols'\n",
      "\n",
      "\n",
      "CPU TIME determineSiteOperations:  0.00 sec \n",
      "Cfedit pipe succesfull\n",
      "spacegroup number :  51\n",
      "spacegroup setting:  default\n",
      "lattice constants :  ['4.582241', '3.968818', '7.348443']\n",
      "axis angle        :  ['90', '90', '90']\n",
      "Wyckoff positions:  3\n",
      "Ag                 -1/4                    0            -0.102896\n",
      "Ag                  1/4                  1/2             0.388008\n",
      "Se                  1/4                    0            -0.294451\n",
      "PU TIME analyseGroup:  0.00 sec \n",
      "\n",
      "WARNING:\n",
      " Lattice type or lattice constants changed!\n",
      " Will take default values for bandplot special symmetry points!\n",
      "WARNING:\n",
      " number of Wyckoff positions changed!\n",
      " Will take default concentrations and initial_spin_split!\n",
      "\n",
      "\n",
      "------------------------------------------------------------------------\n",
      "Blocks contained in cif file '49.cif':\n",
      "------------------------------------------------------------------------\n",
      "symmetry block No.   name\n",
      "------------------------------------------------------------------------\n",
      "     0               agaus2\n",
      "------------------------------------------------------------------------\n",
      "blockswithsymdata [0 ] \n",
      "\n",
      "Symmetry information for datablock: agaus2\n",
      "Space group number: 1\n",
      "Name-Hall         : not found\n",
      "xyz-symbol        :  gives hallsymbol P 1\n",
      "\n",
      "The following symmetry options are available:\n",
      "  0 'xyz-symbols'\n",
      "\n",
      "Getting structure from symmetry option: 'xyz-symbols'\n",
      "\n",
      "\n",
      "CPU TIME determineSiteOperations:  0.00 sec \n",
      "CPU TIME analyseGroup:  0.00 sec \n",
      "\n",
      "WARNING:\n",
      " Lattice type or lattice constants changed!\n",
      " Will take default values for bandplot special symmetry points!\n",
      "WARNING:\n",
      " number of Wyckoff positions changed!\n",
      " Will take default concentrations and initial_spin_split!\n",
      "\n",
      "\n",
      "------------------------------------------------------------------------\n",
      "Blocks contained in cif file '50.cif':\n",
      "------------------------------------------------------------------------\n",
      "symmetry block No.   name\n",
      "------------------------------------------------------------------------\n",
      "     0               ca(bo4)2\n",
      "------------------------------------------------------------------------\n",
      "blockswithsymdata [0 ] \n",
      "\n",
      "Symmetry information for datablock: ca(bo4)2\n",
      "Space group number: 1\n",
      "Name-Hall         : not found\n",
      "xyz-symbol        :  gives hallsymbol P 1\n",
      "\n",
      "The following symmetry options are available:\n",
      "  0 'xyz-symbols'\n",
      "\n",
      "Getting structure from symmetry option: 'xyz-symbols'\n",
      "\n",
      "\n",
      "CPU TIME determineSiteOperations:  0.00 sec \n",
      "CPU TIME analyseGroup:  0.00 sec \n",
      "\n",
      "WARNING:\n",
      " Lattice type or lattice constants changed!\n",
      " Will take default values for bandplot special symmetry points!\n",
      "WARNING:\n",
      " number of Wyckoff positions changed!\n",
      " Will take default concentrations and initial_spin_split!\n",
      "\n",
      "\n",
      "------------------------------------------------------------------------\n",
      "Blocks contained in cif file '51.cif':\n",
      "------------------------------------------------------------------------\n",
      "symmetry block No.   name\n",
      "------------------------------------------------------------------------\n",
      "     0               ag2se\n",
      "------------------------------------------------------------------------\n",
      "blockswithsymdata [0 ] \n",
      "\n",
      "Symmetry information for datablock: ag2se\n",
      "Space group number: 1\n",
      "Name-Hall         : not found\n",
      "xyz-symbol        :  gives hallsymbol P 1\n",
      "\n",
      "The following symmetry options are available:\n",
      "  0 'xyz-symbols'\n",
      "\n",
      "Getting structure from symmetry option: 'xyz-symbols'\n",
      "\n",
      "\n",
      "CPU TIME determineSiteOperations:  0.00 sec \n",
      "CPU TIME analyseGroup:  0.00 sec \n",
      "\n",
      "WARNING:\n",
      " Lattice type or lattice constants changed!\n",
      " Will take default values for bandplot special symmetry points!\n",
      "WARNING:\n",
      " number of Wyck52\n",
      "fedit pipe succesfull\n",
      "spacegroup number :  13\n",
      "spacegroup setting:  b1\n",
      "lattice constants :  ['6.332451', '6.135074', '11.70930816111887']\n",
      "axis angle        :  ['90', '122.73844736712429', '90']\n",
      "Wyckoff positions:  9\n",
      "Ag                    0             0.277706                 -1/4\n",
      "Ag                  1/2                  1/2                  1/2\n",
      "Ag                  1/2                 -2/9                  1/4\n",
      "Ag                  1/2                    0                  1/2\n",
      "Bi             0.104072                 -1/4            -0.395928\n",
      " O            -0.244565            -0.435105             0.438016\n",
      " O             0.120597             0.064895            -0.061984\n",
      " O                    0            -0.354825                 -1/4\n",
      " O                  1/2            -0.145175                 -1/4\n",
      "53\n",
      "fedit pipe succesfull\n",
      "spacegroup number :  53\n",
      "spacegroup setting:  default\n",
      "lattice constants :  ['5.42083601', '5.34289136', '4.06996494']\n",
      "axis angle        :  ['90', '90', '90']\n",
      "Wyckoff positions:  3\n",
      "Ag                    0                    0                  1/2\n",
      "Au                 -1/2                 -1/2                  1/2\n",
      " O                  1/4           0.29739317                  1/4\n",
      "54\n",
      "fedit pipe succesfull\n",
      "spacegroup number :  13\n",
      "spacegroup setting:  b1\n",
      "lattice constants :  ['17.76655080500264', '10.443504', '15.136092']\n",
      "axis angle        :  ['90', '148.42365485396223', '90']\n",
      "Wyckoff positions:  21\n",
      "Ag                 -1/4                    0              0.16202\n",
      "As                  1/2            -0.224832                  1/4\n",
      "As                    0            -0.224832                  1/4\n",
      " S             0.070363            -0.158662            -0.054534\n",
      " S             0.335591             -0.31405             0.404577\n",
      " S            -0.402217             0.378263             0.239403\n",
      " S            -0.429637             0.158662              0.19526\n",
      " S            -0.164409              0.31405             0.266605\n",
      " S             0.097783             0.378263             0.456163\n",
      " N            -0.048337             0.417516             0.360354\n",
      " N             0.104477             -0.17849            -0.290411\n",
      " N            -0.451663            -0.417516            -0.042972\n",
      " N            -0.395523             -0.17849            -0.000635\n",
      " O            -0.148187            -0.128343              0.39438\n",
      " O            -0.351813             0.128343             0.190754\n",
      " F            -0.495152             0.225411            -0.362418\n",
      " F             0.136322             0.344488            -0.115943\n",
      " F            -0.134661              -0.1038             0.117484\n",
      " F            -0.004848             0.225411            -0.372114\n",
      " F                -4/11            -0.344488     0.38862863636364\n",
      " F             0.365339              -0.1038             0.113194\n",
      "55\n",
      "fedit pipe succesfull\n",
      "spacegroup number :  55\n",
      "spacegroup setting:  default\n",
      "lattice constants :  ['10.323074', '9.273411', '12.646994']\n",
      "axis angle        :  ['90', '90', '90']\n",
      "Wyckoff positions:  15\n",
      "Ag                    0                    0                    0\n",
      "Ag                    0                    0             0.253219\n",
      "Ag                    0                 -1/2                    0\n",
      "Ag                    0                    0                 -1/2\n",
      "Ag                    0                 -1/2             0.248956\n",
      "Ag                    0                 -1/2                 -1/2\n",
      "Ge             0.204462            -0.248162             0.125219\n",
      "Ge             0.205937            -0.248224             0.375101\n",
      " O             0.103847            -0.401582             0.374224\n",
      " O             0.108382            -0.089742             0.126432\n",
      " O             0.110715            -0.408152             0.124738\n",
      " O             0.119076                -1/12             0.376581\n",
      " O             0.203531             0.246284                 -1/2\n",
      " O             0.205721             0.253318                    0\n",
      " O             0.204315             0.250919             0.249793\n",
      "56\n",
      "off positions changed!\n",
      " Will take default concentrations and initial_spin_split!\n",
      "\n",
      "\n",
      "------------------------------------------------------------------------\n",
      "Blocks contained in cif file '52.cif':\n",
      "------------------------------------------------------------------------\n",
      "symmetry block No.   name\n",
      "------------------------------------------------------------------------\n",
      "     0               ag2bio3\n",
      "------------------------------------------------------------------------\n",
      "blockswithsymdata [0 ] \n",
      "\n",
      "Symmetry information for datablock: ag2bio3\n",
      "Space group number: 1\n",
      "Name-Hall         : not found\n",
      "xyz-symbol        :  gives hallsymbol P 1\n",
      "\n",
      "The following symmetry options are available:\n",
      "  0 'xyz-symbols'\n",
      "\n",
      "Getting structure from symmetry option: 'xyz-symbols'\n",
      "\n",
      "\n",
      "CPU TIME determineSiteOperations:  0.00 sec \n",
      "0 b1 \n",
      "1 b2 \n",
      "CPU TIME analyseGroup:  0.00 sec \n",
      "\n",
      "WARNING:\n",
      " Lattice type or lattice constants changed!\n",
      " Will take default values for bandplot special symmetry points!\n",
      "WARNING:\n",
      " number of Wyckoff positionsfedit pipe succesfull\n",
      "spacegroup number :  7\n",
      "spacegroup setting:  b1\n",
      "lattice constants :  ['7.496494', '13.15211', '5.269533']\n",
      "axis angle        :  ['90', '90', '90']\n",
      "Wyckoff positions:  10\n",
      "As            -0.387588            -0.115592            -0.009342\n",
      "As             0.387588             0.115592            -0.009342\n",
      "As             -0.11316            -0.384162             0.058801\n",
      "As              0.11316             0.384162             0.058801\n",
      " O                 -1/2                    0            -0.392322\n",
      " O                    0                  1/2             0.443268\n",
      " O            -0.056936            -0.322186            -0.240214\n",
      " O             0.056935             0.322186            -0.240214\n",
      " O             0.436493            -0.175738            -0.204218\n",
      " O            -0.436493             0.175738            -0.204218\n",
      " changed!\n",
      " Will take default concentrations and initial_spin_split!\n",
      "\n",
      "\n",
      "------------------------------------------------------------------------\n",
      "Blocks contained in cif file '53.cif':\n",
      "------------------------------------------------------------------------\n",
      "symmetry block No.   name\n",
      "------------------------------------------------------------------------\n",
      "     0               agauo2\n",
      "------------------------------------------------------------------------\n",
      "blockswithsymdata [0 ] \n",
      "\n",
      "Symmetry information for datablock: agauo2\n",
      "Space group number: 1\n",
      "Name-Hall         : not found\n",
      "xyz-symbol        :  gives hallsymbol P 1\n",
      "\n",
      "The following symmetry options are available:\n",
      "  0 'xyz-symbols'\n",
      "\n",
      "Getting structure from symmetry option: 'xyz-symbols'\n",
      "\n",
      "\n",
      "CPU TIME determineSiteOperations:  0.00 sec \n",
      "CPU TIME analyseGroup:  0.00 sec \n",
      "\n",
      "WARNING:\n",
      " Lattice type or lattice constants changed!\n",
      " Will take default values for bandplot special symmetry points!\n",
      "WARNING:\n",
      " number of Wyckoff positions changed!\n",
      " Will take default concentrations and initial_spin_split!\n",
      "\n",
      "\n",
      "------------------------------------------------------------------------\n",
      "Blocks contained in cif file '54.cif':\n",
      "------------------------------------------------------------------------\n",
      "symmetry block No.   name\n",
      "------------------------------------------------------------------------\n",
      "     0               agass6n4(of3)2\n",
      "------------------------------------------------------------------------\n",
      "blockswithsymdata [0 ] \n",
      "\n",
      "Symmetry information for datablock: agass6n4(of3)2\n",
      "Space group number: 1\n",
      "Name-Hall         : not found\n",
      "xyz-symbol        :  gives hallsymbol P 1\n",
      "\n",
      "The following symmetry options are available:\n",
      "  0 'xyz-symbols'\n",
      "\n",
      "Getting structure from symmetry option: 'xyz-symbols'\n",
      "\n",
      "\n",
      "CPU TIME determineSiteOperations:  0.00 sec \n",
      "0 b1 \n",
      "1 b2 \n",
      "2 b3 \n",
      "CPU TIME analyseGroup:  0.00 sec \n",
      "\n",
      "WARNING:\n",
      " Lattice type or lattice constants changed!\n",
      " Will take default values for bandplot special symmetry points!\n",
      "WARNING:\n",
      " number of Wyckoff positions changed!\n",
      " Will take default concentrations and initial_spin_split!\n",
      "\n",
      "\n",
      "------------------------------------------------------------------------\n",
      "Blocks contained in cif file '55.cif':\n",
      "------------------------------------------------------------------------\n",
      "symmetry block No.   name\n",
      "------------------------------------------------------------------------\n",
      "     0               aggeo3\n",
      "------------------------------------------------------------------------\n",
      "blockswithsymdata [0 ] \n",
      "\n",
      "Symmetry information for datablock: aggeo3\n",
      "Space group number: 1\n",
      "Name-Hall         : not found\n",
      "xyz-symbol        :  gives hallsymbol P 1\n",
      "\n",
      "The following symmetry options are available:\n",
      "  0 'xyz-symbols'\n",
      "\n",
      "Getting structure from symmetry option: 'xyz-symbols'\n",
      "\n",
      "\n",
      "CPU TIME determineSiteOperations:  0.00 sec \n",
      "CPU TIME analyseGroup:  0.00 sec \n",
      "\n",
      "WARNING:\n",
      " Lattice type or lattice constants changed!\n",
      " Will take default values for bandplot special symmetry points!\n",
      "WARNING:\n",
      " number of Wyckoff positions changed!\n",
      " Will take default concentrations and initial_spin_split!\n",
      "\n",
      "\n",
      "------------------------------------------------------------------------\n",
      "57\n",
      "fedit pipe succesfull\n",
      "spacegroup number :  57\n",
      "spacegroup setting:  default\n",
      "lattice constants :  ['9.027617', '11.375183', '7.102065']\n",
      "axis angle        :  ['90', '90', '90']\n",
      "Wyckoff positions:  8\n",
      "Ag             0.050194             0.119837             0.008504\n",
      "Ag             0.276597             0.248739                  1/4\n",
      " H            -0.137068             0.219942                  1/4\n",
      " S             0.237601            -0.456117                  1/4\n",
      " N             0.161019             0.414838                  1/4\n",
      " N             0.086982            -0.361655                  1/4\n",
      " N             0.351592             0.081731                  1/4\n",
      " O             0.314378            -0.433408             0.074579\n",
      "58\n",
      "fedit pipe succesfull\n",
      "spacegroup number :  58\n",
      "spacegroup setting:  default\n",
      "lattice constants :  ['7.930658', '10.435859', '6.029281']\n",
      "axis angle        :  ['90', '90', '90']\n",
      "Wyckoff positions:  7\n",
      "Ag                    0                    0                 -1/2\n",
      "Ag                    0                    0                    0\n",
      " N            -0.237371             0.485699                    0\n",
      " N            -0.364909             0.325557                 -1/2\n",
      " N            -0.423251             0.156675                    0\n",
      " O            -0.265157             0.174786                    0\n",
      " O               0.4987              0.14882             0.180218\n",
      "59\n",
      "fedit pipe succesfull\n",
      "spacegroup number :  59\n",
      "spacegroup setting:  2\n",
      "lattice constants :  ['6.02640496', '4.86574281', '5.31598564']\n",
      "axis angle        :  ['90', '90', '90']\n",
      "Wyckoff positions:  3\n",
      "Ag                  1/4                  1/4          -0.32631864\n",
      "Ag          -0.49799805                 -1/4          -0.15381445\n",
      "Sb                  1/4                 -1/4            0.3298216\n",
      "60\n",
      "Blocks contained in cif file '56.cif':\n",
      "------------------------------------------------------------------------\n",
      "symmetry block No.   name\n",
      "------------------------------------------------------------------------\n",
      "     0               as2o3\n",
      "------------------------------------------------------------------------\n",
      "blockswithsymdata [0 ] \n",
      "\n",
      "Symmetry information for datablock: as2o3\n",
      "Space group number: 1\n",
      "Name-Hall         : not found\n",
      "xyz-symbol        :  gives hallsymbol P 1\n",
      "\n",
      "The following symmetry options are available:\n",
      "  0 'xyz-symbols'\n",
      "\n",
      "Getting structure from symmetry option: 'xyz-symbols'\n",
      "\n",
      "\n",
      "CPU TIME determineSiteOperations:  0.00 sec \n",
      "0 b1 \n",
      "CPU TIME analyseGroup:  0.00 sec \n",
      "\n",
      "WARNING:\n",
      " Lattice type or lattice constants changed!\n",
      " Will take default values for bandplot special symmetry points!\n",
      "WARNING:\n",
      " number of Wyckoff positions changed!\n",
      " Will take default concentrations and initial_spin_split!\n",
      "\n",
      "\n",
      "------------------------------------------------------------------------\n",
      "Blocks contained in ciffedit pipe succesfull\n",
      "spacegroup number :  60\n",
      "spacegroup setting:  default\n",
      "lattice constants :  ['22.730634', '6.615763', '13.912224']\n",
      "axis angle        :  ['90', '90', '90']\n",
      "Wyckoff positions:  11\n",
      "Ag             0.082723             0.020733             0.298171\n",
      "Ag             0.109434             0.455159             0.017249\n",
      "Ag            -0.031579            -0.085849             0.408454\n",
      "Sn              0.19668            -0.058309             0.051948\n",
      "Sn                    0             0.473032                  1/4\n",
      " S             0.052791            -0.311008             0.364304\n",
      " S             0.068057             0.253291             0.160591\n",
      " S              0.22078            -0.122992             0.244931\n",
      " S             0.289191            -0.214161            -0.015478\n",
      " S             0.109005            -0.179372            -0.031953\n",
      " N             0.278489            -0.020439             0.262126\n",
      " file '57.cif':\n",
      "------------------------------------------------------------------------\n",
      "symmetry block No.   name\n",
      "------------------------------------------------------------------------\n",
      "     0               ag3hsn3o2\n",
      "------------------------------------------------------------------------\n",
      "blockswithsymdata [0 ] \n",
      "\n",
      "Symmetry information for datablock: ag3hsn3o2\n",
      "Space group number: 1\n",
      "Name-Hall         : not found\n",
      "xyz-symbol        :  gives hallsymbol P 1\n",
      "\n",
      "The following symmetry options are available:\n",
      "  0 'xyz-symbols'\n",
      "\n",
      "Getting structure from symmetry option: 'xyz-symbols'\n",
      "\n",
      "\n",
      "CPU TIME determineSiteOperations:  0.00 sec \n",
      "CPU TIME analyseGroup:  0.00 sec \n",
      "\n",
      "WARNING:\n",
      " Lattice type or lattice constants changed!\n",
      " Will take default values for bandplot special symmetry points!\n",
      "WARNING:\n",
      " number of Wyckoff positions changed!\n",
      " Will take default concentrations and initial_spin_split!\n",
      "\n",
      "\n",
      "------------------------------------------------------------------------\n",
      "Blocks contained in cif file '58.cif':\n",
      "-----61\n",
      "-------------------------------------------------------------------\n",
      "symmetry block No.   name\n",
      "------------------------------------------------------------------------\n",
      "     0               ag(no)3\n",
      "------------------------------------------------------------------------\n",
      "blockswithsymdata [0 ] \n",
      "\n",
      "Symmetry information for datablock: ag(no)3\n",
      "Space group number: 1\n",
      "Name-Hall         : not found\n",
      "xyz-symbol        :  gives hallsymbol P 1\n",
      "\n",
      "The following symmetry options are available:\n",
      "  0 'xyz-symbols'\n",
      "\n",
      "Getting structure from symmetry option: 'xyz-symbols'\n",
      "\n",
      "\n",
      "CPU TIME determineSiteOperations:  0.00 sec \n",
      "CPU TIME analyseGroup:  0.00 sec \n",
      "\n",
      "WARNING:\n",
      " Lattice type or lattice constants changed!\n",
      " Will take default values for bandplot special symmetry points!\n",
      "WARNING:\n",
      " number of Wyckoff positions changed!\n",
      " Will take default concentrations and initial_spin_split!\n",
      "\n",
      "\n",
      "------------------------------------------------------------------------\n",
      "Blocks contained in cif file '59.cif':\n",
      "------------------------------fedit pipe succesfull------------------------------------------\n",
      "symmetry block No.   name\n",
      "------------------------------------------------------------------------\n",
      "     0               ag3sb\n",
      "------------------------------------------------------------------------\n",
      "blockswithsymdata [0 ] \n",
      "\n",
      "Symmetry information for datablock: ag3sb\n",
      "Space group number: 1\n",
      "Name-Hall         : not found\n",
      "xyz-symbol        :  gives hallsymbol P 1\n",
      "\n",
      "The following symmetry options are available:\n",
      "  0 'xyz-symbols'\n",
      "\n",
      "Getting structure from symmetry option: 'xyz-symbols'\n",
      "\n",
      "\n",
      "CPU TIME determineSiteOperations:  0.00 sec \n",
      "CPU TIME analyseGroup:  0.00 sec \n",
      "\n",
      "WARNING:\n",
      " Lattice type or lattice constants changed!\n",
      " Will take default values for bandplot special symmetry points!\n",
      "WARNING:\n",
      " number of Wyckoff positions changed!\n",
      " Will take default concentrations and initial_spin_split!\n",
      "\n",
      "\n",
      "------------------------------------------------------------------------\n",
      "Blocks contained in cif file '60.cif':\n",
      "-----------------------------------------------------------\n",
      "spacegroup number :  61\n",
      "spacegroup setting:  default\n",
      "lattice constants :  ['7.057096', '11.4104', '17.260068']\n",
      "axis angle        :  ['90', '90', '90']\n",
      "Wyckoff positions:  11\n",
      "Ag             -0.11575             0.405672             0.242423\n",
      "Ag             0.352142            -0.380592             -0.04444\n",
      "Hg             0.124644            -0.338655             0.149244\n",
      "Se             0.163323            -0.132217            -0.145007\n",
      "Se            -0.165291            -0.118171             0.431397\n",
      " O            -0.165758             0.280669              0.46519\n",
      " O             0.171626              0.03887             0.395909\n",
      " O             0.141428            -0.437103             0.263523\n",
      " O             0.308585            -0.251984            -0.163479\n",
      " O             0.303601            -0.493661              0.08005\n",
      " O             0.150419             0.172144              -0.3366\n",
      "-------------\n",
      "symmetry block No.   name\n",
      "--------------------------------------------------------62\n",
      "fedit pipe succesfull\n",
      "spacegroup number :  62\n",
      "spacegroup setting:  default\n",
      "lattice constants :  ['13.872029', '7.754192', '9.278232']\n",
      "axis angle        :  ['90', '90', '90']\n",
      "Wyckoff positions:  13\n",
      "Ag                    0                    0                    0\n",
      "Ag             -0.19673                 -1/4            -0.053909\n",
      "Mo            -0.100521             0.001606            -0.379148\n",
      "Mo            -0.097014                 -1/4             0.333914\n",
      " O             0.060018             0.014777            -0.390315\n",
      " O            -0.220575             0.035827             -0.42786\n",
      " O            -0.103063            -0.041099            -0.189975\n",
      " O            -0.091035                 -1/4            -0.424427\n",
      " O            -0.220661                 -1/4             0.344996\n",
      " O            -0.069295                  1/4             -0.37342\n",
      " O            -0.070572                 -1/4             0.143654\n",
      " O            -0.148055                  1/4             0.211572\n",
      " O            -0.100161                  1/4             0.098912\n",
      "63\n",
      "fedit pipe succesfull\n",
      "spacegroup number :  63\n",
      "spacegroup setting:  default\n",
      "lattice constants :  ['4.17695313987786', '18.69671015800979', '6.02795032']\n",
      "axis angle        :  ['90', '90', '90']\n",
      "Wyckoff positions:  3\n",
      "Ac                    0           0.22577657                 -1/4\n",
      "Ac                    0                -1/12                 -1/4\n",
      "Mg                    0          -0.42868324                 -1/4\n",
      "64\n",
      "----------------\n",
      "     0               ag6sn3(s5n)2\n",
      "------------------------------------------------------------------------\n",
      "blockswithsymdata [0 ] \n",
      "\n",
      "Symmetry information for datablock: ag6sn3(s5n)2\n",
      "Space group number: 1\n",
      "Name-Hall         : not found\n",
      "xyz-symbol        :  gives hallsymbol P 1\n",
      "\n",
      "The following symmetry options are available:\n",
      "  0 'xyz-symbols'\n",
      "\n",
      "Getting structure from symmetry option: 'xyz-symbols'\n",
      "\n",
      "\n",
      "CPU TIME determineSiteOperations:  0.00 sec \n",
      "CPU TIME analyseGroup:  0.00 sec \n",
      "\n",
      "WARNING:\n",
      " Lattice type or lattice constants changed!\n",
      " Will take default values for bandplot special symmetry points!\n",
      "WARNING:\n",
      " number of Wyckoff positions changed!\n",
      " Will take default concentrations and initial_spin_split!\n",
      "\n",
      "\n",
      "------------------------------------------------------------------------\n",
      "Blocks contained in cif file '61.cif':\n",
      "------------------------------------------------------------------------\n",
      "symmetry block No.   name\n",
      "-----------------------------------------------------------------------fedit pipe succesfull\n",
      "spacegroup number :  64\n",
      "spacegroup setting:  default\n",
      "lattice constants :  ['10.01009884483377', '8.16486495346809', '8.10102674']\n",
      "axis angle        :  ['90', '90', '90']\n",
      "Wyckoff positions:  4\n",
      "Ag                 -1/4          -0.22074641                  1/4\n",
      "Pd                    0                    0                 -1/2\n",
      "Cl                    0           0.19509428           0.29251906\n",
      "Cl           0.26835289                    0                    0\n",
      "-\n",
      "     0               ag2hg(seo3)2\n",
      "------------------------------------------------------------------------\n",
      "blockswithsymdata [0 ] \n",
      "\n",
      "Symmetry information for datablock: ag2hg(seo3)2\n",
      "Space group number: 1\n",
      "Name-Hall         : not found\n",
      "xyz-symbol        :  gives hallsymbol P 1\n",
      "\n",
      "The following symmetry options are available:\n",
      "  0 'xyz-symbols'\n",
      "\n",
      "Getting structure from symmetry option: 'xyz-symbols'\n",
      "\n",
      "\n",
      "CPU TIME determineSiteOperations:  0.00 sec \n",
      "CPU TIME analyseGroup:  0.00 sec \n",
      "\n",
      "WARNING:\n",
      " Lattice type or lattice constants changed!\n",
      " Will take default values for bandplot special symmetry points!\n",
      "WARNING:\n",
      " number of Wyckoff positions changed!\n",
      " Will take default concentrations and initial_spin_split!\n",
      "\n",
      "\n",
      "------------------------------------------------------------------------\n",
      "Blocks contained in cif file '62.cif':\n",
      "------------------------------------------------------------------------\n",
      "symmetry block No.   name\n",
      "------------------------------------------------------------------------\n",
      "     0       65\n",
      "        ag2(moo4)3\n",
      "------------------------------------------------------------------------\n",
      "blockswithsymdata [0 ] \n",
      "\n",
      "Symmetry information for datablock: ag2(moo4)3\n",
      "Space group number: 1\n",
      "Name-Hall         : not found\n",
      "xyz-symbol        :  gives hallsymbol P 1\n",
      "\n",
      "The following symmetry options are available:\n",
      "  0 'xyz-symbols'\n",
      "\n",
      "Getting structure from symmetry option: 'xyz-symbols'\n",
      "\n",
      "\n",
      "CPU TIME determineSiteOperations:  0.00 sec \n",
      "CPU TIME analyseGroup:  0.00 sec \n",
      "\n",
      "WARNING:\n",
      " Lattice type or lattice constants changed!\n",
      " Will take default values for bandplot special symmetry points!\n",
      "WARNING:\n",
      " number of Wyckoff positions changed!\n",
      " Will take default concentrations and initial_spin_split!\n",
      "\n",
      "\n",
      "------------------------------------------------------------------------\n",
      "Blocks contained in cif file '63.cif':\n",
      "------------------------------------------------------------------------\n",
      "symmetry block No.   name\n",
      "------------------------------------------------------------------------\n",
      "     0               ac2mg\n",
      "------------------------------------------------------------------------\n",
      "blockswithsymdata [0 ] \n",
      "\n",
      "Symmetry information for datablock: ac2mg\n",
      "Space group number: 1\n",
      "Name-Hall         : not found\n",
      "xyz-symbol        :  gives hallsymbol P 1\n",
      "\n",
      "The following symmetry options are available:\n",
      "  0 'xyz-symbols'\n",
      "\n",
      "Getting structure from symmetry option: 'xyz-symbols'\n",
      "\n",
      "\n",
      "CPU TIME determineSiteOperations:  0.00 sec \n",
      "CPU TIME analyseGroup:  0.00 sec \n",
      "\n",
      "WARNING:\n",
      " Lattice type or lattice constants changed!\n",
      " Will take default values for bandplot special symmetry points!\n",
      "WARNING:\n",
      " number of Wyckoff positions changed!\n",
      " Will take default concentrations and initial_spin_split!\n",
      "\n",
      "\n",
      "------------------------------------------------------------------------\n",
      "Blocks contained in cif file '64.cif':\n",
      "------------------------------------------------------------------------\n",
      "symmetry block No.   name\n",
      "------------------------------------------------------------------------\n",
      "     0               ag2pdcl4\n",
      "-------------------------------fedit pipe succesfull\n",
      "spacegroup number :  65\n",
      "spacegroup setting:  default\n",
      "lattice constants :  ['17.48344000628074', '10.27289800440961', '56.381335']\n",
      "axis angle        :  ['90', '90', '90']\n",
      "Wyckoff positions:  5\n",
      "Ag                    0                    0                    0\n",
      "As                    0                    0                 -1/2\n",
      "As                  1/4                  1/4                    0\n",
      "Se                    0                    0             0.239933\n",
      "Se            0.1339405            0.1265685                    0\n",
      "-----------------------------------------\n",
      "blockswithsymdata [0 ] \n",
      "\n",
      "Symmetry information for data66\n",
      "fedit pipe succesfull\n",
      "spacegroup number :  66\n",
      "spacegroup setting:  default\n",
      "lattice constants :  ['10.48165946654487', '5.93302074374732', '10.52339961']\n",
      "axis angle        :  ['90', '90', '90']\n",
      "Wyckoff positions:  4\n",
      "Al         -0.239082765          0.001168825                    0\n",
      "Pb                    0                  1/2                  1/4\n",
      " S          0.088120685          0.266754605                    0\n",
      " S                 -1/4                 -1/4           0.33767259\n",
      "67\n",
      "fedit pipe succesfull\n",
      "spacegroup number :  67\n",
      "spacegroup setting:  default\n",
      "lattice constants :  ['7.04562200528108', '6.66374400469561', '8.084414']\n",
      "axis angle        :  ['90', '90', '90']\n",
      "Wyckoff positions:  3\n",
      "Ag                    0                  1/4            -0.242546\n",
      "Cl                    0                  1/4             0.159411\n",
      " O                    0             0.435951             0.282231\n",
      "68\n",
      "block: ag2pdcl4\n",
      "Space group number: 1\n",
      "Name-Hall         : not found\n",
      "xyz-symbol        :  gives hallsymbol P 1\n",
      "\n",
      "The following symmetry options are available:\n",
      "  0 'xyz-symbols'\n",
      "\n",
      "Getting structure from symmetry option: 'xyz-symbols'\n",
      "\n",
      "\n",
      "CPU TIME determineSiteOperations:  0.00 sec \n",
      "CPU TIME analyseGroup:  0.00 sec \n",
      "\n",
      "WARNING:\n",
      " Lattice type or lattice constants changed!\n",
      " Will take default values for bandplot special symmetry points!\n",
      "WARNING:\n",
      " number of Wyckoff positions changed!\n",
      " Will take default concentrations and initial_spin_split!\n",
      "\n",
      "\n",
      "------------------------------------------------------------------------\n",
      "Blocks contained in cif file '65.cif':\n",
      "------------------------------------------------------------------------\n",
      "symmetry block No.   name\n",
      "------------------------------------------------------------------------\n",
      "     0               ag(asse2)3\n",
      "------------------------------------------------------------------------\n",
      "blockswithsymdata [0 ] \n",
      "\n",
      "Symmetry information for datablock: ag(asse2)3\n",
      "Spafedit pipe succesfull\n",
      "spacegroup number :  68\n",
      "spacegroup setting:  2\n",
      "lattice constants :  ['19.42581800596318', '13.62469400339622', '5.274691']\n",
      "axis angle        :  ['90', '90', '90']\n",
      "Wyckoff positions:  9\n",
      "Al                    0             0.440496                  1/4\n",
      "Al            -0.211608                  1/4                 -1/4\n",
      "Fe            -0.130514                  1/4                  1/4\n",
      "Si             0.364046            -0.050888            -0.416354\n",
      " O           -0.0627615            0.3367475             0.148102\n",
      " O             0.447405            -0.034288            -0.435578\n",
      " O             0.330276            -0.000176             0.332585\n",
      " O            -0.150282             0.331383            -0.411332\n",
      " O              0.28895            -0.187974             0.080368\n",
      "ce group number: 1\n",
      "Name-Hall         : not found\n",
      "xyz-symbol        :  gives hallsymbol P 1\n",
      "\n",
      "The following symmetry options are available:\n",
      "  0 'xyz-symbols'\n",
      "\n",
      "Getting structure from symmetry option: 'xyz-symbols'\n",
      "\n",
      "\n",
      "CPU TIME determineSiteOperations:  0.00 sec \n",
      "CPU TIME analyseGroup:  0.00 sec \n",
      "\n",
      "WARNING:\n",
      " Lattice type or lattice constants changed!\n",
      " Will take default values for bandplot special symmetry points!\n",
      "WARNING:\n",
      " number of Wyckoff positions changed!\n",
      " Will take default concentrations and initial_spin_split!\n",
      "\n",
      "\n",
      "------------------------------------------------------------------------\n",
      "Blocks contained in cif file '66.cif':\n",
      "------------------------------------------------------------------------\n",
      "symmetry block No.   name\n",
      "------------------------------------------------------------------------\n",
      "     0               al2pbs4\n",
      "------------------------------------------------------------------------\n",
      "blockswithsymdata [0 ] \n",
      "\n",
      "Symmetry information for datablock: al2pbs4\n",
      "Space group number: 1\n",
      "Name-Hall         : not found\n",
      "xyz-symbol        :  gives hallsymbol P 1\n",
      "\n",
      "The following symmetry options are available:\n",
      "  0 'xyz-symbols'\n",
      "\n",
      "Getting structure from symmetry option: 'xyz-symbols'\n",
      "\n",
      "\n",
      "CPU TIME determineSiteOperations:  0.00 sec \n",
      "CPU TIME analyseGroup:  0.00 sec \n",
      "\n",
      "WARNING:\n",
      " Lattice type or lattice constants changed!\n",
      " Will take default values for bandplot special symmetry points!\n",
      "WARNING:\n",
      " number of Wyckoff positions changed!\n",
      " Will take default concentrations and initial_spin_split!\n",
      "\n",
      "\n",
      "------------------------------------------------------------------------\n",
      "Blocks contained in cif file '67.cif':\n",
      "------------------------------------------------------------------------\n",
      "symmetry block No.   name\n",
      "------------------------------------------------------------------------\n",
      "     0               agclo2\n",
      "------------------------------------------------------------------------\n",
      "blockswithsymdata [0 ] \n",
      "\n",
      "Symmetry information for datablock: agclo2\n",
      "Space group number: 1\n",
      "Name-Hall         : not found\n",
      "xyz-symbol        :  gives hallsymbol P 1\n",
      "\n",
      "The following symmetry options are available:\n",
      "  0 'xyz-symbols'\n",
      "\n",
      "Getting structure from symmetry option: 'xyz-symbols'\n",
      "\n",
      "\n",
      "CPU TIME determineSiteOperations:  0.00 sec \n",
      "CPU TIME analyseGroup:  0.00 sec \n",
      "\n",
      "WARNING:\n",
      " Lattice type or lattice constants changed!\n",
      " Will take default values for bandplot special symmetry points!\n",
      "WARNING:\n",
      " number of Wyckoff positions changed!\n",
      " Will take default concentrations and initial_spin_split!\n",
      "\n",
      "\n",
      "------------------------------------------------------------------------\n",
      "Blocks contained in cif file '68.cif':\n",
      "------------------------------------------------------------------------\n",
      "symmetry block No.   name\n",
      "------------------------------------------------------------------------\n",
      "     0               al2fe(sio5)2\n",
      "------------------------------------------------------------------------\n",
      "blockswithsymdata [0 ] \n",
      "\n",
      "Symmetry information for datablock: al2fe(sio5)2\n",
      "Space group number: 1\n",
      "Name-Hall         : not found\n",
      "xyz-symbol        69\n",
      ":  gives hallsymbol P 1\n",
      "\n",
      "The following symmetry options are available:\n",
      "  0 'xyz-symbols'\n",
      "\n",
      "Gettinfedit pipe succesfull\n",
      "spacegroup number :  69\n",
      "spacegroup setting:  default\n",
      "lattice constants :  ['12.20767248624009', '2.90067200129299', '4.28500769926869']\n",
      "axis angle        :  ['90', '90', '90']\n",
      "Wyckoff positions:  2\n",
      "Al                    0                 -1/2                    0\n",
      "Cr            -0.173865                    0                    0\n",
      "70\n",
      "fedit pipe succesfull\n",
      "spacegroup number :  15\n",
      "spacegroup setting:  b1\n",
      "lattice constants :  ['10.84484600575251', '10.92978000588529', '10.71283966']\n",
      "axis angle        :  ['90', '120.40846097628575', '90']\n",
      "Wyckoff positions:  6\n",
      "Ag            -0.281795             0.029525             0.000185\n",
      "Ag              0.03198            -0.279525             0.000185\n",
      "As                  1/4                  1/4                    0\n",
      "As                    0                    0                    0\n",
      " O             0.342397             0.130062            -0.058186\n",
      " O           -0.1505835            0.1199385            -0.058186\n",
      "71\n",
      "fedit pipe succesfull\n",
      "spacegroup number :  71\n",
      "spacegroup setting:  default\n",
      "lattice constants :  ['16.26068199487651', '11.5020899968978', '10.69438399629326']\n",
      "axis angle        :  ['90', '90', '90']\n",
      "Wyckoff positions:  3\n",
      "Ag                    0                    0             0.246712\n",
      "Hg                    0                    0                  1/2\n",
      "Au                    0                    0                    0\n",
      "72\n",
      "g structure from symmetry option: 'xyz-symbols'\n",
      "\n",
      "\n",
      "CPU TIME determineSiteOperations:  0.00 sec \n",
      "CPU TIME analyseGroup:  0.00 sec \n",
      "\n",
      "WARNING:\n",
      " Lattice type or lattice constants changed!\n",
      " Will take default values for bandplot special symmetry points!\n",
      "WARNING:\n",
      " number of Wyckoff positions changed!\n",
      " Will take default concentrations and initial_spin_split!\n",
      "\n",
      "\n",
      "------------------------------------------------------------------------\n",
      "Blocks contained in cif file '69.cif':\n",
      "------------------------------------------------------------------------\n",
      "symmetry block No.   name\n",
      "------------------------------------------------------------------------\n",
      "     0               alcr2\n",
      "------------------------------------------------------------------------\n",
      "blockswithsymdata [0 ] \n",
      "\n",
      "Symmetry information for datablock: alcr2\n",
      "Space group number: 1\n",
      "Name-Hall         : not found\n",
      "xyz-symbol        :  gives hallsymbol P 1\n",
      "\n",
      "The following symmetry options are available:\n",
      "  0 'xyz-symbols'\n",
      "\n",
      "Getting structure from symmetry optfedit pipe succesfull\n",
      "spacegroup number :  9\n",
      "spacegroup setting:  b1\n",
      "lattice constants :  ['9.02294322136683', '9.71910187725608', '6.33540129']\n",
      "axis angle        :  ['90', '134.59922457679991', '90']\n",
      "Wyckoff positions:  6\n",
      "Ag                 -1/4                 -1/4                 -1/2\n",
      "Ag                 -1/4                 -1/4                    0\n",
      "Ag                    0                    0                    0\n",
      "Ag                  1/2                    0                 -1/4\n",
      " O         -0.278441055         -0.110627075           0.22155895\n",
      " O          0.278440555         -0.110627575           0.27844005\n",
      "ion: 'xyz-symbols'\n",
      "\n",
      "\n",
      "CPU TIME determineSiteOperations:  0.00 sec \n",
      "CPU TIME analyseGroup:  0.00 sec \n",
      "XXX type 1 orientation 2 \n",
      "\n",
      "WARNING:\n",
      " Lattice type or lattice constants changed!\n",
      " Will take default values for bandplot special symmetry points!\n",
      "WARNING:\n",
      " number of Wyckoff positions changed!\n",
      " Will take default concentrations and initial_spin_split!\n",
      "\n",
      "\n",
      "------------------------------------------------------------------------\n",
      "Blocks contained in cif file '70.cif':\n",
      "------------------------------------------------------------------------\n",
      "symmetry block No.   name\n",
      "------------------------------------------------------------------------\n",
      "     0               ag2aso2\n",
      "------------------------------------------------------------------------\n",
      "blockswithsymdata [0 ] \n",
      "\n",
      "Symmetry information for datablock: ag2aso2\n",
      "Space group number: 1\n",
      "Name-Hall         : not found\n",
      "xyz-symbol        :  gives hallsymbol P 1\n",
      "\n",
      "The following symmetry options are available:\n",
      "  0 'xyz-symbols'\n",
      "\n",
      "Getting structure from symmetry option: 'xyz-symbols'\n",
      "\n",
      "\n",
      "CPU TIME determineSiteOperations:  0.00 sec \n",
      "0 b1 \n",
      "1 b2 \n",
      "2 b3 \n",
      "3 -b1 \n",
      "4 -b2 \n",
      "5 -b3 \n",
      "CPU TIME analyseGroup:  0.00 sec \n",
      "\n",
      "WARNING:\n",
      " Lattice type or lattice constants changed!\n",
      " Will take default values for bandplot special symmetry points!\n",
      "WARNING:\n",
      " number of Wyckoff positions changed!\n",
      " Will take default concentrations and initial_spin_split!\n",
      "\n",
      "\n",
      "------------------------------------------------------------------------\n",
      "Blocks contained in cif file '71.cif':\n",
      "------------------------------------------------------------------------\n",
      "symmetry block No.   name\n",
      "------------------------------------------------------------------------\n",
      "     0               ag2hgau\n",
      "------------------------------------------------------------------------\n",
      "blockswithsymdata [0 ] \n",
      "\n",
      "Symmetry information for datablock: ag2hgau\n",
      "Space group number: 1\n",
      "Name-Hall         : not found\n",
      "xyz-symbol        :  gives hallsymbol P 1\n",
      "\n",
      "The following symmetry options are available:\n",
      "  0 'xyz-symbols'\n",
      "\n",
      "Getting structure from symmetry option: 'xyz-symbols'\n",
      "\n",
      "\n",
      "CPU TIME determineSiteOperations:  0.00 sec \n",
      "CPU TIME analyseGroup:  0.00 sec \n",
      "\n",
      "WARNING:\n",
      " Lattice type or lattice constants changed!\n",
      " Will take default values for bandplot special symmetry points!\n",
      "WARNING:\n",
      " number of Wyckoff positions changed!\n",
      " Will take default concentrations and initial_spin_split!\n",
      "\n",
      "\n",
      "------------------------------------------------------------------------\n",
      "Blocks contained in cif file '72.cif':\n",
      "------------------------------------------------------------------------\n",
      "symmetry block No.   name\n",
      "------------------------------------------------------------------------\n",
      "     0               ag2o\n",
      "------------------------------------------------------------------------\n",
      "blockswithsymdata [0 ] \n",
      "\n",
      "Symmetry information for datablock: ag2o\n",
      "Space group number: 1\n",
      "Name-Hall         : not found\n",
      "xyz-symbol        :  gives hallsymbol P 1\n",
      "\n",
      "The following symmetry options are available:\n",
      "  0 'xyz-symbols'\n",
      "\n",
      "Getting structure from symmetry option: 'xyz-symbols'\n",
      "\n",
      "\n",
      "CPU TIME determineSiteOperations:  0.00 sec \n",
      "0 b1 \n",
      "1 b2 \n",
      "2 b3 \n",
      "3 -b1 \n",
      "4 -b2 \n",
      "5 -b3 \n",
      "CPU TIM73\n",
      "fedit pipe succesfull\n",
      "spacegroup number :  2\n",
      "spacegroup setting:  default\n",
      "lattice constants :  ['9.2172280023584', '7.87448800199817', '9.47179078']\n",
      "axis angle        :  ['65.437786805', '60.885135115', '90']\n",
      "Wyckoff positions:  14\n",
      "Al            -0.497902            -0.448256             0.247042\n",
      "Al            -0.002098             0.298786            -0.247041\n",
      "Al            -0.250861            -0.051744            -0.247042\n",
      "Al            -0.249139             0.201214             0.247041\n",
      "As                 -1/2                 -1/2                    0\n",
      "As                    0                    0                    0\n",
      "As                 -1/2                    0                    0\n",
      "As                    0                 -1/2                    0\n",
      "As                  1/4                -5/12                  1/2\n",
      "As                 -1/4                -1/12                  1/2\n",
      "As            -0.198967                 -1/4                    0\n",
      "As            -0.301033                  1/4                    0\n",
      "As            -0.493679             0.256321             0.487358\n",
      "As            -0.006321             0.243679            -0.487358\n",
      "74\n",
      "fedit pipe succesfull\n",
      "spacegroup number :  2\n",
      "spacegroup setting:  default\n",
      "lattice constants :  ['7.32595309428499', '7.28651159985674', '7.32592416']\n",
      "axis angle        :  ['119.82217892411283', '117.89323358450494', '60.17802298883998']\n",
      "Wyckoff positions:  15\n",
      "Ag                    0                    0                    0\n",
      "Ag                  1/2                 -1/2                  1/2\n",
      "Ag                    0                 -1/2                  1/2\n",
      "Ag                    0                    0                  1/2\n",
      "Te                 -1/2                    0                  1/2\n",
      "Te                    0                 -1/2                    0\n",
      "Te                  1/2                 -1/2                    0\n",
      "Te                 -1/2                    0                    0\n",
      " O          -0.45232776          -0.32245015           0.30672894\n",
      " O           0.45232565          -0.08150221          -0.30672646\n",
      " O           -0.1932845          -0.17755505           0.04766445\n",
      " O           0.19328009          -0.41850608          -0.04767448\n",
      " O           -0.4107277           0.25000365           0.08927595\n",
      " O           0.19791496           0.08358877           0.36509645\n",
      " O          -0.13491915           0.41640592          -0.30209963\n",
      "75\n",
      "fedit pipe succesfull\n",
      "spacegroup number :  75\n",
      "spacegroup setting:  default\n",
      "lattice constants :  ['16.187267', '16.187267', '9.688374']\n",
      "axis angle        :  ['90', '90', '90']\n",
      "Wyckoff positions:  30\n",
      "Ba                 -1/2                    0            -0.217659\n",
      "Ba                 -1/2                    0             0.217563\n",
      "Ba             -0.29748             0.202833             0.000679\n",
      "Ba             0.237795            -0.262091             0.499245\n",
      "Ba            -0.489079            -0.287759            -0.245959\n",
      "Ba             0.011057            -0.211989            -0.243831\n",
      "Ba             0.489028             0.281727             0.245155\n",
      "Ba            -0.011301             0.218755             0.247309\n",
      " U                 -1/2                 -1/2             0.024573\n",
      " U                    0                    0             0.028275\n",
      " U                    0                    0              0.47457\n",
      " U                 -1/2                 -1/2             0.471062\n",
      "Fe            -0.396761              0.10314            -0.499701\n",
      "Fe             0.136409                -4/11            -0.000399\n",
      " S            -0.346955             0.152706            -0.296342\n",
      " S             0.347723             -0.15243             0.296351\n",
      " S            -0.157009            -0.497035             -0.00153\n",
      " S             0.343126            -0.002877            -0.000608\n",
      " S            -0.382322            -0.389909             0.486734\n",
      " S             0.117519            -0.109822             0.492382\n",
      " S             -0.45811              -0.1341            -0.499576\n",
      " S             0.041957            -0.365715             0.499644\n",
      " S              0.18615            -0.313504            -0.203154\n",
      " S            -0.185917              0.31435             0.202778\n",
      " S            -0.378624            -0.395019             0.007444\n",
      " S             0.121268            -0.104814             0.013517\n",
      " S                 -1/2                 -1/2            -0.252522\n",
      " S                    0                    0            -0.248342\n",
      " O                 -1/2                 -1/2              0.24781\n",
      " O                    0                    0             0.254222\n",
      "76\n",
      "E analyseGroup:  0.00 sec \n",
      "\n",
      "WARNING:\n",
      " Lattice type or lattice constants changed!\n",
      " Will take default values for bandplot special symmetry points!\n",
      "WARNING:\n",
      " number of Wyckoff positions changed!\n",
      " Will take default concentrations and initial_spin_split!\n",
      "\n",
      "\n",
      "------------------------------------------------------------------------\n",
      "Blocks contained in cif file '73.cif':\n",
      "------------------------------------------------------------------------\n",
      "symmetry block No.   name\n",
      "------------------------------------------------------------------------\n",
      "     0               alas2\n",
      "------------------------------------------------------------------------\n",
      "blockswithsymdata [0 ] \n",
      "\n",
      "Symmetry information for datablock: alas2\n",
      "Space group number: 1\n",
      "Name-Hall         : not found\n",
      "xyz-symbol        :  gives hallsymbol P 1\n",
      "\n",
      "The following symmetry options are available:\n",
      "  0 'xyz-symbols'\n",
      "\n",
      "Getting structure from symmetry option: 'xyz-symbols'\n",
      "\n",
      "\n",
      "CPU TIME determineSiteOperations:  0.00 sec \n",
      "CPU TIME analyseGroup:  0.00 sec \n",
      "\n",
      "Wfedit pipe succesfull\n",
      "spacegroup number :  76\n",
      "spacegroup setting:  default\n",
      "lattice constants :  ['10.540694', '10.540694', '10.382752']\n",
      "axis angle        :  ['90', '90', '90']\n",
      "Wyckoff positions:  28\n",
      " B             0.375164              -0.1781             0.069997\n",
      " B            -0.352579             0.336864            -0.486089\n",
      " B            -0.194387             0.298199             0.466165\n",
      " B            -0.216584             0.139306            -0.477956\n",
      " B            -0.248896             0.266537            -0.383717\n",
      " B             0.218622            -0.276751            -0.433073\n",
      " B             0.199351             -0.11479            -0.480391\n",
      " B             0.356936             -0.11408             0.455995\n",
      " B             0.376223            -0.275973            -0.497202\n",
      " B             0.325641            -0.163678            -0.392056\n",
      " H            -0.330269              0.09461             0.482226\n",
      " H            -0.433409             0.244535             0.475751\n",
      " H            -0.296254             0.335759             0.397064\n",
      " H            -0.193718             0.185862             0.403136\n",
      " H            -0.455512             0.125282            -0.369785\n",
      " H            -0.365833             0.129782             0.209479\n",
      " H            -0.463112             0.348163             0.005942\n",
      " H            -0.425842             0.034516            -0.085291\n",
      " H            -0.120762             0.035919             0.039076\n",
      " H            -0.158759             0.348945             0.130856\n",
      " H            -0.376252             0.220507            -0.114206\n",
      " H            -0.242743              0.09821             -0.10147\n",
      " H            -0.138027             0.221703            -0.017264\n",
      " H            -0.271968             0.343629            -0.029861\n",
      " H            -0.412105             0.432522            -0.478044\n",
      " H            -0.105612              0.35789             0.429781\n",
      " H            -0.148244             0.050619            -0.462277\n",
      " H            -0.210176             0.297153            -0.280587\n",
      "ARNING:\n",
      " Lattice type or lattice constants changed!\n",
      " Will take default values for bandplot special symmetry points!\n",
      "WARNING:\n",
      " number of Wyckoff positions changed!\n",
      " Will take default concentrations and initial_spin_split!\n",
      "\n",
      "\n",
      "------------------------------------------------------------------------\n",
      "Blocks contained in cif file '74.cif':\n",
      "------------------------------------------------------------------------\n",
      "symmetry block No.   name\n",
      "------------------------------------------------------------------------\n",
      "     0               ag2te2o7\n",
      "------------------------------------------------------------------------\n",
      "blockswithsymdata [0 ] \n",
      "\n",
      "Symmetry information for datablock: ag2te2o7\n",
      "Space group number: 1\n",
      "Name-Hall         : not found\n",
      "xyz-symbol        :  gives hallsymbol P 1\n",
      "\n",
      "The following symmetry options are available:\n",
      "  0 'xyz-symbols'\n",
      "\n",
      "Getting structure from symmetry option: 'xyz-symbols'\n",
      "\n",
      "\n",
      "CPU TIME determineSiteOperations:  0.00 sec \n",
      "CPU TIME analyseGroup:  0.00 sec \n",
      "\n",
      "WARNING:\n",
      " Lattice type or lattice constants changed!\n",
      " Will take default values for bandplot special symmetry points!\n",
      "WARNING:\n",
      " number of Wyckoff positions changed!\n",
      " Will take default concentrations and initial_spin_split!\n",
      "\n",
      "\n",
      "------------------------------------------------------------------------\n",
      "Blocks contained in cif file '75.cif':\n",
      "------------------------------------------------------------------------\n",
      "symmetry block No.   name\n",
      "------------------------------------------------------------------------\n",
      "     0               ba14u2fe4s25o\n",
      "------------------------------------------------------------------------\n",
      "blockswithsymdata [0 ] \n",
      "\n",
      "Symmetry information for datablock: ba14u2fe4s25o\n",
      "Space group number: 1\n",
      "Name-Hall         : not found\n",
      "xyz-symbol        :  gives hallsymbol P 1\n",
      "\n",
      "The following symmetry options are available:\n",
      "  0 'xyz-symbols'\n",
      "\n",
      "Getting structure from symmetry option: 'xyz-symbols'\n",
      "\n",
      "\n",
      "CPU TIME determineSiteOperations:  0.00 sec \n",
      "CPU TIME analyseGroup:  0.00 sec \n",
      "\n",
      "WARNING:\n",
      " Lattice type or lattice con77\n",
      "fedit pipe succesfull\n",
      "spacegroup number :  77\n",
      "spacegroup setting:  default\n",
      "lattice constants :  ['6.80597', '6.80597', '4.361319']\n",
      "axis angle        :  ['90', '90', '90']\n",
      "Wyckoff positions:  6\n",
      "Ca                 -1/2                    0              0.01722\n",
      " B              0.21355             0.311732             0.023326\n",
      " H             0.166378             0.485501             0.024122\n",
      " H             0.391681             0.318449             0.056372\n",
      " H             0.134211             0.220024             0.231277\n",
      " H             0.233024            -0.169192             0.280295\n",
      "stants changed!\n",
      " Will take default values for bandplot special symmetry points!\n",
      "WARNING:\n",
      " number of Wyckoff positions changed!\n",
      " Will take default concentrations and initial_spin_split!\n",
      "\n",
      "\n",
      "------------------------------------------------------------------------\n",
      "Blocks contained in cif file '76.cif':\n",
      "------------------------------------------------------------------------\n",
      "symmetry block No.   name\n",
      "------------------------------------------------------------------------\n",
      "     0               b5h9\n",
      "------------------------------------------------------------------------\n",
      "blockswithsymdata [0 ] \n",
      "\n",
      "Symmetry information for datablock: b5h9\n",
      "Space group number: 1\n",
      "Name-Hall         : not found\n",
      "xyz-symbol        :  gives hallsymbol P 1\n",
      "\n",
      "The following symmetry options are available:\n",
      "  0 'xyz-symbols'\n",
      "\n",
      "Getting structure from symmetry option: 'xyz-symbols'\n",
      "\n",
      "\n",
      "CPU TIME determineSiteOperations:  0.00 sec \n",
      "CPU TIME analyseGroup:  0.00 sec \n",
      "\n",
      "WARNING:\n",
      " Lattice type or lattice constants changed!\n",
      " Will take defa78\n",
      "ult values for bandplot special symmetry points!\n",
      "WARNING:\n",
      " number of Wyckoff positions changed!\n",
      "fedit pipe succesfull\n",
      "spacegroup number :  78\n",
      "spacegroup setting:  default\n",
      "lattice constants :  ['10.540694', '10.540694', '10.382752']\n",
      "axis angle        :  ['90', '90', '90']\n",
      "Wyckoff positions:  28\n",
      " B              -0.1781             0.375164             0.069997\n",
      " B             0.336864            -0.352579            -0.486089\n",
      " B             0.298199            -0.194387             0.466165\n",
      " B             0.139306            -0.216584            -0.477956\n",
      " B             0.266537            -0.248896            -0.383717\n",
      " B            -0.276751             0.218622            -0.433073\n",
      " B             -0.11479             0.199351            -0.480391\n",
      " B             -0.11408             0.356936             0.455995\n",
      " B            -0.275973             0.376223            -0.497202\n",
      " B            -0.163678             0.325641            -0.392056\n",
      " H              0.09461            -0.330269             0.482226\n",
      " H             0.244535            -0.433409             0.475751\n",
      " H             0.335759            -0.296254             0.397064\n",
      " H             0.185862            -0.193718             0.403136\n",
      " H             0.125282            -0.455512            -0.369785\n",
      " H             0.129782            -0.365833             0.209479\n",
      " H             0.348163            -0.463112             0.005942\n",
      " H             0.034516            -0.425842            -0.085291\n",
      " H             0.035919            -0.120762             0.039076\n",
      " H             0.348945            -0.158759             0.130856\n",
      " H             0.220507            -0.376252            -0.114206\n",
      " H              0.09821            -0.242743             -0.10147\n",
      " H             0.221703            -0.138027            -0.017264\n",
      " H             0.343629            -0.271968            -0.029861\n",
      " H             0.432522            -0.412105            -0.478044\n",
      " H              0.35789            -0.105612             0.429781\n",
      " H             0.050619            -0.148244            -0.462277\n",
      " H             0.297153            -0.210176            -0.280587\n",
      "79\n",
      "fedit pipe succesfull\n",
      "spacegroup number :  1\n",
      "spacegroup setting:  default\n",
      "lattice constants :  ['7.2595700002721', '10.86812826', '10.86812826']\n",
      "axis angle        :  ['96.40441808000001', '109.51079003404969', '70.48920998500002']\n",
      "Wyckoff positions:  56\n",
      "Al            -0.283006                    0                    0\n",
      "Al             0.314529             0.483907             0.155306\n",
      "Al            -0.356871            -0.483906            -0.155306\n",
      "Al            -0.201564            -0.155307             0.483906\n",
      "Al             0.159223             0.155306            -0.483906\n",
      "Al             0.221292                    0                    0\n",
      "Al            -0.027268                  1/2                  1/2\n",
      "Al             0.472732                 -1/2                  1/2\n",
      "Pb             0.036803            -0.277872            -0.171893\n",
      "Pb            -0.069176             0.277871             0.171893\n",
      "Pb            -0.241069             0.171893            -0.277871\n",
      "Pb             0.208695            -0.171892             0.277871\n",
      "Pb             0.238889             0.314283            -0.169182\n",
      "Pb            -0.277646            -0.314284             0.169182\n",
      "Pb            -0.446828             0.169182             0.314283\n",
      "Pb              0.40807            -0.169181            -0.314283\n",
      " F              0.09075            -0.393359             0.184228\n",
      " F            -0.486838              0.39336            -0.184228\n",
      " F            -0.302609            -0.184229             -0.39336\n",
      " F            -0.093478             0.184228              0.39336\n",
      " F            -0.276936                  1/2                  1/2\n",
      " F             0.223064                 -1/2                  1/2\n",
      " F             0.468306                    0                    0\n",
      " F              0.20361             0.352061             0.140861\n",
      " F             0.414809             -0.35206            -0.140861\n",
      " F            -0.444329            -0.140862              0.35206\n",
      " F             0.062749             0.140861             -0.35206\n",
      " F             0.217518            -0.489585            -0.020115\n",
      " F            -0.251952             0.489584             0.020115\n",
      " F            -0.272067             0.020115            -0.489584\n",
      " F             0.237632            -0.020114             0.489584\n",
      " F            -0.238289            -0.358155            -0.145385\n",
      " F            -0.451059             0.358155             0.145385\n",
      " F             0.403556             0.145385            -0.358155\n",
      " F            -0.092904            -0.145385             0.358155\n",
      " F            -0.031477                    0                    0\n",
      " F             0.039825            -0.456252            -0.326186\n",
      " F            -0.090241             0.456252             0.326186\n",
      " F            -0.416427             0.326186            -0.456252\n",
      " F             0.366011            -0.326186             0.456252\n",
      " F             0.099372             0.163948             -0.06592\n",
      " F              0.32924            -0.163948              0.06592\n",
      " F              0.26332              0.06592             0.163947\n",
      " F             0.165292             -0.06592            -0.163947\n",
      " F             0.416566             0.443978             0.333656\n",
      " F            -0.473113            -0.443977            -0.333656\n",
      " F            -0.139456            -0.333657             0.443977\n",
      " F              0.08291             0.333656            -0.443977\n",
      " F            -0.160762            -0.161911             0.071626\n",
      " F            -0.394299             0.161911            -0.071626\n",
      " F            -0.322673            -0.071626            -0.161911\n",
      " F            -0.232388             0.071626             0.161911\n",
      " F            -0.145307             0.387844             -0.19235\n",
      " F             0.434887            -0.387844              0.19235\n",
      " F             0.242537              0.19235             0.387844\n",
      " F             0.047043             -0.19235            -0.387844\n",
      "80\n",
      "fedit pipe succesfull\n",
      "spacegroup number :  1\n",
      "spacegroup setting:  default\n",
      "lattice constants :  ['8.90957000225255', '11.15525451', '11.15525451']\n",
      "axis angle        :  ['99.17646559000002', '113.5371810051459', '66.46281899500001']\n",
      "Wyckoff positions:  56\n",
      "Ag             0.078463            -0.364788             0.064684\n",
      "Ag             0.308265             0.037889            -0.144848\n",
      "Ag             0.032403             0.144729             0.022442\n",
      "Ag            -0.316791            -0.154382              0.44977\n",
      "Ag            -0.134308            -0.227414             -0.22913\n",
      "Ag            -0.351009             0.364788            -0.064684\n",
      "Ag             0.259961            -0.477558             0.355271\n",
      "Ag            -0.178777            -0.113514             0.065415\n",
      "Ag             0.427132             0.477558            -0.355271\n",
      "Ag            -0.221173              0.05023             0.345618\n",
      "Ag             0.344822              0.27087            -0.272586\n",
      "Ag            -0.042291             0.434585             0.386485\n",
      "Ag              0.15469            -0.144729            -0.022442\n",
      "Ag            -0.357706             0.113514            -0.065415\n",
      "Ag            -0.111722             -0.27087             0.272586\n",
      "Ag            -0.403846            -0.355152            -0.462111\n",
      "Ag             0.263779            -0.435316            -0.135212\n",
      "Ag             0.491002            -0.037889             0.144848\n",
      "Ag            -0.132592             0.227414              0.22913\n",
      "Ag            -0.296887             0.355152             0.462111\n",
      "Ag             0.079057             0.154381             -0.44977\n",
      "Ag            -0.036325             0.435316             0.135212\n",
      "Ag             0.483438            -0.050229            -0.345618\n",
      "Ag             0.005808            -0.434585            -0.386485\n",
      "Bi            -0.405413            -0.318359            -0.120943\n",
      "Bi              0.14671              -0.1734            -0.371126\n",
      "Bi            -0.473772            -0.379057             0.181641\n",
      "Bi            -0.232164             0.128874            -0.326599\n",
      "Bi              0.22331            -0.128874             0.326599\n",
      "Bi             0.344436               0.1734             0.371126\n",
      "Bi             -0.03447             0.379057            -0.181641\n",
      "Bi             0.397171             0.318359             0.120943\n",
      " O             0.276128            -0.340724              0.24886\n",
      " O            -0.129694            -0.113495            -0.369541\n",
      " O            -0.128237            -0.375275            -0.118799\n",
      " O             0.482137            -0.170999             0.264435\n",
      " O             0.006811            -0.130458             0.386506\n",
      " O            -0.309553             -0.44527             0.373096\n",
      " O             0.467703            -0.235566               -0.329\n",
      " O             0.185404              0.25114             0.159276\n",
      " O             0.126353             0.113494             0.369541\n",
      " O            -0.384713             0.375275             0.118799\n",
      " O             0.277268             -0.25114            -0.159276\n",
      " O             0.169239            -0.366107            -0.434995\n",
      " O            -0.145766             0.065005            -0.133893\n",
      " O             0.489847             0.130459            -0.386506\n",
      " O            -0.432649            -0.126904             -0.05473\n",
      " O             0.046703                0.171            -0.264435\n",
      " O             0.495177             0.126904              0.05473\n",
      " O            -0.438862             0.235565                0.329\n",
      " O             0.053132            -0.065005             0.133893\n",
      " O            -0.313456             0.340724             -0.24886\n",
      " O             0.238127             0.366107             0.434995\n",
      " O            -0.127919              0.44527            -0.373096\n",
      " O             0.240562             0.381201            -0.124725\n",
      " O            -0.253512            -0.381201             0.124725\n",
      "81\n",
      " Will take default concentrations and initial_spin_split!\n",
      "\n",
      "\n",
      "------------------------------------------------------------------------\n",
      "Blocks contained in cif file '77.cif':\n",
      "------------------------------------------------------------------------\n",
      "symmetry block No.   name\n",
      "------------------------------------------------------------------------\n",
      "     0               ca(bh4)2\n",
      "------------------------------------------------------------------------\n",
      "blockswithsymdata [0 ] \n",
      "\n",
      "Symmetry information for datablock: ca(bh4)2\n",
      "Space group number: 1\n",
      "Name-Hall         : not found\n",
      "xyz-symbol        :  gives hallsymbol P 1\n",
      "\n",
      "The following symmetry options are available:\n",
      "  0 'xyz-symbols'\n",
      "\n",
      "Getting structure from symmetry option: 'xyz-symbols'\n",
      "\n",
      "\n",
      "CPU TIME determineSiteOperations:  0.00 sec \n",
      "CPU TIME analyseGroup:  0.00 sec \n",
      "\n",
      "WARNING:\n",
      " Lattice type or lattice constants changed!\n",
      " Will take default values for bandplot special symmetry points!\n",
      "WARNING:\n",
      " number of Wyckoff positions changed!\n",
      " Will take default concfedit pipe succesfull\n",
      "spacegroup number :  81\n",
      "spacegroup setting:  default\n",
      "lattice constants :  ['7.540229', '7.540229', '10.6333']\n",
      "axis angle        :  ['90', '90', '90']\n",
      "Wyckoff positions:  11\n",
      "Ag            -0.230522             0.102074            -0.121959\n",
      "Ag             0.406265             0.264055            -0.123819\n",
      "Ag            -0.377708             0.297957            -0.347831\n",
      "Ag             0.201936             0.108566            -0.344398\n",
      "Ag                    0                 -1/2            -0.497009\n",
      "Ag                    0                 -1/2             -0.20196\n",
      " C            -0.421554              0.03831            -0.265245\n",
      " F            -0.223934            -0.057267             0.396071\n",
      " F            -0.425979              0.29389             0.397812\n",
      " F             0.288896            -0.444863            -0.101893\n",
      " F               0.0622             0.210175            -0.095123\n",
      "entrations and initial_spin_split!\n",
      "\n",
      "\n",
      "------------------------------------------------------------------------\n",
      "Blocks contained in cif file '78.cif':\n",
      "------------------------------------------------------------------------\n",
      "symmetry block No.   name\n",
      "------------------------------------------------------------------------\n",
      "     0               b5h9\n",
      "------------------------------------------------------------------------\n",
      "blockswithsymdata [0 ] \n",
      "\n",
      "Symmetry information for datablock: b5h9\n",
      "Space group number: 1\n",
      "Name-Hall         : not found\n",
      "xyz-symbol        :  gives hallsymbol P 1\n",
      "\n",
      "The following symmetry options are available:\n",
      "  0 'xyz-symbols'\n",
      "\n",
      "Getting structure from symmetry option: 'xyz-symbols'\n",
      "\n",
      "\n",
      "CPU TIME determineSiteOperations:  0.00 sec \n",
      "CPU TIME analyseGroup:  0.00 sec \n",
      "\n",
      "WARNING:\n",
      " Lattice type or lattice constants changed!\n",
      " Will take default values for bandplot special symmetry points!\n",
      "WARNING:\n",
      " number of Wyckoff positions changed!\n",
      " Will take default concentrations and initial_spin_split!\n",
      "\n",
      "\n",
      "------------------------------------------------------------------------\n",
      "Blocks contained in cif file '79.cif':\n",
      "------------------------------------------------------------------------\n",
      "symmetry block No.   name\n",
      "------------------------------------------------------------------------\n",
      "     0               alpbf5\n",
      "------------------------------------------------------------------------\n",
      "blockswithsymdata [0 ] \n",
      "\n",
      "Symmetry information for datablock: alpbf5\n",
      "Space group number: 1\n",
      "Name-Hall         : not found\n",
      "xyz-symbol        :  gives hallsymbol P 1\n",
      "\n",
      "The following symmetry options are available:\n",
      "  0 'xyz-symbols'\n",
      "\n",
      "Getting structure from symmetry option: 'xyz-symbols'\n",
      "\n",
      "\n",
      "CPU TIME determineSiteOperations:  0.00 sec \n",
      "CPU TIME analyseGroup:  0.00 sec \n",
      "\n",
      "WARNING:\n",
      " Lattice type or lattice constants changed!\n",
      " Will take default values for bandplot special symmetry points!\n",
      "WARNING:\n",
      " number of Wyckoff positions changed!\n",
      " Will take default concentrations and initial_spin_split!\n",
      "\n",
      "\n",
      "---------------------82\n",
      "---------------------------------------------------\n",
      "Blocks contained in cif file '80.cif':\n",
      "------------------------------------------------------------------------\n",
      "symmetry block No.   name\n",
      "------------------------------------------------------------------------\n",
      "     0               ag3bio3\n",
      "------------------------------------------------------------------------\n",
      "blockswithsymdata [0 ] \n",
      "\n",
      "Symmetry information for datablock: ag3bio3\n",
      "Space group number: 1\n",
      "Name-Hall         : not found\n",
      "xyz-symbol        :  gives hallsymbol P 1\n",
      "\n",
      "The following symmetry options are available:\n",
      "  0 'xyz-symbols'\n",
      "\n",
      "Getting structure from symmetry option: 'xyz-symbols'\n",
      "\n",
      "\n",
      "CPU TIME determineSiteOperations:  0.00 sec \n",
      "CPU TIME analyseGroup:  0.00 sec \n",
      "\n",
      "WARNING:\n",
      " Lattice type or lattice constants changed!\n",
      " Will take default values for bandplot special symmetry points!\n",
      "WARNING:\n",
      " number of Wyckoff positions changed!\n",
      " Will take default concentrations and initial_spin_split!\n",
      "\n",
      "\n",
      "------------------------------------------------------------------------\n",
      "Blocks contained in cif file '81.cif':\n",
      "------------------------------fedit pipe succesfull\n",
      "spacegroup number :  82\n",
      "spacegroup setting:  default\n",
      "lattice constants :  ['6.42589901648288', '6.42589901648288', '12.91949643301811']\n",
      "axis angle        :  ['90', '90', '90']\n",
      "Wyckoff positions:  4\n",
      "Ag                    0                    0                    0\n",
      "Ag                    0                 -1/2                 -1/4\n",
      "Hg                 -1/2                    0                 -1/4\n",
      " I         -0.236189285         -0.235380555          0.382346485\n",
      "83\n",
      "fedit pipe succesfull\n",
      "spacegroup number :  83\n",
      "spacegroup setting:  default\n",
      "lattice constants :  ['11.31383138', '11.31383138', '21.64728589']\n",
      "axis angle        :  ['90', '90', '90']\n",
      "Wyckoff positions:  19\n",
      "Ba                    0                    0                    0\n",
      "Ba          -0.13681301           0.31697199          -0.15782346\n",
      "Ba           0.36366832          -0.18433503            0.3428793\n",
      "Sr                  1/2                  1/2                  1/2\n",
      "Sm           0.39308309          -0.17976726                    0\n",
      "Sm          -0.10904955           0.32096521                  1/2\n",
      "Sm                    0                    0          -0.31372282\n",
      "Sm                  1/2                  1/2            0.1863073\n",
      "Cl           0.22444636          -0.36077252                    0\n",
      "Cl          -0.27531859           0.13849282                  1/2\n",
      "Cl          -0.08820229          -0.19135517          -0.24084087\n",
      "Cl           0.41186901            0.3086291           0.25966881\n",
      "Cl                    0                  1/2          -0.42452114\n",
      "Cl                  1/2                    0           0.07549969\n",
      "Cl          -0.07207945           0.21019145          -0.37925526\n",
      "Cl           0.42887118          -0.29078547           0.12121052\n",
      "Cl                    0                  1/2          -0.25019481\n",
      "Cl          -0.08824505          -0.21480099          -0.08031616\n",
      "Cl           0.41471053           0.29188181           0.42232305\n",
      "84\n",
      "fedit pipe succesfull\n",
      "spacegroup number :  84\n",
      "spacegroup setting:  default\n",
      "lattice constants :  ['15.276244', '15.276244', '14.061053']\n",
      "axis angle        :  ['90', '90', '90']\n",
      "Wyckoff positions:  29\n",
      "As                    0                    0                  1/4\n",
      "As             0.203317            -0.422481             0.248696\n",
      " H             0.019871            -0.145323             0.332959\n",
      " H             0.124265            -0.097679             0.303835\n",
      " H             0.063614            -0.057249             0.403432\n",
      " H             0.346917            -0.467994             0.175658\n",
      " H             0.356122            -0.459538             0.303233\n",
      " H             0.304227             0.446894             0.250909\n",
      " H             0.261719            -0.274217             0.297449\n",
      " H             0.252646            -0.282814              0.17013\n",
      " H             0.156638            -0.264655             0.240435\n",
      " H             0.085973            -0.416874             0.373789\n",
      " H             0.140782             0.478685             0.374728\n",
      " H             0.193099            -0.426983             0.426059\n",
      " H             0.119745             0.468156             0.148455\n",
      " H             0.067407            -0.425995             0.147406\n",
      " H             0.163775            -0.444765             0.077189\n",
      " C             0.058562            -0.084786             0.331642\n",
      " C             0.315577            -0.482421             0.243942\n",
      " C             0.220744            -0.296969             0.238076\n",
      " C             0.149437            -0.450379             0.369664\n",
      " C             0.130074            -0.461087              0.14372\n",
      " I                  1/2                  1/2                 -1/2\n",
      " I             0.062243             0.309886                 -1/2\n",
      " I              0.28494            -0.096416                 -1/2\n",
      " I             0.345296              0.38045                 -1/2\n",
      " I             0.063794             0.310396             0.287774\n",
      " I             0.214651             0.084321                 -1/2\n",
      " I              0.35217             -0.28187                 -1/2\n",
      "85\n",
      "------------------------------------------\n",
      "symmetry block No.   name\n",
      "------------------------------------------------------------------------\n",
      "     0               ag5cf4\n",
      "------------------------------------------------------------------------\n",
      "blockswithsymdata [0 ] \n",
      "\n",
      "Symmetry information for datablock: ag5cf4\n",
      "Space group number: 1\n",
      "Name-Hall         : not found\n",
      "xyz-symbol        :  gives hallsymbol P 1\n",
      "\n",
      "The following symmetry options are available:\n",
      "  0 'xyz-symbols'\n",
      "\n",
      "Getting structure from symmetry option: 'xyz-symbols'\n",
      "\n",
      "\n",
      "CPU TIME determineSiteOperations:  0.00 sec \n",
      "CPU TIME analyseGroup:  0.00 sec \n",
      "\n",
      "WARNING:\n",
      " Lattice type or lattice constants changed!\n",
      " Will take default values for bandplot special symmetry points!\n",
      "WARNING:\n",
      " number of Wyckoff positions changed!\n",
      " Will take default concentrations and initial_spin_split!\n",
      "\n",
      "\n",
      "------------------------------------------------------------------------\n",
      "Blocks contained in cif file '82.cif':\n",
      "---------------------------------------------------------fedit pipe succesfull\n",
      "spacegroup number :  85\n",
      "spacegroup setting:  2\n",
      "lattice constants :  ['6.59463032', '6.59463032', '4.02497731']\n",
      "axis angle        :  ['90', '90', '90']\n",
      "Wyckoff positions:  4\n",
      "Ag                  1/4                  1/4          -0.18293336\n",
      " B                  1/4                 -1/4                    0\n",
      " F                 -1/4                 -1/4          -0.31697791\n",
      " F          -0.09429595            0.3305877          -0.19939518\n",
      "---------------\n",
      "symmetry block No.   name\n",
      "------------------------------------------------------------------------\n",
      "     0               ag2hgi4\n",
      "------------------------------------------------------------------------\n",
      "blockswithsymdata [0 ] \n",
      "\n",
      "Symmetry information for datablock: ag2hgi4\n",
      "Space group number: 1\n",
      "Name-Hall         : not found\n",
      "xyz-symbol        :  gives hallsymbol P 1\n",
      "\n",
      "The following symmetry options are available:\n",
      "  0 'xyz-symbols'\n",
      "\n",
      "Getting structure from symmetry option: 'xyz-symbols'\n",
      "\n",
      "\n",
      "CPU TIME determineSiteOperations:  0.00 sec \n",
      "CPU TIME analyseGroup:  0.00 sec \n",
      "\n",
      "WARNING:\n",
      " Lattice type or lattice constants changed!\n",
      " Will take default values for bandplot special symmetry points!\n",
      "WARNING:\n",
      " number of Wyckoff positions changed!\n",
      " Will take default concentrations and initial_spin_split!\n",
      "\n",
      "\n",
      "------------------------------------------------------------------------\n",
      "Blocks contained in cif file '83.cif':\n",
      "------------------------------------------------------------------------\n",
      "symmetry 86\n",
      "block No.   name\n",
      "------------------------------------------------------------------------\n",
      "     0               ba17srsm12cl68\n",
      "------------------------------------------------------------------------\n",
      "blockswithsymdata [0 ] \n",
      "\n",
      "Symmetry information for datablock: ba17srsm12cl68\n",
      "Space group number: 1\n",
      "Name-Hall         : not found\n",
      "xyz-symbol        :  gives hallsymbol P 1\n",
      "\n",
      "The following symmetry options are available:\n",
      "  0 'xyz-symbols'\n",
      "\n",
      "Getting structure from symmetry option: 'xyz-symbols'\n",
      "\n",
      "\n",
      "CPU TIME determineSiteOperations:  0.00 sec \n",
      "CPU TIME analyseGroup:  0.00 sec \n",
      "\n",
      "WARNING:\n",
      " Lattice type or lattice constants changed!\n",
      " Will take default values for bandplot special symmetry points!\n",
      "WARNING:\n",
      " number of Wyckoff positions changed!\n",
      " Will take default concentrations and initial_spin_split!\n",
      "\n",
      "\n",
      "------------------------------------------------------------------------\n",
      "Blocks contained in cif file '84.cif':\n",
      "------------------------------------------------------------------------\n",
      "symmetry block No.   name\n",
      "------------------------------------------------------------------------\n",
      "     0               ash12c4i3\n",
      "------------------------------------------------------------------------\n",
      "blockswithsymdata [0 ] \n",
      "\n",
      "Symmetry information for datablock: ash12c4i3\n",
      "Space group number: 1\n",
      "Name-Hall         : not found\n",
      "xyz-symbol        :  gives hallsymbol P 1\n",
      "\n",
      "The following symmetry options are available:\n",
      "  0 'xyz-symbols'\n",
      "\n",
      "Getting structure from symmetry option: 'xyz-symbols'\n",
      "\n",
      "\n",
      "CPU TIME determineSiteOperations:  0.00 sec \n",
      "CPU TIME analyseGroup:  0.00 sec \n",
      "\n",
      "WARNING:\n",
      " Lattice type or lattice constants changed!\n",
      " Will take default values for bandplot special symmetry points!\n",
      "WARNING:\n",
      " number of Wyckoff positions changed!\n",
      " Will take default concentrations and initial_spin_split!\n",
      "\n",
      "\n",
      "------------------------------------------------------------------------\n",
      "Blocks contained in cif file '85.cif':\n",
      "------------------------------------------------------------------------\n",
      "symmetry block No.   name\n",
      "---------------fedit pipe succesfull\n",
      "spacegroup number :  86\n",
      "spacegroup setting:  2\n",
      "lattice constants :  ['7.666245', '7.666245', '7.43582']\n",
      "axis angle        :  ['90', '90', '90']\n",
      "Wyckoff positions:  5\n",
      "Ag                  1/4                  1/4                 -1/4\n",
      "Sb                  1/4                  1/4                  1/4\n",
      " O            -0.122744             0.397203            -0.259261\n",
      " O            -0.466763              0.22635            -0.199142\n",
      " O             0.427537             0.330526             0.412469\n",
      "---------------------------------------------------------\n",
      "     0               agbf5\n",
      "-----------87\n",
      "fedit pipe succesfull\n",
      "spacegroup number :  2\n",
      "spacegroup setting:  default\n",
      "lattice constants :  ['5.78491599895647', '5.78491599895647', '11.23486113']\n",
      "axis angle        :  ['75.08096524999999', '75.08096524999999', '90']\n",
      "Wyckoff positions:  12\n",
      "Ag                    0                    0                    0\n",
      "Ag                  1/2                 -1/2                    0\n",
      "Xe             0.348376            -0.151624             0.303248\n",
      " F             0.415313             0.365095            -0.128297\n",
      " F            -0.134905             0.212984            -0.128296\n",
      " F            -0.253594             0.246406            -0.492812\n",
      " F             0.366179             0.313023             -0.34144\n",
      " F            -0.186977             0.475262             -0.34144\n",
      " F            -0.471583            -0.133821            -0.341441\n",
      " F            -0.024738             0.028417            -0.341441\n",
      " F             0.263201            -0.084687            -0.128297\n",
      " F            -0.287016            -0.236799            -0.128296\n",
      "88\n",
      "fedit pipe succesfull\n",
      "spacegroup number :  88\n",
      "spacegroup setting:  2\n",
      "lattice constants :  ['5.18139799721049', '5.18139799721049', '13.09796199396385']\n",
      "axis angle        :  ['90', '90', '90']\n",
      "Wyckoff positions:  3\n",
      "Ag                    0                 -1/4                 -1/8\n",
      "Br                    0                 -1/4                  3/8\n",
      " O            -0.267433             0.119341            -0.054304\n",
      "89\n",
      "-------------------------------------------------------------\n",
      "blockswithsymdata [0 ] \n",
      "\n",
      "Symmetry information for datablock: agbf5\n",
      "Space group number: 1\n",
      "Name-Hall         : not found\n",
      "xyz-symbol        :  gives hallsymbol P 1\n",
      "\n",
      "The following symmetry options are available:\n",
      "  0 'xyz-symbols'\n",
      "\n",
      "Getting structure from symmetry option: 'xyz-symbols'\n",
      "\n",
      "\n",
      "CPU TIME determineSiteOperations:  0.00 sec \n",
      "CPU TIME analyseGroup:  0.00 sec \n",
      "\n",
      "WARNING:\n",
      " Lattice type or lattice constants changed!\n",
      " Will take default values for bandplot special symmetry points!\n",
      "WARNING:\n",
      " number of Wyckoff positions changed!\n",
      " Will take default concentrations and initial_spin_split!\n",
      "\n",
      "\n",
      "------------------------------------------------------------------------\n",
      "Blocks contained in cif file '86.cif':\n",
      "------------------------------------------------------------------------\n",
      "symmetry block No.   name\n",
      "------------------------------------------------------------------------\n",
      "     0               agsbo12\n",
      "------------------------------------------------------------------------\n",
      "blockswithsymdata [0 ] \n",
      "\n",
      "Symmetry information for datablock: agsbo12\n",
      "Space group number: 1\n",
      "Name-Hall         : not found\n",
      "xyz-symbol        :  gives hallsymbol P 1\n",
      "\n",
      "The following symmetry options are available:\n",
      "  0 'xyz-symbols'\n",
      "\n",
      "Getting structure from symmetry option: 'xyz-symbols'\n",
      "\n",
      "\n",
      "CPU TIME determineSiteOperations:  0.00 sec \n",
      "CPU TIME analyseGroup:  0.00 sec \n",
      "\n",
      "WARNING:\n",
      " Lattice type or lattice constants changed!\n",
      " Will take default values for bandplot special symmetry points!\n",
      "WARNING:\n",
      " number of Wyckoff positions changed!\n",
      " Will take default concentrations and initial_spin_split!\n",
      "\n",
      "\n",
      "------------------------------------------------------------------------\n",
      "Blocks contained in cif file '87.cif':\n",
      "------------------------------------------------------------------------\n",
      "symmetry block No.   name\n",
      "------------------------------------------------------------------------\n",
      "     0               agxef9\n",
      "----------------------------------------------------------------fedit pipe succesfull\n",
      "spacegroup number :  89\n",
      "spacegroup setting:  default\n",
      "lattice constants :  ['6.952299', '6.952299', '11.290532']\n",
      "axis angle        :  ['90', '90', '90']\n",
      "Wyckoff positions:  11\n",
      "Ba                    0                    0                    0\n",
      "Ba                    0                    0                  1/2\n",
      "Ba                 -1/2                 -1/2                    0\n",
      "Sr            -0.330993             0.170157             0.250532\n",
      "Sr                 -1/2                 -1/2                  1/2\n",
      "Al                    0                 -1/2                  1/2\n",
      "Al                 -1/2                    0                    0\n",
      " O            -0.363499             0.141346             -0.39713\n",
      " O             0.138278            -0.362049             0.103735\n",
      " F                    0                    0             0.250295\n",
      " F                 -1/2                 -1/2            -0.253277\n",
      "--------\n",
      "blockswithsymdata [0 ] \n",
      "\n",
      "Symmetry information for datablock: agxef9\n",
      "Space group number: 1\n",
      "Name-Hall         : not found\n",
      "xyz-symbol        :  gives hallsymbol P 1\n",
      "\n",
      "The following symmetry options are available:\n",
      "  0 'xyz-symbols'\n",
      "\n",
      "Getting structure from symmetry option: 'xyz-symbols'\n",
      "\n",
      "\n",
      "CPU TIME determineSiteOperations:  0.00 sec \n",
      "CPU TIME analyseGroup:  0.00 sec \n",
      "\n",
      "WARNING:\n",
      " Lattice type or lattice constants changed!\n",
      " Will take default values for bandplot special symmetry points!\n",
      "WARNING:\n",
      " number of Wyckoff positions changed!\n",
      " Will take default concentrations and initial_spin_split!\n",
      "\n",
      "\n",
      "------------------------------------------------------------------------\n",
      "Blocks contained in cif file '88.cif':\n",
      "------------------------------------------------------------------------\n",
      "symmetry block No.   name\n",
      "------------------------------------------------------------------------\n",
      "     0               agbro4\n",
      "------------------------------------------------------------------------\n",
      "blockswithsymdata [0 ] \n",
      "\n",
      "Symmetry information for datablock: agbro4\n",
      "Space group number: 1\n",
      "Name-Hall         : not found\n",
      "xyz-symbol        :  gives hallsymbol P 1\n",
      "\n",
      "The following symmetry options are available:\n",
      "  0 'xyz-symbols'\n",
      "\n",
      "Getting structure from symmetry option: 'xyz-symbols'\n",
      "\n",
      "\n",
      "CPU TIME determineSiteOperations:  0.00 sec \n",
      "CPU TIME analyseGroup:  0.00 sec \n",
      "\n",
      "WARNING:\n",
      " Lattice type or lattice constants changed!\n",
      " Will take default values for bandplot special symmetry points!\n",
      "WARNING:\n",
      " number of Wyckoff positions changed!\n",
      " Will take default concentrations and initial_spin_split!\n",
      "\n",
      "\n",
      "------------------------------------------------------------------------\n",
      "Blocks contained in cif file '89.cif':\n",
      "------------------------------------------------------------------------\n",
      "symmetry block No.   name\n",
      "------------------------------------------------------------------------\n",
      "     0               ba3sr9al4(o4f)4\n",
      "------------------------------------------------------------------------\n",
      "blockswithsymdata [0 ] \n",
      "\n",
      "Symmetry information for datablock: ba3sr9al4(o4f)4\n",
      "Space group number: 1\n",
      "Name-Hall         : not found\n",
      "xyz90\n",
      "fedit pipe succesfull\n",
      "spacegroup number :  90\n",
      "spacegroup setting:  default\n",
      "lattice constants :  ['6.0162367', '6.0162367', '8.78097996']\n",
      "axis angle        :  ['90', '90', '90']\n",
      "Wyckoff positions:  7\n",
      "Ba                 -1/2                 -1/2                    0\n",
      "Sr                 -1/2                    0           -0.2503271\n",
      "Eu                 -1/2                 -1/2                 -1/2\n",
      " W                 -1/2                    0           0.26011229\n",
      " O                 -1/2                    0           0.03259515\n",
      " O                 -1/2                    0           0.48173259\n",
      " O          -0.28979876          -0.35079618          -0.26223814\n",
      "91\n",
      "fedit pipe succesfull\n",
      "spacegroup number :  91\n",
      "spacegroup setting:  default\n",
      "lattice constants :  ['7.421629', '7.421629', '8.268714']\n",
      "axis angle        :  ['90', '90', '90']\n",
      "Wyckoff positions:  6\n",
      "Ag                    0             0.179288                    0\n",
      "Ag                    0            -0.243648                    0\n",
      "Ag             0.199509                 -1/2                  1/4\n",
      "Ir             0.278544                 -1/2                 -1/4\n",
      " O             0.089042             0.316551            -0.258009\n",
      " O             0.312055              0.47381            -0.012592\n",
      "92\n",
      "fedit pipe succesfull\n",
      "spacegroup number :  5\n",
      "spacegroup setting:  b1\n",
      "lattice constants :  ['12.18847288600146', '12.18847288600146', '4.63386665']\n",
      "axis angle        :  ['90', '90', '90']\n",
      "Wyckoff positions:  17\n",
      "As                    0          -0.40210568                    0\n",
      "As                    0           0.21586601                    0\n",
      "As                    0          -0.21586601                  1/2\n",
      "As           0.28413399                    0                  1/4\n",
      "As           0.09789482            0.0000005                 -1/4\n",
      "As                    0           0.40210368                  1/2\n",
      " O          0.110553085         -0.134123885          -0.42609877\n",
      " O         -0.110553085          0.134123885           0.07390123\n",
      " O         -0.054705675          0.290349125          -0.27035991\n",
      " O          -0.44404334                    0                  1/4\n",
      " O                    0          -0.05595666                    0\n",
      " O         -0.054705675         -0.290349125          -0.22964009\n",
      " O         -0.365876115          0.110553085          -0.17609877\n",
      " O         -0.209650875          0.054705675           0.47964009\n",
      " O          0.209650875         -0.054705675          -0.02035991\n",
      " O                    0           0.05595666                  1/2\n",
      " O          0.365876115         -0.110553085           0.32390123\n",
      "93\n",
      "-symbol        :  gives hallsymbol P 1\n",
      "\n",
      "The following symmetry options are available:\n",
      "  0 'xyz-symbols'\n",
      "\n",
      "Getting structure from symmetry option: 'xyz-symbols'\n",
      "\n",
      "\n",
      "CPU TIME determineSiteOperations:  0.00 sec \n",
      "CPU TIME analyseGroup:  0.00 sec \n",
      "\n",
      "WARNING:\n",
      " Lattice type or lattice constants changed!\n",
      " Will take default values for bandplot special symmetry points!\n",
      "WARNING:\n",
      " number of Wyckoff positions changed!\n",
      " Will take default concentrations and initial_spin_split!\n",
      "\n",
      "\n",
      "------------------------------------------------------------------------\n",
      "Blocks contained in cif file '90.cif':\n",
      "------------------------------------------------------------------------\n",
      "symmetry block No.   name\n",
      "------------------------------------------------------------------------\n",
      "     0               basreuwo6\n",
      "------------------------------------------------------------------------\n",
      "blockswithsymdata [0 ] \n",
      "\n",
      "Symmetry information for datablock: basreuwo6\n",
      "Space group number: 1\n",
      "Name-Hall         : not found\n",
      "xyz-symbol        :  givfedit pipe succesfull\n",
      "spacegroup number :  5\n",
      "spacegroup setting:  b1\n",
      "lattice constants :  ['17.00913118075018', '17.00913118075018', '11.424946']\n",
      "axis angle        :  ['90', '90', '90']\n",
      "Wyckoff positions:  24\n",
      "Cs                    0                    0                    0\n",
      "Cs                    0                    0                  1/2\n",
      "Cs                 -1/4                  1/4            -0.018015\n",
      "Cs                 -1/4                  1/4            -0.481985\n",
      "Cs                    0                 -1/2                    0\n",
      "Cs                    0                 -1/2                  1/2\n",
      "Sb            -0.274737            -0.019474            -0.220005\n",
      "Sb            -0.019474            -0.274737            -0.279995\n",
      "Sb             0.019474             0.274737            -0.279995\n",
      "Sb             0.274737             0.019474            -0.220005\n",
      " S                    0            -0.258747                  1/2\n",
      " S            -0.258747                    0                    0\n",
      " S                    0             0.258747                  1/2\n",
      " S             -0.39609              0.10391                  1/4\n",
      " S             -0.10391              0.39609                  1/4\n",
      " I            -0.146283            -0.146283                 -1/4\n",
      " I            0.1462825            0.1462825                 -1/4\n",
      " I           -0.1183615           -0.1183615                  1/4\n",
      " I             0.118362             0.118362                  1/4\n",
      " I           -0.3686165            0.1313835                 -1/4\n",
      " I           -0.1313835            0.3686165                 -1/4\n",
      " I                    0            -0.251095                    0\n",
      " I            -0.251095                    0                  1/2\n",
      " I                    0             0.251095                    0\n",
      "es hallsymbol P 1\n",
      "\n",
      "The following symmetry options are available:\n",
      "  0 'xyz-symbols'\n",
      "\n",
      "Getting structure from symmetry option: 'xyz-symbols'\n",
      "\n",
      "\n",
      "CPU TIME determineSiteOperations:  0.00 sec \n",
      "CPU TIME analyseGroup:  0.00 sec \n",
      "\n",
      "WARNING:\n",
      " Lattice type or lattice constants changed!\n",
      " Will take default values for bandplot special symmetry points!\n",
      "WARNING:\n",
      " number of Wyckoff positions changed!\n",
      " Will take default concentrations and initial_spin_split!\n",
      "\n",
      "\n",
      "------------------------------------------------------------------------\n",
      "Blocks contained in cif file '91.cif':\n",
      "------------------------------------------------------------------------\n",
      "symmetry block No.   name\n",
      "------------------------------------------------------------------------\n",
      "     0               ag3iro4\n",
      "------------------------------------------------------------------------\n",
      "blockswithsymdata [0 ] \n",
      "\n",
      "Symmetry information for datablock: ag3iro4\n",
      "Space group number: 1\n",
      "Name-Hall         : not found\n",
      "xyz-symbol        :  gives hallsymbol P 1\n",
      "\n",
      "The following symmetry options are available:\n",
      "  0 'xyz-symbols'\n",
      "\n",
      "Getting structure from symmetry option: 'xyz-symbols'\n",
      "\n",
      "\n",
      "CPU TIME determineSiteOperations:  0.00 sec \n",
      "CPU TIME analyseGroup:  0.00 sec \n",
      "\n",
      "WARNING:\n",
      " Lattice type or lattice constants changed!\n",
      " Will take default values for bandplot special symmetry points!\n",
      "WARNING:\n",
      " number of Wyckoff positions changed!\n",
      " Will take default concentrations and initial_spin_split!\n",
      "\n",
      "\n",
      "------------------------------------------------------------------------\n",
      "Blocks contained in cif file '92.cif':\n",
      "------------------------------------------------------------------------\n",
      "symmetry block No.   name\n",
      "------------------------------------------------------------------------\n",
      "     0               as2o5\n",
      "------------------------------------------------------------------------\n",
      "blockswithsymdata [0 ] \n",
      "\n",
      "Symmetry information for datablock: as2o5\n",
      "Space group number: 1\n",
      "Name-Hall         : not found\n",
      "xyz-symbol        :  gives hallsymbol P 1\n",
      "\n",
      "The following symmetry options are 94\n",
      "available:\n",
      "  0 'xyz-symbols'\n",
      "\n",
      "Getting structure from symmetry option: 'xyz-symbols'\n",
      "\n",
      "\n",
      "CPU TIME determineSiteOperations:  0.00 sec \n",
      "0 b1 \n",
      "CPU TIME analyseGroup:  0.00 sec \n",
      "\n",
      "WARNING:\n",
      " Lattice type or lattice constants changed!\n",
      " Will take default values for bandplot special symmetry points!\n",
      "WARNING:\n",
      " number of Wyckoff positions changed!\n",
      " Will take default concentrations and initial_spin_split!\n",
      "\n",
      "\n",
      "------------------------------------------------------------------------\n",
      "Blocks contained in cif file '93.cif':\n",
      "------------------------------------------------------------------------\n",
      "symmetry block No.   name\n",
      "------------------------------------------------------------------------\n",
      "     0               cssbsi2\n",
      "------------------------------------------------------------------------\n",
      "blockswithsymdata [0 ] \n",
      "\n",
      "Symmetry information for datablock: cssbsi2\n",
      "Space group number: 1\n",
      "Name-Hall         : not found\n",
      "xyz-symbol        :  gives hallsymbol P 1\n",
      "\n",
      "The following symmetry options are available:\n",
      "  0 'xyz-symbols'\n",
      "\n",
      "Getting structure from symmetry option: 'xyz-symbols'\n",
      "\n",
      "\n",
      "CPU TIME determineSiteOperatifedit pipe succesfull\n",
      "spacegroup number :  21\n",
      "spacegroup setting:  default\n",
      "lattice constants :  ['11.9317537668673', '11.9317537668673', '18.43685']\n",
      "axis angle        :  ['90', '90', '90']\n",
      "Wyckoff positions:  32\n",
      "Fe            0.2570765           -0.0932625              0.24989\n",
      "Fe           -0.0932625            0.2429235             -0.25011\n",
      "Fe                    0                    0                 -1/2\n",
      "Fe                    0                 -1/2                    0\n",
      "Fe                    0                 -1/2                 -1/2\n",
      "Fe                    0                    0                    0\n",
      "Fe                    0                    0             0.330742\n",
      "Fe                    0                 -1/2            -0.169258\n",
      "Fe                    0                 -1/2              0.33047\n",
      "Fe                    0                    0             -0.16953\n",
      "Bi             0.256718             0.083773              0.40689\n",
      "Bi             0.083773             0.243282             -0.09311\n",
      "Bi           -0.0844655            0.2435515             0.407578\n",
      "Bi           -0.2564485            0.0844655            -0.092422\n",
      " O              -0.0431             0.166629            -0.163742\n",
      " O            -0.333371               0.0431             0.336258\n",
      " O             0.332368             0.041432            -0.163427\n",
      " O             0.041432             0.167632             0.336573\n",
      " O            0.1099315            0.0298485             -0.41612\n",
      " O            0.0298485            0.3900685              0.08388\n",
      " O           -0.0295385            0.3899865            -0.416093\n",
      " O           -0.1100135            0.0295385             0.083907\n",
      " O             0.022136             0.386895             0.249719\n",
      " O    -0.11307504545455    -0.02216595454545            -0.250281\n",
      " O                    0             0.171955                    0\n",
      " O            -0.328045                    0                 -1/2\n",
      " O             0.328304                    0                    0\n",
      " O                    0             0.171696                 -1/2\n",
      " O                 -1/4                  1/4             0.249814\n",
      " O                 -1/4                  1/4            -0.250186\n",
      " F                 -1/4                  1/4            -0.496122\n",
      " F                 -1/4                  1/4             0.003878\n",
      "95\n",
      "fedit pipe succesfull\n",
      "spacegroup number :  95\n",
      "spacegroup setting:  default\n",
      "lattice constants :  ['7.312081', '7.312081', '17.780447']\n",
      "axis angle        :  ['90', '90', '90']\n",
      "Wyckoff positions:  11\n",
      "Ca             0.278651             0.255909             0.285311\n",
      "As            -0.216836                    0                  1/4\n",
      " H             0.465309             0.383682             0.439389\n",
      " H             0.113318            -0.372342             0.371747\n",
      " F            -0.386189             0.166923             0.266821\n",
      " F            -0.218033             -0.05455             0.346401\n",
      " F            -0.044087              0.16741             0.264139\n",
      " F             0.438015             0.295106             0.398177\n",
      " F             0.493524                 -1/2                  1/4\n",
      " F             0.171353            -0.436234             0.320254\n",
      " F             0.302973            -0.057787             0.321532\n",
      "96\n",
      "fedit pipe succesfull\n",
      "spacegroup number :  96\n",
      "spacegroup setting:  default\n",
      "lattice constants :  ['6.22383338', '6.22383338', '8.39465045']\n",
      "axis angle        :  ['90', '90', '90']\n",
      "Wyckoff positions:  3\n",
      "Ag          -0.00082598           0.24543703           0.12818559\n",
      "Hg          -0.28886197          -0.28886197                    0\n",
      " O           -0.2510732           0.12162557          -0.01465979\n",
      "97\n",
      "ons:  0.00 sec \n",
      "0 b1 \n",
      "CPU TIME analyseGroup:  0.00 sec \n",
      "\n",
      "WARNING:\n",
      " Lattice type or lattice constants changed!\n",
      " Will take default values for bandplot special symmetry points!\n",
      "WARNING:\n",
      " number of Wyckoff positions changed!\n",
      " Will take default concentrations and initial_spin_split!\n",
      "\n",
      "\n",
      "------------------------------------------------------------------------\n",
      "Blocks contained in cif file '94.cif':\n",
      "------------------------------------------------------------------------\n",
      "symmetry block No.   name\n",
      "------------------------------------------------------------------------\n",
      "     0               fe5bi4o13f\n",
      "------------------------------------------------------------------------\n",
      "blockswithsymdata [0 ] \n",
      "\n",
      "Symmetry information for datablock: fe5bi4o13f\n",
      "Space group number: 1\n",
      "Name-Hall         : not found\n",
      "xyz-symbol        :  gives hallsymbol P 1\n",
      "\n",
      "The following symmetry options are available:\n",
      "  0 'xyz-symbols'\n",
      "\n",
      "Getting structure from symmetry option: 'xyz-symbols'\n",
      "\n",
      "\n",
      "CPU TIME determineSiteOperations:  0.00 sefedit pipe succesfull\n",
      "spacegroup number :  5\n",
      "spacegroup setting:  b1\n",
      "lattice constants :  ['10.99058644332957', '8.68844358806026', '8.69028532001205']\n",
      "axis angle        :  ['90', '142.24343486979717', '90']\n",
      "Wyckoff positions:  5\n",
      "Ba                    0                    0                    0\n",
      "Al                    0                    0                  1/2\n",
      "Al                    0                  1/2                    0\n",
      "Te            0.2500625          -0.16488541          -0.41499069\n",
      "Te          -0.24993343           0.16486943           0.08504426\n",
      "c \n",
      "CPU TIME analyseGroup:  0.00 sec \n",
      "\n",
      "WARNING:\n",
      " Lattice type or lattice constants changed!\n",
      " Will take default values for bandplot special symmetry points!\n",
      "WARNING:\n",
      " number of Wyckoff positions changed!\n",
      " Will take default concentrations and initial_spin_split!\n",
      "\n",
      "\n",
      "------------------------------------------------------------------------\n",
      "Blocks contained in cif file '95.cif':\n",
      "------------------------------------------------------------------------\n",
      "symmetry block No.   name\n",
      "------------------------------------------------------------------------\n",
      "     0               ca2ash4f13\n",
      "------------------------------------------------------------------------\n",
      "blockswithsymdata [0 ] \n",
      "\n",
      "Symmetry information for datablock: ca2ash4f13\n",
      "Space group number: 1\n",
      "Name-Hall         : not found\n",
      "xyz-symbol        :  gives hallsymbol P 1\n",
      "\n",
      "The following symmetry options are available:\n",
      "  0 'xyz-symbols'\n",
      "\n",
      "Getting structure from symmetry option: 'xyz-symbols'\n",
      "\n",
      "\n",
      "CPU TIME determineSiteOperations:  0.00 sec \n",
      "CPU TIME analyse98\n",
      "Group:  0.00 sec \n",
      "\n",
      "WARNING:\n",
      " Lattice type or lattice constants changed!\n",
      " Will take default values for bandplot special symmetry points!\n",
      "WARNING:\n",
      " number of Wyckoff positions changed!\n",
      " Will take default concentrations and initial_spin_split!\n",
      "\n",
      "\n",
      "------------------------------------------------------------------------\n",
      "Blocks contained in cif file '96.cif':\n",
      "------------------------------------------------------------------------\n",
      "symmetry block No.   name\n",
      "------------------------------------------------------------------------\n",
      "     0               ag2hgo2\n",
      "------------------------------------------------------------------------\n",
      "blockswithsymdata [0 ] \n",
      "\n",
      "Symmetry information for datablock: ag2hgo2\n",
      "Space group number: 1\n",
      "Name-Hall         : not found\n",
      "xyz-symbol        :  gives hallsymbol P 1\n",
      "\n",
      "The following symmetry options are available:\n",
      "  0 'xyz-symbols'\n",
      "\n",
      "Getting structure from symmetry option: 'xyz-symbols'\n",
      "\n",
      "\n",
      "CPU TIME determineSiteOperations:  0.00 sec \n",
      "CPU TIME analyseGroup:  0.00 sec \n",
      "\n",
      "WARNING:\n",
      " Lattice type or lattice constants changed!\n",
      " Will take default values for bandplot special symmetry points!\n",
      "WARNING:\n",
      " number of Wyckoff positions changed!\n",
      " Will take default concentrations and initial_spin_split!\n",
      "\n",
      "\n",
      "------------------------------------------------------------------------\n",
      "Blocks contained in cif file '97.cif':\n",
      "------------------------------------------------------------------------\n",
      "symmetry block No.   name\n",
      "------------------------------------------------------------------------\n",
      "     0               ba(alte2)2\n",
      "------------------------------------------------------------------------\n",
      "blockswithsymdata [0 ] \n",
      "\n",
      "Symmetry information for datablock: ba(alte2)2\n",
      "Space group number: 1\n",
      "Name-Hall         : not found\n",
      "xyz-symbol        :  gives hallsymbol P 1\n",
      "\n",
      "The following symmetry options are available:\n",
      "  0 'xyz-symbols'\n",
      "\n",
      "Getting structure from symmetry option: 'xyz-symbols'\n",
      "\n",
      "\n",
      "CPU TIME determineSiteOperations:  0.00 sec \n",
      "0 b1 \n",
      "1 b2 \n",
      "2 b3 \n",
      "CPU TIME analyseGroup:  0.00 sec \n",
      "\n",
      "WARNINGfedit pipe succesfull\n",
      "spacegroup number :  98\n",
      "spacegroup setting:  default\n",
      "lattice constants :  ['4.79730199775686', '4.79730199775686', '10.86502399528418']\n",
      "axis angle        :  ['90', '90', '90']\n",
      "Wyckoff positions:  3\n",
      "Ag                 -1/2                    0                 -1/4\n",
      "Au                    0                 -1/2                 -1/4\n",
      " O             0.219871                  1/4                 -3/8\n",
      ":\n",
      " Lattice type or lattice constants changed!\n",
      " Will take default values for bandplot special sym99\n",
      "fedit pipe succesfull\n",
      "spacegroup number :  99\n",
      "spacegroup setting:  default\n",
      "lattice constants :  ['2.958408', '2.958408', '14.311948']\n",
      "axis angle        :  ['90', '90', '90']\n",
      "Wyckoff positions:  10\n",
      "Al                    0                    0            -0.003662\n",
      "Al                    0                    0              0.19162\n",
      "Al                    0                    0                  2/5\n",
      "Al                    0                    0              -0.3896\n",
      "Cu                 -1/2                 -1/2             0.297041\n",
      "Cu                 -1/2                 -1/2            -0.496704\n",
      "Cu                 -1/2                 -1/2            -0.293665\n",
      "Cu                 -1/2                 -1/2            -0.103172\n",
      "Ni                    0                    0            -0.199119\n",
      "Ni                 -1/2                 -1/2             0.097355\n",
      "100\n",
      "fedit pipe succesfull\n",
      "spacegroup number :  100\n",
      "spacegroup setting:  default\n",
      "lattice constants :  ['12.645437', '12.645437', '4.143903']\n",
      "axis angle        :  ['90', '90', '90']\n",
      "Wyckoff positions:  9\n",
      "Ba             0.329431            -0.170569             0.183014\n",
      "Na                 -1/2                 -1/2             0.135781\n",
      "Nb                    0                 -1/2             -0.32839\n",
      "Nb            -0.208268            -0.075778             -0.32267\n",
      " O                    0                 -1/2             0.224988\n",
      " O            -0.295766              0.42208             0.231269\n",
      " O            -0.141387             0.068345             -0.25798\n",
      " O            -0.494013             0.156769            -0.268726\n",
      " O            -0.218806             0.281194            -0.276439\n",
      "101\n",
      "fedit pipe succesfull\n",
      "spacegroup number :  101\n",
      "spacegroup setting:  default\n",
      "lattice constants :  ['9.95414006', '9.95414006', '6.90493624']\n",
      "axis angle        :  ['90', '90', '90']\n",
      "Wyckoff positions:  7\n",
      "Mg           0.23917021          -0.47679611           0.22595952\n",
      "Mg           0.03607906           0.34645053            0.0289604\n",
      "Mg                 -1/2                 -1/2           0.46948133\n",
      "Mg                    0                    0          -0.00087005\n",
      "Mg           0.22572895           0.22572895           0.33675232\n",
      "Ni           0.30947046           0.30947046           0.00878215\n",
      "Sn           0.17146115           0.17146115          -0.25882997\n",
      "102\n",
      "metry points!\n",
      "WARNING:\n",
      " number of Wyckoff positions changed!\n",
      " Will take default concentrations and initial_spin_split!\n",
      "\n",
      "\n",
      "------------------------------------------------------------------------\n",
      "Blocks contained in cif file '98.cif':\n",
      "------------------------------------------------------------------------\n",
      "symmetry block No.   name\n",
      "------------------------------------------------------------------------\n",
      "     0               agauo2\n",
      "------------------------------------------------------------------------\n",
      "blockswithsymdata [0 ] \n",
      "\n",
      "Symmetry information for datablock: agauo2\n",
      "Space group number: 1\n",
      "Name-Hall         : not found\n",
      "xyz-symbol        :  gives hallsymbol P 1\n",
      "\n",
      "The following symmetry options are available:\n",
      "  0 'xyz-symbols'\n",
      "\n",
      "Getting structure from symmetry option: 'xyz-symbols'\n",
      "\n",
      "\n",
      "CPU TIME determineSiteOperations:  0.00 sec \n",
      "CPU TIME analyseGroup:  0.00 sec \n",
      "\n",
      "WARNING:\n",
      " Lattice type or lattice constants changed!\n",
      " Will take default values for bandplot special symmetry points!\n",
      "WARNING:\n",
      " numfedit pipe succesfull\n",
      "spacegroup number :  8\n",
      "spacegroup setting:  b1\n",
      "lattice constants :  ['17.45771265166711', '17.45771265166711', '6.96745']\n",
      "axis angle        :  ['90', '90', '90']\n",
      "Wyckoff positions:  44\n",
      "Ba             0.128325             0.145846            -0.009641\n",
      "Ba            -0.128325            -0.145846            -0.009641\n",
      "Ba           -0.3541545            0.1283255             0.490359\n",
      "Ba             0.354154            -0.128325             0.490359\n",
      "Na                    0                    0              0.33755\n",
      "Na                  1/2                    0             -0.16245\n",
      "Al             0.298681                    0            -0.001697\n",
      "Al            -0.298681                    0            -0.001697\n",
      "Al                    0            -0.201319             0.498303\n",
      " B            0.1335115            0.0982475            -0.471788\n",
      " B           -0.1335115           -0.0982475            -0.471788\n",
      " B            0.0982475           -0.3664885             0.028212\n",
      " B           -0.0982475            0.3664885             0.028212\n",
      " B             0.185397                    0             0.294998\n",
      " B            -0.185397                    0             0.294998\n",
      " B                    0            -0.314603            -0.205002\n",
      " B             0.232038                    0            -0.374452\n",
      " B            -0.232038                    0            -0.374452\n",
      " B                    0            -0.267962             0.125548\n",
      "Br                    0                    0            -0.085525\n",
      "Br                  1/2                    0             0.414475\n",
      "Br                 -1/4                 -1/4            -0.241403\n",
      "Br                 -1/4                  1/4             0.258597\n",
      " O                 3/10                    0            -0.257175\n",
      " O                -3/10                    0            -0.257175\n",
      " O                    0                 -1/5             0.242825\n",
      " O            0.3475465           -0.0821225             0.084823\n",
      " O           -0.3475465            0.0821225             0.084823\n",
      " O           -0.0821225           -0.1524535            -0.415177\n",
      " O            0.0821225            0.1524535            -0.415177\n",
      " O             0.204173                    0             0.093696\n",
      " O            -0.204173                    0             0.093696\n",
      " O                    0            -0.295827            -0.406304\n",
      " O             0.133598             0.068556             0.342484\n",
      " O            -0.133598            -0.068556             0.342484\n",
      " O             0.068556            -0.366402            -0.157516\n",
      " O            -0.068556             0.366402            -0.157516\n",
      " O             0.253491                    0             0.419514\n",
      " O            -0.253491                    0             0.419514\n",
      " O                    0            -0.246509            -0.080486\n",
      " O             0.184416             0.070268              -0.3357\n",
      " O            -0.184416            -0.070268              -0.3357\n",
      " O             0.070268            -0.315584               0.1643\n",
      " O            -0.070268             0.315584               0.1643\n",
      "103\n",
      "ber of Wyckoff positions changed!\n",
      " Will take default concentrations and initial_spin_split!\n",
      "\n",
      "\n",
      "------------------------------------------------------------------------\n",
      "Blocks contained in cif file '99.cif':\n",
      "------------------------------------------------------------------------\n",
      "symmetry block No.   name\n",
      "------------------------------------------------------------------------\n",
      "     0               al2cu2ni\n",
      "------------------------------------------------------------------------\n",
      "blockswithsymdata [0 ] \n",
      "\n",
      "Symmetry information for datablock: al2cu2ni\n",
      "Space group number: 1\n",
      "Name-Hall         : not found\n",
      "xyz-symbol        :  gives hallsymbol P 1\n",
      "\n",
      "The following symmetry options are available:\n",
      "  0 'xyz-symbols'\n",
      "\n",
      "Getting structure from symmetry option: 'xyz-symbols'\n",
      "\n",
      "\n",
      "CPU TIME determineSiteOperations:  0.00 sec \n",
      "CPU TIME analyseGroup:  0.00 sec \n",
      "\n",
      "WARNING:\n",
      " Lattice type or lattice constants changed!\n",
      " Will take default values for bandplot special symmetry points!\n",
      "WARNING:\n",
      " number of Wyckoff positions changed!\n",
      " Will take default concentrations and initial_spin_split!\n",
      "\n",
      "\n",
      "------------------------------------------------------------------------\n",
      "Blocks contained in cif file '100.cif':\n",
      "------------------------------------------------------------------------\n",
      "symmetry block No.   name\n",
      "------------------------------------------------------------------------\n",
      "     0               ba2nanb5o15\n",
      "------------------------------------------------------------------------\n",
      "blockswithsymdata [0 ] \n",
      "\n",
      "Symmetry information for datablock: ba2nanb5o15\n",
      "Space group number: 1\n",
      "Name-Hall         : not found\n",
      "xyz-symbol        :  gives hallsymbol P 1\n",
      "\n",
      "The following symmetry options are available:\n",
      "  0 'xyz-symbols'\n",
      "\n",
      "Getting structure from symmetry option: 'xyz-symbols'\n",
      "\n",
      "\n",
      "CPU TIME determineSiteOperations:  0.00 sec \n",
      "CPU TIME analyseGroup:  0.00 sec \n",
      "\n",
      "WARNING:\n",
      " Lattice type or lattice constants changed!\n",
      " Will take default values for bandplot special symmetry points!\n",
      "WARNING:\n",
      " number of Wyckoff positions changed!\n",
      " Willfedit pipe succesfull\n",
      "spacegroup number :  103\n",
      "spacegroup setting:  default\n",
      "lattice constants :  ['8.28800668', '8.28800668', '20.47347469']\n",
      "axis angle        :  ['90', '90', '90']\n",
      "Wyckoff positions:  10\n",
      " K                    0                    0           0.40464696\n",
      " K                    0                    0          -0.40545652\n",
      " K                 -1/2                 -1/2           0.23904903\n",
      " K                 -1/2                 -1/2           0.44594648\n",
      "Ag           0.31799026           0.00656191                  1/4\n",
      "Sn                 -1/2                    0            0.4133512\n",
      "Sn                 -1/2                    0           -0.4116926\n",
      "Se           0.33152224          -0.15397604          -0.49952813\n",
      "Se           0.32868016           0.19209151           0.34644152\n",
      "Se          -0.32241486          -0.18449813          -0.34448556\n",
      " take default concentrations and initial_spin_split!\n",
      "\n",
      "\n",
      "------------------------------------------------------------------------\n",
      "Blocks contained in cif file '101.cif':\n",
      "------------------------------------------------------------------------\n",
      "symmetry block No.   name\n",
      "------------------------------------------------------------------------\n",
      "     0               mg6nisn\n",
      "------------------------------------------------------------------------\n",
      "blockswithsymdata [0 ] \n",
      "\n",
      "Symmetry information for datablock: mg6nisn\n",
      "Space group number: 1\n",
      "Name-Hall         : not found\n",
      "xyz-symbol        :  gives hallsymbol P 1\n",
      "\n",
      "The following symmetry options are available:\n",
      "  0 'xyz-symbols'\n",
      "\n",
      "Getting structure from symmetry option: 'xyz-symbols'\n",
      "\n",
      "\n",
      "CPU TIME determineSiteOperations:  0.00 sec \n",
      "CPU TIME analyseGroup:  0.00 sec \n",
      "\n",
      "WARNING:\n",
      " Lattice type or lattice constants changed!\n",
      " Will take default values for bandplot special symmetry points!\n",
      "WARNING:\n",
      " number of Wyckoff positions changed!\n",
      " Will take default concentrations and initial_spin_split!\n",
      "\n",
      "\n",
      "-----------------------------------------------------------------104\n",
      "fedit pipe succesfull\n",
      "spacegroup number :  104\n",
      "spacegroup setting:  default\n",
      "lattice constants :  ['10.788583', '10.788583', '9.155393']\n",
      "axis angle        :  ['90', '90', '90']\n",
      "Wyckoff positions:  5\n",
      "Ba                    0                    0             0.198468\n",
      "Ba              0.18999            -0.394706             0.374172\n",
      "In            -0.315565            -0.427858             0.031027\n",
      "Bi                    0                    0            -0.187848\n",
      "Bi            -0.109734            -0.309614             0.192591\n",
      "105\n",
      "fedit pipe succesfull\n",
      "spacegroup number :  105\n",
      "spacegroup setting:  default\n",
      "lattice constants :  ['7.87534532', '7.87534532', '8.72726781']\n",
      "axis angle        :  ['90', '90', '90']\n",
      "Wyckoff positions:  5\n",
      "Ba                 -1/2                    0           -0.4755503\n",
      "Ba                 -1/2                 -1/2           0.49906916\n",
      "Ge          -0.33657209                    0           0.10758609\n",
      "Ge           -0.1652766                    0          -0.13269458\n",
      "As           0.26847078          -0.25238306           0.25509928\n",
      "106\n",
      "-------\n",
      "Blocks contained in cif file '102.cif':\n",
      "------------------------------------------------------------------------\n",
      "symmetry block No.   name\n",
      "------------------------------------------------------------------------\n",
      "     0               ba4naal2b8(bro6)3\n",
      "------------------------------------------------------------------------\n",
      "blockswithsymdata [0 ] \n",
      "\n",
      "Symmetry information for datablock: ba4naal2b8(bro6)3\n",
      "Space group number: 1\n",
      "Name-Hall         : not found\n",
      "xyz-symbol        :  gives hallsymbol P 1\n",
      "\n",
      "The following symmetry options are available:\n",
      "  0 'xyz-symbols'\n",
      "\n",
      "Getting structure from symmetry option: 'xyz-symbols'\n",
      "\n",
      "\n",
      "CPU TIME determineSiteOperations:  0.00 sec \n",
      "0 b1 \n",
      "CPU TIME analyseGroup:  0.00 sec \n",
      "\n",
      "WARNING:\n",
      " Lattice type or lattice constants changed!\n",
      " Will take default values for bandplot special symmetry points!\n",
      "WARNING:\n",
      " number of Wyckoff positions changed!\n",
      " Will take default concentrations and initial_spin_split!\n",
      "\n",
      "\n",
      "---------------------------------------------------------------fedit pipe succesfull\n",
      "spacegroup number :  106\n",
      "spacegroup setting:  default\n",
      "lattice constants :  ['8.945624', '8.945624', '5.89253']\n",
      "axis angle        :  ['90', '90', '90']\n",
      "Wyckoff positions:  4\n",
      "Cu                 -1/2                    0             0.267744\n",
      "Sb             0.310398             0.346931             -0.49333\n",
      " O            -0.209121             0.315554             0.274721\n",
      " O             0.089894             0.379393            -0.481262\n",
      "---------\n",
      "Blocks contained in cif file '103.cif':\n",
      "------------------------------------------------------------------------\n",
      "symmetry block No.   name\n",
      "------------------------------------------------------------------------\n",
      "     0               kagsnse3\n",
      "------------------------------------------------------------------------\n",
      "blockswithsymdata [0 ] \n",
      "\n",
      "Symmetry information for datablock: kagsnse3\n",
      "Space group number: 1\n",
      "Name-Hall         : not found\n",
      "xyz-symbol        :  gives hallsymbol P 1\n",
      "\n",
      "The following symmetry options are available:\n",
      "  0 'xyz-symbols'\n",
      "\n",
      "Getting structure from symmetry option: 'xyz-symbols'\n",
      "\n",
      "\n",
      "CPU TIME determineSiteOperations:  0.00 sec \n",
      "CPU TIME analyseGroup:  0.00 sec \n",
      "\n",
      "WARNING:\n",
      " Lattice type or lattice constants changed!\n",
      " Will take default values for bandplot special symmetry points!\n",
      "WARNING:\n",
      " number of Wyckoff positions changed!\n",
      " Will take default concentrations and initial_spin_split!\n",
      "\n",
      "\n",
      "------------------------------------------------------------------------\n",
      "Blocks conta107\n",
      "fedit pipe succesfull\n",
      "spacegroup number :  107\n",
      "spacegroup setting:  default\n",
      "lattice constants :  ['3.24146195831872', '3.24146195831872', '8.12208375514209']\n",
      "axis angle        :  ['90', '90', '90']\n",
      "Wyckoff positions:  3\n",
      "Al                    0                    0          -0.16477194\n",
      "Re                    0                    0          -0.49703551\n",
      "Ge                    0                    0           0.16180745\n",
      "ined in cif file '104.cif':\n",
      "------------------------------------------------------------------------\n",
      "symmetry block No.   name\n",
      "------------------------------------------------------------------------\n",
      "     0               ba5in4bi5\n",
      "------------------------------------------------------------------------\n",
      "blockswithsymdata [0 ] \n",
      "\n",
      "Symmetry information for datablock: ba5in4bi5\n",
      "Space group number: 1\n",
      "Name-Hall         : not found\n",
      "xyz-symbol        :  gives hallsymbol P 1\n",
      "\n",
      "The following symmetry options are available:\n",
      "  0 'xyz-symbols'\n",
      "\n",
      "Getting structure from symmetry option: 'xyz-symbols'\n",
      "\n",
      "\n",
      "CPU TIME determineSiteOperations:  0.00 sec \n",
      "CPU TIME analyseGroup:  0.00 sec \n",
      "\n",
      "WARNING:\n",
      " Lattice type or lattice constants changed!\n",
      " Will take default values for bandplot special symmetry points!\n",
      "WARNING:\n",
      " number of Wyckoff positions changed!\n",
      " Will take default concentrations and initial_spin_split!\n",
      "\n",
      "\n",
      "------------------------------------------------------------------------\n",
      "Blocks contained in cif file '10108\n",
      "5.cif':\n",
      "------------------------------------------------------------------------\n",
      "symmetry block No.   name\n",
      "------------------------------------------------------------------------\n",
      "     0               ba(geas)2\n",
      "------------------------------------------------------------------------\n",
      "blockswithsymdata [0 ] \n",
      "\n",
      "Symmetry information for datablock: ba(geas)2\n",
      "Space group number: 1\n",
      "Name-Hall         : not found\n",
      "xyz-symbol        :  gives hallsymbol P 1\n",
      "\n",
      "The following symmetry options are available:\n",
      "  0 'xyz-symbols'\n",
      "\n",
      "Getting structure from symmetry option: 'xyz-symbols'\n",
      "\n",
      "\n",
      "CPU TIME determineSiteOperations:  0.00 sec \n",
      "CPU TIME analyseGroup:  0.00 sec \n",
      "\n",
      "WARNING:\n",
      " Lattice type or lattice constants changed!\n",
      " Will take default values for bandplot special symmetry points!\n",
      "WARNING:\n",
      " number of Wyckoff positions changed!\n",
      " Will take default concentrations and initial_spin_split!\n",
      "\n",
      "\n",
      "------------------------------------------------------------------------\n",
      "Blocks contained in cif file '106.cif':\n",
      "------------fedit pipe succesfull\n",
      "spacegroup number :  108\n",
      "spacegroup setting:  default\n",
      "lattice constants :  ['6.04178999781532', '6.04178999781532', '9.55513999684048']\n",
      "axis angle        :  ['90', '90', '90']\n",
      "Wyckoff positions:  4\n",
      "Al                    0                    0               0.0018\n",
      "Al             0.339699             0.160301             0.355211\n",
      "Fe                    0                    0            -0.255149\n",
      "Si            0.1474865            0.3525135            0.1464635\n",
      "------------------------------------------------------------\n",
      "symmetry block No.   name\n",
      "---------109\n",
      "fedit pipe succesfull\n",
      "spacegroup number :  9\n",
      "spacegroup setting:  b1\n",
      "lattice constants :  ['14.30372649524082', '14.30372649741582', '10.15335708']\n",
      "axis angle        :  ['90', '134.77980756000002', '90']\n",
      "Wyckoff positions:  16\n",
      "Ag            0.1231425           -0.0003835             0.497052\n",
      "Ag           -0.1260905           -0.2496165             0.497052\n",
      "Pb             0.117318             0.281107            -0.077578\n",
      "Pb           -0.1948955           -0.0311065            -0.077577\n",
      "Pb            0.4329075           -0.0289975             -0.44218\n",
      "Pb            0.1249125            0.2789975             -0.44218\n",
      "Cl             0.317396                 -1/8             0.134792\n",
      "Cl              -0.0696                 -1/8               0.3608\n",
      "Cl            -0.076356            -0.125638            -0.249526\n",
      "Cl              0.32683            -0.124362            -0.249526\n",
      "Cl             0.125875             0.076593            -0.249527\n",
      "Cl             0.124599            -0.326593            -0.249525\n",
      " O           -0.3846245           -0.0660395             -0.38717\n",
      " O           -0.0025455            0.3160395             -0.38717\n",
      " F            -0.222085            -0.197349            -0.088868\n",
      " F            -0.366783            -0.052651            -0.088868\n",
      "110\n",
      "---------------------------------------------------------------\n",
      "     0               cu(sbo2)2\n",
      "------------------------------------------------------------------------\n",
      "blockswithsymdata [0 ] \n",
      "\n",
      "Symmetry information for datablock: cu(sbo2)2\n",
      "Space group number: 1\n",
      "Name-Hall         : not found\n",
      "xyz-symbol        :  gives hallsymbol P 1\n",
      "\n",
      "The following symmetry options are available:\n",
      "  0 'xyz-symbols'\n",
      "\n",
      "Getting structure from symmetry option: 'xyz-symbols'\n",
      "\n",
      "\n",
      "CPU TIME determineSiteOperations:  0.00 sec \n",
      "CPU TIME analyseGroup:  0.00 sec \n",
      "\n",
      "WARNING:\n",
      " Lattice type or lattice constants changed!\n",
      " Will take default values for bandplot special symmetry points!\n",
      "WARNING:\n",
      " number of Wyckoff positions changed!\n",
      " Will take default concentrations and initial_spin_split!\n",
      "\n",
      "\n",
      "------------------------------------------------------------------------\n",
      "Blocks contained in cif file '107.cif':\n",
      "------------------------------------------------------------------------\n",
      "symmetry block No.   name\n",
      "-----------------------------fedit pipe succesfull\n",
      "spacegroup number :  1\n",
      "spacegroup setting:  default\n",
      "lattice constants :  ['12.12997199777824', '12.12997199777824', '14.65835616']\n",
      "axis angle        :  ['65.558986035', '65.558986035', '90']\n",
      "Wyckoff positions:  184\n",
      " B            -0.423837             -0.06476              0.35655\n",
      " B             0.067287            -0.291791             0.356551\n",
      " B             0.458209            -0.173837             -0.14345\n",
      " B             -0.31476             0.317287            -0.143449\n",
      " B            -0.041791            -0.182713            -0.143449\n",
      " B            -0.432713              0.43524             0.356551\n",
      " B             0.076163             0.208209              0.35655\n",
      " B              0.18524             0.326163             -0.14345\n",
      " B            -0.367123            -0.130944             0.457626\n",
      " B            -0.090503            -0.326683             0.457627\n",
      " B             0.423317            -0.117124            -0.042373\n",
      " B            -0.380944             0.159497            -0.042373\n",
      " B            -0.076683            -0.340503            -0.042373\n",
      " B             0.409497             0.369056             0.457627\n",
      " B             0.132877             0.173317             0.457626\n",
      " B             0.119056             0.382876            -0.042373\n",
      " B            -0.471368            -0.275265             -0.44053\n",
      " B            -0.088101            -0.284205            -0.440531\n",
      " B             0.465795            -0.221368             0.059469\n",
      " B             0.474735             0.161899              0.05947\n",
      " B            -0.034205            -0.338101             0.059469\n",
      " B             0.411899             0.224735             -0.44053\n",
      " B             0.028632             0.215795            -0.440531\n",
      " B            -0.025265             0.278632              0.05947\n",
      " B             0.350068            -0.273949            -0.382321\n",
      " B             0.032253             -0.34373            -0.382321\n",
      " B              0.40627                 -2/5             0.117747\n",
      " B             0.476051             0.282253             0.117679\n",
      " B             -0.09373            -0.217747             0.117679\n",
      " B            -0.467747             0.226051            -0.382321\n",
      " B            -0.149932              0.15627            -0.382321\n",
      " B            -0.023949                 1/10             0.117747\n",
      " B             0.310686            -0.127802            -0.436852\n",
      " B             0.126166            -0.435346            -0.436852\n",
      " B             0.314654            -0.439314             0.063148\n",
      " B            -0.377802             0.376166             0.063148\n",
      " B            -0.185346            -0.123834             0.063148\n",
      " B            -0.373834             0.372198            -0.436852\n",
      " B            -0.189314             0.064654            -0.436852\n",
      " B             0.122198             0.060686             0.063148\n",
      " B             0.398861              -0.0634             0.414841\n",
      " B             0.186297            -0.351441             0.414842\n",
      " B             0.398559            -0.351139            -0.085158\n",
      " B              -0.3134             0.436297            -0.085159\n",
      " B            -0.101441            -0.063703            -0.085158\n",
      " B            -0.313703               0.4366             0.414841\n",
      " B            -0.101139             0.148559             0.414842\n",
      " B               0.1866             0.148861            -0.085159\n",
      " B            -0.412454            -0.223854             0.411547\n",
      " B             0.000907            -0.187694             0.411548\n",
      " B            -0.437694            -0.162454            -0.088453\n",
      " B            -0.473854             0.250907            -0.088452\n",
      " B             0.062306            -0.249093            -0.088452\n",
      " B            -0.499093             0.276146             0.411548\n",
      " B             0.087546             0.312306             0.411547\n",
      " B             0.026146             0.337546            -0.088453\n",
      " B             0.433556            -0.309029            -0.492652\n",
      " B             0.059096            -0.198319            -0.492652\n",
      " B            -0.448319            -0.316444             0.007347\n",
      " B             0.440971             0.309096             0.007349\n",
      " B             0.051681            -0.190904             0.007348\n",
      " B            -0.440904             0.190971            -0.492651\n",
      " B            -0.066444             0.301681            -0.492653\n",
      " B            -0.059029             0.183556             0.007348\n",
      " B             0.315052            -0.222071             0.499825\n",
      " B             0.185124            -0.277754             0.499824\n",
      " B             0.472246            -0.434948            -0.000176\n",
      " B            -0.472071             0.435124            -0.000175\n",
      " B            -0.027754            -0.064876            -0.000176\n",
      " B            -0.314876             0.277929             0.499825\n",
      " B            -0.184948                  2/9     0.49984777777778\n",
      " B             0.027929             0.065052            -0.000175\n",
      " B             0.463559             -0.17731             0.379795\n",
      " B             0.156645            -0.202486             0.379797\n",
      " B            -0.452486            -0.286441            -0.120204\n",
      " B             -0.42731             0.406645            -0.120204\n",
      " B             0.047514            -0.093355            -0.120203\n",
      " B            -0.343355              0.32269             0.379796\n",
      " B            -0.036441             0.297514             0.379796\n",
      " B              0.07269             0.213559            -0.120205\n",
      " H            -0.413139            -0.028478             0.426908\n",
      " H            -0.013769             -0.39843             0.426908\n",
      " H              0.35157            -0.163139            -0.073092\n",
      " H            -0.278478             0.236231            -0.073092\n",
      " H             -0.14843            -0.263769            -0.073092\n",
      " H             0.486231             0.471522             0.426908\n",
      " H             0.086861              0.10157             0.426908\n",
      " H             0.221522             0.336861            -0.073092\n",
      " H            -0.447031            -0.173885            -0.432769\n",
      " H              -0.1202            -0.393346            -0.432769\n",
      " H             0.356654            -0.197031             0.067231\n",
      " H            -0.423885               0.1298             0.067231\n",
      " H            -0.143346              -0.3702             0.067231\n",
      " H               0.3798             0.326115            -0.432769\n",
      " H             0.052969             0.106654            -0.432769\n",
      " H             0.076115             0.302969             0.067231\n",
      " H             0.368338            -0.172929            -0.372134\n",
      " H             0.003795            -0.454937            -0.372133\n",
      " H             0.295063            -0.381662             0.127866\n",
      " H            -0.422929             0.253795             0.127867\n",
      " H            -0.204937            -0.246205             0.127867\n",
      " H            -0.496205             0.327071            -0.372133\n",
      " H            -0.131662             0.045063            -0.372134\n",
      " H             0.077071             0.118338             0.127866\n",
      " H             0.403056            -0.027863             0.487579\n",
      " H             0.109364            -0.459716              0.48758\n",
      " H             0.290284            -0.346944             -0.01242\n",
      " H            -0.277863             0.359364            -0.012421\n",
      " H            -0.209716            -0.140636             -0.01242\n",
      " H            -0.390636             0.472137             0.487579\n",
      " H            -0.096944             0.040284              0.48758\n",
      " H                  2/9             0.153056    -0.01250622222222\n",
      " H            -0.356793             0.016506             0.265678\n",
      " H             0.091116            -0.282184             0.265677\n",
      " H             0.467816            -0.106793            -0.234322\n",
      " H            -0.233494             0.341116            -0.234323\n",
      " H            -0.032184            -0.158884            -0.234323\n",
      " H            -0.408884            -0.483494             0.265677\n",
      " H             0.143207             0.217816             0.265678\n",
      " H             0.266506             0.393207            -0.234322\n",
      " H            -0.268222            -0.098757             0.447234\n",
      " H            -0.179013            -0.348478             0.447236\n",
      " H             0.401522            -0.018222            -0.052765\n",
      " H            -0.348757             0.070987            -0.052765\n",
      " H            -0.098478            -0.429013            -0.052764\n",
      " H            -0.338059            -0.266725             0.359687\n",
      " H             0.320987             0.401243             0.447235\n",
      " H             0.151243             0.481778            -0.052766\n",
      " H            -0.440474            -0.352518            -0.378493\n",
      " H            -0.181033            -0.268989            -0.378493\n",
      " H             0.481011            -0.190474             0.121507\n",
      " H             0.397482             0.068967             0.121507\n",
      " H            -0.018989            -0.431033             0.121507\n",
      " H             0.318967             0.147482            -0.378493\n",
      " H             0.059526             0.231011            -0.378493\n",
      " H            -0.102518             0.309526             0.121507\n",
      " H             0.285198            -0.350297            -0.288476\n",
      " H             0.003278            -0.361227            -0.288476\n",
      " H             0.388773            -0.464802             0.211524\n",
      " H             0.399703             0.253278             0.211524\n",
      " H            -0.111227            -0.246722             0.211524\n",
      " H            -0.496722             0.149703            -0.288476\n",
      " H            -0.214802             0.138773            -0.288476\n",
      " H            -0.100297             0.035198             0.211524\n",
      " H             0.226747            -0.091749            -0.386508\n",
      " H             0.159761             0.478257            -0.386508\n",
      " H             0.228257             0.476747             0.113491\n",
      " H            -0.341749             0.409761             0.113493\n",
      " H            -0.271743            -0.090239             0.113492\n",
      " H            -0.340239             0.408251            -0.386507\n",
      " H            -0.273253            -0.021743            -0.386509\n",
      " H             0.158251            -0.023253             0.113492\n",
      " H              0.36937             0.019114             0.355652\n",
      " H             0.274978            -0.374767             0.355653\n",
      " H             0.375233             -0.38063            -0.144347\n",
      " H            -0.230886            -0.475022            -0.144348\n",
      " H            -0.124767             0.024978            -0.144347\n",
      " H            -0.225022            -0.480886             0.355652\n",
      " H             -0.13063             0.125233             0.355653\n",
      " H             0.269114              0.11937            -0.144348\n",
      " H             0.076855             0.217373            -0.204414\n",
      " H            -0.032627             0.377558             0.295586\n",
      " H            -0.262959             0.326855             0.295587\n",
      " H             0.127558            -0.012959            -0.204413\n",
      " H            -0.423145             0.487041            -0.204413\n",
      " H            -0.372442            -0.282627            -0.204414\n",
      " H             0.237041            -0.122442             0.295587\n",
      " H             0.467373            -0.173145             0.295586\n",
      " H            -0.166395             0.161611             0.030925\n",
      " H            -0.088389             0.385471            -0.469075\n",
      " H            -0.442536             0.083605            -0.469076\n",
      " H             0.135471            -0.192536             0.030924\n",
      " H             0.333605             0.307464             0.030924\n",
      " H            -0.364529            -0.338389             0.030925\n",
      " H             0.057464            -0.114529            -0.469076\n",
      " H             0.411611            -0.416395            -0.469075\n",
      " H            -0.016725             0.411941            -0.140313\n",
      " H             0.161941             0.407038             0.359687\n",
      " H             0.478372             0.233275             0.359687\n",
      " H             0.157038            -0.271628            -0.140313\n",
      " H             0.483275             0.228372    -0.14021842857143\n",
      " H            -0.342962            -0.088059    -0.14040757142857\n",
      " H            -0.021628            -0.092962             0.359687\n",
      " H             0.231778             0.151522             0.447235\n",
      "-------------------------------------------\n",
      "     0               alrege\n",
      "------------------------------------------------------------------------\n",
      "blockswithsymdata [0 ] \n",
      "\n",
      "Symmetry information for datablock: alrege\n",
      "Space group number: 1\n",
      "Name-Hall         : not found\n",
      "xyz-symbol        :  gives hallsymbol P 1\n",
      "\n",
      "The following symmetry options are available:\n",
      "  0 'xyz-symbols'\n",
      "\n",
      "Getting structure from symmetry option: 'xyz-symbols'\n",
      "\n",
      "\n",
      "CPU TIME determineSiteOperations:  0.00 sec \n",
      "CPU TIME analyseGroup:  0.00 sec \n",
      "\n",
      "WARNING:\n",
      " Lattice type or lattice constants changed!\n",
      " Will take default values for bandplot special symmetry points!\n",
      "WARNING:\n",
      " number of Wyckoff positions changed!\n",
      " Will take default concentrations and initial_spin_split!\n",
      "\n",
      "\n",
      "------------------------------------------------------------------------\n",
      "Blocks contained in cif file '108.cif':\n",
      "------------------------------------------------------------------------\n",
      "symmetry block No.   name\n",
      "-------------------------------------------------------111\n",
      "-----------------\n",
      "     0               al3fesi2\n",
      "------------------------------------------------------------------------\n",
      "blockswithsymdata [0 ] \n",
      "\n",
      "Symmetry information for datablock: al3fesi2\n",
      "Space group number: 1\n",
      "Name-Hall         : not found\n",
      "xyz-symbol        :  gives hallsymbol P 1\n",
      "\n",
      "The following symmetry options are available:\n",
      "  0 'xyz-symbols'\n",
      "\n",
      "Getting structure from symmetry option: 'xyz-symbols'\n",
      "\n",
      "\n",
      "CPU TIME determineSiteOperations:  0.00 sec \n",
      "CPU TIME analyseGroup:  0.00 sec \n",
      "\n",
      "WARNING:\n",
      " Lattice type or lattice constants changed!\n",
      " Will take default values for bandplot special symmetry points!\n",
      "WARNING:\n",
      " number of Wyckoff positions changed!\n",
      " Will take default concentrations and initial_spin_split!\n",
      "\n",
      "\n",
      "------------------------------------------------------------------------\n",
      "Blocks contained in cif file '109.cif':\n",
      "------------------------------------------------------------------------\n",
      "symmetry block No.   name\n",
      "------------------------------------------------------------------------\n",
      "    fedit pipe succesfull\n",
      "spacegroup number :  111\n",
      "spacegroup setting:  default\n",
      "lattice constants :  ['6.47862847', '6.47862847', '6.38218304']\n",
      "axis angle        :  ['90', '90', '90']\n",
      "Wyckoff positions:  3\n",
      "Ag                 -1/2                    0                    0\n",
      "Hg                 -1/2                  1/2                  1/2\n",
      " I           0.23704558           0.23704558          -0.26236238\n",
      " 0               agpb2cl3of\n",
      "------------------------------------------------------------------------\n",
      "blockswithsymdata [0 ] \n",
      "\n",
      "Symmetry information for datablock: agpb2cl3of\n",
      "Space group number: 1\n",
      "Name-Hall         : not found\n",
      "xyz-symbol        :  gives hallsymbol P 1\n",
      "\n",
      "The following symmetry options are available:\n",
      "  0 'xyz-symbols'\n",
      "\n",
      "Getting structure from symmetry option: 'xyz-symbols'\n",
      "\n",
      "\n",
      "CPU TIME determineSiteOperations:  0.00 sec \n",
      "0 b1 \n",
      "1 b2 \n",
      "2 b3 \n",
      "CPU TIME analyseGroup:  0.00 sec \n",
      "\n",
      "WARNING:\n",
      " Lattice type or lattice constants changed!\n",
      " Will take default values for bandplot special symmetry points!\n",
      "WARNING:\n",
      " number of Wyckoff positions changed!\n",
      " Will take default concentrations and initial_spin_split!\n",
      "\n",
      "\n",
      "------------------------------------------------------------------------\n",
      "Blocks contained in cif file '110.cif':\n",
      "------------------------------------------------------------------------\n",
      "symmetry block No.   name\n",
      "------------------------------------------------------------------------\n",
      "     0               b10h13\n",
      "------------------------------------------------------------------------112\n",
      "fedit pipe succesfull\n",
      "spacegroup number :  112\n",
      "spacegroup setting:  default\n",
      "lattice constants :  ['7.597755', '7.597755', '36.183376']\n",
      "axis angle        :  ['90', '90', '90']\n",
      "Wyckoff positions:  15\n",
      "Al                    0                    0                  1/3\n",
      "Al                    0                    0             0.417697\n",
      "Al                    0                    0                 -1/4\n",
      "Al                 -1/2                 -1/2            -0.416904\n",
      "Al                 -1/2                 -1/2                 -1/2\n",
      "Al                 -1/2                 -1/2            -0.167324\n",
      "Bi                 -1/2                    0            -0.373033\n",
      "Bi                 -1/2                    0            -0.038501\n",
      "Bi                 -1/2                    0             0.292772\n",
      " S            -0.158879            -0.160246             0.374795\n",
      " S            -0.158903            -0.161345            -0.291678\n",
      " S            -0.153704                 -1/6             0.042808\n",
      " S            -0.340972             0.338934            -0.458413\n",
      " S            -0.342136              0.33897            -0.124758\n",
      " S            -0.349782              0.33003             0.206717\n",
      "113\n",
      "fedit pipe succesfull\n",
      "spacegroup number :  113\n",
      "spacegroup setting:  default\n",
      "lattice constants :  ['7.351799', '7.351799', '5.20542']\n",
      "axis angle        :  ['90', '90', '90']\n",
      "Wyckoff positions:  5\n",
      "Al                    0                 -1/2            -0.007076\n",
      " C            -0.198614             0.301386            -0.002398\n",
      " C                    0                 -1/2             0.392053\n",
      " N            -0.189468            -0.310532            -0.003189\n",
      " N                 -1/2                    0             0.384028\n",
      "114\n",
      "\n",
      "blockswithsymdata [0 ] \n",
      "\n",
      "Symmetry information for datablock: b10h13\n",
      "Space group number: 1\n",
      "Name-Hall         : not found\n",
      "xyz-symbol        :  gives hallsymbol P 1\n",
      "\n",
      "The following symmetry options are available:\n",
      "  0 'xyz-symbols'\n",
      "\n",
      "Getting structure from symmetry option: 'xyz-symbols'\n",
      "\n",
      "\n",
      "CPU TIME determineSiteOperations:  0.00 sec \n",
      "CPU TIME analyseGroup:  0.00 sec \n",
      "\n",
      "WARNING:\n",
      " Lattice type or lattice constants changed!\n",
      " Will take default values for bandplot special symmetry points!\n",
      "WARNING:\n",
      " number of Wyckoff positions changed!\n",
      " Will take default concentrations and initial_spin_split!\n",
      "\n",
      "\n",
      "------------------------------------------------------------------------\n",
      "Blocks contained in cif file '111.cif':\n",
      "------------------------------------------------------------------------\n",
      "symmetry block No.   name\n",
      "------------------------------------------------------------------------\n",
      "     0               ag2hgi4\n",
      "------------------------------------------------------------------------\n",
      "blockswithsymdata [0 ] \n",
      "fedit pipe succesfull\n",
      "spacegroup number :  114\n",
      "spacegroup setting:  default\n",
      "lattice constants :  ['8.582822', '8.582822', '6.45047']\n",
      "axis angle        :  ['90', '90', '90']\n",
      "Wyckoff positions:  7\n",
      "Ag                 -1/2                    0             0.485143\n",
      " H            -0.415247            -0.297918             0.380227\n",
      " H            -0.281429            -0.212445            -0.470826\n",
      " H            -0.444342            -0.283403            -0.363468\n",
      " S                 -1/2                 -1/2                    0\n",
      " N            -0.399511            -0.227656            -0.492033\n",
      " O            -0.372759            -0.434937             0.133443\n",
      "\n",
      "Symmetry information for datablock: ag2hgi4\n",
      "Space group number: 1\n",
      "Name-Hall         : not found\n",
      "xyz-symbol        :  gives hallsymbol P 1\n",
      "\n",
      "The following symmetry options are available:\n",
      "  0 'xyz-symbols'\n",
      "\n",
      "Getting structure from symmetry option: 'xyz-symbols'\n",
      "\n",
      "\n",
      "CPU TIME determineSiteOperations:  0.00 sec \n",
      "CPU TIME analyseGroup:  0.00 sec \n",
      "\n",
      "WARNING:\n",
      " Lattice type or lattice constants changed!\n",
      " Will take default values for bandplot special symmetry points!\n",
      "WARNING:\n",
      " number of Wyckoff positions changed!\n",
      " Will take default concentrations and initial_spin_split!\n",
      "\n",
      "\n",
      "------------------------------------------------------------------------\n",
      "Blocks contained in cif file '112.cif':\n",
      "------------------------------------------------------------------------\n",
      "symmetry block No.   name\n",
      "------------------------------------------------------------------------\n",
      "     0               al5(bis4)3\n",
      "------------------------------------------------------------------------\n",
      "blockswithsymdata [0 ] \n",
      "\n",
      "Symmetry information for datablock: al5(bis4)3\n",
      "Space group number: 1\n",
      "Name-Hall         : not found\n",
      "xyz-symbol        :  gives hallsymbol P 1\n",
      "\n",
      "The following symmetry options are available:\n",
      "  0 'xyz-symbols'\n",
      "\n",
      "Getting structure from symmetry option: 'xyz-symbols'\n",
      "\n",
      "\n",
      "CPU TIME determineSiteOperations:  0.00 sec \n",
      "CPU TIME analyseGroup:  0.00 sec \n",
      "\n",
      "WARNING:\n",
      " Lattice type or lattice constants changed!\n",
      " Will take default values for bandplot special symmetry points!\n",
      "WARNING:\n",
      " number of Wyckoff positions changed!\n",
      " Will take default concentrations and initial_spin_split!\n",
      "\n",
      "\n",
      "------------------------------------------------------------------------\n",
      "Blocks contained in cif file '113.cif':\n",
      "------------------------------------------------------------------------\n",
      "symmetry block No.   name\n",
      "------------------------------------------------------------------------\n",
      "     0               al(cn)3\n",
      "------------------------------------------------------------------------\n",
      "blockswithsymdata [0 ] \n",
      "\n",
      "Symmetry information for datablock: al(cn)3\n",
      "Space group number: 1\n",
      "Name-Hall         : not found\n",
      "xyz-symbol        :  gives hallsymbol P 1\n",
      "\n",
      "The following symmetry options are available:\n",
      "  0 'xyz-symbols'\n",
      "\n",
      "Getting structure from symmetry option: 'xyz-symbols'\n",
      "\n",
      "\n",
      "CPU TIME determineSiteOperations:  0.00 sec \n",
      "CPU TIME analyseGroup:  0.00 sec \n",
      "\n",
      "WARNING:\n",
      " Lattice type or lattice constants changed!\n",
      " Will take default values for bandplot special symmetry points!\n",
      "WARNING:\n",
      " number of Wyckoff positions changed!\n",
      " Will take default concentrations and initial_spin_split!\n",
      "\n",
      "\n",
      "------------------------------------------------------------------------\n",
      "Blocks contained in cif file '114.cif':\n",
      "------------------------------------------------------------------------\n",
      "symmetry block No.   name\n",
      "------------------------------------------------------------------------\n",
      "     0               ag2h12s(no)4\n",
      "------------------------------------------------------------------------\n",
      "blockswithsymdata [0 ] \n",
      "\n",
      "Symmetry information for datablock: ag2h12s(no)4\n",
      "Space group115\n",
      " number: 1\n",
      "Name-Hall         : not found\n",
      "xyz-symbol        :  gives hallsymbol P 1\n",
      "\n",
      "The followinfedit pipe succesfull\n",
      "spacegroup number :  115\n",
      "spacegroup setting:  default\n",
      "lattice constants :  ['4.285728', '4.285728', '6.354781']\n",
      "axis angle        :  ['90', '90', '90']\n",
      "Wyckoff positions:  2\n",
      "Ag                    0                    0                    0\n",
      " I                 -1/2                    0     0.27777777777778\n",
      "116\n",
      "fedit pipe succesfull\n",
      "spacegroup number :  116\n",
      "spacegroup setting:  default\n",
      "lattice constants :  ['5.39141', '5.39141', '8.431887']\n",
      "axis angle        :  ['90', '90', '90']\n",
      "Wyckoff positions:  5\n",
      "Co                 -1/2                    0             0.130341\n",
      "Co                 -1/2                 -1/2                  1/4\n",
      "Co                    0                    0                 -1/2\n",
      "Si             0.346045             0.204882             0.408804\n",
      "Si             0.172419             0.172419                 -1/4\n",
      "117\n",
      "fedit pipe succesfull\n",
      "spacegroup number :  117\n",
      "spacegroup setting:  default\n",
      "lattice constants :  ['8.313402', '8.313402', '24.640438']\n",
      "axis angle        :  ['90', '90', '90']\n",
      "Wyckoff positions:  7\n",
      "Ba                 -1/2                    0             0.163536\n",
      "Ba                 -1/2                  1/2             0.333705\n",
      "Ca                 -1/2                  1/2                    0\n",
      "Ca                 -1/2                    0                 -1/2\n",
      " I            -0.298344              0.19739                -5/12\n",
      " I            -0.299696             0.299831             0.081016\n",
      " I            -0.258534            -0.245946             0.248838\n",
      "118\n",
      "g symmetry options are available:\n",
      "  0 'xyz-symbols'\n",
      "\n",
      "Getting structure from symmetry option: 'xyz-symbols'\n",
      "\n",
      "\n",
      "CPU TIME determineSiteOperations:  0.00 sec \n",
      "CPU TIME analyseGroup:  0.00 sec \n",
      "\n",
      "WARNING:\n",
      " Lattice type or lattice constants changed!\n",
      " Will take default values for bandplot special symmetry points!\n",
      "WARNING:\n",
      " number of Wyckoff positions changed!\n",
      " Will take default concentrations and initial_spin_split!\n",
      "\n",
      "\n",
      "------------------------------------------------------------------------\n",
      "Blocks contained in cif file '115.cif':\n",
      "------------------------------------------------------------------------\n",
      "symmetry block No.   name\n",
      "------------------------------------------------------------------------\n",
      "     0               agi2\n",
      "------------------------------------------------------------------------\n",
      "blockswithsymdata [0 ] \n",
      "\n",
      "Symmetry information for datablock: agi2\n",
      "Space group number: 1\n",
      "Name-Hall         : not found\n",
      "xyz-symbol        :  gives hallsymbol P 1\n",
      "\n",
      "The following symmetry options are availabfedit pipe succesfull\n",
      "spacegroup number :  118\n",
      "spacegroup setting:  default\n",
      "lattice constants :  ['8.317112', '8.317112', '8.344057']\n",
      "axis angle        :  ['90', '90', '90']\n",
      "Wyckoff positions:  10\n",
      "Ba             0.249313             0.250687                  1/4\n",
      "Na                 -1/2                 -1/2                 -1/2\n",
      "Sr             0.248605            -0.251395                  1/4\n",
      "Sb                 -1/2                 -1/2                    0\n",
      "Sb                 -1/2                    0             0.499562\n",
      " O                 -1/2                 -1/2             0.229414\n",
      " O             0.230068              0.48749            -0.497996\n",
      " O                  1/4             0.014422            -0.495607\n",
      " O                 -1/2                    0                  1/4\n",
      " O                    0                 -1/2                  1/4\n",
      "119\n",
      "le:\n",
      "  0 'xyz-symbols'\n",
      "\n",
      "Getting structure from symmetry option: 'xyz-symbols'\n",
      "\n",
      "\n",
      "CPU TIME determineSiteOperations:  0.00 sec \n",
      "CPU TIME analyseGroup:  0.00 sec \n",
      "\n",
      "WARNING:\n",
      " Lattice type or lattice constants changed!\n",
      " Will take default values for bandplot special symmetry points!\n",
      "WARNING:\n",
      " number of Wyckoff positions changed!\n",
      " Will take default concentrations and initial_spin_split!\n",
      "\n",
      "\n",
      "------------------------------------------------------------------------\n",
      "Blocks contained in cif file '116.cif':\n",
      "------------------------------------------------------------------------\n",
      "symmetry block No.   name\n",
      "------------------------------------------------------------------------\n",
      "     0               co2si3\n",
      "------------------------------------------------------------------------\n",
      "blockswithsymdata [0 ] \n",
      "\n",
      "Symmetry information for datablock: co2si3\n",
      "Space group number: 1\n",
      "Name-Hall         : not found\n",
      "xyz-symbol        :  gives hallsymbol P 1\n",
      "\n",
      "The following symmetry options are available:\n",
      "  0 'xyz-symbols'\n",
      "\n",
      "Getfedit pipe succesfull\n",
      "spacegroup number :  119\n",
      "spacegroup setting:  default\n",
      "lattice constants :  ['5.83225399962044', '5.83225399962044', '11.72673400000736']\n",
      "axis angle        :  ['90', '90', '90']\n",
      "Wyckoff positions:  6\n",
      "Ag                    0                    0                    0\n",
      "Ag                    0                  1/2                  1/4\n",
      "Bi                    0                 -1/2                 -1/4\n",
      "Sb                    0                    0                  1/2\n",
      "Se                 -1/2                    0            -0.497899\n",
      "Se                    0                    0             0.255056\n",
      "ting structure from symmetry option: 'xyz-symbols'\n",
      "\n",
      "\n",
      "CPU TIME determineSiteOperations:  0.00 sec \n",
      "CPU TIME analyseGroup:  0.00 sec \n",
      "\n",
      "WARNING:\n",
      " Lattice type or lattice constants changed!\n",
      " Will take default values for bandplot special symmetry points!\n",
      "WARNING:\n",
      " number of Wyckoff positions changed!\n",
      " Will take default concentrations and initial_spin_split!\n",
      "\n",
      "\n",
      "------------------------------------------------------------------------\n",
      "Blocks contained in cif file '117.cif':\n",
      "------------------------------------------------------------------------\n",
      "symmetry block No.   name\n",
      "------------------------------------------------------------------------\n",
      "     0               ba2cai6\n",
      "------------------------------------------------------------------------\n",
      "blockswithsymdata [0 ] \n",
      "\n",
      "Symmetry information for datablock: ba2cai6\n",
      "Space group number: 1\n",
      "Name-Hall         : not found\n",
      "xyz-symbol        :  gives hallsymbol P 1\n",
      "\n",
      "The following symmetry options are available:\n",
      "  0 'xyz-symbols'\n",
      "\n",
      "Getting structure from symm120\n",
      "etry option: 'xyz-symbols'\n",
      "\n",
      "\n",
      "CPU TIME determineSiteOperations:  0.00 sec \n",
      "CPU TIME analyseGroup:  0.00 sec \n",
      "\n",
      "WARNING:\n",
      " Lattice type or lattice constants changed!\n",
      " Will take default values for bandplot special symmetry points!\n",
      "WARNING:\n",
      " number of Wyckoff positions changed!\n",
      " Will take default concentrations and initial_spin_split!\n",
      "\n",
      "\n",
      "------------------------------------------------------------------------\n",
      "Blocks contained in cif file '118.cif':\n",
      "------------------------------------------------------------------------\n",
      "symmetry block No.   name\n",
      "------------------------------------------------------------------------\n",
      "     0               ba2nasr2(sbo4)3\n",
      "------------------------------------------------------------------------\n",
      "blockswithsymdata [0 ] \n",
      "\n",
      "Symmetry information for datablock: ba2nasr2(sbo4)3\n",
      "Space group number: 1\n",
      "Name-Hall         : not found\n",
      "xyz-symbol        :  gives hallsymbol P 1\n",
      "\n",
      "The following symmetry options are available:\n",
      "  0 'xyz-symbols'\n",
      "\n",
      "Getting structure from symmetry optfedit pipe succesfull\n",
      "spacegroup number :  1\n",
      "spacegroup setting:  default\n",
      "lattice constants :  ['8.27867803656895', '9.59187661', '9.59201842']\n",
      "axis angle        :  ['100.73255917999998', '115.56466580573324', '64.43426664499999']\n",
      "Wyckoff positions:  52\n",
      "Ba                  1/4                 -1/2                 -1/2\n",
      "Ba                 -1/4                  1/2                  1/2\n",
      "Sr                 -1/2                    0                    0\n",
      "Sr                    0                    0                    0\n",
      " V           0.04449298          -0.16750095          -0.32753808\n",
      " V          -0.29546823          -0.32753987          -0.16749969\n",
      " V          -0.45550801            0.3275404           0.16750464\n",
      " V           0.20453393             0.167498           0.32754033\n",
      " V            0.1230081          -0.32753987           0.16749969\n",
      " V          -0.37699203          -0.16750095           0.32753808\n",
      " V           0.12796807             0.167498          -0.32754033\n",
      " V          -0.37203239            0.3275404          -0.16750464\n",
      "Ni          -0.33081788           0.16163576                  1/2\n",
      "Ni          -0.16918859          -0.49999952           0.16162946\n",
      "Ni           0.41742705           -0.3348541                    0\n",
      "Ni          -0.41742912           0.00000106          -0.33485953\n",
      "Ni           0.33081348          -0.16162696                  1/2\n",
      "Ni           0.16918811          -0.49999952          -0.16162946\n",
      "Ni           0.08256618           0.33486764                    0\n",
      "Ni          -0.08257194           0.00000106           0.33485953\n",
      " O          -0.31909391          -0.01136046           0.33234846\n",
      " O          -0.16280345           0.33234925          -0.01136464\n",
      " O           0.41854182           0.48521222          -0.16329455\n",
      " O          -0.43295212          -0.16329377           0.48520775\n",
      " O           0.33719993           0.01135711          -0.33235475\n",
      " O           0.18091035           -0.3323507           0.01136134\n",
      " O           0.06704657          -0.48521119           0.16329175\n",
      " O          -0.08145643           0.16329169          -0.48521107\n",
      " O            0.3304542           0.33234925           0.01136464\n",
      " O          -0.16954563          -0.01136046          -0.33234846\n",
      " O           0.09624589          -0.16329377          -0.48520775\n",
      " O          -0.40375404           0.48521222           0.16329455\n",
      " O          -0.34855965           -0.3323507          -0.01136134\n",
      " O           0.15144296           0.01135711           0.33235475\n",
      " O           0.41816474           0.16329169           0.48521107\n",
      " O          -0.08183538          -0.48521119          -0.16329175\n",
      " O           0.43287922          -0.16083561           0.15497254\n",
      " O          -0.38292887            0.1549698          -0.16083552\n",
      " O          -0.35705815           0.33122418          -0.33901488\n",
      " O           -0.1868239          -0.33901219           0.33122036\n",
      " O             0.117071            0.1608348          -0.15497172\n",
      " O          -0.06712412          -0.15497016            0.1608316\n",
      " O            0.3131698          -0.33122335           0.33900765\n",
      " O                  1/7     0.33909444714286           -0.3312228\n",
      " O          -0.27204093            0.1549698           0.16083552\n",
      " O           0.22795639          -0.16083561          -0.15497254\n",
      " O           0.02583609          -0.33901219          -0.33122036\n",
      " O          -0.47416603     0.33130888714286           0.33901488\n",
      " O          -0.27790572          -0.15497016           -0.1608316\n",
      " O            0.2220942            0.1608348           0.15497172\n",
      " O           0.01804841           0.33901058            0.3312228\n",
      " O          -0.48194645          -0.33122335          -0.33900765\n",
      "121\n",
      "ion: 'xyz-symbols'\n",
      "\n",
      "\n",
      "CPU TIME determineSiteOperations:  0.00 sec \n",
      "CPU TIME analyseGroup:  0.00 sfedit pipe succesfull\n",
      "spacegroup number :  121\n",
      "spacegroup setting:  default\n",
      "lattice constants :  ['6.50708600219206', '6.50708600219206', '8.68290600339495']\n",
      "axis angle        :  ['90', '90', '90']\n",
      "Wyckoff positions:  4\n",
      "Ag                 -1/2                    0                 -1/4\n",
      "As                    0                    0                 -1/2\n",
      " S            -0.294428             0.294428            -0.132513\n",
      " N                    0                    0                    0\n",
      "122\n",
      "ec \n",
      "\n",
      "WARNING:\n",
      " Lattice type or lattice constants changed!\n",
      " Will take default values for bandplot special symmetry points!\n",
      "WARNING:\n",
      " number of Wyckoff positions changed!\n",
      " Will take default concentrations and initial_spin_split!\n",
      "\n",
      "\n",
      "------------------------------------------------------------------------\n",
      "Blocks contained in cif file '119.cif':\n",
      "------------------------------------------------------------------------\n",
      "symmetry block No.   name\n",
      "------------------------------------------------------------------------\n",
      "     0               ag2bisbse4\n",
      "------------------------------------------------------------------------\n",
      "blockswithsymdata [0 ] \n",
      "\n",
      "Symmetry information for datablock: ag2bisbse4\n",
      "Space group number: 1\n",
      "Name-Hall         : not found\n",
      "xyz-symbol        :  gives hallsymbol P 1\n",
      "\n",
      "The following symmetry options are available:\n",
      "  0 'xyz-symbols'\n",
      "\n",
      "Getting structure from symmetry option: 'xyz-symbols'\n",
      "\n",
      "\n",
      "CPU TIME determineSiteOperations:  0.00 sec \n",
      "CPU TIME analyseGroup:  0.00 sec \n",
      "\n",
      "WARNING:\n",
      " Latfedit pipe succesfull\n",
      "spacegroup number :  9\n",
      "spacegroup setting:  b1\n",
      "lattice constants :  ['12.8470451224797', '12.84704511955509', '14.99785071']\n",
      "axis angle        :  ['90', '115.35948160999999', '90']\n",
      "Wyckoff positions:  20\n",
      "Ac           0.09676678           0.07620911          -0.42342273\n",
      "Ac          -0.16446854                  1/8          -0.32893708\n",
      "Ac         -0.189897225         -0.189897225                 -1/4\n",
      "Ac         -0.239497245          0.066521355          -0.07657727\n",
      "Ac           0.16446854                 -1/8          -0.17106292\n",
      "Ac          0.162920475          0.183478145          -0.07657627\n",
      "Ac         -0.060102775          0.439897225                 -1/4\n",
      "Ac          -0.02019001           0.32620861           0.07657627\n",
      " S           0.19043083          -0.17824285          -0.36631724\n",
      " S          0.050753025          0.247138625          -0.28827852\n",
      " S         -0.056747075         -0.071757155          -0.36631525\n",
      " S          -0.01359903           0.00141105          -0.13368375\n",
      " S         -0.120084725          0.248588955          -0.13368376\n",
      " S          -0.33903154           0.00286137          -0.28827851\n",
      " S          -0.14316722          -0.16705592          -0.03352491\n",
      " S           0.02200063          -0.31989228          -0.21172148\n",
      " S           0.22470654          -0.24859524           0.03352492\n",
      " S         -0.390357695         -0.082944085          -0.03352492\n",
      " S          0.266277885          0.069892285          -0.21172149\n",
      " S          0.308818375         -0.001404765           0.03352491\n",
      "tice type or lattice constants changed!\n",
      " Will take default values for bandplot special symmetry points!\n",
      "WARNING:\n",
      " number of Wyckoff positions changed!\n",
      " Will take default concentrations and initial_spin_split!\n",
      "\n",
      "\n",
      "------------------------------------------------------------------------\n",
      "Blocks contained in cif file '120.cif':\n",
      "------------------------------------------------------------------------\n",
      "symmetry block No.   name\n",
      "------------------------------------------------------------------------\n",
      "     0               basrv4(nio4)4\n",
      "------------------------------------------------------------------------\n",
      "blockswithsymdata [0 ] \n",
      "\n",
      "Symmetry information for datablock: basrv4(nio4)4\n",
      "Space group number: 1\n",
      "Name-Hall         : not found\n",
      "xyz-symbol        :  gives hallsymbol P 1\n",
      "\n",
      "The following symmetry options are available:\n",
      "  0 'xyz-symbols'\n",
      "\n",
      "Getting structure from symmetry option: 'xyz-symbols'\n",
      "\n",
      "\n",
      "CPU TIME determineSiteOperations:  0.00 sec \n",
      "CPU TIME analyseGroup:  0.00 sec \n",
      "\n",
      "WARNING:\n",
      " Lattice type or123\n",
      " lattice constants changed!\n",
      " Will take default values for bandplot special symmetry points!\n",
      "WARNING:\n",
      " number of Wyckoff positions changed!\n",
      " Will take default concentrations and initial_spin_split!\n",
      "\n",
      "\n",
      "------------------------------------------------------------------------\n",
      "Blocks contained in cif file '121.cif':\n",
      "------------------------------------------------------------------------\n",
      "symmetry block No.   name\n",
      "------------------------------------------------------------------------\n",
      "     0               ag2ass4n\n",
      "------------------------------------------------------------------------\n",
      "blockswithsymdata [0 ] \n",
      "\n",
      "Symmetry information for datablock: ag2ass4n\n",
      "Space group number: 1\n",
      "Name-Hall         : not found\n",
      "xyz-symbol        :  gives hallsymbol P 1\n",
      "\n",
      "The following symmetry options are available:\n",
      "  0 'xyz-symbols'\n",
      "\n",
      "Getting structure from symmetry option: 'xyz-symbols'\n",
      "\n",
      "\n",
      "CPU TIME determineSiteOperations:  0.00 sec \n",
      "CPU TIME analyseGroup:  0.00 sec \n",
      "\n",
      "WARNING:\n",
      " Lattice type or lattice constants changed!\n",
      " Will take default values for bandplot special symmetry points!\n",
      "WARNING:\n",
      " number of Wyckoff positions changed!\n",
      " Will take default concentrations and initial_spin_split!\n",
      "\n",
      "\n",
      "------------------------------------------------------------------------\n",
      "Blocks contained in cif file '122.cif':\n",
      "------------------------------------------------------------------------\n",
      "symmetry block No.   name\n",
      "------------------------------------------------------------------------\n",
      "     0               ac2s3\n",
      "------------------------------------------------------------------------\n",
      "blockswithsymdata [0 ] \n",
      "\n",
      "Symmetry information for datablock: ac2s3\n",
      "Space group number: 1\n",
      "Name-Hall         : not found\n",
      "xyz-symbol        :  gives hallsymbol P 1\n",
      "\n",
      "The following symmetry options are available:\n",
      "  0 'xyz-symbols'\n",
      "\n",
      "Getting structure from symmetry option: 'xyz-symbols'\n",
      "\n",
      "\n",
      "CPU TIME determineSiteOperations:  0.00 sec \n",
      "0 b1 \n",
      "1 b2 \n",
      "2 b3 \n",
      "3 -b1 \n",
      "CPU TIME analyseGroup:  0.00 sec \n",
      "\n",
      "WARNING:\n",
      " Lattice type or lattice constants changed!\n",
      " Will take default values for bandplot special symmetry points!\n",
      "WARNING:\n",
      " number of Wyckoff pfedit pipe succesfull\n",
      "spacegroup number :  123\n",
      "spacegroup setting:  default\n",
      "lattice constants :  ['4.61294', '4.61294', '13.991829']\n",
      "axis angle        :  ['90', '90', '90']\n",
      "Wyckoff positions:  3\n",
      "Ac                    0                    0             0.159831\n",
      "Br                    0                    0            -0.361717\n",
      " O                    0                    0                    0\n",
      "124\n",
      "fedit pipe succesfull\n",
      "spacegroup number :  124\n",
      "spacegroup setting:  default\n",
      "lattice constants :  ['5.710816', '5.710816', '10.254086']\n",
      "axis angle        :  ['90', '90', '90']\n",
      "Wyckoff positions:  3\n",
      "Ba                    0                    0                  1/4\n",
      " O                 -1/2                 -1/2            -0.440618\n",
      " O             0.068413             0.410661              0.39865\n",
      "125\n",
      "fedit pipe succesfull\n",
      "spacegroup number :  125\n",
      "spacegroup setting:  2\n",
      "lattice constants :  ['8.68739556', '8.68739556', '6.74162841']\n",
      "axis angle        :  ['90', '90', '90']\n",
      "Wyckoff positions:  4\n",
      "Ba                 -1/4                 -1/4                    0\n",
      "Al                  1/4                 -1/4                 -1/2\n",
      "Al                 -1/4                  1/4                    0\n",
      "Te           0.08499618          -0.08499618           0.25062363\n",
      "126\n",
      "fedit pipe succesfull\n",
      "spacegroup number :  126\n",
      "spacegroup setting:  2\n",
      "lattice constants :  ['7.60782797', '7.60782797', '11.92363013']\n",
      "axis angle        :  ['90', '90', '90']\n",
      "Wyckoff positions:  4\n",
      "Al                  1/4                 -1/4                 -1/2\n",
      "Al                  1/4                 -1/4                 -1/4\n",
      "Bi                 -1/4                 -1/4           0.38154567\n",
      " S           0.09376238          -0.41019867          -0.37484542\n",
      "127\n",
      "ositions changed!\n",
      " Will take default concentrations and initial_spin_split!\n",
      "\n",
      "\n",
      "------------------------------------------------------------------------\n",
      "Blocks contained in cif file '123.cif':\n",
      "------------------------------------------------------------------------\n",
      "symmetry block No.   name\n",
      "------------------------------------------------------------------------\n",
      "     0               ac2br2o\n",
      "------------------------------------------------------------------------\n",
      "blockswithsymdata [0 ] \n",
      "\n",
      "Symmetry information for datablock: ac2br2o\n",
      "Space group number: 1\n",
      "Name-Hall         : not found\n",
      "xyz-symbol        :  gives hallsymbol P 1\n",
      "\n",
      "The following symmetry options are available:\n",
      "  0 'xyz-symbols'\n",
      "\n",
      "Getting structure from symmetry option: 'xyz-symbols'\n",
      "\n",
      "\n",
      "CPU TIME determineSiteOperations:  0.00 sec \n",
      "CPU TIME analyseGroup:  0.00 sec \n",
      "\n",
      "WARNING:\n",
      " Lattice type or lattice constants changed!\n",
      " Will take default values for bandplot special symmetry points!\n",
      "WARNING:\n",
      " number of Wyckoff positions changed!\n",
      " Will fedit pipe succesfull\n",
      "spacegroup number :  127\n",
      "spacegroup setting:  default\n",
      "lattice constants :  ['10.263058', '10.263058', '3.090419']\n",
      "axis angle        :  ['90', '90', '90']\n",
      "Wyckoff positions:  3\n",
      "Ag            -0.319132             0.180868                    0\n",
      "Hg                  1/2                    0                  1/2\n",
      "Hg             0.201301             0.062914                  1/2\n",
      "take default concentrations and initial_spin_split!\n",
      "\n",
      "\n",
      "------------------------------------------------------------------------\n",
      "Blocks contained in cif file '124.cif':\n",
      "------------------------------------------------------------------------\n",
      "symmetry block No.   name\n",
      "------------------------------------------------------------------------\n",
      "     0               bao10\n",
      "------------------------------------------------------------------------\n",
      "blockswithsymdata [0 ] \n",
      "\n",
      "Symmetry information for datablock: bao10\n",
      "Space group number: 1\n",
      "Name-Hall         : not found\n",
      "xyz-symbol        :  gives hallsymbol P 1\n",
      "\n",
      "The following symmetry options are available:\n",
      "  0 'xyz-symbols'\n",
      "\n",
      "Getting structure from symmetry option: 'xyz-symbols'\n",
      "\n",
      "\n",
      "CPU TIME determineSiteOperations:  0.00 sec \n",
      "CPU TIME analyseGroup:  0.00 sec \n",
      "\n",
      "WARNING:\n",
      " Lattice type or lattice constants changed!\n",
      " Will take default values for bandplot special symmetry points!\n",
      "WARNING:\n",
      " number of Wyckoff positions changed!\n",
      " Will take default concentrations and initial_spin_split!\n",
      "\n",
      "\n",
      "------------------------------------------------------------------------\n",
      "Blocks contained in cif file '125.cif':\n",
      "------------------------------------------------------------------------\n",
      "symmetry block No.   name\n",
      "------------------------------------------------------------------------\n",
      "     0               ba(alte2)2\n",
      "------------------------------------------------------------------------\n",
      "blockswithsymdata [0 ] \n",
      "\n",
      "Symmetry information for datablock: ba(alte2)2\n",
      "Space group number: 1\n",
      "Name-Hall         : not found\n",
      "xyz-symbol        :  gives hallsymbol P 1\n",
      "\n",
      "The following symmetry options are available:\n",
      "  0 'xyz-symbols'\n",
      "\n",
      "Getting structure from symmetry option: 'xyz-symbols'\n",
      "\n",
      "\n",
      "CPU TIME determineSiteOperations:  0.00 sec \n",
      "CPU TIME analyseGroup:  0.00 sec \n",
      "\n",
      "WARNING:\n",
      " Lattice type or lattice constants changed!\n",
      " Will take default values for bandplot special symmetry points!\n",
      "WARNING:\n",
      " number of Wyckoff positions changed!\n",
      " Will take default concentrations and initial_spin_s128\n",
      "plit!\n",
      "\n",
      "\n",
      "------------------------------------------------------------------------\n",
      "Blocks contained in cif file '126.cif':\n",
      "------------------------------------------------------------------------\n",
      "symmetry block No.   name\n",
      "------------------------------------------------------------------------\n",
      "     0               al2bis4\n",
      "------------------------------------------------------------------------\n",
      "blockswithsymdata [0 ] \n",
      "\n",
      "Symmetry information for datablock: al2bis4\n",
      "Space group number: 1\n",
      "Name-Hall         : not found\n",
      "xyz-symbol        :  gives hallsymbol P 1\n",
      "\n",
      "The following symmetry options are available:\n",
      "  0 'xyz-symbols'\n",
      "\n",
      "Getting structure from symmetry option: 'xyz-symbols'\n",
      "\n",
      "\n",
      "CPU TIME determineSiteOperations:  0.00 sec \n",
      "CPU TIME analyseGroup:  0.00 sec \n",
      "\n",
      "WARNING:\n",
      " Lattice type or lattice constants changed!\n",
      " Will take default values for bandplot special symmetry points!\n",
      "WARNING:\n",
      " number of Wyckoff positions changed!\n",
      " Will take default concentrations and initial_spin_split!\n",
      "\n",
      "\n",
      "------------------------------------------------------------------------\n",
      "Blocks contained in cif file '127.cif':fedit pipe succesfull\n",
      "spacegroup number :  83\n",
      "spacegroup setting:  default\n",
      "lattice constants :  ['6.24816694', '6.24816694', '14.59910446']\n",
      "axis angle        :  ['90', '90', '90']\n",
      "Wyckoff positions:  9\n",
      "Al                    0                    0           0.13174306\n",
      "Al                 -1/2                 -1/2           0.36824091\n",
      "Al           0.15630349          -0.34370634                  1/4\n",
      "Al           0.20401684           0.41286558                 1/10\n",
      "Al          -0.29596889           0.08713266                  2/5\n",
      "Co                    0                    0           0.29861639\n",
      "Co                 -1/2                 -1/2           0.20139684\n",
      "Cu                 3/11           0.09007387                    0\n",
      "Cu          -0.22724868           0.40992129                  1/2\n",
      "129\n",
      "fedit pipe succesfull\n",
      "spacegroup number :  129\n",
      "spacegroup setting:  2\n",
      "lattice constants :  ['4.31037031', '4.31037031', '7.54277441']\n",
      "axis angle        :  ['90', '90', '90']\n",
      "Wyckoff positions:  3\n",
      "Ac                  1/4                  1/4          -0.16502995\n",
      "Br                 -1/4                 -1/4          -0.36530556\n",
      " O                  1/4                 -1/4                    0\n",
      "130\n",
      "fedit pipe succesfull\n",
      "spacegroup number :  130\n",
      "spacegroup setting:  2\n",
      "lattice constants :  ['8.376554', '8.376554', '6.294657']\n",
      "axis angle        :  ['90', '90', '90']\n",
      "Wyckoff positions:  3\n",
      "Al                 -1/4                 -1/4             0.069117\n",
      "Bi                 5/12                -1/12                  1/4\n",
      " O              0.34881             0.050739            -0.084159\n",
      "131\n",
      "\n",
      "------------------------------------------------------------------------\n",
      "symmetry block No.   name\n",
      "------------------------------------------------------------------------\n",
      "     0               ag2hg5\n",
      "------------------------------------------------------------------------\n",
      "blockswithsymdata [0 ] \n",
      "\n",
      "Symmetry information for datablock: ag2hg5\n",
      "Space group number: 1\n",
      "Name-Hall         : not found\n",
      "xyz-symbol        :  gives hallsymbol P 1\n",
      "\n",
      "The following symmetry options are available:\n",
      "  0 'xyz-symbols'\n",
      "\n",
      "Getting structure from symmetry option: 'xyz-symbols'\n",
      "\n",
      "\n",
      "CPU TIME determineSiteOperations:  0.00 sec \n",
      "CPU TIME analyseGroup:  0.00 sec \n",
      "\n",
      "WARNING:\n",
      " Lattice type or lattice constants changed!\n",
      " Will take default values for bandplot special symmetry points!\n",
      "WARNING:\n",
      " number of Wyckoff positions changed!\n",
      " Will take default concentrations and initial_spin_split!\n",
      "\n",
      "\n",
      "------------------------------------------------------------------------\n",
      "Blocks contained in cif file '128.cif':\n",
      "-------------------------fedit pipe succesfull\n",
      "spacegroup number :  66\n",
      "spacegroup setting:  default\n",
      "lattice constants :  ['4.69363297871306', '4.66671315867685', '5.58085064']\n",
      "axis angle        :  ['90', '90', '90']\n",
      "Wyckoff positions:  2\n",
      "Ag                  1/4                  1/4                    0\n",
      " O                    0                    0                 -1/4\n",
      "-----------------------------------------------\n",
      "symmetry block No.   name\n",
      "------------------------------------------------------------------------\n",
      "     0               al7cocu2\n",
      "------------------------------------------------------------------------\n",
      "blockswithsymdata [0 ] \n",
      "\n",
      "Symmetry information for datablock: al7cocu2\n",
      "Space group number: 1\n",
      "Name-Hall         : not found\n",
      "xyz-symbol        :  gives hallsymbol P 1\n",
      "\n",
      "The following symmetry options are available:\n",
      "  0 'xyz-symbols'\n",
      "\n",
      "Getting structure from symmetry option: 'xyz-symbols'\n",
      "\n",
      "\n",
      "CPU TIME determineSiteOperations:  0.00 sec \n",
      "CPU TIME analyseGroup:  0.00 sec \n",
      "\n",
      "WARNING:\n",
      " Lattice type or lattice constants changed!\n",
      " Will take default values for bandplot special symmetry points!\n",
      "WARNING:\n",
      " number of Wyckoff positions changed!\n",
      " Will take default concentrations and initial_spin_split!\n",
      "\n",
      "\n",
      "------------------------------------------------------------------------\n",
      "Blocks contained in cif file '129.cif':\n",
      "------------------------------------------------------------------------\n",
      "symmetry block No.   name\n",
      "------------------------------------------------------------------------\n",
      "     0               acbro\n",
      "------------------------------------------------------------------------\n",
      "blockswithsymdata [0 ] \n",
      "\n",
      "Symmetry information for datablock: acbro\n",
      "Space group number: 1\n",
      "Name-Hall         : not found\n",
      "xyz-symbol        :  gives hallsymbol P 1\n",
      "\n",
      "The following symmetry options are available:\n",
      "  0 'xyz-symbols'\n",
      "\n",
      "Getting structure from symmetry option: 'xyz-symbols'\n",
      "\n",
      "\n",
      "CPU TIME determineSiteOperations:  0.00 sec \n",
      "CPU TIME analyseGroup:  0.00 sec \n",
      "\n",
      "WARNING:\n",
      " Lattice type or lattice constants changed!\n",
      " Will take default values for bandplot special symmetry points!\n",
      "WARNING:\n",
      " number of Wyckoff positions changed!\n",
      " Will take default concentrations and initial_spin_split!\n",
      "\n",
      "\n",
      "------------------------------------------------------------------------\n",
      "Blocks contained in cif file '130.cif':\n",
      "------------------------------------------------------------------------\n",
      "symmetry block No.   name\n",
      "------------------------------------------------------------------------\n",
      "     0               al(bio2)2\n",
      "------------------------------------------------------------------------\n",
      "blockswithsymdata [0 ] \n",
      "\n",
      "Symmetry information for datablock: al(bio2)2\n",
      "Space group number: 1\n",
      "Name-Hall         : not found\n",
      "xyz-symbol        :  gives hallsymbol P 1\n",
      "\n",
      "The following symmetry options are available:\n",
      "  0 'xyz-symbols'\n",
      "\n",
      "Getting structure from symmetry option: 'xyz-symbols'\n",
      "\n",
      "\n",
      "CPU TIME determineSiteOperations:  0.00 sec \n",
      "CPU TIME analyseGroup:  0.00 sec \n",
      "\n",
      "WARNING:\n",
      " Lattice type or lattice constants changed!\n",
      " Will take default values for bandplot special symmetry points!\n",
      "WARNING:\n",
      " number of Wyckoff positions changed!\n",
      " Will take default concentrations and initial_spin_split!\n",
      "\n",
      "\n",
      "------------------------------------------------------------------------\n",
      "Blocks contained in cif file '131.cif':\n",
      "------------------------------------------------------------------------\n",
      "symmetry block No.   n132\n",
      "ame\n",
      "------------------------------------------------------------------------\n",
      "     0             fedit pipe succesfull\n",
      "spacegroup number :  132\n",
      "spacegroup setting:  default\n",
      "lattice constants :  ['5.510477', '5.510477', '5.71708']\n",
      "axis angle        :  ['90', '90', '90']\n",
      "Wyckoff positions:  3\n",
      "Bi             0.263338            -0.263338                 -1/2\n",
      " O                 -1/2                    0                  1/4\n",
      " O                 -1/2                 -1/2                  1/4\n",
      "133\n",
      "fedit pipe succesfull\n",
      "spacegroup number :  50\n",
      "spacegroup setting:  2\n",
      "lattice constants :  ['13.01766287', '13.01766287', '25.78859515']\n",
      "axis angle        :  ['90', '90', '90']\n",
      "Wyckoff positions:  24\n",
      "Cd           0.36063701           0.13926809           0.44581166\n",
      "Cd          -0.36073191          -0.13936299          -0.05418834\n",
      "Cd          -0.37318638           0.10378578           0.43760194\n",
      "Cd          -0.39621422           0.12681362          -0.06239806\n",
      "Cd          -0.39281095           0.36337665                  3/7\n",
      "Cd          -0.13662335           0.10718905           -0.0714517\n",
      "Cd           0.11221826           0.13178283           0.32056393\n",
      "Cd          -0.36821717          -0.38778174          -0.17943607\n",
      "Cd          -0.35813707           0.14140885           0.30361324\n",
      "Cd          -0.35859115           0.14186293          -0.19638676\n",
      "Cd            0.1298217           0.39727446           0.31244934\n",
      "Cd          -0.10272554           -0.3701783          -0.18755066\n",
      "As                  1/4                 -1/4           0.37643303\n",
      "As                  1/4                 -1/4          -0.12356697\n",
      "As                  1/4                  1/4           0.37386351\n",
      "As                 -1/4                 -1/4          -0.12613649\n",
      "As                  1/4          -0.00375492                    0\n",
      "As           0.49624508                 -1/4                 -1/2\n",
      "As                  1/4           0.00041015                 -1/2\n",
      "As          -0.49958985                 -1/4                    0\n",
      "As           0.00216391           0.24525893            0.2527881\n",
      "As          -0.25474107          -0.49783609           -0.2472119\n",
      "As          -0.00108832          -0.00539247           0.37465605\n",
      "As           0.49460753           0.49891168          -0.12534395\n",
      "134\n",
      "fedit pipe succesfull\n",
      "spacegroup number :  134\n",
      "spacegroup setting:  2\n",
      "lattice constants :  ['8.84945082', '8.84945082', '4.9202646']\n",
      "axis angle        :  ['90', '90', '90']\n",
      "Wyckoff positions:  5\n",
      " B                 -1/4                  1/4                 -1/4\n",
      " B          -0.12120899           0.37879101          -0.35742561\n",
      " B          -0.00422601           0.49577399          -0.17570598\n",
      " B           0.07997093           0.33594831          -0.34432241\n",
      " B          -0.02182012           0.33265032            0.3377382\n",
      "135\n",
      "  ago\n",
      "------------------------------------------------------------------------\n",
      "blockswithsymdata [0 ] \n",
      "\n",
      "Symmetry information for datablock: ago\n",
      "Space group number: 1\n",
      "Name-Hall         : not found\n",
      "xyz-symbol        :  gives hallsymbol P 1\n",
      "\n",
      "The following symmetry options are available:\n",
      "  0 'xyz-symbols'\n",
      "\n",
      "Getting structure from symmetry option: 'xyz-symbols'\n",
      "\n",
      "\n",
      "CPU TIME determineSiteOperations:  0.00 sec \n",
      "CPU TIME analyseGroup:  0.00 sec \n",
      "\n",
      "WARNING:\n",
      " Lattice type or lattice constants changed!\n",
      " Will take default values for bandplot special symmetry points!\n",
      "WARNING:\n",
      " number of Wyckoff positions changed!\n",
      " Will take default concentrations and initial_spin_split!\n",
      "\n",
      "\n",
      "------------------------------------------------------------------------\n",
      "Blocks contained in cif file '132.cif':\n",
      "------------------------------------------------------------------------\n",
      "symmetry block No.   name\n",
      "------------------------------------------------------------------------\n",
      "     0               bi2o3\n",
      "------------------------fedit pipe succesfull\n",
      "spacegroup number :  135\n",
      "spacegroup setting:  default\n",
      "lattice constants :  ['5.0145875', '5.0145875', '12.61717746']\n",
      "axis angle        :  ['90', '90', '90']\n",
      "Wyckoff positions:  5\n",
      "Al                    0                 -1/2                    0\n",
      " H          -0.33120106           0.49869912           0.20338765\n",
      " N                 -1/2                 -1/2                  1/4\n",
      " F                    0                 -1/2           0.14078048\n",
      " F           0.19984956           0.19949768                    0\n",
      "------------------------------------------------\n",
      "blockswithsymdata [0 ] \n",
      "\n",
      "Symmetry information for datablock: bi2o3\n",
      "Space group number: 1\n",
      "Name-Hall         : not found\n",
      "xyz-symbol        :  gives hallsymbol P 1\n",
      "\n",
      "The following symmetry options are available:\n",
      "  0 'xyz-symbols'\n",
      "\n",
      "Getting structure from symmetry option: 'xyz-symbols'\n",
      "\n",
      "\n",
      "CPU TIME determineSiteOperations:  0.00 sec \n",
      "CPU TIME analyseGroup:  0.00 sec \n",
      "\n",
      "WARNING:\n",
      " Lattice type or lattice constants changed!\n",
      " Will take default values for bandplot special symmetry points!\n",
      "WARNING:\n",
      " number of Wyckoff positions changed!\n",
      " Will take default concentrations and initial_spin_split!\n",
      "\n",
      "\n",
      "------------------------------------------------------------------------\n",
      "Blocks contained in cif file '133.cif':\n",
      "------------------------------------------------------------------------\n",
      "symmetry block No.   name\n",
      "------------------------------------------------------------------------\n",
      "     0               cd3as2\n",
      "------------------------------------------------------------------------\n",
      "blockswithsymdata [0 ] \n",
      "\n",
      "Symmetry information for datablock: cd3as2\n",
      "Space group number: 1\n",
      "Name-Hall         : not found\n",
      "xyz-symbol        :  gives hallsymbol P 1\n",
      "\n",
      "The following symmetry options are available:\n",
      "  0 'xyz-symbols'\n",
      "\n",
      "Getting structure from symmetry option: 'xyz-symbols'\n",
      "\n",
      "\n",
      "CPU TIME determineSiteOperations:  0.00 sec \n",
      "CPU TIME analyseGroup:  0.00 sec \n",
      "\n",
      "WARNING:\n",
      " Lattice type or lattice constants changed!\n",
      " Will take default values for bandplot special symmetry points!\n",
      "WARNING:\n",
      " number of Wyckoff positions changed!\n",
      " Will take default concentrations and initial_spin_split!\n",
      "\n",
      "\n",
      "------------------------------------------------------------------------\n",
      "Blocks contained in cif file '134.cif':\n",
      "------------------------------------------------------------------------\n",
      "symmetry block No.   name\n",
      "------------------------------------------------------------------------\n",
      "     0               b\n",
      "------------------------------------------------------------------------\n",
      "blockswithsymdata [0 ] \n",
      "\n",
      "Symmetry information for datablock: b\n",
      "Space group number: 1\n",
      "Name-Hall         : not found\n",
      "xyz-symbol        :  gives hallsymbol P 1\n",
      "\n",
      "The following symmetry options are available:\n",
      "  0 'xyz-symbols'\n",
      "\n",
      "Getting structure from symmetry option: 'xyz-symbols'\n",
      "\n",
      "\n",
      "CPU TIME determineSiteOperations:  0.00 sec \n",
      "CPU TIME analyseGroup:  0.00 sec \n",
      "\n",
      "WARNING:\n",
      " Lattice type or lattice constants changed!\n",
      " Will take default values for bandplot special symmetry points!\n",
      "WARNING:\n",
      " number of Wyckoff positions changed!\n",
      " Will take default concentrations and initial_spin_split!\n",
      "\n",
      "\n",
      "------------------------------------------------------------------------\n",
      "Blocks contained in cif file '135.cif':\n",
      "------------------------------------------------------------------------\n",
      "symmetry block No.   name\n",
      "------------------------------------------------------------------------\n",
      "     0               alh4nf4\n",
      "------------------------------------------------------------------------\n",
      "blockswithsymdata [0 ] \n",
      "\n",
      "Symmetry infor136\n",
      "mation for datablock: alh4nf4\n",
      "Space group number: 1\n",
      "Name-Hall         : not found\n",
      "xyz-symbol    fedit pipe succesfull\n",
      "spacegroup number :  136\n",
      "spacegroup setting:  default\n",
      "lattice constants :  ['4.424223', '4.424223', '2.550356']\n",
      "axis angle        :  ['90', '90', '90']\n",
      "Wyckoff positions:  2\n",
      " B             0.174283            -0.174283                 -1/2\n",
      " N            -0.187399            -0.187399                 -1/2\n",
      "137\n",
      "fedit pipe succesfull\n",
      "spacegroup number :  137\n",
      "spacegroup setting:  2\n",
      "lattice constants :  ['10.713548', '10.713548', '6.487277']\n",
      "axis angle        :  ['90', '90', '90']\n",
      "Wyckoff positions:  4\n",
      "As                 -1/4             0.405478            -0.184546\n",
      " C                 -1/4            -0.489004            -0.448929\n",
      " F            -0.413379            -0.352832             0.048694\n",
      " F            -0.446027                  1/4              0.13006\n",
      "138\n",
      "fedit pipe succesfull\n",
      "spacegroup number :  138\n",
      "spacegroup setting:  2\n",
      "lattice constants :  ['11.75845351', '11.75845351', '12.91850824']\n",
      "axis angle        :  ['90', '90', '90']\n",
      "Wyckoff positions:  19\n",
      "Al                 -1/4                 -1/4          -0.25353062\n",
      "Al          -0.32549087           0.04279981          -0.24673353\n",
      " H          -0.36587541          -0.03286053          -0.00259586\n",
      " H           -0.4417387           -0.0582613            0.1079678\n",
      " H          -0.34563133          -0.15436867           0.06553365\n",
      " H          -0.38841103          -0.48934727          -0.08383873\n",
      " H          -0.34997715          -0.34997715          -0.07781293\n",
      " H          -0.41422072          -0.41422072           0.02394678\n",
      " H          -0.25112415            0.1777319          -0.04571718\n",
      " N             -0.40597             -0.09403           0.04285346\n",
      " N          -0.41014303          -0.41014303          -0.05591083\n",
      " N                 -1/4                  1/4                    0\n",
      " F                 -1/4                 -1/4          -0.39301319\n",
      " F                 -1/4                 -1/4          -0.11469313\n",
      " F           -0.4662763           -0.0337237          -0.22429934\n",
      " F          -0.35089674           0.04289426          -0.38144522\n",
      " F          -0.39178673           0.18340904          -0.23501816\n",
      " F          -0.24885664          -0.09457513          -0.25424882\n",
      " F          -0.30576492           0.04372005           -0.1078452\n",
      "139\n",
      "    :  gives hallsymbol P 1\n",
      "\n",
      "The following symmetry options are available:\n",
      "  0 'xyz-symbols'\n",
      "\n",
      "Getting structure from symmetry option: 'xyz-symbols'\n",
      "\n",
      "\n",
      "CPU TIME determineSiteOperations:  0.00 sec \n",
      "CPU TIME analyseGroup:  0.00 sec \n",
      "\n",
      "WARNING:\n",
      " Lattice type or lattice constants changed!\n",
      " Will take default values for bandplot special symmetry points!\n",
      "WARNING:\n",
      " number of Wyckoff positions changed!\n",
      " Will take default concentrations and initial_spin_split!\n",
      "\n",
      "\n",
      "------------------------------------------------------------------------\n",
      "Blocks contained in cif file '136.cif':\n",
      "------------------------------------------------------------------------\n",
      "symmetry block No.   name\n",
      "------------------------------------------------------------------------\n",
      "     0               bn\n",
      "------------------------------------------------------------------------\n",
      "blockswithsymdata [0 ] \n",
      "\n",
      "Symmetry information for datablock: bn\n",
      "Space group number: 1\n",
      "Name-Hall         : not found\n",
      "xyz-symbol        :  gives hallsymbol P 1\n",
      "\n",
      "The following symmetry options are available:\n",
      "  0 'xyz-symbols'\n",
      "\n",
      "Getting structure from symmetry option: 'xyz-symbols'\n",
      "\n",
      "\n",
      "CPU TIME determineSiteOperations:  0.00 sec \n",
      "CPU TIME analyseGroup:  0.00 sec \n",
      "\n",
      "WARNING:\n",
      " Lattice type or lattice constants changed!\n",
      " Will take default values for bandplot special symmetry points!\n",
      "WARNING:\n",
      " number of Wyckoff positions changed!\n",
      " Will take default concentrations and initial_spin_split!\n",
      "\n",
      "\n",
      "------------------------------------------------------------------------\n",
      "Blocks contained in cif file '137.cif':\n",
      "------------------------------------------------------------------------\n",
      "symmetry block No.   name\n",
      "------------------------------------------------------------------------\n",
      "     0               ascf3\n",
      "------------------------------------------------------------------------\n",
      "blockswithsymdata [0 ] \n",
      "\n",
      "Symmetry information for datablock: ascf3\n",
      "Space group number: 1\n",
      "Name-Hall         : not found\n",
      "xyz-symbol        :  gives hallsymbol P 1\n",
      "\n",
      "The following symmetry options arfedit pipe succesfull\n",
      "spacegroup number :  139\n",
      "spacegroup setting:  default\n",
      "lattice constants :  ['5.20398799923497', '5.20398799923497', '11.12212799740683']\n",
      "axis angle        :  ['90', '90', '90']\n",
      "Wyckoff positions:  3\n",
      "Ac                 -1/2                    0                 -1/4\n",
      "Ac                    0                    0                  1/2\n",
      "Ag                    0                    0                    0\n",
      "140\n",
      "fedit pipe succesfull\n",
      "spacegroup number :  12\n",
      "spacegroup setting:  b1\n",
      "lattice constants :  ['7.98680220462238', '7.98680220378945', '5.71550823058196']\n",
      "axis angle        :  ['90', '134.32245437597359', '90']\n",
      "Wyckoff positions:  5\n",
      "Ac                  1/4                    0                 -1/2\n",
      "Cu                 -1/4                  1/4                    0\n",
      " O    -0.29550109090909                    0    -0.00009309090909\n",
      " O                    0             0.204592                    0\n",
      " F                    0                  1/4                  1/2\n",
      "e available:\n",
      "  0 'xyz-symbols'\n",
      "\n",
      "Getting structure from symmetry option: 'xyz-symbols'\n",
      "\n",
      "\n",
      "CPU TIME determineSiteOperations:  0.00 sec \n",
      "CPU TIME analyseGroup:  0.00 sec \n",
      "\n",
      "WARNING:\n",
      " Lattice type or lattice constants changed!\n",
      " Will take default values for bandplot special symmetry points!\n",
      "WARNING:\n",
      " number of Wyckoff positions changed!\n",
      " Will take default concentrations and initial_spin_split!\n",
      "\n",
      "\n",
      "------------------------------------------------------------------------\n",
      "Blocks contained in cif file '138.cif':\n",
      "------------------------------------------------------------------------\n",
      "symmetry block No.   name\n",
      "------------------------------------------------------------------------\n",
      "     0               alh4nf4\n",
      "------------------------------------------------------------------------\n",
      "blockswithsymdata [0 ] \n",
      "\n",
      "Symmetry information for datablock: alh4nf4\n",
      "Space group number: 1\n",
      "Name-Hall         : not found\n",
      "xyz-symbol        :  gives hallsymbol P 1\n",
      "\n",
      "The following symmetry options are available:\n",
      "  0 'xyz-sy141\n",
      "mbols'\n",
      "\n",
      "Getting structure from symmetry option: 'xyz-symbols'\n",
      "\n",
      "\n",
      "CPU TIME determineSiteOperations:  0.00 sec \n",
      "CPU TIME analyseGroup:  0.00 sec \n",
      "\n",
      "WARNING:\n",
      " Lattice type or lattice constants changed!\n",
      " Will take default values for bandplot special symmetry points!\n",
      "WARNING:\n",
      " number of Wyckoff positions changed!\n",
      " Will take default concentrations and initial_spin_split!\n",
      "\n",
      "\n",
      "------------------------------------------------------------------------\n",
      "Blocks contained in cif file '139.cif':\n",
      "------------------------------------------------------------------------\n",
      "symmetry block No.   name\n",
      "------------------------------------------------------------------------\n",
      "     0               ac3ag\n",
      "------------------------------------------------------------------------\n",
      "blockswithsymdata [0 ] \n",
      "\n",
      "Symmetry information for datablock: ac3ag\n",
      "Space group number: 1\n",
      "Name-Hall         : not found\n",
      "xyz-symbol        :  gives hallsymbol P 1\n",
      "\n",
      "The following symmetry options are available:\n",
      "  0 'xyz-symbols'\n",
      "\n",
      "Getting structure frfedit pipe succesfull\n",
      "spacegroup number :  15\n",
      "spacegroup setting:  b1\n",
      "lattice constants :  ['10.07415879562348', '10.07415879581421', '10.5473444']\n",
      "axis angle        :  ['90', '118.526716685', '90']\n",
      "Wyckoff positions:  9\n",
      "Ag           -0.3964805            0.1035195                    0\n",
      "Ag              0.26391                 -1/8              0.27782\n",
      "Ag            0.1464805            0.1464805                    0\n",
      "Ge                    0                  3/8                 -1/4\n",
      " S                    0                 -1/8                 -1/4\n",
      " O             0.132555             0.211009             0.343091\n",
      " O           -0.0488265           -0.2715715             0.359204\n",
      " O            0.0394635            0.0389905             0.156908\n",
      " O            0.3419695            0.0215715             0.140796\n",
      "om symmetry option: 'xyz-symbols'\n",
      "\n",
      "\n",
      "CPU TIME determineSiteOperations:  0.00 sec \n",
      "CPU TIME analys142\n",
      "fedit pipe succesfull\n",
      "spacegroup number :  1\n",
      "spacegroup setting:  default\n",
      "lattice constants :  ['12.12941741', '12.12941741', '12.12941741']\n",
      "axis angle        :  ['108.90871086999999', '108.90871086999999', '110.60219435']\n",
      "Wyckoff positions:  72\n",
      "Al            -0.419275            -0.080725                    0\n",
      "Al             0.419275             0.419275             0.338549\n",
      "Al            -0.330725            -0.169275                 -1/2\n",
      "Al            -0.169275             0.330725             0.161451\n",
      "Al             0.080725             0.080725            -0.338549\n",
      "Al            -0.080725            -0.419275                    0\n",
      "Al             0.169275            -0.330725            -0.161451\n",
      "Al             0.330725             0.169275                 -1/2\n",
      "Si             0.408687            -0.376403            -0.031463\n",
      "Si              0.15506             0.123597             0.214911\n",
      "Si             0.373597            -0.341313             0.468537\n",
      "Si            -0.309851             0.158687             0.285089\n",
      "Si            -0.158687             0.126403            -0.468537\n",
      "Si              0.09494            -0.373597             0.285089\n",
      "Si            -0.123597             0.091313             0.031463\n",
      "Si             -0.44015            -0.408687             0.214911\n",
      "Si            -0.091313            -0.059851            -0.214911\n",
      "Si             -0.34494              0.44015             0.031463\n",
      "Si            -0.126403              0.40506            -0.285089\n",
      "Si             0.190149             -0.09494            -0.468537\n",
      "Si             0.341313            -0.190149            -0.285089\n",
      "Si             -0.40506             0.309851             0.468537\n",
      "Si             0.376403              0.34494            -0.214911\n",
      "Si             0.059851             -0.15506            -0.031463\n",
      " O            -0.483939            -0.245941            -0.026366\n",
      " O             0.280424             0.254059             0.237998\n",
      " O            -0.495941            -0.233939             0.473634\n",
      " O            -0.207574             0.266061             0.262002\n",
      " O            -0.266061            -0.004059            -0.473634\n",
      " O            -0.030424             0.495941             0.262002\n",
      " O            -0.254059            -0.016061             0.026366\n",
      " O             0.457573             0.483939             0.237998\n",
      " O             0.016061             0.042426            -0.237998\n",
      " O            -0.219576            -0.457574             0.026366\n",
      " O             0.004059            -0.469576            -0.262002\n",
      " O             0.292426             0.030424            -0.473634\n",
      " O             0.233939            -0.292426            -0.262002\n",
      " O             0.469576             0.207574             0.473634\n",
      " O             0.245941             0.219576            -0.237998\n",
      " O            -0.042427            -0.280424            -0.026366\n",
      " O             0.272155            -0.369244            -0.059693\n",
      " O             0.190449             0.130756             0.358601\n",
      " O             0.380756            -0.477845             0.440307\n",
      " O            -0.418153             0.022155             0.141399\n",
      " O            -0.022155             0.119244            -0.440307\n",
      " O             0.059551            -0.380756             0.141399\n",
      " O            -0.130756             0.227845             0.059693\n",
      " O            -0.331847            -0.272155             0.358601\n",
      " O            -0.227845            -0.168153            -0.358601\n",
      " O            -0.309551             0.331847             0.059693\n",
      " O            -0.119244             0.440449            -0.141399\n",
      " O             0.081847            -0.059551            -0.440307\n",
      " O             0.477845            -0.081847            -0.141399\n",
      " O            -0.440449             0.418153             0.440307\n",
      " O             0.369244             0.309551            -0.358601\n",
      " O             0.168153            -0.190449            -0.059693\n",
      " O             0.474874            -0.373085             0.110919\n",
      " O             0.015996             0.126915             0.152042\n",
      " O             0.376915            -0.275126            -0.389081\n",
      " O            -0.386046             0.224874             0.347958\n",
      " O            -0.224874             0.123085             0.389081\n",
      " O             0.234004            -0.376915             0.347958\n",
      " O            -0.126915             0.025126            -0.110919\n",
      " O            -0.363954            -0.474874             0.152042\n",
      " O            -0.025126            -0.136046            -0.152042\n",
      " O            -0.484004             0.363954            -0.110919\n",
      " O            -0.123085             0.265996            -0.347958\n",
      " O             0.113954            -0.234004             0.389081\n",
      " O             0.275126            -0.113954            -0.347958\n",
      " O            -0.265996             0.386046            -0.389081\n",
      " O             0.373085             0.484004            -0.152042\n",
      " O             0.136046            -0.015996             0.110919\n",
      "143\n",
      "eGroup:  0.00 sec \n",
      "\n",
      "WARNING:\n",
      " Lattice type or lattice constants changed!\n",
      " Will take default values for bandplot special symmetry points!\n",
      "WARNING:\n",
      " number of Wyckoff positions changed!\n",
      " Will take default concentrations and initial_spin_split!\n",
      "\n",
      "\n",
      "------------------------------------------------------------------------\n",
      "Blocks contained in cif file '140.cif':\n",
      "------------------------------------------------------------------------\n",
      "symmetry block No.   name\n",
      "------------------------------------------------------------------------\n",
      "     0               accuo2f\n",
      "------------------------------------------------------------------------\n",
      "blockswithsymdata [0 ] \n",
      "\n",
      "Symmetry information for datablock: accuo2f\n",
      "Space group number: 1\n",
      "Name-Hall         : not found\n",
      "xyz-symbol        :  gives hallsymbol P 1\n",
      "\n",
      "The following symmetry options are available:\n",
      "  0 'xyz-symbols'\n",
      "\n",
      "Getting structure from symmetry option: 'xyz-symbols'\n",
      "\n",
      "\n",
      "CPU TIME determineSiteOperations:  0.00 sec \n",
      "0 b1 \n",
      "1 b2 \n",
      "2 b3 \n",
      "CPU TIME analyseGroup:  0.00 sec \n",
      "\n",
      "WARNING:\n",
      " Lattice type or lattice constants changed!\n",
      " Will take default values for bandplot special symmetry points!\n",
      "WARNING:\n",
      " number of Wyckoff positions changed!\n",
      " Will take default concentrations and initial_spin_split!\n",
      "\n",
      "\n",
      "------------------------------------------------------------------------\n",
      "Blocks contained in cif file '141.cif':\n",
      "------------------------------------------------------------------------\n",
      "symmetry block No.   name\n",
      "------------------------------------------------------------------------\n",
      "     0               ag6geso8\n",
      "------------------------------------------------------------------------\n",
      "blockswithsymdata [0 ] \n",
      "\n",
      "Symmetry information for datablock: ag6geso8\n",
      "Space group number: 1\n",
      "Name-Hall         : not found\n",
      "xyz-symbol        :  gives hallsymbol P 1\n",
      "\n",
      "The following symmetry options are available:\n",
      "  0 'xyz-symbols'\n",
      "\n",
      "Getting structure from symmetry option: 'xyz-symbols'\n",
      "\n",
      "\n",
      "CPU TIME determineSiteOperations:  0.00 sec \n",
      "0 b1 \n",
      "1 b2 \n",
      "CPU TIME analyseGroup:  0.00 sec \n",
      "\n",
      "WARNING:\n",
      " Lattice type or lattice constants changed!\n",
      " Will take default values for bandplot special symmetry points!\n",
      "WARNING:\n",
      " number of Wyckoff positions changed!\n",
      " Will take default concentrations and initial_spin_split!\n",
      "\n",
      "\n",
      "------------------------------------------------------------------------\n",
      "Blocks contained in cif file '142.cif':\n",
      "------------------------------------------------------------------------\n",
      "symmetry block No.   name\n",
      "------------------------------------------------------------------------\n",
      "     0               al(sio3)2\n",
      "------------------------------------------------------------------------\n",
      "blockswithsymdata [0 ] \n",
      "\n",
      "Symmetry information for datablock: al(sio3)2\n",
      "Space group number: 1\n",
      "Name-Hall         : not found\n",
      "xyz-symbol        :  gives hallsymbol P 1\n",
      "\n",
      "The following symmetry options are available:\n",
      "  0 'xyz-symbols'\n",
      "\n",
      "Getting structure from symmetry option: 'xyz-symbols'\n",
      "\n",
      "\n",
      "CPU TIME determineSiteOperations:  0.00 sec \n",
      "CPU TIME analyseGroup:  0.00 sec \n",
      "\n",
      "WARNING:\n",
      " Lattice type or lattice constants changed!\n",
      " Will take default values for bandplot special symmetry points!\n",
      "WARNING:\n",
      " number of Wyckoff positions changed!\n",
      " Will take default concentrations and initial_spin_split!\n",
      "\n",
      "\n",
      "------------------------------------------------------------------------\n",
      "Blocks contained in cif file '143.cif':\n",
      "------------------------------------------------------------------------\n",
      "symmetry block No.   name\n",
      "------------------------------------------------------------------------\n",
      "     0               alzn2sb(ho)12\n",
      "------------------------------------------------------------------------\n",
      "blockswithsymdata [0 ] \n",
      "\n",
      "Symmetry information for datablock: alzn2sb(ho)12\n",
      "Space group number: 1\n",
      "Name-Hall         : not found\n",
      "xyz-symbol        :  gives hallsymbol P 1\n",
      "\n",
      "The following symmetry options are available:\n",
      "  0 'xyz-symbols'\n",
      "\n",
      "Getting structure from symmetry option: 'xyz-symbols'\n",
      "\n",
      "\n",
      "CPU TIME determineSiteOperations:  0.00 sec \n",
      "CPU TIME analyseGroup:  0.00 sec \n",
      "\n",
      "WARNING:\n",
      " Lattice type or lattice constants changed!\n",
      " Will take default values for bandplot special symmetry points!\n",
      "WARNINGfedit pipe succesfull\n",
      "spacegroup number :  1\n",
      "spacegroup setting:  default\n",
      "lattice constants :  ['5.731154', '5.73115404', '32.8583']\n",
      "axis angle        :  ['90', '90', '119.99999978999999']\n",
      "Wyckoff positions:  84\n",
      "Al                    0                    0             0.490423\n",
      "Al                    0                    0            -0.164385\n",
      "Al                 -1/3                  1/3             0.071395\n",
      "Zn                    0                    0             0.218401\n",
      "Zn                  1/3                 -1/3             0.221819\n",
      "Zn                  1/3                 -1/3            -0.118499\n",
      "Zn                  1/3                 -1/3            -0.473158\n",
      "Zn                 -1/3                  1/3             0.440793\n",
      "Zn                 -1/3                  1/3            -0.198585\n",
      "Sb                    0                    0             0.065255\n",
      "Sb                    0                    0             0.326624\n",
      "Sb                    0                    0            -0.333574\n",
      " H             0.178918             0.325659            -0.475418\n",
      " H             0.186061             0.325915            -0.143005\n",
      " H              0.17091             0.335854              0.20443\n",
      " H              0.43376            -0.081631             0.029581\n",
      " H             0.395802            -0.098331             0.373461\n",
      " H                 5/11            -0.011473            -0.280069\n",
      " H             0.081631             -0.48461             0.029581\n",
      " H             0.098331             0.494133             0.373461\n",
      " H             0.011473               0.4661            -0.280069\n",
      " H             0.146741            -0.178918            -0.475418\n",
      " H             0.139854            -0.186061            -0.143005\n",
      " H             0.164944             -0.17091              0.20443\n",
      " H            -0.325659            -0.146741            -0.475418\n",
      " H            -0.325915            -0.139854            -0.143005\n",
      " H            -0.335854            -0.164944              0.20443\n",
      " H              0.48461             -0.43376             0.029581\n",
      " H              -0.4661                -5/11            -0.280069\n",
      " H            -0.494133            -0.395802             0.373461\n",
      " H             0.467427             0.415669             0.281969\n",
      " H             0.466081             0.457993             -0.38712\n",
      " H             0.458954             0.380082            -0.037961\n",
      " H             0.326848             0.141604            -0.196344\n",
      " H             0.328351            -0.013572             0.122577\n",
      " H             0.326671              0.13747             0.469491\n",
      " H            -0.141604             0.185246            -0.196344\n",
      " H             0.013572             0.341923             0.122577\n",
      " H             -0.13747             0.189201             0.469491\n",
      " H            -0.051758            -0.467427             0.281969\n",
      " H            -0.008088            -0.466081             -0.38712\n",
      " H            -0.078872            -0.458954            -0.037961\n",
      " H            -0.457993             0.008088             -0.38712\n",
      " H            -0.415669             0.051758             0.281969\n",
      " H            -0.380082             0.078872            -0.037961\n",
      " H            -0.185246            -0.326848            -0.196344\n",
      " H            -0.341923            -0.328351             0.122577\n",
      " H            -0.189201            -0.326671             0.469491\n",
      " O            -0.339899            -0.160058             -0.29945\n",
      " O            -0.131968             0.208987             0.105763\n",
      " O             -0.27536             0.059186             0.406828\n",
      " O            -0.028983            -0.421382             0.042494\n",
      " O             0.025727             -0.38442             0.367184\n",
      " O            -0.031208            -0.388126            -0.272526\n",
      " O             0.421382               0.3924             0.042494\n",
      " O              0.38442             0.410146             0.367184\n",
      " O             0.388126             0.356918            -0.272526\n",
      " O             0.160058            -0.179842             -0.29945\n",
      " O            -0.208987            -0.340956             0.105763\n",
      " O            -0.059186            -0.334547             0.406828\n",
      " O             0.179842             0.339899             -0.29945\n",
      " O             0.340956             0.131968             0.105763\n",
      " O             0.334547              0.27536             0.406828\n",
      " O            -0.356918             0.031208            -0.272526\n",
      " O              -0.3924             0.028983             0.042494\n",
      " O            -0.410146            -0.025727             0.367184\n",
      " O             0.378516            -0.069764             0.281429\n",
      " O             0.354836            -0.031061            -0.394621\n",
      " O             0.425306             0.020031            -0.041709\n",
      " O            -0.180508            -0.340583            -0.367305\n",
      " O            -0.384026            -0.384775            -0.083621\n",
      " O            -0.162641            -0.288696              0.27844\n",
      " O            -0.160074             0.180508            -0.367305\n",
      " O             -0.00075             0.384026            -0.083621\n",
      " O            -0.126056             0.162641              0.27844\n",
      " O             -0.44828            -0.378516             0.281429\n",
      " O            -0.385896            -0.354836            -0.394621\n",
      " O            -0.405274            -0.425306            -0.041709\n",
      " O             0.069764              0.44828             0.281429\n",
      " O             0.031061             0.385896            -0.394621\n",
      " O            -0.020031             0.405274            -0.041709\n",
      " O             0.340583             0.160074            -0.367305\n",
      " O             0.384775              0.00075            -0.083621\n",
      " O             0.288696             0.126056              0.27844\n",
      "144\n",
      "fedit pipe succesfull\n",
      "spacegroup number :  1\n",
      "spacegroup setting:  default\n",
      "lattice constants :  ['7.26578801', '7.26578801', '7.012468']\n",
      "axis angle        :  ['90', '90', '120.00000011']\n",
      "Wyckoff positions:  24\n",
      " B            -0.227779             0.426723            -0.433596\n",
      " B            -0.345497             0.227779             0.233071\n",
      " B            -0.426723             0.345497            -0.100262\n",
      "As             -0.33157            -0.261575             -0.28879\n",
      "As             0.069996              0.33157             0.377877\n",
      "As             0.261575            -0.069996             0.044543\n",
      "Pb             0.062699             0.331697             -0.12244\n",
      "Pb             0.268998            -0.062699            -0.455774\n",
      "Pb            -0.331697            -0.268998             0.210893\n",
      " O            -0.339772             0.376293             0.091495\n",
      " O            -0.376293             0.283936             0.424828\n",
      " O            -0.283936             0.339772            -0.241838\n",
      " O            -0.176695            -0.075536            -0.126402\n",
      " O             0.101159             0.176695            -0.459735\n",
      " O             0.075536            -0.101159             0.206932\n",
      " O             0.484325            -0.002191             0.191285\n",
      " O             0.002191             0.486515            -0.475382\n",
      " O            -0.486515            -0.484325            -0.142048\n",
      " O             0.205922            -0.268373            -0.110516\n",
      " O             0.268373             0.474295             0.222818\n",
      " O            -0.474295            -0.205922            -0.443849\n",
      " O             0.348786             0.149782             -0.11067\n",
      " O            -0.149782             0.199004             0.222663\n",
      " O            -0.199004            -0.348786            -0.444004\n",
      "145\n",
      "fedit pipe succesfull\n",
      "spacegroup number :  1\n",
      "spacegroup setting:  default\n",
      "lattice constants :  ['6.89331434', '6.89331517', '8.96752158']\n",
      "axis angle        :  ['90', '90', '119.99999136']\n",
      "Wyckoff positions:  42\n",
      " B           0.18783126          -0.35559335           0.29462623\n",
      " B           0.45657539          -0.18783126          -0.37203977\n",
      " B           0.35559335          -0.45657539          -0.03870677\n",
      " B          -0.48085402           0.31059094           0.30923626\n",
      " B          -0.20855504           0.48085402          -0.35743074\n",
      " B          -0.31059094           0.20855504          -0.02409674\n",
      " H           0.05935911          -0.21034875          -0.35927447\n",
      " H           0.14628037          -0.08793687           0.30173073\n",
      " H           0.31494307          -0.18754094          -0.03072904\n",
      " H           0.18754094          -0.49751499          -0.36406204\n",
      " H           0.08793687           0.23421624          -0.03160227\n",
      " H           0.21034875           0.26970685           0.30739253\n",
      " H           0.49751499          -0.31494307           0.30260396\n",
      " H          -0.26970785          -0.05935911          -0.02594147\n",
      " H           0.48160013            0.4389412          -0.36161738\n",
      " H          -0.23421624          -0.14628037          -0.36493627\n",
      " H           0.38056249           0.16834415          -0.03451668\n",
      " H          -0.33519302          -0.41479377          -0.03688704\n",
      " H           0.41479377           0.07960175          -0.37022104\n",
      " H          -0.21221834          -0.38056249           0.29881732\n",
      " H           -0.4389412           0.04265893           0.30504962\n",
      " H          -0.04265893          -0.48160013          -0.02828338\n",
      " H          -0.16834415           0.21221834          -0.36784968\n",
      " H          -0.07960175           0.33519302           0.29644596\n",
      " O           0.06122539          -0.25405603           0.29350431\n",
      " O           0.32962156          -0.08652506          -0.37400117\n",
      " O           0.08652506           0.41614562           0.29266483\n",
      " O           0.22920915          -0.35435032          -0.03317447\n",
      " O           0.41644053          -0.22920915           0.30015953\n",
      " O           0.35435032          -0.41644053          -0.36650747\n",
      " O           0.25405603           0.31528142          -0.03982869\n",
      " O           0.29110545           0.18414084           0.31396606\n",
      " O          -0.31528142          -0.06122539          -0.37316169\n",
      " O          -0.41614562          -0.32962156          -0.04066817\n",
      " O          -0.37840339          -0.46090715           0.30539863\n",
      " O          -0.43710224           0.35362011          -0.36057795\n",
      " O           0.46090715           0.08250377          -0.02793437\n",
      " O          -0.10696461          -0.29110545          -0.35269994\n",
      " O          -0.35362011           0.20927664           0.30608905\n",
      " O          -0.20927664           0.43710224          -0.02724395\n",
      " O          -0.08250377           0.37840339          -0.36126737\n",
      " O          -0.18414084           0.10696461          -0.01936694\n",
      "146\n",
      "fedit pipe succesfull\n",
      "spacegroup number :  146\n",
      "spacegroup setting:  R\n",
      "lattice constants :  ['5.97246819', '5.97246819', '5.97246819']\n",
      "axis angle        :  ['88.18321402999999', '88.18321402999999', '88.18321402999999']\n",
      "Wyckoff positions:  7\n",
      "Ag             0.258556            -0.001811            -0.489692\n",
      "As             0.002626             0.002626             0.002626\n",
      "As             0.497937             0.497937             0.497937\n",
      " O             0.211452             0.144892            -0.156643\n",
      " O             -0.15335             -0.15335             -0.15335\n",
      " O            -0.354293             0.306704            -0.340551\n",
      " O             0.324172             0.324172             0.324172\n",
      "147\n",
      "fedit pipe succesfull\n",
      "spacegroup number :  2\n",
      "spacegroup setting:  default\n",
      "lattice constants :  ['11.74570199880434', '11.74570259', '6.411156']\n",
      "axis angle        :  ['90', '90', '60.00000166499999']\n",
      "Wyckoff positions:  27\n",
      "Ag              0.04817             0.256538             0.339322\n",
      "Ag            -0.235009              0.48415              0.24758\n",
      "Ag            -0.249141            -0.235009              0.24758\n",
      "Ag              0.48415            -0.249141              0.24758\n",
      "Ag                  1/2                 -1/2                  1/2\n",
      "Ag                    0                  1/2                  1/2\n",
      "Ag                  1/2                    0                  1/2\n",
      "Ag                    0                    0                    0\n",
      "Ag            -0.304708              0.04817             0.339322\n",
      "Ag            -0.256538             0.304708            -0.339322\n",
      "Ag            -0.020841             0.270841            -0.155489\n",
      "Ag             0.270888            -0.250047            -0.155489\n",
      "Ag                 -1/4            -0.020888            -0.155489\n",
      "Ag                  1/2                    0                    0\n",
      "Ag                    0                  1/2                    0\n",
      "Ag                  1/2                 -1/2                    0\n",
      "Bi                    0                    0                  1/2\n",
      "Bi                 -1/3                 -1/3            -0.240841\n",
      " O            -0.323777            -0.493727            -0.451209\n",
      " O            -0.493727            -0.182496            -0.451209\n",
      " O            -0.182496            -0.323777            -0.451209\n",
      " O            -0.077573             0.172881             0.293294\n",
      " O             0.172882            -0.095309             0.293294\n",
      " O            -0.095308            -0.077574             0.293294\n",
      " O            -0.160326             0.471042            -0.060585\n",
      " O             0.471042            -0.310716            -0.060585\n",
      " O            -0.310716            -0.160326            -0.060585\n",
      "148\n",
      ":\n",
      " number of Wyckoff positions changed!\n",
      " Will take default concentrations and initial_spin_split!\n",
      "\n",
      "\n",
      "------------------------------------------------------------------------\n",
      "Blocks contained in cif file '144.cif':\n",
      "------------------------------------------------------------------------\n",
      "symmetry block No.   name\n",
      "------------------------------------------------------------------------\n",
      "     0               baspbo5\n",
      "------------------------------------------------------------------------\n",
      "blockswithsymdata [0 ] \n",
      "\n",
      "Symmetry information for datablock: baspbo5\n",
      "Space group number: 1\n",
      "Name-Hall         : not found\n",
      "xyz-symbol        :  gives hallsymbol P 1\n",
      "\n",
      "The following symmetry options are available:\n",
      "  0 'xyz-symbols'\n",
      "\n",
      "Getting structure from symmetry option: 'xyz-symbols'\n",
      "\n",
      "\n",
      "CPU TIME determineSiteOperations:  0.00 sec \n",
      "CPU TIME analyseGroup:  0.00 sec \n",
      "\n",
      "WARNING:\n",
      " Lattice type or lattice constants changed!\n",
      " Will take default values for bandplot special symmetry points!\n",
      "WARNING:\n",
      " number of Wyckoff posfedit pipe succesfull\n",
      "spacegroup number :  148\n",
      "spacegroup setting:  R\n",
      "lattice constants :  ['6.53651744', '6.53651744', '6.53651744']\n",
      "axis angle        :  ['92.07234075', '92.07234075', '92.07234075']\n",
      "Wyckoff positions:  4\n",
      "Ag                    0                    0                    0\n",
      "Mo            -0.446708             0.407398             0.215673\n",
      " S            -0.270778             0.132996              0.38333\n",
      " S            -0.223768            -0.223768            -0.223768\n",
      "itions changed!\n",
      " Will take default concentrations and initial_spin_split!\n",
      "\n",
      "\n",
      "------------------------------------------------------------------------\n",
      "Blocks contained in cif file '145.cif':\n",
      "------------------------------------------------------------------------\n",
      "symmetry block No.   name\n",
      "------------------------------------------------------------------------\n",
      "     0               b(ho)3\n",
      "------------------------------------------------------------------------\n",
      "blockswithsymdata [0 ] \n",
      "\n",
      "Symmetry information for datablock: b(ho)3\n",
      "Space group number: 1\n",
      "Name-Hall         : not found\n",
      "xyz-symbol        :  gives hallsymbol P 1\n",
      "\n",
      "The following symmetry options are available:\n",
      "  0 'xyz-symbols'\n",
      "\n",
      "Getting structure from symmetry option: 'xyz-symbols'\n",
      "\n",
      "\n",
      "CPU TIME determineSiteOperations:  0.00 sec \n",
      "CPU TIME analyseGroup:  0.00 sec \n",
      "\n",
      "WARNING:\n",
      " Lattice type or lattice constants changed!\n",
      " Will take default values for bandplot special symmetry points!\n",
      "WARNING:\n",
      " number of Wyckoff positions changed!\n",
      " Will take default concentrations and initial_spin_split!\n",
      "\n",
      "\n",
      "------------------------------------------------------------------------\n",
      "Blocks contained in cif file '146.cif':\n",
      "------------------------------------------------------------------------\n",
      "symmetry block No.   name\n",
      "------------------------------------------------------------------------\n",
      "     0               ag3(aso4)2\n",
      "------------------------------------------------------------------------\n",
      "blockswithsymdata [0 ] \n",
      "\n",
      "Symmetry information for datablock: ag3(aso4)2\n",
      "Space group number: 1\n",
      "Name-Hall         : not found\n",
      "xyz-symbol        :  gives hallsymbol P 1\n",
      "\n",
      "The following symmetry options are available:\n",
      "  0 'xyz-symbols'\n",
      "\n",
      "Getting structure from symmetry option: 'xyz-symbols'\n",
      "\n",
      "\n",
      "CPU TIME determineSiteOperations:  0.00 sec \n",
      "CPU TIME analyseGroup:  0.00 sec \n",
      "\n",
      "WARNING:\n",
      " Lattice type or lattice constants changed!\n",
      " Will take default values for bandplot special symmetry points!\n",
      "WARNING:\n",
      " number of Wyckoff positions changed!\n",
      " Will take default concentrations and initial_spin_split!\n",
      "\n",
      "\n",
      "------------------------------------------------------------------------\n",
      "Blocks contained in cif file '147.cif':\n",
      "------------------------------------------------------------------------\n",
      "symmetry block No.   name\n",
      "------------------------------------------------------------------------\n",
      "     0               ag25(bio6)3\n",
      "------------------------------------------------------------------------\n",
      "blockswithsymdata [0 ] \n",
      "\n",
      "Symmetry information for datablock: ag25(bio6)3\n",
      "Space group number: 1\n",
      "Name-Hall         : not found\n",
      "xyz-symbol        :  gives hallsymbol P 1\n",
      "\n",
      "The following symmetry options are available:\n",
      "  0 'xyz-symbols'\n",
      "\n",
      "Getting structure from symmetry option: 'xyz-symbols'\n",
      "\n",
      "\n",
      "CPU TIME determineSiteOperations:  0.00 sec \n",
      "CPU TIME analyseGroup:  0.00 sec \n",
      "\n",
      "WARNING:\n",
      " Lattice type or lattice constants changed!\n",
      " Will take default values for bandplot special symmetry points!\n",
      "WARNING:\n",
      " number of Wyckoff positions changed!\n",
      " Will take default concentrations and initial_spin_split!\n",
      "\n",
      "\n",
      "------------------------------------------------------------------------\n",
      "Blocks 149\n",
      "fedit pipe succesfull\n",
      "spacegroup number :  5\n",
      "spacegroup setting:  b1\n",
      "lattice constants :  ['5.60330607003029', '9.70521187745315', '10.86736741097232']\n",
      "axis angle        :  ['90', '121.03813086800945', '90']\n",
      "Wyckoff positions:  10\n",
      "Ba                    0                    0                    0\n",
      "Ba                  1/2                    0                  1/2\n",
      "Mg                    0                 -1/6                  1/2\n",
      "Fe            -0.204262                  1/6             0.295738\n",
      "Fe             0.299519                 -1/6            -0.200481\n",
      " O           -0.0845015           -0.3342315             0.246601\n",
      " O               0.0865             0.001565            -0.246601\n",
      " O           -0.0891955            0.3326675             0.246601\n",
      " O                    0                  1/6                  1/2\n",
      " O                    0                  1/3                    0\n",
      "150\n",
      "fedit pipe succesfull\n",
      "spacegroup number :  150\n",
      "spacegroup setting:  default\n",
      "lattice constants :  ['5.825054', '5.825054', '16.145449']\n",
      "axis angle        :  ['90', '90', '120']\n",
      "Wyckoff positions:  16\n",
      "Al             0.016264            -0.328883             0.126776\n",
      "Al             0.304453            -0.020299            -0.373835\n",
      "Al                  1/3                 -1/3              0.47839\n",
      "Al                  1/3                 -1/3            -0.016658\n",
      "Al                    0                    0                    0\n",
      " B                  1/3                 -1/3            -0.243132\n",
      " B                  1/3                 -1/3              0.26312\n",
      " B                    0                    0             0.239398\n",
      " C                    0            -0.337022                    0\n",
      " C                  1/3                 -1/3              -0.1531\n",
      " C                  1/3                 -1/3             -0.33194\n",
      " C                  1/3                 -1/3             0.352567\n",
      " C                  1/3                 -1/3             0.174033\n",
      " C                    0                    0            -0.150496\n",
      " C             0.314103                    0                 -1/2\n",
      " C                    0                    0            -0.327453\n",
      "151\n",
      "fedit pipe succesfull\n",
      "spacegroup number :  1\n",
      "spacegroup setting:  default\n",
      "lattice constants :  ['6.96841543408378', '6.9684601', '20.75585635']\n",
      "axis angle        :  ['89.98830894000001', '90.01272740794714', '119.99810597379467']\n",
      "Wyckoff positions:  24\n",
      "Cr           0.44556935           0.22278066                 -1/3\n",
      "Cr          -0.22277646          -0.44561619                  1/3\n",
      "Cr          -0.22283897           0.22281957                    0\n",
      "Cr           0.11183074          -0.44405555                 -1/3\n",
      "Cr           0.44402782           -0.1118892                  1/3\n",
      "Cr            0.4440269          -0.44403728                    0\n",
      " I          -0.22114645           0.24463579          -0.25820261\n",
      " I           0.46569462           0.22106928           0.40849738\n",
      " I          -0.22116961          -0.46575639          -0.40844449\n",
      " I          -0.24464477          -0.46581024           0.07515664\n",
      " I           0.46580806           0.24461579          -0.07514006\n",
      " I          -0.24472294           0.22121682           0.25813842\n",
      " I           0.42243451          -0.46668518          -0.25799967\n",
      " I           0.11090169          -0.42219727            0.4086996\n",
      " I           0.42236426          -0.11090728          -0.40870042\n",
      " I           0.46687022          -0.11095502           0.07534267\n",
      " I           0.11098163          -0.46688068          -0.07536192\n",
      " I           0.46667236          -0.42243225           0.25799451\n",
      " I           0.13478567           0.24539961          -0.40898617\n",
      " I           0.11056871          -0.13488789           0.25762609\n",
      " I           0.13483972          -0.11059639          -0.25763289\n",
      " I          -0.24537961          -0.11057521          -0.07569837\n",
      " I           0.11072074           0.24546705           0.07568712\n",
      " I          -0.24542019          -0.13472652            0.4090289\n",
      "152\n",
      "contained in cif file '148.cif':\n",
      "------------------------------------------------------------------------\n",
      "symmetry block No.   name\n",
      "------------------------------------------------------------------------\n",
      "     0               ag(mo3s4)2\n",
      "------------------------------------------------------------------------\n",
      "blockswithsymdata [0 ] \n",
      "\n",
      "Symmetry information for datablock: ag(mo3s4)2\n",
      "Space group number: 1\n",
      "Name-Hall         : not found\n",
      "xyz-symbol        :  gives hallsymbol P 1\n",
      "\n",
      "The following symmetry options are available:\n",
      "  0 'xyz-symbols'\n",
      "\n",
      "Getting structure from symmetry option: 'xyz-symbols'\n",
      "\n",
      "\n",
      "CPU TIME determineSiteOperations:  0.00 sec \n",
      "CPU TIME analyseGroup:  0.00 sec \n",
      "\n",
      "WARNING:\n",
      " Lattice type or lattice constants changed!\n",
      " Will take default values for bandplot special symmetry points!\n",
      "WARNING:\n",
      " number of Wyckoff positions changed!\n",
      " Will take default concentrations and initial_spin_split!\n",
      "\n",
      "\n",
      "------------------------------------------------------------------------\n",
      "Blocks contained in cif file '149.cif':\n",
      "------------------------------------------------------------------------\n",
      "symmetry block No.   name\n",
      "------------------------------------------------------------------------\n",
      "     0               ba2mg(feo2)4\n",
      "------------------------------------------------------------------------\n",
      "blockswithsymdata [0 ] \n",
      "\n",
      "Symmetry information for datablock: ba2mg(feo2)4\n",
      "Space group number: 1\n",
      "Name-Hall         : not found\n",
      "xyz-symbol        :  gives hallsymbol P 1\n",
      "\n",
      "The following symmetry options are available:\n",
      "  0 'xyz-symbols'\n",
      "\n",
      "Getting structure from symmetry option: 'xyz-symbols'\n",
      "\n",
      "\n",
      "CPU TIME determineSiteOperations:  0.00 sec \n",
      "0 b1 \n",
      "1 b2 \n",
      "CPU TIME analyseGroup:  0.00 sec \n",
      "\n",
      "WARNING:\n",
      " Lattice type or lattice constants changed!\n",
      " Will take default values for bandplot special symmetry points!\n",
      "WARNING:\n",
      " number of Wyckoff positions changed!\n",
      " Will take default concentrations and initial_spin_split!\n",
      "\n",
      "\n",
      "------------------------------------------------------------------------\n",
      "Blocks contained in cif file '150.cif':\n",
      "------------------------------------------------------------------------\n",
      "symmetry block No.   name\n",
      "------------------------------------------------------------------------\n",
      "     0               al17(bc3)6\n",
      "------------------------------------------------------------------------\n",
      "blockswithsymdata [0 ] \n",
      "\n",
      "Symmetry information for datablock: al17(bc3)6\n",
      "Space group number: 1\n",
      "Name-Hall         : not found\n",
      "xyz-symbol        :  gives hallsymbol P 1\n",
      "\n",
      "The following symmetry options are available:\n",
      "  0 'xyz-symbols'\n",
      "\n",
      "Getting structure from symmetry option: 'xyz-symbols'\n",
      "\n",
      "\n",
      "CPU TIME determineSiteOperations:  0.00 sec \n",
      "CPU TIME analyseGroup:  0.00 sec \n",
      "\n",
      "WARNING:\n",
      " Lattice type or lattice constants changed!\n",
      " Will take default values for bandplot special symmetry points!\n",
      "WARNING:\n",
      " number of Wyckoff positions changed!\n",
      " Will take default concentrations and initial_spin_split!\n",
      "\n",
      "\n",
      "------------------------------------------------------------------------\n",
      "Blocks contained in cif file '151.cif':\n",
      "------------------------------------------------------------------------\n",
      "symmetry block No.   name\n",
      "------------------------------------------------------------------------\n",
      "     0               cri3\n",
      "------------------------------------------------------------------------\n",
      "blockswithsymdata [0 ] \n",
      "\n",
      "Symmetry information for datablock: cri3\n",
      "Space group number: 1\n",
      "Name-Hall         : not found\n",
      "xyz-symbol        :  gives hallsymbol P 1\n",
      "\n",
      "The following symmetry options are available:\n",
      "  0 'xyz-symbols'\n",
      "\n",
      "Getting structure from symmetry option: 'xyz-symbols'\n",
      "\n",
      "\n",
      "CPU TIME determineSiteOperations:  0.00 sec \n",
      "CPU TIME analyseGroup:  0.00 sec \n",
      "\n",
      "WARNING:\n",
      " Lattice type or lattice constants changed!\n",
      " Will take default values for bandplot special symmetry points!\n",
      "WARNING:\n",
      " number of Wyckoff positions changed!\n",
      " Will take default concentrations and initial_spin_split!\n",
      "\n",
      "\n",
      "------------------------------------------------------------------------\n",
      "Blocks contained in cif file '152.cif':\n",
      "------------------------------------------------------------------------\n",
      "symmetry block No.   name\n",
      "--------------------------------fedit pipe succesfull\n",
      "spacegroup number :  152\n",
      "spacegroup setting:  default\n",
      "lattice constants :  ['4.0026559982146', '4.0026559982146', '9.803856']\n",
      "axis angle        :  ['90', '90', '120']\n",
      "Wyckoff positions:  1\n",
      "Ac            -0.344954                    0                 -1/6\n",
      "153\n",
      "fedit pipe succesfull\n",
      "spacegroup number :  1\n",
      "spacegroup setting:  default\n",
      "lattice constants :  ['4.81662063', '4.81660492', '6.67148099']\n",
      "axis angle        :  ['90.00162223', '89.99733356', '119.99983923999999']\n",
      "Wyckoff positions:  9\n",
      "Al          -0.33492974          -0.16745009                    0\n",
      "Al           0.16748638          -0.16745251                 -1/3\n",
      "Al           0.16747625           0.33494748                  1/3\n",
      "Ge           0.00766082          -0.49617471                    0\n",
      "Ge           0.49616302          -0.49617777                 -1/3\n",
      "Ge           0.49617285          -0.00765034                  1/3\n",
      "Mo           0.33900848           0.16949269                    0\n",
      "Mo          -0.16952229            0.1694933                 -1/3\n",
      "Mo          -0.16951676          -0.33902707                  1/3\n",
      "154\n",
      "fedit pipe succesfull\n",
      "spacegroup number :  1\n",
      "spacegroup setting:  default\n",
      "lattice constants :  ['4.95147386897954', '4.95155234', '10.94448261']\n",
      "axis angle        :  ['89.99904491000001', '90.00014877801648', '119.99911954374571']\n",
      "Wyckoff positions:  18\n",
      "Al                    0           -0.4661271                 -1/3\n",
      "Al            0.4661368            0.4661368                  1/3\n",
      "Al          -0.46612646           0.00000202                    0\n",
      " P                    0          -0.46579313                  1/6\n",
      " P           0.46579134           0.46579134                 -1/6\n",
      " P          -0.46579467          -0.00000332                 -1/2\n",
      " O          -0.25737059          -0.41422438           0.21710004\n",
      " O           0.41421808           0.15683518          -0.11622595\n",
      " O          -0.15685382           0.25737679           -0.4495527\n",
      " O           0.25738517          -0.15683297            0.1162214\n",
      " O          -0.41423605          -0.25738297           0.44955635\n",
      " O           0.15684755           0.41422534          -0.21709822\n",
      " O           0.12421834           0.41728088           0.26910151\n",
      " O          -0.41725315          -0.29304933          -0.06421919\n",
      " O           0.29304529          -0.12422038          -0.39755855\n",
      " O          -0.12420271            0.2930495           0.06421737\n",
      " O           0.41726997           0.12421855           0.39756148\n",
      " O          -0.29306813          -0.41727722           -0.2691041\n",
      "155\n",
      "fedit pipe succesfull\n",
      "spacegroup number :  155\n",
      "spacegroup setting:  R\n",
      "lattice constants :  ['4.99904019', '4.99904019', '4.99904019']\n",
      "axis angle        :  ['91.00785625', '91.00785625', '91.00785625']\n",
      "Wyckoff positions:  3\n",
      "Ag             0.078034                 -1/2            -0.078034\n",
      " S                    0                    0                    0\n",
      " I                 -1/2                 -1/2                 -1/2\n",
      "156\n",
      "----------------------------------------\n",
      "     0               ac\n",
      "------------------------------------------------------------------------\n",
      "blockswithsymdata [0 ] \n",
      "\n",
      "Symmetry information for datablock: ac\n",
      "Space group number: 1\n",
      "Name-Hall         : not found\n",
      "xyz-symbol        :  gives hallsymbol P 1\n",
      "\n",
      "The following symmetry options are available:\n",
      "  0 'xyz-symbols'\n",
      "\n",
      "Getting structure from symmetry option: 'xyz-symbols'\n",
      "\n",
      "\n",
      "CPU TIME determineSiteOperations:  0.00 sec \n",
      "CPU TIME analyseGroup:  0.00 sec \n",
      "\n",
      "WARNING:\n",
      " Lattice type or lattice constants changed!\n",
      " Will take default values for bandplot special symmetry points!\n",
      "WARNING:\n",
      " Element at some Wyckoff position changed!\n",
      " Will take default concentration and initial_spin_split!\n",
      "\n",
      "\n",
      "------------------------------------------------------------------------\n",
      "Blocks contained in cif file '153.cif':\n",
      "------------------------------------------------------------------------\n",
      "symmetry block No.   name\n",
      "--------------------------------------------------------------fedit pipe succesfull\n",
      "spacegroup number :  156\n",
      "spacegroup setting:  default\n",
      "lattice constants :  ['3.21913329', '3.21913329', '46.742527']\n",
      "axis angle        :  ['90', '90', '120']\n",
      "Wyckoff positions:  20\n",
      "Ag                    0                    0            -0.274578\n",
      "Ag                    0                    0            -0.077552\n",
      "Ag                  1/3                 -1/3             0.178313\n",
      "Ag                  1/3                 -1/3             0.276069\n",
      "Ag                  1/3                 -1/3                  3/8\n",
      "Ag                  1/3                 -1/3             0.475295\n",
      "Ag                  1/3                 -1/3            -0.322736\n",
      "Ag                  1/3                 -1/3            -0.226396\n",
      "Ag                  1/3                 -1/3             -0.12517\n",
      "Ag                  1/3                 -1/3            -0.030589\n",
      "Ag                  1/3                 -1/3            -0.424183\n",
      "Hg                    0                    0             0.019043\n",
      "Hg                    0                    0             0.129358\n",
      "Hg                    0                    0             0.325489\n",
      "Hg                    0                    0            -0.474389\n",
      "Hg                    0                    0             0.226869\n",
      "Hg                    0                    0             0.425077\n",
      "Hg                    0                    0            -0.175547\n",
      "Hg                    0                    0            -0.373703\n",
      "Hg                  1/3                 -1/3              0.07426\n",
      "----------\n",
      "     0               algemo\n",
      "------------------------------------------------------------------------\n",
      "blockswithsymdata [0 ] \n",
      "\n",
      "Symmetry information for datablock: algemo\n",
      "Space group number: 1\n",
      "Name-Hall         : not found\n",
      "xyz-symbol        :  gives hallsymbol P 1\n",
      "\n",
      "The following symmetry options are available:\n",
      "  0 'xyz-symbols'\n",
      "\n",
      "Getting structure from symmetry option: 'xyz-symbols'\n",
      "\n",
      "\n",
      "CPU TIME determineSiteOperations:  0.00 sec \n",
      "CPU TIME analyseGroup:  0.00 sec \n",
      "\n",
      "WARNING:\n",
      " Lattice type or lattice constants changed!\n",
      " Will take default values for bandplot special symmetry points!\n",
      "WARNING:\n",
      " number of Wyckoff positions changed!\n",
      " Will take default concentrations and initial_spin_split!\n",
      "\n",
      "\n",
      "------------------------------------------------------------------------\n",
      "Blocks contained in cif file '154.cif':\n",
      "------------------------------------------------------------------------\n",
      "symmetry block No.   name\n",
      "------------------------------------------------------------------------\n",
      "     0               alpo4\n",
      "------------------------------------------------------------------------\n",
      "blockswithsymdata [0 ] \n",
      "\n",
      "Symmetry information for datablock: alpo4\n",
      "Space group number: 1\n",
      "Name-Hall         : not found\n",
      "xyz-symbol        :  gives hallsymbol P 1\n",
      "\n",
      "The following symmetry options are available:\n",
      "  0 'xyz-symbols'\n",
      "\n",
      "Getting structure from symmetry option: 'xyz-symbols'\n",
      "\n",
      "\n",
      "CPU TIME determineSiteOperations:  0.00 sec \n",
      "CPU TIME analyseGroup:  0.00 sec \n",
      "\n",
      "WARNING:\n",
      " Lattice type or lattice constants changed!\n",
      " Will take default values for bandplot special symmetry points!\n",
      "WARNING:\n",
      " number of Wyckoff positions changed!\n",
      " Will take default concentrations and initial_spin_split!\n",
      "\n",
      "\n",
      "------------------------------------------------------------------------\n",
      "Blocks contained in cif file '155.cif':\n",
      "------------------------------------------------------------------------\n",
      "symmetry block No.   name\n",
      "------------------------------------------------------------------------\n",
      "     0               ag3si\n",
      "------------------------------------------------------------------------\n",
      "blockswithsymdata [0 ] \n",
      "\n",
      "Symmetry information for datablock: ag3si\n",
      "Space group number: 1\n",
      "Name-Hall         : not found\n",
      "xyz-symbol        :  gives hallsymbol P 1\n",
      "\n",
      "The following symmetry options are available:\n",
      "  0 'xyz-symbols'\n",
      "\n",
      "Getting structure from symmetry option: 'xyz-symbols'\n",
      "\n",
      "\n",
      "CPU TIME determineSiteOperations:  0.00 sec \n",
      "CPU TIME analyseGroup:  0.00 sec \n",
      "\n",
      "WARNING:\n",
      " Lattice type or lattice constants changed!\n",
      " Will take default values for bandplot special symmetry points!\n",
      "WARNING:\n",
      " number of Wyckoff positions changed!\n",
      " Will take default concentrations and initial_spin_split!\n",
      "\n",
      "\n",
      "------------------------------------------------------------------------\n",
      "Blocks contained in cif file '156.cif':\n",
      "------------------------------------------------------------------------\n",
      "symmetry block No.   name\n",
      "------------------------------------------------------------------------\n",
      "     0               ag11hg9\n",
      "------------------------------------------------------------------------\n",
      "blockswithsymdata [0 ] \n",
      "\n",
      "Symmetry information for datablock: ag11157\n",
      "fedit pipe succesfull\n",
      "spacegroup number :  157\n",
      "spacegroup setting:  default\n",
      "lattice constants :  ['6.06589600198995', '6.06589600198995', '6.529279']\n",
      "axis angle        :  ['90', '90', '120']\n",
      "Wyckoff positions:  6\n",
      "Ag                    0             0.499135            -0.478544\n",
      "Ag                    0                    0             0.273776\n",
      "Ag                    0                    0            -0.262293\n",
      "Pb                 -1/3                  1/3             0.020341\n",
      " O            -0.378168            -0.378168             0.212743\n",
      " O                    0            -0.376115            -0.170921\n",
      "158\n",
      "fedit pipe succesfull\n",
      "spacegroup number :  9\n",
      "spacegroup setting:  b1\n",
      "lattice constants :  ['9.81666799249512', '5.66765599596327', '23.423487']\n",
      "axis angle        :  ['90', '90', '90']\n",
      "Wyckoff positions:  24\n",
      "Ba                  1/3                    0             0.038611\n",
      "Ba                 -1/3                    0            -0.034057\n",
      "La                 -1/3                    0             0.139301\n",
      "La                  1/3                    0            -0.146645\n",
      "La                    0                    0             0.248129\n",
      "Ti                  1/3                    0              0.19839\n",
      "Ti                 -1/3                    0            -0.203188\n",
      "Ti                    0                    0              0.09642\n",
      "Nb                    0                    0            -0.097538\n",
      " O            0.1655795            0.0524495             0.159272\n",
      " O            -0.056565            -0.274594             0.159272\n",
      " O           -0.1090145            0.2221445             0.159272\n",
      " O           -0.1645165           -0.0583135            -0.158318\n",
      " O            0.0531015            0.2759315            -0.158318\n",
      " O             0.111415            -0.217618            -0.158318\n",
      " O            -0.069732            -0.272548            -0.061581\n",
      " O           -0.1014075            0.2408725            -0.061581\n",
      " O            0.1711405            0.0316755            -0.061581\n",
      " O             0.069722               0.2646             0.062437\n",
      " O             0.097439            -0.236883             0.062437\n",
      " O            -0.167161            -0.027717             0.062437\n",
      " O           -0.2205795           -0.2214435             0.251714\n",
      " O            -0.000432             0.441591             0.251714\n",
      " O            0.2210115           -0.2201475             0.251714\n",
      "159\n",
      "fedit pipe succesfull\n",
      "spacegroup number :  9\n",
      "spacegroup setting:  b1\n",
      "lattice constants :  ['9.28175012997563', '16.07646415933272', '6.07890833']\n",
      "axis angle        :  ['90', '90', '90']\n",
      "Wyckoff positions:  18\n",
      "Ag          0.156706425          0.174619115           0.49504075\n",
      "Ag           0.18357546           0.16566277          -0.00495925\n",
      "Ag         -0.340281885         -0.008956345           0.49504075\n",
      "Ag         -0.136147765          0.167000195           0.28192713\n",
      "Ag          -0.18242641          -0.15157398           0.28192713\n",
      "Ag          0.318574175         -0.015426215           0.28192713\n",
      " C                    0                    0          -0.12217625\n",
      " C                    0                  1/3          -0.27298596\n",
      " C                    0                 -1/3          -0.28698633\n",
      " O           0.11901131           0.04086711           0.37732797\n",
      " O         -0.122650315          0.296101185           0.21346095\n",
      " O          0.005476435          0.413275065           0.21346095\n",
      " O           0.01586133          -0.25348854           0.22865872\n",
      " O         -0.127698355         -0.365325565           0.22865872\n",
      " O           0.00179501          -0.07993921           0.37732797\n",
      " O          -0.12080632           -0.0390721          -0.12267203\n",
      " O           0.11717388          -0.29062475          -0.28653905\n",
      " O          0.111837025         -0.381186895           0.22865872\n",
      "160\n",
      "hg9\n",
      "Space group number: 1\n",
      "Name-Hall         : not found\n",
      "xyz-symbol        :  gives hallsymbol P 1\n",
      "\n",
      "The following symmetry options are available:\n",
      "  0 'xyz-symbols'\n",
      "\n",
      "Getting structure from symmetry option: 'xyz-symbols'\n",
      "\n",
      "\n",
      "CPU TIME determineSiteOperations:  0.00 sec \n",
      "CPU TIME analyseGroup:  0.00 sec \n",
      "\n",
      "WARNING:\n",
      " Lattice type or lattice constants changed!\n",
      " Will take default values for bandplot special symmetry points!\n",
      "WARNING:\n",
      " number of Wyckoff positions changed!\n",
      " Will take default concentrations and initial_spin_split!\n",
      "\n",
      "\n",
      "------------------------------------------------------------------------\n",
      "Blocks contained in cif file '157.cif':\n",
      "------------------------------------------------------------------------\n",
      "symmetry block No.   name\n",
      "------------------------------------------------------------------------\n",
      "     0               ag5(pbo3)2\n",
      "------------------------------------------------------------------------\n",
      "blockswithsymdata [0 ] \n",
      "\n",
      "Symmetry information for datablock: ag5(pbo3)2\n",
      "Space group number: 1\n",
      "Name-Hall         : not found\n",
      "xyz-symbol        :  gives hallsymbol P 1\n",
      "\n",
      "The following symmetry options are available:\n",
      "  0 'xyz-symbols'\n",
      "\n",
      "Getting structure from symmetry option: 'xyz-symbols'\n",
      "\n",
      "\n",
      "CPU TIME determineSiteOperations:  0.00 sec \n",
      "CPU TIME analyseGroup:  0.00 sec \n",
      "\n",
      "WARNING:\n",
      " Lattice type or lattice constants changed!\n",
      " Will take default values for bandplot special symmetry points!\n",
      "WARNING:\n",
      " number of Wyckoff positions changed!\n",
      " Will take default concentrations and initial_spin_split!\n",
      "\n",
      "\n",
      "------------------------------------------------------------------------\n",
      "Blocks contained in cif file '158.cif':\n",
      "------------------------------------------------------------------------\n",
      "symmetry block No.   name\n",
      "------------------------------------------------------------------------\n",
      "     0               ba2la3ti3nbo15\n",
      "------------------------------------------------------------------------\n",
      "blockswithsymdata [0 ] \n",
      "\n",
      "Symmetry information for datablock: ba2la3ti3nbo15\n",
      "Space group number: 1\n",
      "Nafedit pipe succesfull\n",
      "spacegroup number :  160\n",
      "spacegroup setting:  R\n",
      "lattice constants :  ['63.31376772922569', '63.31376772922569', '63.31376772922569']\n",
      "axis angle        :  ['4.26724545505256', '4.26724545505256', '4.26724545505256']\n",
      "Wyckoff positions:  7\n",
      "Ag     0.16295332666667     0.16295332666667     0.16295332666667\n",
      "Ag    -0.27463654333333    -0.27463648333333    -0.27463654333333\n",
      "Hg     0.03475617666667     0.03475619666667     0.03475617666667\n",
      " I    -0.16818344333333    -0.16818342333333    -0.16818344333333\n",
      " I     0.39549088666667     0.39549083666667     0.39549088666667\n",
      " I    -0.29095975333333    -0.29095975333333    -0.29095975333333\n",
      " I     0.02078765666667     0.02078769666667     0.02078765666667\n",
      "me-Hall         : not found\n",
      "xyz-symbol        :  gives hallsymbol P 1\n",
      "\n",
      "The following symmetry options are available:\n",
      "  0 'xyz-symbols'\n",
      "\n",
      "Getting structure from symmetry option: 'xyz-symbols'\n",
      "\n",
      "\n",
      "CPU TIME determineSiteOperations:  0.00 sec \n",
      "0 b1 \n",
      "1 b2 \n",
      "2 b3 \n",
      "3 -b1 \n",
      "CPU TIME analyseGroup:  0.00 sec \n",
      "\n",
      "WARNING:\n",
      " Lattice type or lattice constants changed!\n",
      " Will take default values for bandplot special symmetry points!\n",
      "WARNING:\n",
      " number of Wyckoff positions changed!\n",
      " Will take default concentrations and initial_spin_split!\n",
      "\n",
      "\n",
      "------------------------------------------------------------------------\n",
      "Blocks contained in cif file '159.cif':\n",
      "------------------------------------------------------------------------\n",
      "symmetry block No.   name\n",
      "------------------------------------------------------------------------\n",
      "     0               ag2co3\n",
      "------------------------------------------------------------------------\n",
      "blockswithsymdata [0 ] \n",
      "\n",
      "Symmetry information for datablock: ag2co3\n",
      "Space group number: 1\n",
      "Name-Hall         : not found\n",
      "xyz-symbol        :  gives hallsymbol P 1\n",
      "\n",
      "The following symmetry options are available:\n",
      "  0 'xyz-symbols'\n",
      "\n",
      "Getting structure from symmetry option: 'xyz-symbols'\n",
      "\n",
      "\n",
      "CPU TIME determineSiteOperations:  0.00 sec \n",
      "0 b1 \n",
      "CPU TIME analyseGroup:  0.00 sec \n",
      "\n",
      "WARNING:\n",
      " Lattice type or lattice constants changed!\n",
      " Will take default values for bandplot special symmetry points!\n",
      "WARNING:\n",
      " number of Wyckoff positions changed!\n",
      " Will take default concentrations and initial_spin_split!\n",
      "\n",
      "\n",
      "------------------------------------------------------------------------\n",
      "Blocks contained in cif file '160.cif':\n",
      "------------------------------------------------------------------------\n",
      "symmetry block No.   name\n",
      "------------------------------------------------------------------------\n",
      "     0               ag2hgi4\n",
      "------------------------------------------------------------------------\n",
      "blockswithsymdata [0 ] \n",
      "\n",
      "Symmetry information for datablock: ag2hgi4\n",
      "Space group number: 1\n",
      "Name-Hall         : not found\n",
      "xyz-symbol        :  gives hallsymbol P 1\n",
      "\n",
      "The following symmetry options are available161\n",
      "fedit pipe succesfull\n",
      "spacegroup number :  161\n",
      "spacegroup setting:  R\n",
      "lattice constants :  ['6.14178751', '6.14178751', '6.14178751']\n",
      "axis angle        :  ['89.86669458999999', '89.86669458999999', '89.86669458999999']\n",
      "Wyckoff positions:  4\n",
      "Ag           0.00369851          -0.49838347          -0.28731609\n",
      "As          -0.49871047          -0.49871047          -0.49871047\n",
      " O           0.34266056          -0.34722838          -0.32570277\n",
      " O           0.34208209           0.34208209           0.34208209\n",
      "162\n",
      "fedit pipe succesfull\n",
      "spacegroup number :  162\n",
      "spacegroup setting:  default\n",
      "lattice constants :  ['5.32705927', '5.32705927', '4.97397616']\n",
      "axis angle        :  ['90', '90', '120']\n",
      "Wyckoff positions:  2\n",
      "Ag          -0.31115925          -0.31115925           0.22050183\n",
      " O                 -1/3                  1/3                 -1/2\n",
      "163\n",
      "fedit pipe succesfull\n",
      "spacegroup number :  163\n",
      "spacegroup setting:  default\n",
      "lattice constants :  ['6.04307571', '6.04307571', '12.557375']\n",
      "axis angle        :  ['90', '90', '120']\n",
      "Wyckoff positions:  5\n",
      "Ag                    0                    0              0.37832\n",
      "Ag                 -1/2                 -1/2                 -1/2\n",
      "Hg                 -1/3                  1/3                  1/4\n",
      "Sb                  1/3                 -1/3                  1/4\n",
      " O            -0.395117             -0.34879             0.342138\n",
      "164\n",
      ":\n",
      "  0 'xyz-symbols'\n",
      "\n",
      "Getting structure from symmetry option: 'xyz-symbols'\n",
      "\n",
      "\n",
      "CPU TIME determineSiteOperations:  0.00 sec \n",
      "CPU TIME analyseGroup:  0.00 sec \n",
      "\n",
      "WARNING:\n",
      " Lattice type or lattice constants changed!\n",
      " Will take default values for bandplot special symmetry points!\n",
      "WARNING:\n",
      " number of Wyckoff positions changed!\n",
      " Will take default concentrations and initial_spin_split!\n",
      "\n",
      "\n",
      "------------------------------------------------------------------------\n",
      "Blocks contained in cif file '161.cif':\n",
      "------------------------------------------------------------------------\n",
      "symmetry block No.   name\n",
      "------------------------------------------------------------------------\n",
      "     0               ag3aso4\n",
      "------------------------------------------------------------------------\n",
      "blockswithsymdata [0 ] \n",
      "\n",
      "Symmetry information for datablock: ag3aso4\n",
      "Space group number: 1\n",
      "Name-Hall         : not found\n",
      "xyz-symbol        :  gives hallsymbol P 1\n",
      "\n",
      "The following symmetry options are available:\n",
      "  0 'xyz-symbols'\n",
      "\n",
      "Getting structure from symmetry option: 'xyz-symbols'\n",
      "\n",
      "\n",
      "CPU TIME determineSiteOperations:  0.00 sec \n",
      "CPU TIME analyseGroup:  0.00 sec \n",
      "\n",
      "WARNING:\n",
      " Lattice type or lattice constants changed!\n",
      " Will take default values for bandplot special symmetry points!\n",
      "WARNING:\n",
      " number of Wyckoff positions changed!\n",
      " Will take default concentrations and initial_spin_split!\n",
      "\n",
      "\n",
      "------------------------------------------------------------------------\n",
      "Blocks contained in cif file '162.cif':\n",
      "------------------------------------------------------------------------\n",
      "symmetry block No.   name\n",
      "------------------------------------------------------------------------\n",
      "     0               ag3o\n",
      "------------------------------------------------------------------------\n",
      "blockswithsymdata [0 ] \n",
      "\n",
      "Symmetry information for datablock: ag3o\n",
      "Space group number: 1\n",
      "Name-Hall         : not found\n",
      "xyz-symbol        :  gives hallsymbol P 1\n",
      "\n",
      "The following symmetry options are available:\n",
      "  0 'xyz-symbols'\n",
      "\n",
      "Getting structure from symmetry option: 'xyz-symbols'\n",
      "\n",
      "\n",
      "CPU TIME determineSiteOperations:  0.00 sec \n",
      "CPU TIME analyseGroup:  0.00 sec \n",
      "\n",
      "WARNING:\n",
      " Lattice type or lattice constants changed!\n",
      " Will take default values for bandplot special symmetry points!\n",
      "WARNING:\n",
      " number of Wyckoff positions changed!\n",
      " Will take default concentrations and initial_spin_split!\n",
      "\n",
      "\n",
      "------------------------------------------------------------------------\n",
      "Blocks contained in cif file '163.cif':\n",
      "------------------------------------------------------------------------\n",
      "symmetry block No.   name\n",
      "------------------------------------------------------------------------\n",
      "     0               ag5hgsbo6\n",
      "------------------------------------------------------------------------\n",
      "blockswithsymdata [0 ] \n",
      "\n",
      "Symmetry information for datablock: ag5hgsbo6\n",
      "Space group number: 1\n",
      "Name-Hall         : not found\n",
      "xyz-symbol        :  gives hallsymbol P 1\n",
      "\n",
      "The following symmetry options are available:\n",
      "  0 'xyz-symbols'\n",
      "\n",
      "Getting structure from symmetry option: 'xyz-symbols'fedit pipe succesfull\n",
      "\n",
      "\n",
      "CPU TIME determineSiteOperations:  0.00 sec \n",
      "CPU TIME analyseGroup:  0.00 sec \n",
      "\n",
      "WARNING:\n",
      " Lattice type or lattice constants changed!\n",
      " Will take default values for bandplot special symmetry points!\n",
      "WARNING:\n",
      " number of Wyckoff positions changed!\n",
      " Will take default concentrations and initial_spin_split!\n",
      "\n",
      "\n",
      "------------------------------------------------------------------------\n",
      "Blocks contained in cif file '164.cif':\n",
      "------------------------------------------------------------------------\n",
      "symmetry block No.   name\n",
      "------------------------------------------------------------------------\n",
      "     0               ac2o3\n",
      "------------------------------------------------------------------------\n",
      "blockswithsymdata [0 ] \n",
      "\n",
      "Symmetry information for datablock: ac2o3\n",
      "Space group number: 1\n",
      "Name-Hall         : not found\n",
      "xyz-symbol        :  gives hallsymbol P 1\n",
      "\n",
      "The following symmetry options are available:\n",
      "  0 'xyz-symbols'\n",
      "\n",
      "Getting structure from symmetry option: 'xyz-symbols'\n",
      "\n",
      "\n",
      "CPU TIME determineSiteOperations:  0.00 sec \n",
      "CPU TIME analyseGroup:  0.00 sec \n",
      "\n",
      "WARNING:\n",
      " Lattice type or lattice constan\n",
      "spacegroup number :  164\n",
      "spacegroup setting:  default\n",
      "lattice constants :  ['4.09548748', '4.09548748', '6.29988201']\n",
      "axis angle        :  ['90', '90', '120']\n",
      "Wyckoff positions:  3\n",
      "Ac                 -1/3                  1/3          -0.24519245\n",
      " O                 -1/3                  1/3           0.35529608\n",
      " O                    0                    0                    0\n",
      "165\n",
      "fedit pipe succesfull\n",
      "spacegroup number :  15\n",
      "spacegroup setting:  b1\n",
      "lattice constants :  ['19.20889799429363', '11.09026199647554', '9.325896']\n",
      "axis angle        :  ['90', '90', '90']\n",
      "Wyckoff positions:  21\n",
      "Al                 -1/3                    0              0.49802\n",
      "Al                    0                    0                    0\n",
      " P            0.1020075            0.1020075                  1/4\n",
      " P            -0.223263            -0.064266             0.243334\n",
      " P                    0             0.204015                 -1/4\n",
      " P           -0.0794985           -0.3670275            -0.243334\n",
      " P           -0.1437645           -0.3027615             0.256666\n",
      " O           -0.3234895           -0.1409385             -0.38605\n",
      " O            0.4087245           -0.0557035              0.38605\n",
      " O            -0.400265             0.083252            -0.113709\n",
      " O            -0.018955            -0.136368             0.116397\n",
      " O           -0.2582415            0.0587715            -0.113709\n",
      " O            0.1625035           -0.1625035                  1/4\n",
      " O            0.1792065           -0.0566475            -0.215373\n",
      " O            -0.267786            -0.085235              0.11395\n",
      " O           -0.3414935            0.1420235             0.386291\n",
      " O            0.0587065            0.0966165             0.383603\n",
      " O           -0.1179275            0.2404865             0.284627\n",
      " O                    0            -0.325007                 -1/4\n",
      " O             -0.06128             0.297134            -0.215373\n",
      " O            0.0776615            0.0397515             0.116397\n",
      "166\n",
      "fedit pipe succesfull\n",
      "spacegroup number :  1\n",
      "spacegroup setting:  default\n",
      "lattice constants :  ['4.04686312', '4.04686256', '10.06423527']\n",
      "axis angle        :  ['78.40153561', '101.5984667', '119.99999541999999']\n",
      "Wyckoff positions:  3\n",
      "Ac                    0                    0                    0\n",
      "Ac          -0.22264146           0.22263946           0.33207962\n",
      "Ac           0.22264046          -0.22264046          -0.33207962\n",
      "167\n",
      "fedit pipe succesfull\n",
      "spacegroup number :  1\n",
      "spacegroup setting:  default\n",
      "lattice constants :  ['7.61977894', '7.61977254', '7.87566224802895']\n",
      "axis angle        :  ['61.06911538617782', '89.99997477688554', '119.99994156']\n",
      "Wyckoff positions:  10\n",
      "Ac          -0.35662409           0.28675281           0.06987028\n",
      "Ac          -0.14337691          -0.28675281           0.43012872\n",
      "Ac           0.14337691           0.28675481          -0.43013072\n",
      "Ac           0.35662309          -0.28675381          -0.06987028\n",
      " S          -0.46076621                 -1/2                  1/4\n",
      " S                  1/4          -0.21076621                  1/4\n",
      " S          -0.03923179           0.21076821                  1/4\n",
      " S           0.03923279          -0.21076721                 -1/4\n",
      " S                 -1/4           0.21076621                 -1/4\n",
      " S           0.46076621                  1/2                 -1/4\n",
      "168\n",
      "169\n",
      "fedit pipe succesfull\n",
      "spacegroup number :  4\n",
      "spacegroup setting:  b\n",
      "lattice constants :  ['6.54983793', '17.15362972', '6.54983765974635']\n",
      "axis angle        :  ['90', '119.99999459472021', '90']\n",
      "Wyckoff positions:  15\n",
      "Al           0.35258452           0.45048125           0.34214046\n",
      "Al           0.30614828          -0.18393074           0.30026554\n",
      "Al           0.30026554          -0.01726474          -0.00588274\n",
      "Al          -0.34213946           0.11714725           0.01044406\n",
      "Al           0.01044306           0.28381425           0.35258352\n",
      "Al           0.00588274          -0.35059774           0.30614828\n",
      " S           0.00333326          -0.34828432          -0.34021749\n",
      " S           0.29216395          -0.04031584           0.33406536\n",
      " S          -0.33406536          -0.37364984          -0.04190141\n",
      " S           0.04610693          -0.49530236           0.34717041\n",
      " S           0.34021549           0.31838268           0.34355075\n",
      " S          -0.34717041           0.17136364          -0.30106348\n",
      " S           0.30106348          -0.16196936          -0.04610693\n",
      " S          -0.04190141          -0.20698284           0.29216395\n",
      " S          -0.34355275          -0.01495132          -0.00333526\n",
      "170\n",
      "ts changed!\n",
      " Will take default values for bandplot special symmetry points!\n",
      "WARNING:\n",
      " number of Wyckoff positions changed!\n",
      " Will take default concentrations and initial_spin_split!\n",
      "\n",
      "\n",
      "------------------------------------------------------------------------\n",
      "Blocks contained in cif file '165.cif':\n",
      "------------------------------------------------------------------------\n",
      "symmetry block No.   name\n",
      "------------------------------------------------------------------------\n",
      "     0               al(po3)3\n",
      "------------------------------------------------------------------------\n",
      "blockswithsymdata [0 ] \n",
      "\n",
      "Symmetry information for datablock: al(po3)3\n",
      "Space group number: 1\n",
      "Name-Hall         : not found\n",
      "xyz-symbol        :  gives hallsymbol P 1\n",
      "\n",
      "The following symmetry options are available:\n",
      "  0 'xyz-symbols'\n",
      "\n",
      "Getting structure from symmetry option: 'xyz-symbols'\n",
      "\n",
      "\n",
      "CPU TIME determineSiteOperations:  0.00 sec \n",
      "0 b1 \n",
      "CPU TIME analyseGroup:  0.00 sec \n",
      "\n",
      "WARNING:\n",
      " Lattice type or lattice constants changed!\n",
      " Wilfedit pipe succesfull\n",
      "spacegroup number :  4\n",
      "spacegroup setting:  b\n",
      "lattice constants :  ['7.17410819', '18.175197', '7.17410799698284']\n",
      "axis angle        :  ['90', '119.99999911', '90']\n",
      "Wyckoff positions:  30\n",
      "Ba            -0.420935            -0.000592             0.145452\n",
      "Ba             0.145451            -0.167259            -0.433613\n",
      "Ba             0.433612             0.166075            -0.420936\n",
      " H             0.143098             0.379865            -0.024791\n",
      " H            -0.024791             0.213199            -0.167889\n",
      " H             0.167889            -0.453468             0.143098\n",
      " H            -0.041929             0.436943            -0.139161\n",
      " H            -0.139161             0.270277            -0.097232\n",
      " H             0.097232             -0.39639            -0.041929\n",
      " N              0.21225             0.146279            -0.033391\n",
      " N            -0.033391            -0.020387            -0.245641\n",
      " N             0.245641             0.312946              0.21225\n",
      " N             0.444675             0.326106            -0.121532\n",
      " N            -0.121533             0.159439             0.433793\n",
      " N            -0.433794             0.492772             0.444674\n",
      " O              0.33609             0.124446            -0.100799\n",
      " O            -0.100799            -0.042221            -0.436889\n",
      " O             0.436889             0.291113              0.33609\n",
      " O             0.238289             0.113654             0.134759\n",
      " O             0.134759            -0.053012             -0.10353\n",
      " O              0.10353             0.280321             0.238289\n",
      " O             0.297722             0.297559            -0.295596\n",
      " O            -0.295596             0.130892             0.406682\n",
      " O            -0.406682             0.464226             0.297722\n",
      " O            -0.396246             0.284853            -0.008392\n",
      " O            -0.008393             0.118187             0.387854\n",
      " O            -0.387855              0.45152            -0.396247\n",
      " O              0.07469             0.413475            -0.151596\n",
      " O            -0.151595             0.246809            -0.226286\n",
      " O             0.226287            -0.419858             0.074691\n",
      "l take default values for bandplot special symmetry points!\n",
      "WARNING:\n",
      " number of Wyckoff positions changed!\n",
      " Will take default concentrations and initial_spin_split!\n",
      "\n",
      "\n",
      "------------------------------------------------------------------------\n",
      "Blocks contained in cif file '166.cif':\n",
      "------------------------------------------------------------------------\n",
      "symmetry block No.   name\n",
      "------------------------------------------------------------------------\n",
      "     0               ac\n",
      "------------------------------------------------------------------------\n",
      "blockswithsymdata [0 ] \n",
      "\n",
      "Symmetry information for datablock: ac\n",
      "Space group number: 1\n",
      "Name-Hall         : not found\n",
      "xyz-symbol        :  gives hallsymbol P 1\n",
      "\n",
      "The following symmetry options are available:\n",
      "  0 'xyz-symbols'\n",
      "\n",
      "Getting structure from symmetry option: 'xyz-symbols'\n",
      "\n",
      "\n",
      "CPU TIME determineSiteOperations:  0.00 sec \n",
      "CPU TIME analyseGroup:  0.00 sec \n",
      "\n",
      "WARNING:\n",
      " Lattice type or lattice constants changed!\n",
      " Will take default values for bandplot special symmetry points!\n",
      "WARNING:\n",
      " number of Wyckoff positions changed!\n",
      " Will take default concentrations and initial_spin_split!\n",
      "\n",
      "\n",
      "------------------------------------------------------------------------\n",
      "Blocks contained in cif file '167.cif':\n",
      "------------------------------------------------------------------------\n",
      "symmetry block No.   name\n",
      "------------------------------------------------------------------------\n",
      "     0               ac2s3\n",
      "------------------------------------------------------------------------\n",
      "blockswithsymdata [0 ] \n",
      "\n",
      "Symmetry information for datablock: ac2s3\n",
      "Space group number: 1\n",
      "Name-Hall         : not found\n",
      "xyz-symbol        :  gives hallsymbol P 1\n",
      "\n",
      "The following symmetry options are available:\n",
      "  0 'xyz-symbols'\n",
      "\n",
      "Getting structure from symmetry option: 'xyz-symbols'\n",
      "\n",
      "\n",
      "CPU TIME determineSiteOperations:  0.00 sec \n",
      "CPU TIME analyseGroup:  0.00 sec \n",
      "\n",
      "WARNING:\n",
      " Lattice type or lattice constants changed!\n",
      " Will take default values for bandplot special symmetry points!\n",
      "WARNING:\n",
      " number of Wyckoff positions changed!\n",
      " Will take default concentrations and initial_spin_split!\n",
      "\n",
      "\n",
      "------------------------------------------------------------------------\n",
      "Blocks contained in cif file '169.cif':\n",
      "------------------------------------------------------------------------\n",
      "symmetry block No.   name\n",
      "------------------------------------------------------------------------\n",
      "     0               al2s3\n",
      "------------------------------------------------------------------------\n",
      "blockswithsymdata [0 ] \n",
      "\n",
      "Symmetry information for datablock: al2s3\n",
      "Space group number: 1\n",
      "Name-Hall         : not found\n",
      "xyz-symbol        :  gives hallsymbol P 1\n",
      "\n",
      "The following symmetry options are available:\n",
      "  0 'xyz-symbols'\n",
      "\n",
      "Getting structure from symmetry option: 'xyz-symbols'\n",
      "\n",
      "\n",
      "CPU TIME determineSiteOperations:  0.00 sec \n",
      "0 b \n",
      "CPU TIME analyseGroup:  0.00 sec \n",
      "\n",
      "WARNING:\n",
      " Lattice type or lattice constants changed!\n",
      " Will take default values for bandplot special symmetry points!\n",
      "WARNING:\n",
      " number of Wyckoff positions changed!\n",
      " Will take default concentrations and initial_spin_split!\n",
      "\n",
      "\n",
      "--------------171\n",
      "fedit pipe succesfull\n",
      "spacegroup number :  3\n",
      "spacegroup setting:  b\n",
      "lattice constants :  ['6.72206024', '16.892092', '6.72206000224686']\n",
      "axis angle        :  ['90', '119.99999883', '90']\n",
      "Wyckoff positions:  21\n",
      "Ca                    0             0.000444                    0\n",
      "Ca                    0             -0.33289                    0\n",
      "Ca                    0             0.333777                    0\n",
      " S             0.092932             0.499415                  2/5\n",
      " S             0.307162             0.166081            -0.092838\n",
      " S            -0.399906            -0.167252            -0.307068\n",
      " O             0.239278              0.16132            -0.332452\n",
      " O             0.428269            -0.172013            -0.239279\n",
      " O             0.332451             0.494654             -0.42827\n",
      " O             0.185053            -0.001738            -0.497964\n",
      " O             0.316982            -0.335072            -0.185054\n",
      " O             0.497963             0.331595            -0.316983\n",
      " O             0.254513             0.096081             0.006944\n",
      " O            -0.247569            -0.237253            -0.254513\n",
      " O            -0.006944             0.429414             0.247569\n",
      " O             0.235003             0.239544            -0.025611\n",
      " O            -0.260614            -0.093789            -0.235003\n",
      " O             0.025611            -0.427123             0.260614\n",
      " O             0.316845             0.324467            -0.498289\n",
      " O             0.184866            -0.008867            -0.316845\n",
      " O             0.498289              -0.3422            -0.184866\n",
      "172\n",
      "fedit pipe succesfull\n",
      "spacegroup number :  3\n",
      "spacegroup setting:  b\n",
      "lattice constants :  ['6.7016624', '17.020098', '6.70166200089537']\n",
      "axis angle        :  ['90', '119.99999803000001', '90']\n",
      "Wyckoff positions:  21\n",
      "Ca                    0             0.332822                    0\n",
      "Ca                    0            -0.000511                    0\n",
      "Ca                    0            -0.333844                    0\n",
      " S             0.090195             0.165368            -0.305199\n",
      " S             0.305199            -0.167965             0.395394\n",
      " S            -0.395394             0.498701            -0.090195\n",
      " O             0.017114             0.237931            -0.236572\n",
      " O             0.236572            -0.095402             0.253686\n",
      " O            -0.253686            -0.428735            -0.017114\n",
      " O            -0.008804             0.095551            -0.252218\n",
      " O             0.252218            -0.237782             0.243414\n",
      " O            -0.243414             0.428884             0.008804\n",
      " O               0.3313             0.161833            -0.233047\n",
      " O             0.233046            -0.171501            -0.435653\n",
      " O             0.435652             0.495166            -0.331301\n",
      " O             0.499226             0.326285             0.314754\n",
      " O            -0.314753            -0.007048             0.184472\n",
      " O            -0.184471            -0.340381            -0.499225\n",
      " O             0.317295             0.332482            -0.495447\n",
      " O             0.495448            -0.000852            -0.187258\n",
      " O             0.187259            -0.334185            -0.317294\n",
      "173\n",
      "fedit pipe succesfull\n",
      "spacegroup number :  4\n",
      "spacegroup setting:  b\n",
      "lattice constants :  ['18.42966022', '13.420083', '18.42965999714863']\n",
      "axis angle        :  ['90', '119.9999996', '90']\n",
      "Wyckoff positions:  54\n",
      "Al                    0            -0.130261                    0\n",
      "Al            -0.360924            -0.412547            -0.054838\n",
      "Al             0.054838            -0.412547            -0.306086\n",
      "Al             0.306086            -0.412547             0.360924\n",
      "Al                 -1/3            -0.218971                  1/3\n",
      "Al                 -1/3             0.312333                  1/3\n",
      "Bi             0.264565             0.449532            -0.051101\n",
      "Bi             0.051101             0.449532             0.315666\n",
      "Bi            -0.315666             0.449532            -0.264565\n",
      "Bi             0.465883            -0.281588             0.041745\n",
      "Bi            -0.041745            -0.281588             0.424138\n",
      "Bi            -0.424138            -0.281588            -0.465883\n",
      "Bi             0.373288            -0.272856             0.142127\n",
      "Bi            -0.142127            -0.272856             0.231161\n",
      "Bi            -0.231161            -0.272856            -0.373288\n",
      "Bi             0.367795             0.497484             0.143919\n",
      "Bi            -0.143919             0.497484             0.223876\n",
      "Bi            -0.223876             0.497484            -0.367795\n",
      "Bi             0.272279            -0.229921            -0.053981\n",
      "Bi             0.053981            -0.229921              0.32626\n",
      "Bi             -0.32626            -0.229921            -0.272279\n",
      "Bi             0.335478            -0.395832            -0.124683\n",
      "Bi             0.124683            -0.395832             0.460161\n",
      "Bi            -0.460161            -0.395832            -0.335478\n",
      "Bi             0.459751             0.487709             0.042866\n",
      "Bi            -0.042866             0.487709             0.416885\n",
      "Bi            -0.416885             0.487709            -0.459751\n",
      "Bi             0.201601            -0.384093             0.019409\n",
      "Bi            -0.019408            -0.384093             0.182192\n",
      "Bi            -0.182191            -0.384093              -0.2016\n",
      "Cl            -0.338363            -0.165902             0.219365\n",
      "Cl            -0.219365            -0.165902             0.442272\n",
      "Cl            -0.442272            -0.165902             0.338363\n",
      "Cl            -0.346486            -0.404187             0.069745\n",
      "Cl            -0.069744            -0.404187            -0.416231\n",
      "Cl             0.416232            -0.404187             0.346487\n",
      "Cl            -0.340277             0.365112             0.218616\n",
      "Cl            -0.218616             0.365112             0.441107\n",
      "Cl            -0.441107             0.365112             0.340277\n",
      "Cl            -0.453692             0.477303            -0.129762\n",
      "Cl             0.129762             0.477303             -0.32393\n",
      "Cl              0.32393             0.477303             0.453692\n",
      "Cl             0.406271             0.229706             0.116223\n",
      "Cl            -0.116223             0.229706             0.290048\n",
      "Cl            -0.290048             0.229706            -0.406271\n",
      "Cl                 -1/3             0.151341                  1/3\n",
      "Cl                    0             0.031512                    0\n",
      "Cl             0.021599             -0.18365            -0.098416\n",
      "Cl             0.098416             -0.18365             0.120015\n",
      "Cl            -0.120015             -0.18365            -0.021599\n",
      "Cl                 -1/3            -0.378546                  1/3\n",
      "Cl            -0.240855            -0.452598            -0.039095\n",
      "Cl             0.039094            -0.452598             -0.20176\n",
      "Cl             0.201759            -0.452598             0.240854\n",
      "174\n",
      "----------------------------------------------------------\n",
      "Blocks contained in cif file '170.cif':\n",
      "------------------------------------------------------------------------\n",
      "symmetry block No.   name\n",
      "------------------------------------------------------------------------\n",
      "     0               bah2n2o5\n",
      "------------------------------------------------------------------------\n",
      "blockswithsymdata [0 ] \n",
      "\n",
      "Symmetry information for datablock: bah2n2o5\n",
      "Space group number: 1\n",
      "Name-Hall         : not found\n",
      "xyz-symbol        :  gives hallsymbol P 1\n",
      "\n",
      "The following symmetry options are available:\n",
      "  0 'xyz-symbols'\n",
      "\n",
      "Getting structure from symmetry option: 'xyz-symbols'\n",
      "\n",
      "\n",
      "CPU TIME determineSiteOperations:  0.00 sec \n",
      "0 b \n",
      "CPU TIME analyseGroup:  0.00 sec \n",
      "\n",
      "WARNING:\n",
      " Lattice type or lattice constants changed!\n",
      " Will take default values for bandplot special symmetry points!\n",
      "WARNING:\n",
      " number of Wyckoff positions changed!\n",
      " Will take default concentrations and initial_spin_split!\n",
      "\n",
      "\n",
      "------------------------------------------------------------------------\n",
      "Blocks contained in cif file '171.cif':\n",
      "------------------------------------------------------------------------\n",
      "symmetry block No.   name\n",
      "------------------------------------------------------------------------\n",
      "     0               ca(so5)2\n",
      "------------------------------------------------------------------------\n",
      "blockswithsymdata [0 ] \n",
      "\n",
      "Symmetry information for datablock: ca(so5)2\n",
      "Space group number: 1\n",
      "Name-Hall         : not found\n",
      "xyz-symbol        :  gives hallsymbol P 1\n",
      "\n",
      "The following symmetry options are available:\n",
      "  0 'xyz-symbols'\n",
      "\n",
      "Getting structure from symmetry option: 'xyz-symbols'\n",
      "\n",
      "\n",
      "CPU TIME determineSiteOperations:  0.00 sec \n",
      "0 b \n",
      "CPU TIME analyseGroup:  0.00 sec \n",
      "\n",
      "WARNING:\n",
      " Lattice type or lattice constants changed!\n",
      " Will take default values for bandplot special symmetry points!\n",
      "WARNING:\n",
      " number of Wyckoff positions changed!\n",
      " Will take default concentrations and initial_spin_split!\n",
      "\n",
      "\n",
      "------------------------------------------------fedit pipe succesfull\n",
      "spacegroup number :  174\n",
      "spacegroup setting:  default\n",
      "lattice constants :  ['9.16008800108083', '9.16008800108083', '3.408263']\n",
      "axis angle        :  ['90', '90', '120']\n",
      "Wyckoff positions:  8\n",
      "Ag             0.007291             0.341605                    0\n",
      "Ag            -0.302699             0.033291                 -1/2\n",
      " C                    0                    0                    0\n",
      " C                 -1/3                  1/3                    0\n",
      " C                  1/3                 -1/3                 -1/2\n",
      " O             0.107319             0.161209                    0\n",
      " O            -0.171895             0.439396                    0\n",
      " O             0.261085            -0.241364                 -1/2\n",
      "------------------------\n",
      "Blocks contained in cif file '172.cif':\n",
      "------------------------------------------------------------------------\n",
      "symmetry block No.   name\n",
      "------------------------------------------------------------------------\n",
      "     0               ca(so5)2\n",
      "------------------------------------------------------------------------\n",
      "blockswithsymdata [0 ] \n",
      "\n",
      "Symmetry information for datablock: ca(so5)2\n",
      "Space group number: 1\n",
      "Name-Hall         : not found\n",
      "xyz-symbol        :  gives hallsymbol P 1\n",
      "\n",
      "The following symmetry options are available:\n",
      "  0 'xyz-symbols'\n",
      "\n",
      "Getting structure from symmetry option: 'xyz-symbols'\n",
      "\n",
      "\n",
      "CPU TIME determineSiteOperations:  0.00 sec \n",
      "0 b \n",
      "CPU TIME analyseGroup:  0.00 sec \n",
      "\n",
      "WARNING:\n",
      " Lattice type or lattice constants changed!\n",
      " Will take default values for bandplot special symmetry points!\n",
      "WARNING:\n",
      " number of Wyckoff positions changed!\n",
      " Will take default concentrations and initial_spin_split!\n",
      "\n",
      "\n",
      "------------------------------------------------------------------------\n",
      "Blocks contained in cif file '173.cif':\n",
      "------------------------------------------------------------------------\n",
      "symmetry block No.   name\n",
      "------------------------------------------------------------------------\n",
      "     0               al(bicl)4\n",
      "------------------------------------------------------------------------\n",
      "blockswithsymdata [0 ] \n",
      "\n",
      "Symmetry information for datablock: al(bicl)4\n",
      "Space group number: 1\n",
      "Name-Hall         : not found\n",
      "xyz-symbol        :  gives hallsymbol P 1\n",
      "\n",
      "The following symmetry options are available:\n",
      "  0 'xyz-symbols'\n",
      "\n",
      "Getting structure from symmetry option: 'xyz-symbols'\n",
      "\n",
      "\n",
      "CPU TIME determineSiteOperations:  0.00 sec \n",
      "0 b \n",
      "CPU TIME analyseGroup:  0.00 sec \n",
      "\n",
      "WARNING:\n",
      " Lattice type or lattice constants changed!\n",
      " Will take default values for bandplot special symmetry points!\n",
      "WARNING:\n",
      " number of Wyckoff positions changed!\n",
      " Will take default concentrations and initial_spin_split!\n",
      "\n",
      "\n",
      "------------------------------------------------------------------------\n",
      "Blocks 175\n",
      "contained in cif file '174.cif':\n",
      "---------------------------------------------------------------fedit pipe succesfull\n",
      "spacegroup number :  10\n",
      "spacegroup setting:  b\n",
      "lattice constants :  ['17.99684702', '3.795889', '17.99684600263679']\n",
      "axis angle        :  ['90', '119.99999813000002', '90']\n",
      "Wyckoff positions:  38\n",
      "Er                    0                    0                    0\n",
      "Er                    0                    0                  1/2\n",
      "Er             0.407589                    0            -0.326881\n",
      "Er             -0.26553                    0            -0.092411\n",
      "Er                 -1/2                    0                 -1/2\n",
      "Er                  1/6                  1/2                  1/3\n",
      "Er             0.173119                    0             -0.23447\n",
      "Er                 -1/2                    0                    0\n",
      "Ni             0.387052                  1/2             0.047589\n",
      "Ni             0.410207                    0             0.298784\n",
      "Ni              0.25585                    0              0.26794\n",
      "Ni             0.433222                  1/2             0.210011\n",
      "Ni             -0.36585                  1/2            -0.379226\n",
      "Ni             0.289989                  1/2            -0.276789\n",
      "Ni             0.159804                  1/2             0.141633\n",
      "Ni             0.111423                    0            -0.089793\n",
      "Ni             0.223211                  1/2            -0.066778\n",
      "Ni              0.23206                    0              0.48791\n",
      "Ni             0.358367                  1/2            -0.481829\n",
      "Ni            -0.013376                  1/2             -0.13415\n",
      "Ni              0.01209                    0              0.24415\n",
      "Ni             0.339463                  1/2            -0.112948\n",
      "Ni            -0.120774                  1/2            -0.486624\n",
      "Ni             0.452411                  1/2            -0.160537\n",
      "Ni            -0.201216                    0             0.388577\n",
      "Ni             0.018171                  1/2            -0.340196\n",
      "Ge            -0.269135                  1/2             0.419397\n",
      "Ge             0.127553                  1/2            -0.003692\n",
      "Ge             0.309848                    0            -0.046805\n",
      "Ge             0.107269                    0             0.187831\n",
      "Ge             0.311468                  1/2             0.230865\n",
      "Ge             0.080603                  1/2            -0.188532\n",
      "Ge            -0.356654                    0             0.190151\n",
      "Ge             0.312169                    0             0.419438\n",
      "Ge            -0.080562                    0            -0.392731\n",
      "Ge            -0.453196                    0            -0.143347\n",
      "Ge            -0.131245                  1/2             0.372447\n",
      "Ge            -0.496308                  1/2            -0.368755\n",
      "176\n",
      "fedit pipe succesfull\n",
      "spacegroup number :  11\n",
      "spacegroup setting:  b\n",
      "lattice constants :  ['8.16826399302254', '4.72345121', '8.1682635']\n",
      "axis angle        :  ['90', '119.999993330091', '90']\n",
      "Wyckoff positions:  4\n",
      "Ac                  1/3                  1/4                 -1/3\n",
      "Br          -0.30018031                  1/4           0.08540771\n",
      "Br          -0.38558802                 -1/4           -0.3001823\n",
      "Br          -0.08540572                  1/4          -0.38558603\n",
      "177\n",
      "fedit pipe succesfull\n",
      "spacegroup number :  177\n",
      "spacegroup setting:  default\n",
      "lattice constants :  ['9.30174999706704', '9.30174999706704', '9.281881']\n",
      "axis angle        :  ['90', '90', '120']\n",
      "Wyckoff positions:  9\n",
      "Be                 -1/2                    0                    0\n",
      "Be                 -1/2                    0                  1/2\n",
      "Al                  1/3                 -1/3                    0\n",
      "Al                  1/3                 -1/3                  1/2\n",
      "Si             0.272121            -0.115346                 -1/4\n",
      " O             0.073927            -0.235781                 -1/4\n",
      " O             0.353792            -0.144486            -0.104295\n",
      " O             0.353815            -0.144489            -0.395716\n",
      " O                    0                    0                    0\n",
      "178\n",
      "---------\n",
      "symmetry block No.   name\n",
      "------------------------------------------------------------------------\n",
      "     0               ag2co3\n",
      "------------------------------------------------------------------------\n",
      "blockswithsymdata [0 ] \n",
      "\n",
      "Symmetry information for datablock: ag2co3\n",
      "Space group number: 1\n",
      "Name-Hall         : not found\n",
      "xyz-symbol        :  gives hallsymbol P 1\n",
      "\n",
      "The following symmetry options are available:\n",
      "  0 'xyz-symbols'\n",
      "\n",
      "Getting structure from symmetry option: 'xyz-symbols'\n",
      "\n",
      "\n",
      "CPU TIME determineSiteOperations:  0.00 sec \n",
      "CPU TIME analyseGroup:  0.00 sec \n",
      "\n",
      "WARNING:\n",
      " Lattice type or lattice constants changed!\n",
      " Will take default values for bandplot special symmetry points!\n",
      "WARNING:\n",
      " number of Wyckoff positions changed!\n",
      " Will take default concentrations and initial_spin_split!\n",
      "\n",
      "\n",
      "------------------------------------------------------------------------\n",
      "Blocks contained in cif file '175.cif':\n",
      "------------------------------------------------------------------------\n",
      "symmetry block Nfedit pipe succesfull\n",
      "spacegroup number :  20\n",
      "spacegroup setting:  default\n",
      "lattice constants :  ['8.70702229974147', '5.02700063421269', '15.27897044']\n",
      "axis angle        :  ['90', '90', '90']\n",
      "Wyckoff positions:  7\n",
      "Ag           0.14339364           0.06982009                 -1/6\n",
      "Ag          -0.21321373                    0                    0\n",
      " F          0.166263365          0.219367215     0.24715514333333\n",
      " F           0.05718421          -0.11028806    -0.41951185666667\n",
      " F          0.276551425         -0.109079155    -0.08617885666667\n",
      " F          0.123025755         -0.376974245                 1/12\n",
      " F                    0          -0.25394849                  1/4\n",
      "o.   name\n",
      "------------------------------------------------------------------------\n",
      "     0               erni3ge2\n",
      "------------------------------------------------------------------------\n",
      "blockswithsymdata [0 ] \n",
      "\n",
      "Symmetry information for datablock: erni3ge2\n",
      "Space group number: 1\n",
      "Name-Hall         : not found\n",
      "xyz-symbol        :  gives hallsymbol P 1\n",
      "\n",
      "The following symmetry options are available:\n",
      "  0 'xyz-symbols'\n",
      "\n",
      "Getting structure from symmetry option: 'xyz-symbols'\n",
      "\n",
      "\n",
      "CPU TIME determineSiteOperations:  0.00 sec \n",
      "0 b \n",
      "CPU TIME analyseGroup:  0.00 sec \n",
      "\n",
      "WARNING:\n",
      " Lattice type or lattice constants changed!\n",
      " Will take default values for bandplot special symmetry points!\n",
      "WARNING:\n",
      " number of Wyckoff positions changed!\n",
      " Will take default concentrations and initial_spin_split!\n",
      "\n",
      "\n",
      "------------------------------------------------------------------------\n",
      "Blocks contained in cif file '176.cif':\n",
      "------------------------------------------------------------------------\n",
      "symmetry block No.   name\n",
      "-------179\n",
      "-----------------------------------------------------------------\n",
      "     0               acbr3\n",
      "------------------------------------------------------------------------\n",
      "blockswithsymdata [0 ] \n",
      "\n",
      "Symmetry information for datablock: acbr3\n",
      "Space group number: 1\n",
      "Name-Hall         : not found\n",
      "xyz-symbol        :  gives hallsymbol P 1\n",
      "\n",
      "The following symmetry options are available:\n",
      "  0 'xyz-symbols'\n",
      "\n",
      "Getting structure from symmetry option: 'xyz-symbols'\n",
      "\n",
      "\n",
      "CPU TIME determineSiteOperations:  0.00 sec \n",
      "0 b \n",
      "CPU TIME analyseGroup:  0.00 sec \n",
      "\n",
      "WARNING:\n",
      " Lattice type or lattice constants changed!\n",
      " Will take default values for bandplot special symmetry points!\n",
      "WARNING:\n",
      " number of Wyckoff positions changed!\n",
      " Will take default concentrations and initial_spin_split!\n",
      "\n",
      "\n",
      "------------------------------------------------------------------------\n",
      "Blocks contained in cif file '177.cif':\n",
      "------------------------------------------------------------------------\n",
      "symmetry block No.   name\n",
      "------------------------------------------------------------------------\n",
      "     0               be6al4si12o37\n",
      "------------------------------------------------------------------------\n",
      "blockswithsymdata [0 ] \n",
      "\n",
      "Symmetry information for datablock: be6al4si12o37\n",
      "Space group number: 1\n",
      "Name-Hall         : not found\n",
      "xyz-symbol        :  gives hallsymbol P 1\n",
      "\n",
      "The following symmetry options are available:\n",
      "  0 'xyz-symbols'\n",
      "\n",
      "Getting structure from symmetry option: 'xyz-symbols'\n",
      "\n",
      "\n",
      "CPU TIME determineSiteOperations:  0.00 sec \n",
      "CPU TIME analyseGroup:  0.00 sec \n",
      "\n",
      "WARNING:\n",
      " Lattice type or lattice constants changed!\n",
      " Will take default values for bandplot special symmetry points!\n",
      "WARNING:\n",
      " number of Wyckoff positions changed!\n",
      " Will take default concentrations and initial_spin_split!\n",
      "\n",
      "\n",
      "------------------------------------------------------------------------\n",
      "Blocks contained in cif file '178.cif':\n",
      "------------------------------------------------------------------------\n",
      "symmetry block No.   name\n",
      "------------------------------------------fedit pipe succesfull\n",
      "spacegroup number :  20\n",
      "spacegroup setting:  default\n",
      "lattice constants :  ['12.61513199649316', '7.28334999788604', '25.567819']\n",
      "axis angle        :  ['90', '90', '90']\n",
      "Wyckoff positions:  25\n",
      "Ca            -0.346809            -0.040427                  1/3\n",
      "Ca            -0.009404                    0                    0\n",
      "Ca             0.337975                    0                    0\n",
      "Ca            -0.306382                    0                    0\n",
      "Ca            -0.004702            -0.014106                 -1/6\n",
      "Ca           -0.3310125           -0.0069625                  1/6\n",
      " C            0.1860975           -0.1363405    -0.24487133333333\n",
      " C             0.154544            -0.154544                 1/12\n",
      " C           -0.0248785            0.3473165     0.42179566666667\n",
      " C                    0             0.309088                 -1/4\n",
      " C            -0.161219            -0.210976     0.08846166666667\n",
      " O            -0.139715            -0.178727    -0.21148033333333\n",
      " O             0.338657            -0.111167    -0.08656833333333\n",
      " O            -0.065374             0.065374                -5/12\n",
      " O                    0             0.130748                 -1/4\n",
      " O           -0.0043805            0.3956195    -0.29454433333333\n",
      " O             0.386255            -0.063569     0.41990166666667\n",
      " O             0.019506            -0.298936    -0.37814733333333\n",
      " O            -0.146049            -0.180146    -0.30018833333333\n",
      " O            0.1955935            0.2044065    -0.12787733333333\n",
      " O             0.275088            -0.047598    -0.24676533333333\n",
      " O           -0.0170485            0.3091465     0.03314466666667\n",
      " O             0.200026            -0.191213     0.03878866666667\n",
      " O             0.159221             0.120209    -0.45518633333333\n",
      " O           -0.1630975            0.1290005    -0.13352133333333\n",
      "------------------------------\n",
      "     0               agf3\n",
      "---------------------------------------180\n",
      "fedit pipe succesfull\n",
      "spacegroup number :  21\n",
      "spacegroup setting:  default\n",
      "lattice constants :  ['12.0797142719417', '6.974227820082', '6.27513978']\n",
      "axis angle        :  ['90', '90', '90']\n",
      "Wyckoff positions:  7\n",
      "Ca                  1/4                  1/4                 -1/6\n",
      "Ca                    0                    0                  1/2\n",
      " S                  1/4                  1/4                  1/3\n",
      " S                    0                    0                    0\n",
      " O          0.068079085         -0.120843115     0.14118570666667\n",
      " O           0.27638101          -0.08745881    -0.19214729333333\n",
      " O          0.155537895          0.208301925     0.47451970666667\n",
      "181\n",
      "fedit pipe succesfull\n",
      "spacegroup number :  21\n",
      "spacegroup setting:  default\n",
      "lattice constants :  ['8.44005599552076', '4.8728679970317', '6.786791']\n",
      "axis angle        :  ['90', '90', '90']\n",
      "Wyckoff positions:  4\n",
      "Al             0.168545                    0                    0\n",
      "Al             0.084272             0.252817                 -1/3\n",
      " W                 -1/4                 -1/4                  1/3\n",
      " W                    0                  1/2                    0\n",
      "182\n",
      "---------------------------------\n",
      "blockswithsymdata [0 ] \n",
      "\n",
      "Symmetry information for datablock: agf3\n",
      "Space group number: 1\n",
      "Name-Hall         : not found\n",
      "xyz-symbol        :  gives hallsymbol P 1\n",
      "\n",
      "The following symmetry options are available:\n",
      "  0 'xyz-symbols'\n",
      "\n",
      "Getting structure from symmetry option: 'xyz-symbols'\n",
      "\n",
      "\n",
      "CPU TIME determineSiteOperations:  0.00 sec \n",
      "CPU TIME analyseGroup:  0.00 sec \n",
      "\n",
      "WARNING:\n",
      " Lattice type or lattice constants changed!\n",
      " Will take default values for bandplot special symmetry points!\n",
      "WARNING:\n",
      " number of Wyckoff positions changed!\n",
      " Will take default concentrations and initial_spin_split!\n",
      "\n",
      "\n",
      "------------------------------------------------------------------------\n",
      "Blocks contained in cif file '179.cif':\n",
      "------------------------------------------------------------------------\n",
      "symmetry block No.   name\n",
      "------------------------------------------------------------------------\n",
      "     0               caco3\n",
      "--------------------------------------------------------------------fedit pipe succesfull\n",
      "spacegroup number :  20\n",
      "spacegroup setting:  default\n",
      "lattice constants :  ['9.80585116673897', '5.66139748773781', '12.72977534']\n",
      "axis angle        :  ['90', '90', '90']\n",
      "Wyckoff positions:  8\n",
      "Ag         0.1606701975        -0.1606702025                 -1/4\n",
      "Ag     0.33333329583333         0.0000000325                    0\n",
      "Ag        -0.0000000675         0.3213416625                 -1/4\n",
      "Sn     0.33333329583333         0.0000000325                 -1/2\n",
      "Sn        -0.0000000375         0.0000000325                 -1/2\n",
      " O         0.1668906625        -0.1129885475          -0.41196397\n",
      " O        -0.1399399975         0.1938411525            0.4119641\n",
      " O        -0.0269507375         0.3068309925          -0.41196413\n",
      "----\n",
      "blockswithsymdata [0 ] \n",
      "\n",
      "Symmetry information for datablock: caco3\n",
      "Space group number: 1\n",
      "Name-Hall         : not found\n",
      "xyz-symbol        :  gives hallsymbol P 1\n",
      "\n",
      "The following symmetry options are available:\n",
      "  0 'xyz-symbols'\n",
      "\n",
      "Getting structure from symmetry option: 'xyz-symbols'\n",
      "\n",
      "\n",
      "CPU TIME determineSiteOperations:  0.00 sec \n",
      "CPU TIME analyseGroup:  0.00 sec \n",
      "\n",
      "WARNING:\n",
      " Lattice type or lattice constants changed!\n",
      " Will take default values for bandplot special symmetry points!\n",
      "WARNING:\n",
      " number of Wyckoff positions changed!\n",
      " Will take default concentrations and initial_spin_split!\n",
      "\n",
      "\n",
      "------------------------------------------------------------------------\n",
      "Blocks contained in cif file '180.cif':\n",
      "------------------------------------------------------------------------\n",
      "symmetry block No.   name\n",
      "------------------------------------------------------------------------\n",
      "     0               caso4\n",
      "------------------------------------------------------------------------\n",
      "blockswithsymdata [0 ] 183\n",
      "\n",
      "\n",
      "Symmetry information for datablock: caso4\n",
      "Space group number: 1\n",
      "Name-Hall         : not found\n",
      "xyz-symbol        :  gives hallsymbol P 1\n",
      "\n",
      "The following symmetry options are available:\n",
      "  0 'xyz-symbols'\n",
      "\n",
      "Getting structure from symmetry option: 'xyz-symbols'\n",
      "\n",
      "\n",
      "CPU TIME determineSiteOperations:  0.00 sec \n",
      "CPU TIME analyseGroup:  0.00 sec \n",
      "\n",
      "WARNING:\n",
      " Lattice type or lattice constants changed!\n",
      " Will take default values for bandplot special symmetry points!\n",
      "WARNING:\n",
      " number of Wyckoff positions changed!\n",
      " Will take default concentrations and initial_spin_split!\n",
      "\n",
      "\n",
      "------------------------------------------------------------------------\n",
      "Blocks contained in cif file '181.cif':\n",
      "------------------------------------------------------------------------\n",
      "symmetry block No.   name\n",
      "------------------------------------------------------------------------\n",
      "     0               al2w\n",
      "------------------------------------------------------------------------\n",
      "blockswithsymdata [0 ] \n",
      "\n",
      "Symmetry information for datablock: al2w\n",
      "Space group number: 1\n",
      "Name-Hall         : not found\n",
      "xyz-symbol        :  gives hallsymbol P 1\n",
      "\n",
      "The following symmetry options are available:\n",
      "  0 'xyz-symbols'\n",
      "\n",
      "Getting structure from symmetry option: 'xyz-symbols'\n",
      "\n",
      "\n",
      "CPU TIME determineSiteOperations:  0.00 sec \n",
      "CPU TIME analyseGroup:  0.00 sec \n",
      "\n",
      "WARNING:\n",
      " Lattice type or lattice constants changed!\n",
      " Will take default values for bandplot special symmetry points!\n",
      "WARNING:\n",
      " number of Wyckoff positions changed!\n",
      " Will take default concentrations and initial_spin_split!\n",
      "\n",
      "\n",
      "------------------------------------------------------------------------\n",
      "Blocks contained in cif file '182.cif':\n",
      "------------------------------------------------------------------------\n",
      "symmetry block No.   name\n",
      "------------------------------------------------------------------------\n",
      "     0               ag2sno3\n",
      "------------------------------------------------------------------------\n",
      "blockswithsymdata [0 ] \n",
      "\n",
      "Symmetry information for datablock: ag2sno3\n",
      "Space groufedit pipe succesfull\n",
      "spacegroup number :  183\n",
      "spacegroup setting:  default\n",
      "lattice constants :  ['10.35882999621531', '10.35882999621531', '7.883519']\n",
      "axis angle        :  ['90', '90', '120']\n",
      "Wyckoff positions:  2\n",
      "Ag                    0                    0            -0.002493\n",
      " I                    0                    0            -0.327507\n",
      "p number: 1\n",
      "Name-Hall         : not found\n",
      "xyz-symbol        :  gives hallsymbol P 1\n",
      "\n",
      "The followi184\n",
      "fedit pipe succesfull\n",
      "spacegroup number :  184\n",
      "spacegroup setting:  default\n",
      "lattice constants :  ['14.09720600236476', '14.09720600236476', '8.715988']\n",
      "axis angle        :  ['90', '90', '120']\n",
      "Wyckoff positions:  6\n",
      "Al             -0.12153             0.334421            -0.063071\n",
      " P            -0.122754             0.331061            -0.437867\n",
      " O            -0.156229             0.412446                  1/2\n",
      " O            -0.008831             0.359773            -0.496886\n",
      " O             -0.12156             0.334436            -0.262437\n",
      " O             0.215202            -0.205238              0.00747\n",
      "185\n",
      "fedit pipe succesfull\n",
      "spacegroup number :  1\n",
      "spacegroup setting:  default\n",
      "lattice constants :  ['5.89381298243151', '5.8938117', '15.84543758']\n",
      "axis angle        :  ['89.99995139000001', '89.99998894001432', '60.00001379339931']\n",
      "Wyckoff positions:  42\n",
      "Al          -0.31979591           0.31979591           0.12292411\n",
      "Al                    0          -0.31979551           0.12292409\n",
      "Al            0.3197954           0.00000031            0.1229241\n",
      "Al          -0.31978385          -0.00000019          -0.37705426\n",
      "Al           0.31978416          -0.31978416          -0.37705431\n",
      "Al                    0           0.31978386          -0.37705419\n",
      "Al                    0           0.34767938          -0.12248155\n",
      "Al          -0.34767927          -0.00000114          -0.12248159\n",
      "Al           0.34767944          -0.34767944          -0.12248204\n",
      "Al                    0          -0.34766537           0.37753279\n",
      "Al             0.347665           0.00000014           0.37753279\n",
      "Al          -0.34766536           0.34766536           0.37753277\n",
      "Al                  1/3                  1/3          -0.26216041\n",
      "Al                  1/3                  1/3            0.2378456\n",
      "Al                 -1/3                 -1/3          -0.26216031\n",
      "Al                 -1/3                 -1/3           0.23784565\n",
      "Al                    0                    0           0.26739277\n",
      "Al                    0                    0           -0.2325984\n",
      " B                    0                    0           0.49040422\n",
      " B                    0                    0          -0.00962648\n",
      " B                 -1/3                 -1/3           -0.4936453\n",
      " B                 -1/3                 -1/3           0.00632184\n",
      " B                  1/3                  1/3          -0.49364529\n",
      " B                  1/3                  1/3           0.00632186\n",
      " C                    0                    0            0.4005378\n",
      " C                    0                    0          -0.09947159\n",
      " C                 -1/3                 -1/3          -0.40304838\n",
      " C                 -1/3                 -1/3           0.09693627\n",
      " C                    0          -0.33307186           0.25011703\n",
      " C           0.33307178           0.00000012           0.25011701\n",
      " C          -0.33307223           0.33307223             0.250117\n",
      " C                    0           0.33307327          -0.24988083\n",
      " C          -0.33307291          -0.00000059          -0.24988085\n",
      " C           0.33307371          -0.33307371          -0.24988099\n",
      " C                    0                    0          -0.41890901\n",
      " C                    0                    0           0.08108154\n",
      " C                 -1/3                 -1/3           0.41588721\n",
      " C                 -1/3                 -1/3          -0.08412741\n",
      " C                  1/3                  1/3          -0.40304838\n",
      " C                  1/3                  1/3           0.09693627\n",
      " C                  1/3                  1/3           0.41588722\n",
      " C                  1/3                  1/3          -0.08412739\n",
      "186\n",
      "ng symmetry options are available:\n",
      "  0 'xyz-symbols'\n",
      "\n",
      "Getting structure from symmetry option: 'xyz-symbols'\n",
      "\n",
      "\n",
      "CPU TIME determineSiteOperations:  0.00 sec \n",
      "CPU TIME analyseGroup:  0.00 sec \n",
      "\n",
      "WARNING:\n",
      " Lattice type or lattice constants changed!\n",
      " Will take default values for bandplot special symmetry points!\n",
      "WARNING:\n",
      " number of Wyckoff positions changed!\n",
      " Will take default concentrations and initial_spin_split!\n",
      "\n",
      "\n",
      "------------------------------------------------------------------------\n",
      "Blocks contained in cif file '183.cif':\n",
      "------------------------------------------------------------------------\n",
      "symmetry block No.   name\n",
      "------------------------------------------------------------------------\n",
      "     0               agi\n",
      "------------------------------------------------------------------------\n",
      "blockswithsymdata [0 ] \n",
      "\n",
      "Symmetry information for datablock: agi\n",
      "Space group number: 1\n",
      "Name-Hall         : not found\n",
      "xyz-symbol        :  gives hallsymbol P 1\n",
      "\n",
      "The following symmetry options are availablfedit pipe succesfull\n",
      "spacegroup number :  186\n",
      "spacegroup setting:  default\n",
      "lattice constants :  ['3.55718399890894', '3.55718399890894', '5.553497']\n",
      "axis angle        :  ['90', '90', '120']\n",
      "Wyckoff positions:  2\n",
      "Ag                  1/3                 -1/3             0.494836\n",
      " C                  1/3                 -1/3            -0.119838\n",
      "e:\n",
      "  0 'xyz-symbols'\n",
      "\n",
      "Getting structure from symmetry option: 'xyz-symbols'\n",
      "\n",
      "\n",
      "CPU TIME determineSiteOperations:  0.00 sec \n",
      "CPU TIME analyseGroup:  0.00 sec \n",
      "\n",
      "WARNING:\n",
      " Lattice type or lattice constants changed!\n",
      " Will take default values for bandplot special symmetry points!\n",
      "WARNING:\n",
      " number of Wyckoff positions changed!\n",
      " Will take default concentrations and initial_spin_split!\n",
      "\n",
      "\n",
      "------------------------------------------------------------------------\n",
      "Blocks contained in cif file '184.cif':\n",
      "------------------------------------------------------------------------\n",
      "symmetry block No.   name\n",
      "------------------------------------------------------------------------\n",
      "     0               alpo4\n",
      "------------------------------------------------------------------------\n",
      "blockswithsymdata [0 ] \n",
      "\n",
      "Symmetry information for datablock: alpo4\n",
      "Space group number: 1\n",
      "Name-Hall         : not found\n",
      "xyz-symbol        :  gives hallsymbol P 1\n",
      "\n",
      "The following symmetry options are available:\n",
      "  0 'xyz-symbols'\n",
      "\n",
      "Getting structure from symmetry option: 'xyz-symbols'\n",
      "\n",
      "\n",
      "CPU TIME determineSiteOperations:  0.00 sec \n",
      "CPU TIME analyseGroup:  0.00 sec \n",
      "\n",
      "WARNING:\n",
      " Lattice type or lattice constants changed!\n",
      " Will take default values for bandplot special symmetry points!\n",
      "WARNING:\n",
      " number of Wyckoff positions changed!\n",
      " Will take default concentrations and initial_spin_split!\n",
      "\n",
      "\n",
      "------------------------------------------------------------------------\n",
      "Blocks contained in cif file '185.cif':\n",
      "------------------------------------------------------------------------\n",
      "symmetry block No.   name\n",
      "------------------------------------------------------------------------\n",
      "     0               al3bc3\n",
      "------------------------------------------------------------------------\n",
      "blockswithsymdata [0 ] \n",
      "\n",
      "Symmetry information for datablock: al3bc3\n",
      "Space group number: 1\n",
      "Name-Hall         : not found\n",
      "xyz-symbol        :  gives hallsymbol P 1\n",
      "\n",
      "The following symmetry options are available:\n",
      "  0 'xyz-symbols'\n",
      "\n",
      "Getting structure from symmetry option: 'xyz-symbols'\n",
      "\n",
      "\n",
      "CPU TIME determineSiteOperations:  0.00 sec \n",
      "CPU TIME analyseGroup:  0.00 sec \n",
      "\n",
      "WARNING:\n",
      " Lattice type or lattice constants changed!\n",
      " Will take default values for bandplot special symmetry points!\n",
      "WARNING:\n",
      " number of Wyckoff positions changed!\n",
      " Will take default concentrations and initial_spin_split!\n",
      "\n",
      "\n",
      "------------------------------------------------------------------------\n",
      "Blocks contained in cif file '186.cif':\n",
      "------------------------------------------------------------------------\n",
      "symmetry block No.   name\n",
      "------------------------------------------------------------------------\n",
      "     0               agc\n",
      "------------------------------------------------------------------------\n",
      "blockswithsymdata [0 ] \n",
      "\n",
      "Symmetry information for datablock: agc\n",
      "Space group number: 1\n",
      "Name-Hall         : not found\n",
      "xyz-symbol        :  gives hallsymbol P 1\n",
      "\n",
      "The following symmetry options are available:\n",
      "  0 'xyz-symbols'\n",
      "\n",
      "Getting structure from symmetry option: 'xyz-symbols'\n",
      "\n",
      "\n",
      "CPU TIME determineSiteOperations:  0.00 sec \n",
      "CPU TIME analyseGroup:  0.00 sec \n",
      "\n",
      "WARNING:\n",
      " Lattice type o187\n",
      "fedit pipe succesfull\n",
      "spacegroup number :  187\n",
      "spacegroup setting:  default\n",
      "lattice constants :  ['3.99061817630766', '3.99061817630766', '6.14140068']\n",
      "axis angle        :  ['90', '90', '120']\n",
      "Wyckoff positions:  2\n",
      "Ac                    0                    0                    0\n",
      "La                  1/3                 -1/3                 -1/2\n",
      "188\n",
      "fedit pipe succesfull\n",
      "spacegroup number :  40\n",
      "spacegroup setting:  default\n",
      "lattice constants :  ['10.11018', '6.83591199953437', '11.84014599967218']\n",
      "axis angle        :  ['90', '90', '90']\n",
      "Wyckoff positions:  11\n",
      "Ba                    0                    0                    0\n",
      "Hf                    0                    0                  1/3\n",
      "Si                  1/4             0.170709            -0.223166\n",
      "Si                  1/4            -0.420103             0.026228\n",
      "Si                  1/4             0.249394             0.196937\n",
      " O                  1/4            -0.278752             0.140075\n",
      " O                  1/4            0.3494885            0.0693385\n",
      " O                  1/4           -0.0707365           -0.2094135\n",
      " O               0.1162             0.249052            -0.161832\n",
      " O               0.1162            -0.367274             -0.04361\n",
      " O               0.1162             0.118222             0.205442\n",
      "189\n",
      "fedit pipe succesfull\n",
      "spacegroup number :  38\n",
      "spacegroup setting:  default\n",
      "lattice constants :  ['4.96995389', '10.6845730402839', '6.16841239047832']\n",
      "axis angle        :  ['90', '90', '90']\n",
      "Wyckoff positions:  4\n",
      "Ac                    0                    0                    0\n",
      "Mg                  1/2           0.24587135          -0.24587135\n",
      "Mg                    0                  1/3                    0\n",
      "Mg                  1/2          0.000000065          0.491683715\n",
      "190\n",
      "r lattice constants changed!\n",
      " Will take default values for bandplot special symmetry points!\n",
      "WARNING:\n",
      " number of Wyckoff positions changed!\n",
      " Will take default concentrations and initial_spin_split!\n",
      "\n",
      "\n",
      "------------------------------------------------------------------------\n",
      "Blocks contained in cif file '187.cif':\n",
      "------------------------------------------------------------------------\n",
      "symmetry block No.   name\n",
      "------------------------------------------------------------------------\n",
      "     0               acla\n",
      "------------------------------------------------------------------------\n",
      "blockswithsymdata [0 ] \n",
      "\n",
      "Symmetry information for datablock: acla\n",
      "Space group number: 1\n",
      "Name-Hall         : not found\n",
      "xyz-symbol        :  gives hallsymbol P 1\n",
      "\n",
      "The following symmetry options are available:\n",
      "  0 'xyz-symbols'\n",
      "\n",
      "Getting structure from symmetry option: 'xyz-symbols'\n",
      "\n",
      "\n",
      "CPU TIME determineSiteOperations:  0.00 sec \n",
      "CPU TIME analyseGroup:  0.00 sec \n",
      "\n",
      "WARNING:\n",
      " Lattice type or lattice constants changed!\n",
      " Will take default values for bandplot special symmetry points!\n",
      "WARNING:\n",
      " number of Wyckoff positions changed!\n",
      " Will take default concentrations and initial_spin_split!\n",
      "\n",
      "\n",
      "------------------------------------------------------------------------\n",
      "Blocks contained in cif file '188.cif':\n",
      "------------------------------------------------------------------------\n",
      "symmetry block No.   name\n",
      "------------------------------------------------------------------------\n",
      "     0               bahf(sio3)3\n",
      "------------------------------------------------------------------------\n",
      "blockswithsymdata [0 ] \n",
      "\n",
      "Symmetry information for datablock: bahf(sio3)3\n",
      "Space group number: 1\n",
      "Name-Hall         : not found\n",
      "xyz-symbol        :  gives hallsymbol P 1\n",
      "\n",
      "The following symmetry options are available:\n",
      "  0 'xyz-symbols'\n",
      "\n",
      "Getting structure from symmetry option: 'xyz-symbols'\n",
      "\n",
      "\n",
      "CPU TIME determineSiteOperations:  0.00 sec \n",
      "CPU TIME analyseGroup:  0.00 sec \n",
      "\n",
      "WARNING:\n",
      " Lattice type or lattice constants changed!\n",
      " Will take defaulfedit pipe succesfull\n",
      "spacegroup number :  190\n",
      "spacegroup setting:  default\n",
      "lattice constants :  ['8.20346', '8.20346', '6.094279']\n",
      "axis angle        :  ['90', '90', '120']\n",
      "Wyckoff positions:  4\n",
      "Ag                    0                    0                 -1/4\n",
      " N             0.175447            -0.130735                 -1/4\n",
      " N                 -1/3                  1/3                 -1/4\n",
      " O            -0.463036             0.372016                 -1/4\n",
      "t values for bandplot special symmetry points!\n",
      "WARNING:\n",
      " number of Wyckoff positions changed!\n",
      " Will take default concentrations and initial_spin_split!\n",
      "\n",
      "\n",
      "------------------------------------------------------------------------\n",
      "Blocks contained in cif file '189.cif':\n",
      "------------------------------------------------------------------------\n",
      "symmetry block No.   name\n",
      "------------------------------------------------------------------------\n",
      "     0               acmg5\n",
      "------------------------------------------------------------------------\n",
      "blockswithsymdata [0 ] \n",
      "\n",
      "Symmetry information for datablock: acmg5\n",
      "Space group number: 1\n",
      "Name-Hall         : not found\n",
      "xyz-symbol        :  gives hallsymbol P 1\n",
      "\n",
      "The following symmetry options are available:\n",
      "  0 'xyz-symbols'\n",
      "\n",
      "Getting structure from symmetry option: 'xyz-symbols'\n",
      "\n",
      "\n",
      "CPU TIME determineSiteOperations:  0.00 sec \n",
      "CPU TIME analyseGroup:  0.00 sec \n",
      "\n",
      "WARNING:\n",
      " Lattice type or lattice constants changed!\n",
      " Will take default values for bandplot special symmetry points!\n",
      "WARNING:\n",
      " number of Wyckoff positions changed!\n",
      " Will take default concentrations and initial_spin_split!\n",
      "\n",
      "\n",
      "------------------------------------------------------------------------\n",
      "Blocks contained in cif file '190.cif':\n",
      "------------------------------------------------------------------------\n",
      "symmetry block No.   name\n",
      "------------------------------------------------------------------------\n",
      "     0               agn4o3\n",
      "------------------------------------------------------------------------\n",
      "blockswithsymdata [0 ] \n",
      "\n",
      "Symmetry information for datablock: agn4o3\n",
      "Space group number: 1\n",
      "Name-Hall         : not found\n",
      "xyz-symbol        :  gives hallsymbol P 1\n",
      "\n",
      "The following symmetry options are available:\n",
      "  0 'xyz-symbols'\n",
      "\n",
      "Getting structure from symmetry option: 'xyz-symbols'\n",
      "\n",
      "\n",
      "CPU TIME determineSiteOperations:  0.00 sec \n",
      "CPU TIME analyseGroup:  0.00 sec \n",
      "\n",
      "WARNING:\n",
      " Lattice type or lattice constants changed!\n",
      " Will take default values for bandplot special symmetry points!\n",
      "WARNING191\n",
      ":\n",
      " number of Wyckoff positions changed!\n",
      " Will take default concentrations and initial_spin_splitfedit pipe succesfull\n",
      "spacegroup number :  191\n",
      "spacegroup setting:  default\n",
      "lattice constants :  ['13.98586938', '13.98586938', '8.58322']\n",
      "axis angle        :  ['90', '90', '120']\n",
      "Wyckoff positions:  8\n",
      "Ag            -0.121363             0.121363                    0\n",
      "Ag            -0.460822            -0.334766                 -1/2\n",
      "Ag            -0.238716             0.238716            -0.198924\n",
      "Ag                    0                    0             -0.15684\n",
      "Te                 -1/3                  1/3                    0\n",
      "Te            -0.196304            -0.196304                 -1/2\n",
      "Te            -0.348969            -0.348969            -0.213496\n",
      "As                 -1/2                 -1/2                    0\n",
      "192\n",
      "fedit pipe succesfull\n",
      "spacegroup number :  66\n",
      "spacegroup setting:  default\n",
      "lattice constants :  ['16.11408600432939', '9.30347200296694', '9.277577']\n",
      "axis angle        :  ['90', '90', '90']\n",
      "Wyckoff positions:  12\n",
      "Be                  1/4                  1/4                  1/4\n",
      "Be                 -1/2                    0                 -1/4\n",
      "Al                 -1/3                    0                  1/4\n",
      "Si            -0.136107            -0.251205                    0\n",
      "Si            -0.057549            -0.329763                 -1/2\n",
      "Si             0.193656             0.078558                 -1/2\n",
      " O               0.1178             0.191677                 -1/2\n",
      " O            -0.036939             0.272538                 -1/2\n",
      " O            -0.154738             0.080861                 -1/2\n",
      " O            -0.072375            -0.426047            -0.354192\n",
      " O             0.249211             0.104461            -0.354192\n",
      " O            -0.176836             0.321586            -0.354192\n",
      "193\n",
      "fedit pipe succesfull\n",
      "spacegroup number :  193\n",
      "spacegroup setting:  default\n",
      "lattice constants :  ['9.87842000332044', '9.87842000332044', '16.640679']\n",
      "axis angle        :  ['90', '90', '120']\n",
      "Wyckoff positions:  6\n",
      "Ba             0.260206                    0            -0.396775\n",
      "Ba                 -1/3                  1/3                  1/2\n",
      "Ba                 -1/3                  1/3                 -1/4\n",
      "Al              0.26958              0.26958                 -1/4\n",
      "Ge            -0.393944            -0.393944             0.117375\n",
      "Ge                    0                    0                  1/4\n",
      "194\n",
      "fedit pipe succesfull\n",
      "spacegroup number :  194\n",
      "spacegroup setting:  default\n",
      "lattice constants :  ['4.04604025985238', '4.04604025985238', '13.01703648']\n",
      "axis angle        :  ['90', '90', '120']\n",
      "Wyckoff positions:  2\n",
      "Ac                    0                    0                 -1/2\n",
      "Ac                 -1/3                  1/3                 -1/4\n",
      "195\n",
      "!\n",
      "\n",
      "\n",
      "------------------------------------------------------------------------\n",
      "Blocks contained in cif file '191.cif':\n",
      "------------------------------------------------------------------------\n",
      "symmetry block No.   name\n",
      "------------------------------------------------------------------------\n",
      "     0               ag32te20as3\n",
      "------------------------------------------------------------------------\n",
      "blockswithsymdata [0 ] \n",
      "\n",
      "Symmetry information for datablock: ag32te20as3\n",
      "Space group number: 1\n",
      "Name-Hall         : not found\n",
      "xyz-symbol        :  gives hallsymbol P 1\n",
      "\n",
      "The following symmetry options are available:\n",
      "  0 'xyz-symbols'\n",
      "\n",
      "Getting structure from symmetry option: 'xyz-symbols'\n",
      "\n",
      "\n",
      "CPU TIME determineSiteOperations:  0.00 sec \n",
      "CPU TIME analyseGroup:  0.00 sec \n",
      "\n",
      "WARNING:\n",
      " Lattice type or lattice constants changed!\n",
      " Will take default values for bandplot special symmetry points!\n",
      "WARNING:\n",
      " number of Wyckoff positions changed!\n",
      " Will take default concentrations and initial_spin_split!\n",
      "\n",
      "\n",
      "------------fedit pipe succesfull\n",
      "spacegroup number :  195\n",
      "spacegroup setting:  default\n",
      "lattice constants :  ['14.77522257', '14.77522257', '14.77522257']\n",
      "axis angle        :  ['90', '90', '90']\n",
      "Wyckoff positions:  4\n",
      "Ce          -0.35525041          -0.41929154          -0.16523525\n",
      "Se          -0.33548082                 -1/2                    0\n",
      "Se                 -1/2                 -1/2          -0.24569395\n",
      "Se          -0.41991482          -0.24802092          -0.18975794\n",
      "------------------------------------------------------------\n",
      "Blocks contained in cif file '192.cif':\n",
      "------------------------------------------------------------------------\n",
      "symmetry block No.   name\n",
      "------------------------------------------------------------------------\n",
      "     0               be3al2(sio3)6\n",
      "------------------------------------------------------------------------\n",
      "blockswithsymdata [0 ] \n",
      "\n",
      "Symmetry information for datablock: be3al2(sio3)6\n",
      "Space group number: 1\n",
      "Name-Hall         : not found\n",
      "xyz-symbol        :  gives hallsymbol P 1\n",
      "\n",
      "The following symmetry options are available:\n",
      "  0 'xyz-symbols'\n",
      "\n",
      "Getting structure from symmetry option: 'xyz-symbols'\n",
      "\n",
      "\n",
      "CPU TIME determineSiteOperations:  0.00 sec \n",
      "CPU TIME analyseGroup:  0.00 sec \n",
      "\n",
      "WARNING:\n",
      " Lattice type or lattice constants changed!\n",
      " Will take default values for bandplot special symmetry points!\n",
      "WARNING:\n",
      " number of Wyckoff positions changed!\n",
      " Will take default concentrations and initial_spin_split!\n",
      "\n",
      "\n",
      "------------------------------------------------------------------------\n",
      "Blocks contained in cif file '193.cif':\n",
      "------------------------------------------------------------------------\n",
      "symmetry block No.   name\n",
      "------------------------------------------------------------------------\n",
      "     0               ba10al3ge7\n",
      "------------------------------------------------------------------------\n",
      "blockswithsymdata [0 ] \n",
      "\n",
      "Symmetry information for datablock: ba10al3ge7\n",
      "Space group number: 1\n",
      "Name-Hall         : not found\n",
      "xyz-symbol        :  gives hallsymbol P 1\n",
      "\n",
      "The following symmetry options are available:\n",
      "  0 'xyz-symbols'\n",
      "\n",
      "Getting structure from symmetry option: 'xyz-symbols'\n",
      "\n",
      "\n",
      "CPU TIME determineSiteOperations:  0.00 sec \n",
      "CPU TIME analyseGroup:  0.00 sec \n",
      "\n",
      "WARNING:\n",
      " Lattice type or lattice constants changed!\n",
      " Will take default values for bandplot special symmetry points!\n",
      "WARNING:\n",
      " number of Wyckoff positions changed!\n",
      " Will take default concentrations and initial_spin_split!\n",
      "\n",
      "\n",
      "------------------------------------------------------------------------\n",
      "Blocks contained in cif file '194.cif':\n",
      "------------------------------------------------------------------------\n",
      "symmetry block No.   name\n",
      "------------------------------------------------------------------------\n",
      "     0               ac\n",
      "------------------------------------------------------------------------\n",
      "blockswithsymdata [0 ] \n",
      "\n",
      "Symmetry information for datablock: ac\n",
      "Space group number: 1\n",
      "Name-Hall         : not found\n",
      "xyz-symbol        :  gives hallsymbol P 1\n",
      "\n",
      "The following symmetry options are available:\n",
      "  0 'xyz-symbols'\n",
      "\n",
      "Getting structure from symmetry option: 'xyz-symbols'\n",
      "\n",
      "\n",
      "CPU TIME determineSiteOperations:  0.00 sec \n",
      "CPU TIME analyseGroup:  0.00 sec \n",
      "\n",
      "WARNING:\n",
      " Lattice type or lattice constants changed!\n",
      " Will take default values for bandplot special symmetry points!\n",
      "WARNING:\n",
      " number of Wyckoff positions changed!\n",
      " Will take default concentrations and initial_spin_split!\n",
      "\n",
      "\n",
      "------------------------------------------------------------------------\n",
      "Blocks contained in cif file '195.cif':\n",
      "-----------------------------------------------------------196\n",
      "fedit pipe succesfull\n",
      "spacegroup number :  146\n",
      "spacegroup setting:  R\n",
      "lattice constants :  ['10.61940176', '10.61940176', '10.61940176']\n",
      "axis angle        :  ['60', '60', '60']\n",
      "Wyckoff positions:  27\n",
      "Ca             0.031192             0.031192             0.468808\n",
      "Ca             0.468808             0.468808             0.031192\n",
      "Ca            -0.136317            -0.136317            -0.136317\n",
      "Ca            -0.136317              0.40895            -0.136317\n",
      "Ca            -0.363494            -0.363494            -0.363494\n",
      "Ca            -0.363494             0.090482            -0.363494\n",
      "Al                 -1/4                 -1/4                 -1/4\n",
      "Al             0.387828             0.387828             0.387828\n",
      "Al             0.387828            -0.163484             0.387828\n",
      "Al             0.255939             0.255939            -0.255939\n",
      "Al            -0.255939            -0.255939             0.255939\n",
      "Al                  1/4                  1/4                  1/4\n",
      "Zn             0.077716             0.077716             0.077716\n",
      "Zn             0.077716            -0.233149             0.077716\n",
      " O            -0.379633            -0.379633            -0.120367\n",
      " O            -0.120367            -0.120367            -0.379633\n",
      " O             0.318334             0.318334             0.318334\n",
      " O             0.318334             0.044997             0.318334\n",
      " O            -0.091023             0.095263             0.293655\n",
      " O             0.293655            -0.297896            -0.091023\n",
      " O            -0.297896             0.293655             0.095263\n",
      " O             0.095263            -0.091023            -0.297896\n",
      " O             0.239094            -0.217645             0.414319\n",
      " O             0.414319            -0.435769             0.239094\n",
      " O            -0.435769             0.414319            -0.217645\n",
      " O            -0.217645             0.239094            -0.435769\n",
      " O                    0                    0                    0\n",
      "197\n",
      "fedit pipe succesfull\n",
      "spacegroup number :  197\n",
      "spacegroup setting:  default\n",
      "lattice constants :  ['10.19382199634257', '10.19382199634257', '10.19382199634257']\n",
      "axis angle        :  ['90', '90', '90']\n",
      "Wyckoff positions:  5\n",
      "Al                    0                    0                    0\n",
      "Bi            -0.175607            -0.011045            -0.316078\n",
      " O             0.102139             0.102139             0.102139\n",
      " O             0.131475            -0.486733             0.255295\n",
      " O           -0.1941905           -0.1941905           -0.1941905\n",
      "198\n",
      "fedit pipe succesfull\n",
      "spacegroup number :  198\n",
      "spacegroup setting:  default\n",
      "lattice constants :  ['8.047341', '8.047341', '8.047341']\n",
      "axis angle        :  ['90', '90', '90']\n",
      "Wyckoff positions:  4\n",
      "Ag             0.315672             -0.01948              0.35812\n",
      " S             -0.14317             -0.35683              0.35683\n",
      " N             0.079273            -0.420727            -0.079273\n",
      " O             -0.30889            -0.078681            -0.032212\n",
      "199\n",
      "-------------\n",
      "symmetry block No.   name\n",
      "------------------------------------------------------------------------\n",
      "     0               cese2\n",
      "------------------------------------------------------------------------\n",
      "blockswithsymdata [0 ] \n",
      "\n",
      "Symmetry information for datablock: cese2\n",
      "Space group number: 1\n",
      "Name-Hall         : not found\n",
      "xyz-symbol        :  gives hallsymbol P 1\n",
      "\n",
      "The following symmetry options are available:\n",
      "  0 'xyz-symbols'\n",
      "\n",
      "Getting structure from symmetry option: 'xyz-symbols'\n",
      "\n",
      "\n",
      "CPU TIME determineSiteOperations:  0.00 sec \n",
      "CPU TIME analyseGroup:  0.00 sec \n",
      "\n",
      "WARNING:\n",
      " Lattice type or lattice constants changed!\n",
      " Will take default values for bandplot special symmetry points!\n",
      "WARNING:\n",
      " number of Wyckoff positions changed!\n",
      " Will take default concentrations and initial_spin_split!\n",
      "\n",
      "\n",
      "------------------------------------------------------------------------\n",
      "Blocks contained in cif file '196.cif':\n",
      "------------------------------------------------------------------------\n",
      "symmetry block No.   name\n",
      "------------------------------------------------------------------------\n",
      "     0               ca14al12zn4o35\n",
      "------------------------------------------------------------------------\n",
      "blockswithsymdata [0 ] \n",
      "\n",
      "Symmetry information for datablock: ca14al12zn4o35\n",
      "Space group number: 1\n",
      "Name-Hall         : not found\n",
      "xyz-symbol        :  gives hallsymbol P 1\n",
      "\n",
      "The following symmetry options are available:\n",
      "  0 'xyz-symbols'\n",
      "\n",
      "Getting structure from symmetry option: 'xyz-symbols'\n",
      "\n",
      "\n",
      "CPU TIME determineSiteOperations:  0.00 sec \n",
      "CPU TIME analyseGroup:  0.00 sec \n",
      "\n",
      "WARNING:\n",
      " Lattice type or lattice constants changed!\n",
      " Will take default values for bandplot special symmetry points!\n",
      "WARNING:\n",
      " number of Wyckoff positions changed!\n",
      " Will take default concentrations and initial_spin_split!\n",
      "\n",
      "\n",
      "------------------------------------------------------------------------\n",
      "Blocks contained in cif file '197.cif':\n",
      "------------------------------------------------------------------------\n",
      "symmetry block No.   name\n",
      "------------------------------------------------------------------------\n",
      "     0               al(bi3o5)4\n",
      "------------------------------------------------------------------------\n",
      "blockswithsymdata [0 ] \n",
      "\n",
      "Symmetry information for datablock: al(bi3o5)4\n",
      "Space group number: 1\n",
      "Name-Hall         : not found\n",
      "xyz-symbol        :  gives hallsymbol P 1\n",
      "\n",
      "The following symmetry options are available:\n",
      "  0 'xyz-symbols'\n",
      "\n",
      "Getting structure from symmetry option: 'xyz-symbols'\n",
      "\n",
      "\n",
      "CPU TIME determineSiteOperations:  0.00 sec \n",
      "CPU TIME analyseGroup:  0.00 sec \n",
      "\n",
      "WARNING:\n",
      " Lattice type or lattice constants changed!\n",
      " Will take default values for bandplot special symmetry points!\n",
      "WARNING:\n",
      " number of Wyckoff positions changed!\n",
      " Will take default concentrations and initial_spin_split!\n",
      "\n",
      "\n",
      "------------------------------------------------------------------------\n",
      "Blocks contained in cif file '198.cif':\n",
      "------------------------------------------------------------------------\n",
      "symmetry block No.   name\n",
      "----------------fedit pipe succesfull\n",
      "spacegroup number :  199\n",
      "spacegroup setting:  default\n",
      "lattice constants :  ['10.00363600492779', '10.00363600492779', '10.00363600492779']\n",
      "axis angle        :  ['90', '90', '90']\n",
      "Wyckoff positions:  5\n",
      "Ag                 -1/2                 -1/4            -0.119365\n",
      "Ag                    0                  1/4            -0.126551\n",
      "Au            0.1226135            0.1226135            0.1226135\n",
      "Se            -0.233319            -0.233319            -0.233319\n",
      " S           -0.4858125            0.0141875            0.4858125\n",
      "--------------------------------------------------------\n",
      "     0               ag3sno3\n",
      "------------------------------------------------------------------------\n",
      "blockswithsymdata [0 ] \n",
      "\n",
      "Symmetry information for datablock: ag3sno3\n",
      "Space group number: 1\n",
      "Name-Hall         : not found\n",
      "xyz-symbol        :  gives hallsymbol P 1\n",
      "\n",
      "The following symmetry options are available:\n",
      "  0 'xyz-symbols'\n",
      "\n",
      "Getting structure from symmetry option: 'xyz-symbols'\n",
      "\n",
      "\n",
      "CPU TIME determineSiteOperations:  0.00 sec \n",
      "CPU TIME analyseGroup:  0.00 sec \n",
      "\n",
      "WARNING:\n",
      " Lattice type or lattice constants changed!\n",
      " Will take default values for bandplot special symmetry points!\n",
      "WARNING:\n",
      " number of Wyckoff positions changed!\n",
      " Will take default concentrations and initial_spin_split!\n",
      "\n",
      "\n",
      "------------------------------------------------------------------------\n",
      "Blocks contained in cif file '199.cif':\n",
      "------------------------------------------------------------------------\n",
      "symmetry block No.   name\n",
      "------------------------------------------------------------------------\n",
      "     0               ag3auses\n",
      "---------------------------------200\n",
      "fedit pipe succesfull\n",
      "spacegroup number :  200\n",
      "spacegroup setting:  default\n",
      "lattice constants :  ['12.927174', '12.927174', '12.927174']\n",
      "axis angle        :  ['90', '90', '90']\n",
      "Wyckoff positions:  11\n",
      "Al             0.165595             0.100575                    0\n",
      "Al             0.332149             0.399258                 -1/2\n",
      "Al             0.364234                    0                    0\n",
      "Al             0.111228                 -1/2                 -1/2\n",
      "Al             0.120272             0.186921             0.303993\n",
      "Al             0.391523             0.314874             0.193176\n",
      "Al             -0.12894            -0.103733                 -1/2\n",
      "Al            -0.313353                    0                 -1/2\n",
      "Re             0.165552             0.298909                 -1/2\n",
      "Re            -0.327426            -0.208866                    0\n",
      "Si                    0            -0.320777             0.403331\n",
      "201\n",
      "fedit pipe succesfull\n",
      "spacegroup number :  201\n",
      "spacegroup setting:  2\n",
      "lattice constants :  ['13.761003', '13.761003', '13.761003']\n",
      "axis angle        :  ['90', '90', '90']\n",
      "Wyckoff positions:  5\n",
      "Ag                    0                 -1/2                 -1/2\n",
      " W            -0.368283             0.477098            -0.469162\n",
      "Br            -0.362632            -0.362632            -0.362632\n",
      "Br            -0.316717            -0.425256               0.3732\n",
      "Br            -0.188103             0.442509             -0.42211\n",
      "202\n",
      "fedit pipe succesfull\n",
      "spacegroup number :  1\n",
      "spacegroup setting:  default\n",
      "lattice constants :  ['7.66997541', '7.66997594', '7.66998024']\n",
      "axis angle        :  ['60.00002421', '60.00005956', '60.00008201']\n",
      "Wyckoff positions:  34\n",
      " B           0.05117902          -0.05118001           0.21431579\n",
      " B           0.21431911          -0.21431884           0.05117944\n",
      " B          -0.05117889           0.05118016          -0.21431741\n",
      " B          -0.21431751           -0.0511789           0.05118111\n",
      " B          -0.21431783            0.0511794           0.21431855\n",
      " B          -0.05117901          -0.21431853           0.21431923\n",
      " B           0.21431933          -0.05117981          -0.21431913\n",
      " B           0.05118068          -0.21431732          -0.05117837\n",
      " B           0.21431823           0.05117914          -0.05118135\n",
      " B           0.05117911           0.21431833          -0.21431901\n",
      " B          -0.05118039           0.21431689           0.05117853\n",
      " B          -0.21431834           0.21431813          -0.05117912\n",
      " H           0.19539967           0.19539855           0.41378791\n",
      " H            0.1953822           0.19538374           0.19538856\n",
      " H           0.41378031           0.19540489           0.19540055\n",
      " H           0.19539813           0.41378667           0.19540036\n",
      " H          -0.19540116          -0.19540098          -0.41378545\n",
      " H          -0.19538757          -0.19538808           -0.1953874\n",
      " H          -0.41379089          -0.19539733          -0.19539818\n",
      " H          -0.19540284          -0.41378761          -0.19539952\n",
      " H           0.08869322          -0.08869527           0.36585391\n",
      " H            0.3658585          -0.36585843           0.08869556\n",
      " H          -0.08869244           0.08869467          -0.36585358\n",
      " H          -0.36585247           -0.0886928           0.08869434\n",
      " H          -0.36585849           0.08869535           0.36585852\n",
      " H          -0.08869538          -0.36585774            0.3658575\n",
      " H          -0.36585813            0.3658585          -0.08869572\n",
      " H          -0.08869412           0.36585179           0.08869292\n",
      " H            0.0886959           0.36585768          -0.36585791\n",
      " H           0.36585277            0.0886925          -0.08869446\n",
      " H           0.08869448          -0.36585207          -0.08869298\n",
      " H           0.36585791          -0.08869535          -0.36585771\n",
      " N                  1/4                  1/4                  1/4\n",
      " N                 -1/4                 -1/4                 -1/4\n",
      "203\n",
      "---------------------------------------\n",
      "blockswithsymdata [0 ] \n",
      "\n",
      "Symmetry information for datablock: ag3auses\n",
      "Space group number: 1\n",
      "Name-Hall         : not found\n",
      "xyz-symbol        :  gives hallsymbol P 1\n",
      "\n",
      "The following symmetry options are available:\n",
      "  0 'xyz-symbols'\n",
      "\n",
      "Getting structure from symmetry option: 'xyz-symbols'\n",
      "\n",
      "\n",
      "CPU TIME determineSiteOperations:  0.00 sec \n",
      "CPU TIME analyseGroup:  0.00 sec \n",
      "\n",
      "WARNING:\n",
      " Lattice type or lattice constants changed!\n",
      " Will take default values for bandplot special symmetry points!\n",
      "WARNING:\n",
      " number of Wyckoff positions changed!\n",
      " Will take default concentrations and initial_spin_split!\n",
      "\n",
      "\n",
      "------------------------------------------------------------------------\n",
      "Blocks contained in cif file '200.cif':\n",
      "------------------------------------------------------------------------\n",
      "symmetry block No.   name\n",
      "------------------------------------------------------------------------\n",
      "     0               al17(re2si)2\n",
      "---------------------------------------------------fedit pipe succesfull\n",
      "spacegroup number :  146\n",
      "spacegroup setting:  R\n",
      "lattice constants :  ['10.00194764', '10.00194764', '10.00194764']\n",
      "axis angle        :  ['60', '60', '60']\n",
      "Wyckoff positions:  22\n",
      "Cd                 5/11               0.0454               0.0454\n",
      "Cd               0.0454                 5/11                 5/11\n",
      "Cd              -0.2046               0.2046               0.2046\n",
      "Cd               0.2046              -0.2046              -0.2046\n",
      "Cd                 -3/8                 -3/8                  1/8\n",
      "Cd                 -3/8                 -3/8                 -3/8\n",
      " B            -0.147563            -0.147563             0.442688\n",
      " B            -0.147563            -0.147563            -0.147563\n",
      " B             0.397563             0.397563            -0.192688\n",
      " B             0.397563             0.397563             0.397563\n",
      " O            -0.282544            -0.152575            -0.005121\n",
      " O            -0.005121             0.440241            -0.282544\n",
      " O             0.440241            -0.005121            -0.152575\n",
      " O            -0.152575            -0.282544             0.440241\n",
      " O            -0.467456             0.402575             0.255121\n",
      " O             0.255121            -0.190241            -0.467456\n",
      " O            -0.190241             0.255121             0.402575\n",
      " O             0.402575            -0.467456            -0.190241\n",
      " O             0.155995             0.155995            -0.467985\n",
      " O             0.155995             0.155995             0.155995\n",
      " O             0.094005             0.094005            -0.282015\n",
      " O             0.094005             0.094005             0.094005\n",
      "---------------------\n",
      "blockswithsymdata [0 ] \n",
      "\n",
      "Symmetry information for datablock: al17(re2si)2\n",
      "Space group number: 1\n",
      "Name-Hall         : not found\n",
      "xyz-symbol        :  gives hallsymbol P 1\n",
      "\n",
      "The following symmetry options are available:\n",
      "  0 'xyz-symbols'\n",
      "\n",
      "Getting structure from symmetry option: 'xyz-symbols'\n",
      "\n",
      "\n",
      "CPU TIME determineSiteOperations:  0.00 sec \n",
      "CPU TIME analyseGroup:  0.00 sec \n",
      "\n",
      "WARNING:\n",
      " Lattice type or lattice constants changed!\n",
      " Will take default values for bandplot special symmetry points!\n",
      "WARNING:\n",
      " number of Wyckoff positions changed!\n",
      " Will take default concentrations and initial_spin_split!\n",
      "\n",
      "\n",
      "------------------------------------------------------------------------\n",
      "Blocks contained in cif file '201.cif':\n",
      "------------------------------------------------------------------------\n",
      "symmetry block No.   name\n",
      "------------------------------------------------------------------------\n",
      "     0               ag(w3br7)2\n",
      "------------------------------------------------------------------------\n",
      "blockswithsymdata [0 ] \n",
      "\n",
      "Symmetry information for datablock: ag(w3br7)2\n",
      "Space group number: 1\n",
      "Name-Hall         : not found\n",
      "xyz-symbol        :  gives hallsymbol P 1\n",
      "\n",
      "The following symmetry options are available:\n",
      "  0 'xyz-symbols'\n",
      "\n",
      "Getting structure from symmetry option: 'xyz-symbols'\n",
      "\n",
      "\n",
      "CPU TIME determineSiteOperations:  0.00 sec \n",
      "CPU TIME analyseGroup:  0.00 sec \n",
      "\n",
      "WARNING:\n",
      " Lattice type or lattice constants changed!\n",
      " Will take default values for bandplot special symmetry points!\n",
      "WARNING:\n",
      " number of Wyckoff positions changed!\n",
      " Will take default concentrations and initial_spin_split!\n",
      "\n",
      "\n",
      "------------------------------------------------------------------------\n",
      "Blocks contained in cif file '202.cif':\n",
      "------------------------------------------------------------------------\n",
      "symmetry block No.   name\n",
      "------------------------------------------------------------------------\n",
      "     0               b6h10n\n",
      "------------------------------------------------------------------------\n",
      "blockswithsymdata [0 ] \n",
      "\n",
      "Symmetry information for datablock: b6h10n\n",
      "Space group number: 1\n",
      "Name-Hall         : not found\n",
      "xyz-symbol        :  gives hallsymbol P 1\n",
      "\n",
      "The following symmetry options are available:\n",
      "  0 'xyz-symbols'\n",
      "\n",
      "Getting structure from symmetry option: 'xyz-symbols'\n",
      "\n",
      "\n",
      "CPU TIME determineSiteOperations:  0.00 sec \n",
      "CPU TIME analyseGroup:  0.00 sec \n",
      "\n",
      "WARNING:\n",
      " Lattice type or lattice constants changed!\n",
      " Will take default values for bandplot special symmetry points!\n",
      "WARNING:\n",
      " number of Wyckoff positions changed!\n",
      " Will take default concentrations and initial_spin_split!\n",
      "\n",
      "\n",
      "------------------------------------------------------------------------\n",
      "Blocks contained in cif file '203.cif':\n",
      "------------------------------------------------------------------------\n",
      "symmetry block No.   name\n",
      "------------------------------------------------------------------------\n",
      "     0               cd2bo4\n",
      "------------------------------------------------------------------------\n",
      "blockswithsymdata [0 ] \n",
      "\n",
      "Symmetry informat204\n",
      "ion for datablock: cd2bo4\n",
      "Space group number: 1\n",
      "Name-Hall         : not found\n",
      "xyz-symbol        fedit pipe succesfull\n",
      "spacegroup number :  148\n",
      "spacegroup setting:  R\n",
      "lattice constants :  ['6.51854949', '6.51854949', '6.51854949']\n",
      "axis angle        :  ['109.47121625000001', '109.47121625000001', '109.47121625000001']\n",
      "Wyckoff positions:  3\n",
      "Al           0.30777085           0.18655487           0.49432672\n",
      "Al          -0.18655487           0.12121497           0.30777085\n",
      "Mo                    0                    0                    0\n",
      "205\n",
      "fedit pipe succesfull\n",
      "spacegroup number :  205\n",
      "spacegroup setting:  default\n",
      "lattice constants :  ['12.4300559', '12.4300559', '12.4300559']\n",
      "axis angle        :  ['90', '90', '90']\n",
      "Wyckoff positions:  5\n",
      "Ag          -0.36664592          -0.36664592          -0.36664592\n",
      " B          -0.09401438           0.07213505           0.06623792\n",
      " B            0.1309158           0.47228817          -0.46936979\n",
      "Cl          -0.19632517            0.1476182           0.13263645\n",
      "Cl          -0.27053016          -0.44608133           0.44316799\n",
      "206\n",
      "fedit pipe succesfull\n",
      "spacegroup number :  1\n",
      "spacegroup setting:  default\n",
      "lattice constants :  ['8.38480265979881', '8.38514488', '8.38471779']\n",
      "axis angle        :  ['70.52890238000001', '70.53038026650479', '109.47094832537476']\n",
      "Wyckoff positions:  32\n",
      "Ag                  1/2                    0                    0\n",
      "Ag                  1/2                  1/2                 -1/2\n",
      "Ag                    0                    0                  1/2\n",
      "Ag                    0                 -1/2                    0\n",
      "Sb                    0                    0                    0\n",
      "Sb                 -1/2                    0                  1/2\n",
      "Sb                 -1/2                 -1/2                    0\n",
      "Sb                    0                  1/2                 -1/2\n",
      " F          -0.32301066           0.26151153           0.29169095\n",
      " F          -0.17694276          -0.46868109           0.41548704\n",
      " F           0.05319063          -0.03131887           0.20827627\n",
      " F          -0.46868398           0.08450497          -0.32303046\n",
      " F           0.20827888          -0.32304973           0.23854432\n",
      " F           0.41550233           0.44681609           0.26145289\n",
      " F           0.23848818           0.41548511           0.05320043\n",
      " F           0.08453208          -0.17699541          -0.03132122\n",
      " F          -0.44681556          -0.23854197           -0.0845043\n",
      " F          -0.26144553          -0.20827204           0.17693956\n",
      " F          -0.29173878          -0.05317353           0.46867631\n",
      " F           0.03130736          -0.29174154          -0.44681263\n",
      " F          -0.08453419           0.17699295           0.03132321\n",
      " F          -0.23848098          -0.41547813          -0.05320371\n",
      " F          -0.41550378          -0.44681191          -0.26145284\n",
      " F           -0.2082803           0.32304669          -0.23854412\n",
      " F            0.4686828          -0.08450794           0.32303052\n",
      " F          -0.05319129           0.03131782          -0.20827577\n",
      " F           0.17694164           0.46867909          -0.41548752\n",
      " F           0.32301097          -0.26151427          -0.29168938\n",
      " F           0.44682963           0.23855689           0.08449658\n",
      " F           0.26144052            0.2082683          -0.17693477\n",
      " F            0.2917368           0.05317111          -0.46867561\n",
      " F          -0.03130844           0.29173917            0.4468117\n",
      "207\n",
      "208\n",
      ":  gives hallsymbol P 1\n",
      "\n",
      "The following symmetry options are available:\n",
      "  0 'xyz-symbols'\n",
      "\n",
      "Getting structure from symmetry option: 'xyz-symbols'\n",
      "\n",
      "\n",
      "CPU TIME determineSiteOperations:  0.00 sec \n",
      "CPU TIME analyseGroup:  0.00 sec \n",
      "\n",
      "WARNING:\n",
      " Lattice type or lattice constants changed!\n",
      " Will take default values for bandplot special symmetry points!\n",
      "WARNING:\n",
      " number of Wyckoff positions changed!\n",
      " Will take default concentrations and initial_spin_split!\n",
      "\n",
      "\n",
      "------------------------------------------------------------------------\n",
      "Blocks contained in cif file '204.cif':\n",
      "------------------------------------------------------------------------\n",
      "symmetry block No.   name\n",
      "------------------------------------------------------------------------\n",
      "     0               al12mo\n",
      "------------------------------------------------------------------------\n",
      "blockswithsymdata [0 ] \n",
      "\n",
      "Symmetry information for datablock: al12mo\n",
      "Space group number: 1\n",
      "Name-Hall         : not found\n",
      "xyz-symbol        :  gives hallsymbol P 1\n",
      "\n",
      "Tfedit pipe succesfull\n",
      "spacegroup number :  208\n",
      "spacegroup setting:  default\n",
      "lattice constants :  ['5.934794', '5.934794', '5.934794']\n",
      "axis angle        :  ['90', '90', '90']\n",
      "Wyckoff positions:  2\n",
      "As                  1/4                 -1/4                 -1/4\n",
      " H             0.320388                 -1/2                    0\n",
      "he following symmetry options are available:\n",
      "  0 'xyz-symbols'\n",
      "\n",
      "Getting structure from symmetry option: 'xyz-symbols'\n",
      "\n",
      "\n",
      "CPU TIME determineSiteOperations:  0.00 sec \n",
      "CPU TIME analyseGroup:  0.00 sec \n",
      "\n",
      "WARNING:\n",
      " Lattice type or lattice constants changed!\n",
      " Will take default values for bandplot special symmetry points!\n",
      "WARNING:\n",
      " number of Wyckoff positions changed!\n",
      " Will take default concentrations and initial_spin_split!\n",
      "\n",
      "\n",
      "------------------------------------------------------------------------\n",
      "Blocks contained in cif file '205.cif':\n",
      "------------------------------------------------------------------------\n",
      "symmetry block No.   name\n",
      "------------------------------------------------------------------------\n",
      "     0               ag(bcl)6\n",
      "------------------------------------------------------------------------\n",
      "blockswithsymdata [0 ] \n",
      "\n",
      "Symmetry information for datablock: ag(bcl)6\n",
      "Space group number: 1\n",
      "Name-Hall         : not found\n",
      "xyz-symbol        :  gives hallsymbol P 1\n",
      "\n",
      "The following symmetry options are available:\n",
      "  0 'xyz-symbols'\n",
      "\n",
      "Getting structure from symmetry option: 'xyz-symbols'\n",
      "\n",
      "\n",
      "CPU TIME determineSiteOperations:  0.00 sec \n",
      "CPU TIME analyseGroup:  0.00 sec \n",
      "\n",
      "WARNING:\n",
      " Lattice type or lattice constants changed!\n",
      " Will take default values for bandplot special symmetry points!\n",
      "WARNING:\n",
      " number of Wyckoff positions changed!\n",
      " Will take default concentrations and initial_spin_split!\n",
      "\n",
      "\n",
      "------------------------------------------------------------------------\n",
      "Blocks contained in cif file '206.cif':\n",
      "------------------------------------------------------------------------\n",
      "symmetry block No.   name\n",
      "------------------------------------------------------------------------\n",
      "     0               agsbf6\n",
      "------------------------------------------------------------------------\n",
      "blockswithsymdata [0 ] \n",
      "\n",
      "Symmetry information for datablock: agsbf6\n",
      "Space group number: 1\n",
      "Name-Hall         : not found\n",
      "xyz-symbol        :  gives hallsymbol P 1\n",
      "\n",
      "The following symmetry options are available:\n",
      "  0 'xyz-symbols'\n",
      "\n",
      "Getting structure from symmetry option: 'xyz-symbols'\n",
      "\n",
      "\n",
      "CPU TIME determineSiteOperations:  0.00 sec \n",
      "CPU TIME analyseGroup:  0.00 sec \n",
      "\n",
      "WARNING:\n",
      " Lattice type or lattice constants changed!\n",
      " Will take default values for bandplot special symmetry points!\n",
      "WARNING:\n",
      " number of Wyckoff positions changed!\n",
      " Will take default concentrations and initial_spin_split!\n",
      "\n",
      "\n",
      "------------------------------------------------------------------------\n",
      "Blocks contained in cif file '208.cif':\n",
      "------------------------------------------------------------------------\n",
      "symmetry block No.   name\n",
      "------------------------------------------------------------------------\n",
      "     0               ash3\n",
      "------------------------------------------------------------------------\n",
      "blockswithsymdata [0 ] \n",
      "\n",
      "Symmetry information for datablock: ash3\n",
      "Space group number: 1\n",
      "Name-Hall         : not found\n",
      "xyz-symbol        :  gives hallsymbol P 1\n",
      "\n",
      "The following symmetry options are available:\n",
      "  0 'xyz-symbols'\n",
      "\n",
      "Getting struct209\n",
      "ure from symmetry option: 'xyz-symbols'\n",
      "\n",
      "\n",
      "CPU TIME determineSiteOperations:  0.00 sec \n",
      "CPU TIME fedit pipe succesfull\n",
      "spacegroup number :  209\n",
      "spacegroup setting:  default\n",
      "lattice constants :  ['10.32658799813376', '10.32658799813376', '10.32658799813376']\n",
      "axis angle        :  ['90', '90', '90']\n",
      "Wyckoff positions:  4\n",
      "La                    0                    0                    0\n",
      "Ce                 -1/2                    0                    0\n",
      "Be            -0.251892           -0.1371735            0.0747705\n",
      "Be                  1/4                  1/4                  1/4\n",
      "210\n",
      "fedit pipe succesfull\n",
      "spacegroup number :  210\n",
      "spacegroup setting:  default\n",
      "lattice constants :  ['16.58527297718852', '16.58527297718852', '16.58527297718852']\n",
      "axis angle        :  ['90', '90', '90']\n",
      "Wyckoff positions:  7\n",
      "Mg                 -1/4                 -1/4                 -1/4\n",
      " B           0.24980911          0.337029785          0.196518905\n",
      " H          -0.29379079         -0.413860975         -0.232713675\n",
      " H          0.306871165           0.15821798         -0.007228375\n",
      " H           0.24918375          0.399399435          0.158764415\n",
      " O                 -1/4          -0.37712086                 -1/4\n",
      " O          0.258465185                  1/8         -0.008465185\n",
      "211\n",
      "fedit pipe succesfull\n",
      "spacegroup number :  211\n",
      "spacegroup setting:  default\n",
      "lattice constants :  ['16.55979876457551', '16.55979876457551', '16.55979876457551']\n",
      "axis angle        :  ['90', '90', '90']\n",
      "Wyckoff positions:  3\n",
      "Ce          -0.11203303           0.38796697                 -1/4\n",
      "Se         -0.121139935                 -1/2         -0.121139935\n",
      "Se                 -1/4           0.33373353          -0.16626647\n",
      "212\n",
      "analyseGroup:  0.00 sec \n",
      "\n",
      "WARNING:\n",
      " Lattice type or lattice constants changed!\n",
      " Will take default values for bandplot special symmetry points!\n",
      "WARNING:\n",
      " number of Wyckoff positions changed!\n",
      " Will take default concentrations and initial_spin_split!\n",
      "\n",
      "\n",
      "------------------------------------------------------------------------\n",
      "Blocks contained in cif file '209.cif':\n",
      "------------------------------------------------------------------------\n",
      "symmetry block No.   name\n",
      "------------------------------------------------------------------------\n",
      "     0               lacebe26\n",
      "------------------------------------------------------------------------\n",
      "blockswithsymdata [0 ] \n",
      "\n",
      "Symmetry information for datablock: lacebe26\n",
      "Space group number: 1\n",
      "Name-Hall         : not found\n",
      "xyz-symbol        :  gives hallsymbol P 1\n",
      "\n",
      "The following symmetry options are available:\n",
      "  0 'xyz-symbols'\n",
      "\n",
      "Getting structure from symmetry option: 'xyz-symbols'\n",
      "\n",
      "\n",
      "CPU TIME determineSiteOperations:  0.00 sec \n",
      "CPU TIME analyseGroup:  0.00 sefedit pipe succesfull\n",
      "spacegroup number :  212\n",
      "spacegroup setting:  default\n",
      "lattice constants :  ['6.76018255', '6.76018255', '6.76018255']\n",
      "axis angle        :  ['90', '90', '90']\n",
      "Wyckoff positions:  2\n",
      "Ba                 -3/8                  3/8                 -1/8\n",
      "Si          -0.16741406          -0.16741406          -0.16741406\n",
      "c \n",
      "\n",
      "WARNING:\n",
      " Lattice type or lattice constants changed!\n",
      " Will take default values for bandplot special symmetry points!\n",
      "WARNING:\n",
      " number of Wyckoff positions changed!\n",
      " Will take default concentrations and initial_spin_split!\n",
      "\n",
      "\n",
      "------------------------------------------------------------------------\n",
      "Blocks contained in cif file '210.cif':\n",
      "------------------------------------------------------------------------\n",
      "symmetry block No.   name\n",
      "------------------------------------------------------------------------\n",
      "     0               mgb12(h3o)12\n",
      "------------------------------------------------------------------------\n",
      "blockswithsymdata [0 ] \n",
      "\n",
      "Symmetry information for datablock: mgb12(h3o)12\n",
      "Space group number: 1\n",
      "Name-Hall         : not found\n",
      "xyz-symbol        :  gives hallsymbol P 1\n",
      "\n",
      "The following symmetry options are available:\n",
      "  0 'xyz-symbols'\n",
      "\n",
      "Getting structure from symmetry option: 'xyz-symbols'\n",
      "\n",
      "\n",
      "CPU TIME determineSiteOperations:  0.00 sec \n",
      "CPU TIME analyseGroup:  0.00 sec \n",
      "\n",
      "WARNING:\n",
      " 213\n",
      "Lattice type or lattice constants changed!\n",
      " Will take default values for bandplot special symmetry points!\n",
      "WARNING:\n",
      " number of Wyckoff positions changed!\n",
      " Will take default concentrations and initial_spin_split!\n",
      "\n",
      "\n",
      "------------------------------------------------------------------------\n",
      "Blocks contained in cif file '211.cif':\n",
      "------------------------------------------------------------------------\n",
      "symmetry block No.   name\n",
      "------------------------------------------------------------------------\n",
      "     0               cese2\n",
      "------------------------------------------------------------------------\n",
      "blockswithsymdata [0 ] \n",
      "\n",
      "Symmetry information for datablock: cese2\n",
      "Space group number: 1\n",
      "Name-Hall         : not found\n",
      "xyz-symbol        :  gives hallsymbol P 1\n",
      "\n",
      "The following symmetry options are available:\n",
      "  0 'xyz-symbols'\n",
      "\n",
      "Getting structure from symmetry option: 'xyz-symbols'\n",
      "\n",
      "\n",
      "CPU TIME determineSiteOperations:  0.00 sec \n",
      "CPU TIME analyseGroup:  0.00 sec \n",
      "\n",
      "WARNING:\n",
      " Lattice type or lattice constants changed!\n",
      " Will take default values for bandplot special symmetry points!\n",
      "WARNING:\n",
      " number of Wyckoff positions changed!\n",
      " Will take default concentrations and initial_spin_split!\n",
      "\n",
      "\n",
      "------------------------------------------------------------------------\n",
      "Blocks contained in cif file '212.cif':\n",
      "------------------------------------------------------------------------\n",
      "symmetry block No.   name\n",
      "------------------------------------------------------------------------\n",
      "     0               basi2\n",
      "------------------------------------------------------------------------\n",
      "blockswithsymdata [0 ] \n",
      "\n",
      "Symmetry information for datablock: basi2\n",
      "Space group number: 1\n",
      "Name-Hall         : not found\n",
      "xyz-symbol        :  gives hallsymbol P 1\n",
      "\n",
      "The following symmetry options are available:\n",
      "  0 'xyz-symbols'\n",
      "\n",
      "Getting structure from symmetry option: 'xyz-symbols'\n",
      "\n",
      "\n",
      "CPU TIME determineSiteOperations:  0.00 sec \n",
      "CPU TIME analyseGroup:  0.00 sec \n",
      "\n",
      "WARNING:\n",
      " Lattice type or lattice constants changed!\n",
      " Will take defedit pipe succesfull\n",
      "spacegroup number :  213\n",
      "spacegroup setting:  default\n",
      "lattice constants :  ['9.874385', '9.874385', '9.874385']\n",
      "axis angle        :  ['90', '90', '90']\n",
      "Wyckoff positions:  4\n",
      "Ag             0.251497             0.384222              0.00094\n",
      "Au            -0.377944            -0.377944            -0.377944\n",
      " S            -0.239171            -0.239171            -0.239171\n",
      " S            -0.233529             0.233529            -0.266471\n",
      "fault values for bandplot special symmetry points!\n",
      "WARNING:\n",
      " number of Wyckoff positions changed214\n",
      "fedit pipe succesfull\n",
      "spacegroup number :  214\n",
      "spacegroup setting:  default\n",
      "lattice constants :  ['10.03545634169979', '10.03545634169979', '10.03545634169979']\n",
      "axis angle        :  ['90', '90', '90']\n",
      "Wyckoff positions:  3\n",
      "Ag                    0                  1/4          -0.12095404\n",
      "Au                  1/8                  1/8                  1/8\n",
      "Se          0.232415715          0.267584285         -0.267584285\n",
      "215\n",
      "fedit pipe succesfull\n",
      "spacegroup number :  215\n",
      "spacegroup setting:  default\n",
      "lattice constants :  ['5.790014', '5.790014', '5.790014']\n",
      "axis angle        :  ['90', '90', '90']\n",
      "Wyckoff positions:  4\n",
      "Ag                    0                    0                    0\n",
      " B                  1/2                  1/2                  1/2\n",
      " C             0.341661             0.341661             0.341661\n",
      " N             0.225705             0.225705             0.225705\n",
      "216\n",
      "fedit pipe succesfull\n",
      "spacegroup number :  216\n",
      "spacegroup setting:  default\n",
      "lattice constants :  ['5.94745309625009', '5.94745309625009', '5.94745309625009']\n",
      "axis angle        :  ['90', '90', '90']\n",
      "Wyckoff positions:  3\n",
      "Ac                    0                    0                    0\n",
      " O                  1/4                  1/4                  1/4\n",
      " F                 -1/4                 -1/4                 -1/4\n",
      "217\n",
      "!\n",
      " Will take default concentrations and initial_spin_split!\n",
      "\n",
      "\n",
      "------------------------------------------------------------------------\n",
      "Blocks contained in cif file '213.cif':\n",
      "------------------------------------------------------------------------\n",
      "symmetry block No.   name\n",
      "------------------------------------------------------------------------\n",
      "     0               ag3aus2\n",
      "------------------------------------------------------------------------\n",
      "blockswithsymdata [0 ] \n",
      "\n",
      "Symmetry information for datablock: ag3aus2\n",
      "Space group number: 1\n",
      "Name-Hall         : not found\n",
      "xyz-symbol        :  gives hallsymbol P 1\n",
      "\n",
      "The following symmetry options are available:\n",
      "  0 'xyz-symbols'\n",
      "\n",
      "Getting structure from symmetry option: 'xyz-symbols'\n",
      "\n",
      "\n",
      "CPU TIME determineSiteOperations:  0.00 sec \n",
      "CPU TIME analyseGroup:  0.00 sec \n",
      "\n",
      "WARNING:\n",
      " Lattice type or lattice constants changed!\n",
      " Will take default values for bandplot special symmetry points!\n",
      "WARNING:\n",
      " number of Wyckoff positions changed!\n",
      " Will take default confedit pipe succesfull\n",
      "spacegroup number :  217\n",
      "spacegroup setting:  default\n",
      "lattice constants :  ['10.6264380008888', '10.6264380008888', '10.6264380008888']\n",
      "axis angle        :  ['90', '90', '90']\n",
      "Wyckoff positions:  4\n",
      "Ag                    0             0.196127                    0\n",
      "Sn            0.2057745            0.2057745            0.2057745\n",
      "Ge                    0                  1/4                  1/2\n",
      " P           -0.1253645           -0.3651815           -0.1253645\n",
      "centrations and initial_spin_split!\n",
      "\n",
      "\n",
      "------------------------------------------------------------------------\n",
      "Blocks contained in cif file '214.cif':\n",
      "------------------------------------------------------------------------\n",
      "symmetry block No.   name\n",
      "------------------------------------------------------------------------\n",
      "     0               ag3ause2\n",
      "------------------------------------------------------------------------\n",
      "blockswithsymdata [0 ] \n",
      "\n",
      "Symmetry information for datablock: ag3ause2\n",
      "Space group number: 1\n",
      "Name-Hall         : not found\n",
      "xyz-symbol        :  gives hallsymbol P 1\n",
      "\n",
      "The following symmetry options are available:\n",
      "  0 'xyz-symbols'\n",
      "\n",
      "Getting structure from symmetry option: 'xyz-symbols'\n",
      "\n",
      "\n",
      "CPU TIME determineSiteOperations:  0.00 sec \n",
      "CPU TIME analyseGroup:  0.00 sec \n",
      "\n",
      "WARNING:\n",
      " Lattice type or lattice constants changed!\n",
      " Will take default values for bandplot special symmetry points!\n",
      "WARNING:\n",
      " number of Wyckoff positions changed!\n",
      " Will take default concentrations and initial_spin_split!\n",
      "\n",
      "\n",
      "------------------------------------------------------------------------\n",
      "Blocks contained in cif file '215.cif':\n",
      "------------------------------------------------------------------------\n",
      "symmetry block No.   name\n",
      "------------------------------------------------------------------------\n",
      "     0               agb(cn)4\n",
      "------------------------------------------------------------------------\n",
      "blockswithsymdata [0 ] \n",
      "\n",
      "Symmetry information for datablock: agb(cn)4\n",
      "Space group number: 1\n",
      "Name-Hall         : not found\n",
      "xyz-symbol        :  gives hallsymbol P 1\n",
      "\n",
      "The following symmetry options are available:\n",
      "  0 'xyz-symbols'\n",
      "\n",
      "Getting structure from symmetry option: 'xyz-symbols'\n",
      "\n",
      "\n",
      "CPU TIME determineSiteOperations:  0.00 sec \n",
      "CPU TIME analyseGroup:  0.00 sec \n",
      "\n",
      "WARNING:\n",
      " Lattice type or lattice constants changed!\n",
      " Will take default values for bandplot special symmetry points!\n",
      "WARNING:\n",
      " number of Wyckoff positions changed!\n",
      " Will take default concentrations and initial_spin_split!\n",
      "\n",
      "\n",
      "------------------------------------------------------------------------\n",
      "Blocks contained in cif file '216.cif':\n",
      "------------------------------------------------------------------------\n",
      "symmetry block No.   name\n",
      "------------------------------------------------------------------------\n",
      "     0               acof\n",
      "------------------------------------------------------------------------\n",
      "blockswithsymdata [0 ] \n",
      "\n",
      "Symmetry information for datablock: acof\n",
      "Space group number: 1\n",
      "Name-Hall         : not found\n",
      "xyz-symbol        :  gives hallsymbol P 1\n",
      "\n",
      "The following symmetry options are available:\n",
      "  0 'xyz-symbols'\n",
      "\n",
      "Getting structure from symmetry option: 'xyz-symbols'\n",
      "\n",
      "\n",
      "CPU TIME determineSiteOperations:  0.00 sec \n",
      "CPU TIME analyseGroup:  0.00 sec \n",
      "\n",
      "WARNING:\n",
      " Lattice type or lattice constants changed!\n",
      " Will take default values for bandplot special symmetry points!\n",
      "WARNING:\n",
      " number of Wyckoff positions changed!\n",
      " Will take default concentrations and initial_spin_split!\n",
      "\n",
      "\n",
      "------------------------------------218\n",
      "------------------------------------\n",
      "Blocks contained in cif file '217.cif':\n",
      "-------------------fedit pipe succesfull\n",
      "spacegroup number :  218\n",
      "spacegroup setting:  default\n",
      "lattice constants :  ['6.14375471', '6.14375471', '6.14375471']\n",
      "axis angle        :  ['90', '90', '90']\n",
      "Wyckoff positions:  3\n",
      "Ag                    0                 -1/2                  1/4\n",
      "As                 -1/2                 -1/2                 -1/2\n",
      " O          -0.16080514          -0.16080514          -0.16080514\n",
      "219\n",
      "fedit pipe succesfull\n",
      "spacegroup number :  161\n",
      "spacegroup setting:  R\n",
      "lattice constants :  ['12.47294077', '12.47294077', '12.47294077']\n",
      "axis angle        :  ['60', '60', '60']\n",
      "Wyckoff positions:  15\n",
      "Co            -0.088979             0.266937            -0.088979\n",
      "Co             0.411021             0.411021             0.411021\n",
      "Sn                    0                    0                    0\n",
      " C             -0.23791             0.041627             0.254585\n",
      " C            -0.058302             0.041627             -0.23791\n",
      " C             -0.05956             0.353187             0.353187\n",
      " C             0.353187             0.353187             0.353187\n",
      " C             0.441698            -0.458373            -0.245415\n",
      " C            -0.058302             -0.23791             0.254585\n",
      " O             0.160373            -0.240601            -0.376399\n",
      " O             0.315423              0.05373             0.315423\n",
      " O             0.160373             0.456627            -0.240601\n",
      " O            -0.339627            -0.043373             0.123601\n",
      " O            -0.184577            -0.184577            -0.184577\n",
      " O             0.456627            -0.376399            -0.240601\n",
      "220\n",
      "fedit pipe succesfull\n",
      "spacegroup number :  161\n",
      "spacegroup setting:  R\n",
      "lattice constants :  ['13.04682166', '13.04682166', '13.04682166']\n",
      "axis angle        :  ['109.47122063', '109.47122063', '109.47122063']\n",
      "Wyckoff positions:  14\n",
      "Ag            -0.412026            -0.372981            -0.218347\n",
      "Ag                 -1/4                 -1/8                  1/8\n",
      "Ag            -0.127019             0.460955             0.154634\n",
      "Ag             0.039045            -0.087974             -0.30632\n",
      "Ag            -0.281653             0.345366             -0.19368\n",
      " P              0.39973              0.39973              0.39973\n",
      " P                    0              0.10027                  1/2\n",
      " S            -0.052422             0.081707             0.322099\n",
      " S                    0             0.443038                  1/2\n",
      " S             0.125479            -0.240391            -0.322099\n",
      " S             0.052422            -0.365871             0.374521\n",
      " S             0.056962             0.056962             0.056962\n",
      " S             0.365871             0.240391             0.418293\n",
      "Cl                 -1/8                  1/4                  1/8\n",
      "221\n",
      "-----------------------------------------------------\n",
      "symmetry block No.   name\n",
      "------------------------------------------------------------------------\n",
      "     0               ag3sn2(gep2)3\n",
      "------------------------------------------------------------------------\n",
      "blockswithsymdata [0 ] \n",
      "\n",
      "Symmetry information for datablock: ag3sn2(gep2)3\n",
      "Space group number: 1\n",
      "Name-Hall         : not found\n",
      "xyz-symbol        :  gives hallsymbol P 1\n",
      "\n",
      "The following symmetry options are available:\n",
      "  0 'xyz-symbols'\n",
      "\n",
      "Getting structure from symmetry option: 'xyz-symbols'\n",
      "\n",
      "\n",
      "CPU TIME determineSiteOperations:  0.00 sec \n",
      "CPU TIME analyseGroup:  0.00 sec \n",
      "\n",
      "WARNING:\n",
      " Lattice type or lattice constants changed!\n",
      " Will take default values for bandplot special symmetry points!\n",
      "WARNING:\n",
      " number of Wyckoff positions changed!\n",
      " Will take default concentrations and initial_spin_split!\n",
      "\n",
      "\n",
      "------------------------------------------------------------------------\n",
      "Blocks contained in cif file '218.cif':\n",
      "-------------------------------fedit pipe succesfull\n",
      "spacegroup number :  221\n",
      "spacegroup setting:  default\n",
      "lattice constants :  ['5.244383', '5.244383', '5.244383']\n",
      "axis angle        :  ['90', '90', '90']\n",
      "Wyckoff positions:  2\n",
      "Ac                 -1/2                    0                    0\n",
      "Au                 -1/2                  1/2                  1/2\n",
      "-----------------------------------------\n",
      "symmetry block No.   name\n",
      "------------------------------------------------------------------------\n",
      "     0               ag3aso4\n",
      "------------------------------------------------------------------------\n",
      "blockswithsymdata [0 ] \n",
      "\n",
      "Symmetry information for datablock: ag3aso4\n",
      "Space group number: 1\n",
      "Name-Hall         : not found\n",
      "xyz-symbol        :  gives hallsymbol P 1\n",
      "\n",
      "The following symmetry options are available:\n",
      "  0 'xyz-symbols'\n",
      "\n",
      "Getting structure from symmetry option: 'xyz-symbols'\n",
      "\n",
      "\n",
      "CPU TIME determineSiteOperations:  0.00 sec \n",
      "CPU TIME analyseGroup:  0.00 sec \n",
      "\n",
      "WARNING:\n",
      " Lattice type or lattice constants changed!\n",
      " Will take default values for bandplot special symmetry points!\n",
      "WARNING:\n",
      " number of Wyckoff positions changed!\n",
      " Will take default concentrations and initial_spin_split!\n",
      "\n",
      "\n",
      "------------------------------------------------------------------------\n",
      "Blocks contained in cif file '219.cif':\n",
      "------------------------------------------------------------------------\n",
      "symmetry block No.   name\n",
      "------------------------------------------------------------------------\n",
      "     0               co4sn(co)16\n",
      "------------------------------------------------------------------------\n",
      "blockswithsymdata [0 ] \n",
      "\n",
      "Symmetry information for datablock: co4sn(co)16\n",
      "Space group number: 1\n",
      "Name-Hall         : not found\n",
      "xyz-symbol        :  gives hallsymbol P 1\n",
      "\n",
      "The following symmetry options are available:\n",
      "  0 'xyz-symbols'\n",
      "\n",
      "Getting structure from symmetry option: 'xyz-symbols'\n",
      "\n",
      "\n",
      "CPU TIME determineSiteOperations:  0.00 sec \n",
      "CPU TIME analyseGroup:  0.00 sec \n",
      "\n",
      "WARNING:\n",
      " Lattice type or lattice constants changed!\n",
      " Will take default values for bandplot special symmetry points!\n",
      "WARNING:\n",
      " number of Wyckoff positions changed!\n",
      " Will take default concentrations and initial_spin_split!\n",
      "\n",
      "\n",
      "------------------------------------------------------------------------\n",
      "Blocks contained in cif file '220.cif':\n",
      "------------------------------------------------------------------------\n",
      "symmetry block No.   name\n",
      "------------------------------------------------------------------------\n",
      "     0               ag15p4s16cl3\n",
      "------------------------------------------------------------------------\n",
      "blockswithsymdata [0 ] \n",
      "\n",
      "Symmetry information for datablock: ag15p4s16cl3\n",
      "Space group number: 1\n",
      "Name-Hall         : not found\n",
      "xyz-symbol        :  gives hallsymbol P 1\n",
      "\n",
      "The following symmetry options are available:\n",
      "  0 'xyz-symbols'\n",
      "\n",
      "Getting structure from symmetry option: 'xyz-symbols'\n",
      "\n",
      "\n",
      "CPU TIME determineSiteOperations:  0.00 sec \n",
      "CPU TIME analyseGroup:  0.00 sec \n",
      "\n",
      "WARNING:\n",
      " Lattice type or lattice constants changed!\n",
      " Will take default values for bandplot special symmetry points!\n",
      "WARNING:\n",
      " number of Wyckoff positions changed!\n",
      " Will take default concentrations and initial_spin_split!\n",
      "\n",
      "\n",
      "------------------------------------------------------------------------\n",
      "Blocks contained in cif file '221.cif':\n",
      "------------------------------------------------------------------------\n",
      "symmetry block No.   name\n",
      "------------------------------------------------------------------------\n",
      "     0   222\n",
      "fedit pipe succesfull\n",
      "spacegroup number :  222\n",
      "spacegroup setting:  2\n",
      "lattice constants :  ['11.137783', '11.137783', '11.137783']\n",
      "axis angle        :  ['90', '90', '90']\n",
      "Wyckoff positions:  5\n",
      "Nd            -0.010223                 -1/4                 -1/4\n",
      "Nd                 -1/2                 -1/2                    0\n",
      "Mo                 -1/4                 -1/2                  1/4\n",
      " O            -0.120997            -0.120997            -0.379003\n",
      " O             0.366359            -0.415639            -0.169743\n",
      "223\n",
      "fedit pipe succesfull\n",
      "spacegroup number :  223\n",
      "spacegroup setting:  default\n",
      "lattice constants :  ['6.032654', '6.032654', '6.032654']\n",
      "axis angle        :  ['90', '90', '90']\n",
      "Wyckoff positions:  3\n",
      "Ag                    0                 -1/2                 -1/4\n",
      " P                 -1/2                 -1/2                 -1/2\n",
      " O                 -1/4                  1/4                 -1/4\n",
      "224\n",
      "fedit pipe succesfull\n",
      "spacegroup number :  224\n",
      "spacegroup setting:  2\n",
      "lattice constants :  ['4.75399071', '4.75399071', '4.75399071']\n",
      "axis angle        :  ['90', '90', '90']\n",
      "Wyckoff positions:  2\n",
      "Ag                    0                    0                 -1/2\n",
      " O                 -1/4                 -1/4                 -1/4\n",
      "225\n",
      "            ac3au\n",
      "------------------------------------------------------------------------\n",
      "blockswithsymdata [0 ] \n",
      "\n",
      "Symmetry information for datablock: ac3au\n",
      "Space group number: 1\n",
      "Name-Hall         : not found\n",
      "xyz-symbol        :  gives hallsymbol P 1\n",
      "\n",
      "The following symmetry options are available:\n",
      "  0 'xyz-symbols'\n",
      "\n",
      "Getting structure from symmetry option: 'xyz-symbols'\n",
      "\n",
      "\n",
      "CPU TIME determineSiteOperations:  0.02 sec \n",
      "CPU TIME analyseGroup:  0.00 sec \n",
      "\n",
      "WARNING:\n",
      " Lattice type or lattice constants changed!\n",
      " Will take default values for bandplot special symmetry points!\n",
      "WARNING:\n",
      " number of Wyckoff positions changed!\n",
      " Will take default concentrations and initial_spin_split!\n",
      "\n",
      "\n",
      "------------------------------------------------------------------------\n",
      "Blocks contained in cif file '222.cif':\n",
      "------------------------------------------------------------------------\n",
      "symmetry block No.   name\n",
      "------------------------------------------------------------------------\n",
      "     0               nd5mo3o16\n",
      "------fedit pipe succesfull\n",
      "spacegroup number :  225\n",
      "spacegroup setting:  default\n",
      "lattice constants :  ['5.69621115603997', '5.69621115603997', '5.69621115603997']\n",
      "axis angle        :  ['90', '90', '90']\n",
      "Wyckoff positions:  1\n",
      "Ac                    0                    0                    0\n",
      "------------------------------------------------------------------\n",
      "blockswithsymdata [0 ] \n",
      "\n",
      "Symmetry information for datablock: nd5mo3o16\n",
      "Space group number: 1\n",
      "Name-Hall         : not found\n",
      "xyz-symbol        :  gives hallsymbol P 1\n",
      "\n",
      "The following symmetry options are available:\n",
      "  0 'xyz-symbols'\n",
      "\n",
      "Getting structure from symmetry option: 'xyz-symbols'\n",
      "\n",
      "\n",
      "CPU TIME determineSiteOperations:  0.02 sec \n",
      "CPU TIME analyseGroup:  0.00 sec \n",
      "\n",
      "WARNING:\n",
      " Lattice type or lattice constants changed!\n",
      " Will take default values for bandplot special symmetry points!\n",
      "WARNING:\n",
      " number of Wyckoff positions changed!\n",
      " Will take default concentrations and initial_spin_split!\n",
      "\n",
      "\n",
      "------------------------------------------------------------------------\n",
      "Blocks contained in cif file '223.cif':\n",
      "------------------------------------------------------------------------\n",
      "symmetry block No.   name\n",
      "------------------------------------------------------------------------\n",
      "     0               ag3po4\n",
      "------------------------------------------------------------------------\n",
      "blockswithsymdata [0 ] \n",
      "\n",
      "Symmetry information for datablock: ag3po4\n",
      "Space group number: 1\n",
      "Name-Hall         : not found\n",
      "xyz-symbol        :  gives hallsymbol P 1\n",
      "\n",
      "The following symmetry options are available:\n",
      "  0 'xyz-symbols'\n",
      "\n",
      "Getting structure from symmetry option: 'xyz-symbols'\n",
      "\n",
      "\n",
      "CPU TIME determineSiteOperations:  0.03 sec \n",
      "CPU TIME analyseGroup:  0.00 sec \n",
      "\n",
      "WARNING:\n",
      " Lattice type or lattice constants changed!\n",
      " Will take default values for bandplot special symmetry points!\n",
      "WARNING:\n",
      " number of Wyckoff positions changed!\n",
      " Will take default concentrations and initial_spin_split!\n",
      "\n",
      "\n",
      "------------------------------------------------------------------------\n",
      "Blocks contained in cif file '224.cif':\n",
      "------------------------------------------------------------------------\n",
      "symmetry block No.   name\n",
      "------------------------------------------------------------------------\n",
      "     0               ag2o\n",
      "------------------------------------------------------------------------\n",
      "blockswithsymdata [0 ] \n",
      "\n",
      "Symmetry information for datablock: ag2o\n",
      "Space group number: 1\n",
      "Name-Hall         : not found\n",
      "xyz-symbol        :  gives hallsymbol P 1\n",
      "\n",
      "The following symmetry options are available:\n",
      "  0 'xyz-symbols'\n",
      "\n",
      "Getting structure from symmetry option: 'xyz-symbols'\n",
      "\n",
      "\n",
      "CPU TIME determineSiteOperations:  0.02 sec \n",
      "CPU TIME analyseGroup:  0.00 sec \n",
      "\n",
      "WARNING:\n",
      " Lattice type or lattice constants changed!\n",
      " Will take default values for bandplot special symmetry points!\n",
      "WARNING:\n",
      " number of Wyckoff positions changed!\n",
      " Will take default concentrations and initial_spin_split!\n",
      "\n",
      "\n",
      "------------------------------------------------------------------------\n",
      "Blocks contained in cif file '225.cif':\n",
      "------------------------------------------------------------------------\n",
      "symmetry block No.   name\n",
      "------------------------------------------------------------------------\n",
      "     0               ac\n",
      "------------------------------------------------------------------------\n",
      "blockswithsymdata [0 ] \n",
      "\n",
      "Symmetry information for datablock: ac\n",
      "Space group number: 1\n",
      "Name-Hall         : not fo226\n",
      "fedit pipe succesfull\n",
      "spacegroup number :  226\n",
      "spacegroup setting:  default\n",
      "lattice constants :  ['13.40722599787784', '13.40722599787784', '13.40722599787784']\n",
      "axis angle        :  ['90', '90', '90']\n",
      "Wyckoff positions:  4\n",
      "Ag                    0                    0                 -1/2\n",
      "Ag                    0            -0.114011             0.321726\n",
      "Os                  1/4                  1/4                  1/4\n",
      " O              0.39314                  1/4                  1/4\n",
      "227\n",
      "fedit pipe succesfull\n",
      "spacegroup number :  166\n",
      "spacegroup setting:  R\n",
      "lattice constants :  ['6.56630227', '6.56630227', '6.56630227']\n",
      "axis angle        :  ['59.99999662', '59.99999662', '59.99999662']\n",
      "Wyckoff positions:  5\n",
      "Ag                    0                    0                    0\n",
      "Ag                    0                    0                  1/2\n",
      "Mo                  3/8                  3/8                  3/8\n",
      " O          -0.26452583           0.29357548          -0.26452583\n",
      " O           0.26452583           0.26452583           0.26452583\n",
      "228\n",
      "fedit pipe succesfull\n",
      "spacegroup number :  228\n",
      "spacegroup setting:  2\n",
      "lattice constants :  ['22.69787777859427', '22.69787777859427', '22.69787777859427']\n",
      "axis angle        :  ['90', '90', '90']\n",
      "Wyckoff positions:  8\n",
      " H          -0.05205903          0.398843145         -0.002830365\n",
      " H         -0.030865185         -0.085379685          -0.43427039\n",
      " H          -0.09005116          -0.05393615          -0.46173419\n",
      " N           -0.0479602          -0.06756388          -0.47235128\n",
      "Cl           0.31471593           0.31471593           0.31471593\n",
      "Cl         -0.082427065                  1/4          0.082427065\n",
      "Co                  1/2                  1/2                  1/2\n",
      "Cd                  1/4                  1/4                  1/4\n",
      "229\n",
      "und\n",
      "xyz-symbol        :  gives hallsymbol P 1\n",
      "\n",
      "The following symmetry options are available:\n",
      "  0 'xyz-symbols'\n",
      "\n",
      "Getting structure from symmetry option: 'xyz-symbols'\n",
      "\n",
      "\n",
      "CPU TIME determineSiteOperations:  0.02 sec \n",
      "CPU TIME analyseGroup:  0.00 sec \n",
      "\n",
      "WARNING:\n",
      " Lattice type or lattice constants changed!\n",
      " Will take default values for bandplot special symmetry points!\n",
      "WARNING:\n",
      " Element at some Wyckoff position changed!\n",
      " Will take default concentration and initial_spin_split!\n",
      "\n",
      "\n",
      "------------------------------------------------------------------------\n",
      "Blocks contained in cif file '226.cif':\n",
      "------------------------------------------------------------------------\n",
      "symmetry block No.   name\n",
      "------------------------------------------------------------------------\n",
      "     0               ag13oso6\n",
      "------------------------------------------------------------------------\n",
      "blockswithsymdata [0 ] \n",
      "\n",
      "Symmetry information for datablock: ag13oso6\n",
      "Space group number: 1\n",
      "Name-Hall         : not found\n",
      "xyz-symbol        :  gives hallsymbol P 1\n",
      "\n",
      "The following symmetry options are available:\n",
      "  0 'xyz-symbols'\n",
      "\n",
      "Getting structure from symmetry option: 'xyz-symbols'\n",
      "\n",
      "\n",
      "CPU TIME determineSiteOperations:  0.02 sec \n",
      "CPU TIME analyseGroup:  0.00 sec \n",
      "\n",
      "WARNING:\n",
      " Lattice type or lattice constants changed!\n",
      " Will take default values for bandplot special symmetry points!\n",
      "WARNING:\n",
      " number of Wyckoff positions changed!\n",
      " Will take default concentrations and initial_spin_split!\n",
      "\n",
      "\n",
      "------------------------------------------------------------------------\n",
      "Blocks contained in cif file '227.cif':\n",
      "------------------------------------------------------------------------\n",
      "symmetry block No.   name\n",
      "------------------------------------------------------------------------\n",
      "     0               ag2moo4\n",
      "------------------------------------------------------------------------\n",
      "blockswithsymdata [0 ] \n",
      "\n",
      "Symmetry information for datablock: ag2moo4\n",
      "Space group number: 1\n",
      "Name-Hall         : not found\n",
      "xyz-symbol        :  gives hallsymbol P 1\n",
      "\n",
      "The following symmetry options are available:\n",
      "  0 'xyz-symbols'\n",
      "\n",
      "Getting structure from symmetry option: 'xyz-symbols'\n",
      "\n",
      "\n",
      "CPU TIME determineSiteOperations:  0.00 sec \n",
      "CPU TIME analyseGroup:  0.00 sec \n",
      "\n",
      "WARNING:\n",
      " Lattice type or lattice constants changed!\n",
      " Will take default values for bandplot special symmetry points!\n",
      "WARNING:\n",
      " number of Wyckoff positions changed!\n",
      " Will take default concentrations and initial_spin_split!\n",
      "\n",
      "\n",
      "------------------------------------------------------------------------\n",
      "Blocks contained in cif file '228.cif':\n",
      "------------------------------------------------------------------------\n",
      "symmetry block No.   name\n",
      "------------------------------------------------------------------------\n",
      "     0               cdcoh18n6cl5\n",
      "------------------------------------------------------------------------\n",
      "blockswithsymdata [0 ] \n",
      "\n",
      "Symmetry information for datablock: cdcoh18n6cl5\n",
      "Space group number: 1\n",
      "Name-Hall         : not found\n",
      "xyz-symbol        :  gives hallsymbol P 1\n",
      "\n",
      "The follofedit pipe succesfull\n",
      "spacegroup number :  229\n",
      "spacegroup setting:  default\n",
      "lattice constants :  ['3.31130800277623', '3.31130800277623', '3.31130800277623']\n",
      "axis angle        :  ['90', '90', '90']\n",
      "Wyckoff positions:  1\n",
      "Ag                    0                    0                    0\n",
      "wing symmetry options are available:\n",
      "  0 'xyz-symbols'\n",
      "\n",
      "Getting structure from symmetry option: 'xyz-symbols'\n",
      "\n",
      "\n",
      "CPU TIME determineSiteOperations:  0.03 sec \n",
      "CPU TIME analyseGroup:  0.00 sec \n",
      "\n",
      "WARNING:\n",
      " Lattice type or lattice constants changed!\n",
      " Will take default values for bandplot special symmetry points!\n",
      "WARNING:\n",
      " number of Wyckoff positions changed!\n",
      " Will take default concentrations and initial_spin_split!\n",
      "\n",
      "\n",
      "------------------------------------------------------------------------\n",
      "Blocks contained in cif file '229.cif':\n",
      "------------------------------------------------------------------------\n",
      "symmetry block No.   name\n",
      "------------------------------------------------------------------------\n",
      "     0               ag\n",
      "------------------------------------------------------------------------\n",
      "blockswithsymdata [0 ] \n",
      "\n",
      "Symmetry information for datablock: ag\n",
      "Space group number: 1\n",
      "Name-Hall         : not found\n",
      "xyz-symbol        :  gives hallsymbol P 1\n",
      "\n",
      "The following symmetry options are availabl230\n",
      "e:\n",
      "  0 'xyz-symbols'\n",
      "\n",
      "Getting structure from symmetry option: 'xyz-symbols'\n",
      "\n",
      "\n",
      "CPU TIME determinefedit pipe succesfull\n",
      "spacegroup number :  167\n",
      "spacegroup setting:  R\n",
      "lattice constants :  ['10.6104653', '10.6104653', '10.6104653']\n",
      "axis angle        :  ['109.47122063', '109.47122063', '109.47122063']\n",
      "Wyckoff positions:  9\n",
      "Al                    0                    0                    0\n",
      "Al                    0                 -1/2                 -1/2\n",
      "Cd                  3/8                  1/8                  1/4\n",
      "Cd                  1/8                  3/8                 -1/4\n",
      "Ge                 -3/8                  3/8                  1/4\n",
      " O             0.384237             0.305902              0.48588\n",
      " O             0.179978             0.194098            -0.421664\n",
      " O             0.115763            -0.398358            -0.078336\n",
      " O             0.320022            -0.101642              0.01412\n"
     ]
    }
   ],
   "source": [
    "tol_wp = 1e-4\n",
    "\n",
    "list_failed = []\n",
    "\n",
    "for num_sg in range(1, 231):\n",
    "\n",
    "    print(num_sg)\n",
    "    if num_sg == 168 or num_sg == 207: continue  # no material in MP for 168 :S\n",
    "    \n",
    "    try:\n",
    "\n",
    "        # Create =.in if it doesn't exits, parse cif and write into =.in\n",
    "        fio=fploio.FPLOInput('=.in')\n",
    "        fio.structureFromCIFFile(f'{num_sg}.cif', wyckofftolerance=tol_wp, determinesymmetry=True)\n",
    "        fio.writeFile(\"=.in\")\n",
    "            \n",
    "        # Change other parameters in =.in\n",
    "        fed=fedit.Fedit(recreate=False)\n",
    "        fed.iteration(n=100)\n",
    "        fed.relativistic('s')  # no SOC\n",
    "        fed.vxc('5')\n",
    "        fed.pipeFedit()\n",
    "        \n",
    "        # Print info about crystal\n",
    "        printsettings()\n",
    "        \n",
    "        # Create sg_ directory and move =.in into it\n",
    "        in_file = '=.in'\n",
    "        dir = f'sg_{num_sg}'\n",
    "        \n",
    "        if not os.path.exists(dir):\n",
    "            os.makedirs(dir)\n",
    "        \n",
    "        if os.path.exists(in_file):\n",
    "            destination = os.path.join(dir, os.path.basename(in_file))\n",
    "            shutil.move(in_file, destination)\n",
    "        else:\n",
    "            print('=.in file does not exist')\n",
    "        \n",
    "\n",
    "    except:\n",
    "        list_failed.append(num_sg)"
   ]
  },
  {
   "cell_type": "code",
   "execution_count": 26,
   "id": "31e6f24e-951b-489a-adf2-6703b9c9ba94",
   "metadata": {},
   "outputs": [
    {
     "data": {
      "text/plain": [
       "[]"
      ]
     },
     "execution_count": 26,
     "metadata": {},
     "output_type": "execute_result"
    }
   ],
   "source": [
    "list_failed"
   ]
  },
  {
   "cell_type": "markdown",
   "id": "844acc9b-a2e1-47da-b57a-b2cacfaef535",
   "metadata": {},
   "source": [
    "Let's download of other materials in the SGs that failed. Change index until list_failed is empty"
   ]
  },
  {
   "cell_type": "code",
   "execution_count": 24,
   "id": "28286969-d4a9-4b6c-ba91-7fefaaf8237a",
   "metadata": {
    "scrolled": true
   },
   "outputs": [
    {
     "name": "stdout",
     "output_type": "stream",
     "text": [
      "SG 151\n"
     ]
    },
    {
     "data": {
      "application/vnd.jupyter.widget-view+json": {
       "model_id": "b3a6d38e36c842c3aafa076430bfcc41",
       "version_major": 2,
       "version_minor": 0
      },
      "text/plain": [
       "Retrieving SummaryDoc documents:   0%|          | 0/15 [00:00<?, ?it/s]"
      ]
     },
     "metadata": {},
     "output_type": "display_data"
    },
    {
     "data": {
      "application/vnd.jupyter.widget-view+json": {
       "model_id": "5d433041c1bd478d9004b0d88761ad0d",
       "version_major": 2,
       "version_minor": 0
      },
      "text/plain": [
       "Retrieving MaterialsDoc documents:   0%|          | 0/1 [00:00<?, ?it/s]"
      ]
     },
     "metadata": {},
     "output_type": "display_data"
    }
   ],
   "source": [
    "index = 2\n",
    "for num_sg in list_failed:\n",
    "    print(f'SG {num_sg:3d}')\n",
    "    materials = mpr.materials.summary.search(spacegroup_number=num_sg, num_magnetic_sites=0)\n",
    "    try:\n",
    "        id = materials[index].material_id\n",
    "    except IndexError:\n",
    "        print('No material found')\n",
    "        continue\n",
    "    cif = mpr.get_structure_by_material_id(id).to(fmt=\"cif\")\n",
    "    with open(f'{num_sg}.cif', 'w') as f:\n",
    "        f.write(cif)"
   ]
  },
  {
   "cell_type": "markdown",
   "id": "3c00ab68-188c-4d84-a1ce-ba6b6d4c5944",
   "metadata": {},
   "source": [
    "Now, if we create the =.in for these groups, it also works."
   ]
  },
  {
   "cell_type": "markdown",
   "id": "7f613b7b-051f-452e-8aff-cf014014fbc1",
   "metadata": {},
   "source": [
    "### Analysis of the test"
   ]
  },
  {
   "cell_type": "code",
   "execution_count": 17,
   "id": "6be4be3e-e890-4508-80b6-efe993e2ffa3",
   "metadata": {},
   "outputs": [],
   "source": [
    "def error_percentage(file_log='log_failed_spacegroups.dat'):\n",
    "\n",
    "    f = open(file_log, 'r')\n",
    "    list_failed = []\n",
    "    for line in f:\n",
    "        list_failed.append(int(line))\n",
    "    \n",
    "    print(f'# Successfull: {230-len(list_failed)}')\n",
    "    print(f'# Error: {len(list_failed)}')\n",
    "    print(f'Success rate: {100-len(list_failed)/2.3} %')\n",
    "    print(f'Failed SGs:')\n",
    "    for sg in list_failed:\n",
    "        print(sg)"
   ]
  },
  {
   "cell_type": "code",
   "execution_count": 18,
   "id": "c07e5e10-2017-46e4-963c-e7ed271adc70",
   "metadata": {},
   "outputs": [
    {
     "name": "stdout",
     "output_type": "stream",
     "text": [
      "# Successfull: -44\n",
      "# Error: 274\n",
      "Success rate: -19.130434782608702 %\n",
      "Failed SGs:\n",
      "1\n",
      "2\n",
      "4\n",
      "6\n",
      "7\n",
      "8\n",
      "9\n",
      "11\n",
      "13\n",
      "18\n",
      "21\n",
      "24\n",
      "25\n",
      "26\n",
      "27\n",
      "28\n",
      "29\n",
      "30\n",
      "31\n",
      "32\n",
      "33\n",
      "34\n",
      "35\n",
      "37\n",
      "38\n",
      "39\n",
      "40\n",
      "41\n",
      "42\n",
      "43\n",
      "44\n",
      "45\n",
      "46\n",
      "52\n",
      "54\n",
      "56\n",
      "65\n",
      "66\n",
      "68\n",
      "70\n",
      "72\n",
      "73\n",
      "74\n",
      "79\n",
      "80\n",
      "81\n",
      "82\n",
      "87\n",
      "88\n",
      "92\n",
      "93\n",
      "94\n",
      "97\n",
      "98\n",
      "102\n",
      "107\n",
      "108\n",
      "109\n",
      "110\n",
      "111\n",
      "112\n",
      "113\n",
      "114\n",
      "115\n",
      "116\n",
      "117\n",
      "118\n",
      "119\n",
      "120\n",
      "121\n",
      "122\n",
      "128\n",
      "131\n",
      "133\n",
      "139\n",
      "140\n",
      "141\n",
      "142\n",
      "143\n",
      "144\n",
      "145\n",
      "146\n",
      "147\n",
      "148\n",
      "149\n",
      "150\n",
      "151\n",
      "152\n",
      "153\n",
      "154\n",
      "155\n",
      "156\n",
      "157\n",
      "158\n",
      "159\n",
      "160\n",
      "161\n",
      "162\n",
      "163\n",
      "164\n",
      "165\n",
      "166\n",
      "167\n",
      "168\n",
      "169\n",
      "170\n",
      "171\n",
      "172\n",
      "173\n",
      "174\n",
      "175\n",
      "176\n",
      "178\n",
      "179\n",
      "180\n",
      "181\n",
      "182\n",
      "185\n",
      "187\n",
      "188\n",
      "189\n",
      "190\n",
      "192\n",
      "196\n",
      "202\n",
      "203\n",
      "204\n",
      "206\n",
      "207\n",
      "215\n",
      "216\n",
      "217\n",
      "218\n",
      "219\n",
      "220\n",
      "227\n",
      "230\n",
      "1\n",
      "2\n",
      "4\n",
      "6\n",
      "7\n",
      "8\n",
      "9\n",
      "11\n",
      "13\n",
      "18\n",
      "21\n",
      "24\n",
      "25\n",
      "26\n",
      "27\n",
      "28\n",
      "29\n",
      "30\n",
      "31\n",
      "32\n",
      "33\n",
      "34\n",
      "35\n",
      "37\n",
      "38\n",
      "39\n",
      "40\n",
      "41\n",
      "42\n",
      "43\n",
      "44\n",
      "45\n",
      "46\n",
      "52\n",
      "54\n",
      "56\n",
      "65\n",
      "66\n",
      "68\n",
      "70\n",
      "72\n",
      "73\n",
      "74\n",
      "79\n",
      "80\n",
      "81\n",
      "82\n",
      "87\n",
      "88\n",
      "92\n",
      "93\n",
      "94\n",
      "97\n",
      "98\n",
      "102\n",
      "107\n",
      "108\n",
      "109\n",
      "110\n",
      "111\n",
      "112\n",
      "113\n",
      "114\n",
      "115\n",
      "116\n",
      "117\n",
      "118\n",
      "119\n",
      "120\n",
      "121\n",
      "122\n",
      "128\n",
      "131\n",
      "133\n",
      "139\n",
      "140\n",
      "141\n",
      "142\n",
      "143\n",
      "144\n",
      "145\n",
      "146\n",
      "147\n",
      "148\n",
      "149\n",
      "150\n",
      "151\n",
      "152\n",
      "153\n",
      "154\n",
      "155\n",
      "156\n",
      "157\n",
      "158\n",
      "159\n",
      "160\n",
      "161\n",
      "162\n",
      "163\n",
      "164\n",
      "165\n",
      "166\n",
      "167\n",
      "168\n",
      "169\n",
      "170\n",
      "171\n",
      "172\n",
      "173\n",
      "174\n",
      "175\n",
      "176\n",
      "178\n",
      "179\n",
      "180\n",
      "181\n",
      "182\n",
      "185\n",
      "187\n",
      "188\n",
      "189\n",
      "190\n",
      "192\n",
      "196\n",
      "202\n",
      "203\n",
      "204\n",
      "206\n",
      "207\n",
      "215\n",
      "216\n",
      "217\n",
      "218\n",
      "219\n",
      "220\n",
      "227\n",
      "230\n"
     ]
    }
   ],
   "source": [
    "error_percentage()"
   ]
  },
  {
   "cell_type": "code",
   "execution_count": null,
   "id": "b5dd6510-e920-478a-a0e9-404def515b67",
   "metadata": {},
   "outputs": [],
   "source": []
  }
 ],
 "metadata": {
  "kernelspec": {
   "display_name": "Python 3 (ipykernel)",
   "language": "python",
   "name": "python3"
  },
  "language_info": {
   "codemirror_mode": {
    "name": "ipython",
    "version": 3
   },
   "file_extension": ".py",
   "mimetype": "text/x-python",
   "name": "python",
   "nbconvert_exporter": "python",
   "pygments_lexer": "ipython3",
   "version": "3.10.12"
  }
 },
 "nbformat": 4,
 "nbformat_minor": 5
}
